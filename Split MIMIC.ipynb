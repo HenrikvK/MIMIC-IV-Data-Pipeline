{
 "cells": [
  {
   "cell_type": "markdown",
   "id": "fcc56a9e",
   "metadata": {},
   "source": [
    "# Split the MIMIC IV dataset \n",
    "The goal in this notebook is to store smaller versions of the files in the MIMIC IV dataset for faster prototyping"
   ]
  },
  {
   "cell_type": "code",
   "execution_count": null,
   "id": "ac620f8e",
   "metadata": {},
   "outputs": [],
   "source": [
    "import pandas as pd\n",
    "import os\n",
    "import random"
   ]
  },
  {
   "cell_type": "code",
   "execution_count": null,
   "id": "af4eecc2",
   "metadata": {},
   "outputs": [],
   "source": [
    "# define paths for the original large files and target destinations for the smaller files\n",
    "input_root  = '../data/real_world_data/physionet.org/files/mimiciv/3.0/'\n",
    "output_root = '../data/real_world_data/physionet.org_small/files/mimiciv/3.0/'  \n",
    "\n",
    "# two folders for mimic data \n",
    "input_root_icu  = input_root  +  'icu/'\n",
    "output_root_icu = output_root +  'icu/'\n",
    "input_root_hosp = input_root  +  'hosp/'\n",
    "output_root_hosp = output_root +  'hosp/'\n",
    "\n",
    "# start with icustays for the patient_ids \n",
    "icu_stays_name      = 'icustays.csv.gz'\n",
    "icu_stays_path      = os.path.join(input_root_icu, icu_stays_name)\n",
    "icu_stays_path_out  = os.path.join(output_root_icu, icu_stays_name)"
   ]
  },
  {
   "cell_type": "code",
   "execution_count": null,
   "id": "f835bea6",
   "metadata": {},
   "outputs": [],
   "source": [
    "# Step 1: Load unique subject IDs\n",
    "def load_subject_ids(file_path, subject_id_col='subject_id', chunksize=100000):\n",
    "    \"\"\"Loads subject IDs from a .csv.gz file in chunks.\"\"\"\n",
    "    subject_ids = set()  # Use a set to avoid duplicates\n",
    "    \n",
    "    try:\n",
    "        # Load the file in chunks and collect all subject_ids\n",
    "        for chunk in pd.read_csv(file_path, compression='gzip', chunksize=chunksize):\n",
    "            subject_ids.update(chunk[subject_id_col].unique())  # Add unique subject_ids to the set\n",
    "        \n",
    "        return list(subject_ids)  # Convert to a list to make it easier to sample\n",
    "    except Exception as e:\n",
    "        print(f\"Error loading subject IDs from {file_path}: {e}\")\n",
    "        return None\n",
    "\n",
    "# Step 2: Select a random 5% of subject IDs\n",
    "def select_random_subject_ids(subject_ids, percentage=5):\n",
    "    \"\"\"Selects a random 5% sample of subject IDs.\"\"\"\n",
    "    sample_size = int(len(subject_ids) * (percentage / 100))\n",
    "    return random.sample(subject_ids, sample_size)\n",
    "\n",
    "def load_single_csv_gz(file_path, patient_ids, patient_id_col='subject_id', chunksize=100000, max_chunks=None):\n",
    "    \"\"\"Loads a single .csv.gz file in chunks and returns a DataFrame, filtering by patient_ids.\n",
    "       Stops after processing a specified number of chunks (max_chunks).\"\"\"\n",
    "    \n",
    "    filtered_data = []\n",
    "    patient_id_found = False  # Flag to check if patient_id column exists\n",
    "    chunk_count = 0  # Initialize chunk counter\n",
    "\n",
    "    try:\n",
    "        # Read the file in chunks\n",
    "        for chunk in pd.read_csv(file_path, compression='gzip', chunksize=chunksize):\n",
    "            chunk_count += 1  # Increment chunk counter\n",
    "            print(f\"Processing chunk {chunk_count}\")\n",
    "\n",
    "            # Check for the presence of the patient_id column\n",
    "            if patient_id_col in chunk.columns:\n",
    "                patient_id_found = True  # Mark that we've found the patient_id column\n",
    "                \n",
    "                # Filter the chunk by patient_ids\n",
    "                filtered_chunk = chunk[chunk[patient_id_col].isin(patient_ids)]\n",
    "                filtered_data.append(filtered_chunk)\n",
    "            \n",
    "            # Stop processing if the max_chunks limit is reached\n",
    "            if max_chunks and chunk_count >= max_chunks:\n",
    "                print(f\"Stopping after {chunk_count} chunks as per max_chunks limit.\")\n",
    "                break\n",
    "\n",
    "        # If the patient_id column was found and filtered data exists, return that\n",
    "        if patient_id_found and filtered_data:\n",
    "            return pd.concat(filtered_data, ignore_index=True)\n",
    "        else:\n",
    "            # Return an empty DataFrame if no matching data or patient_id column not found\n",
    "            print(f\"Patient ID column '{patient_id_col}' not found or no matching patient IDs.\")\n",
    "            return pd.DataFrame()\n",
    "        \n",
    "    except Exception as e:\n",
    "        print(f\"Error processing {file_path}: {e}\")\n",
    "        return pd.DataFrame()  # Return empty DataFrame on error\n",
    "\n",
    "\n",
    "    \n",
    "# Step 2: Save the filtered DataFrame to a .csv.gz file\n",
    "def save_filtered_df(filtered_df, output_path):\n",
    "    \"\"\"Saves a pandas DataFrame to a .csv.gz file.\"\"\"\n",
    "    if filtered_df is not None and not filtered_df.empty:\n",
    "        \n",
    "        # Ensure the target folder exists\n",
    "        os.makedirs(os.path.dirname(output_path), exist_ok=True)\n",
    "        \n",
    "        filtered_df.to_csv(output_path, compression='gzip', index=False)\n",
    "        print(f\"Filtered data saved to {output_path}\")\n",
    "    else:\n",
    "        print(f\"No data to save for {output_path}\")"
   ]
  },
  {
   "cell_type": "markdown",
   "id": "26ca70fc",
   "metadata": {},
   "source": [
    "### Option 1: Randomly generate some subject ids to use"
   ]
  },
  {
   "cell_type": "code",
   "execution_count": null,
   "id": "69dfc8ec",
   "metadata": {},
   "outputs": [],
   "source": [
    "# Step 1: Load subject IDs from the file\n",
    "subject_ids = load_subject_ids(icu_stays_path)\n",
    "\n",
    "if subject_ids:\n",
    "    # Step 2: Select 5% of the subject IDs randomly\n",
    "    selected_subject_ids = select_random_subject_ids(subject_ids, percentage=3)\n",
    "    print(f\"Selected {len(selected_subject_ids)} subject IDs from {len(subject_ids)} total.\")\n",
    "\n",
    "    # Step 3: Filter the icustays file by these subject IDs\n",
    "    filtered_df = load_single_csv_gz(icu_stays_path, selected_subject_ids)\n",
    "\n",
    "    # Step 4: Save the filtered data\n",
    "    save_filtered_df(filtered_df, icu_stays_path_out)\n",
    "else:\n",
    "    print(f\"No subject IDs found in {icu_stays_path}\")\n",
    "    \n",
    "subject_ids = selected_subject_ids"
   ]
  },
  {
   "cell_type": "code",
   "execution_count": null,
   "id": "25992547",
   "metadata": {},
   "outputs": [],
   "source": [
    "len(subject_ids)"
   ]
  },
  {
   "cell_type": "markdown",
   "id": "54380bbc",
   "metadata": {},
   "source": [
    "### Option 2: Load the already chosen subject ids"
   ]
  },
  {
   "cell_type": "code",
   "execution_count": null,
   "id": "17f9dbcb",
   "metadata": {},
   "outputs": [],
   "source": [
    "subject_ids = load_subject_ids(icu_stays_path_out)"
   ]
  },
  {
   "cell_type": "code",
   "execution_count": null,
   "id": "18f5b4e3",
   "metadata": {},
   "outputs": [],
   "source": [
    "len(subject_ids)"
   ]
  },
  {
   "cell_type": "markdown",
   "id": "f6c0c96b",
   "metadata": {},
   "source": [
    "## Extract the smaller dataset versions for all files"
   ]
  },
  {
   "cell_type": "code",
   "execution_count": null,
   "id": "0a3662c0",
   "metadata": {},
   "outputs": [],
   "source": [
    "file_name = 'inputevents.csv.gz'\n",
    "new_file_path = os.path.join(input_root_icu, file_name)\n",
    "new_output_path = os.path.join(output_root_icu, file_name)"
   ]
  },
  {
   "cell_type": "code",
   "execution_count": null,
   "id": "62848a79",
   "metadata": {},
   "outputs": [],
   "source": [
    "# Load and filter the new file by the selected subject IDs\n",
    "filtered_df = load_single_csv_gz(new_file_path, subject_ids)[0]\n",
    "\n",
    "# Save the filtered data\n",
    "save_filtered_df(filtered_df, new_output_path)"
   ]
  },
  {
   "cell_type": "code",
   "execution_count": null,
   "id": "bae419f1",
   "metadata": {},
   "outputs": [],
   "source": [
    "save_filtered_df(filtered_df, new_output_path)"
   ]
  },
  {
   "cell_type": "code",
   "execution_count": null,
   "id": "4a9e7fdc",
   "metadata": {},
   "outputs": [],
   "source": [
    "file_name = 'ingredientevents.csv.gz'\n",
    "new_file_path = os.path.join(input_root_icu, file_name)\n",
    "new_output_path = os.path.join(output_root_icu, file_name)"
   ]
  },
  {
   "cell_type": "code",
   "execution_count": null,
   "id": "1db64dc2",
   "metadata": {},
   "outputs": [],
   "source": [
    "# Load and filter the new file by the selected subject IDs\n",
    "filtered_df = load_single_csv_gz(new_file_path, subject_ids)[0]\n",
    "\n",
    "# Save the filtered data\n",
    "save_filtered_df(filtered_df, new_output_path)"
   ]
  },
  {
   "cell_type": "code",
   "execution_count": null,
   "id": "9af620bb",
   "metadata": {},
   "outputs": [],
   "source": [
    "file_name = 'outputevents.csv.gz'\n",
    "new_file_path = os.path.join(input_root_icu, file_name)\n",
    "new_output_path = os.path.join(output_root_icu, file_name)"
   ]
  },
  {
   "cell_type": "code",
   "execution_count": null,
   "id": "fe17edfa",
   "metadata": {},
   "outputs": [],
   "source": [
    "# Load and filter the new file by the selected subject IDs\n",
    "filtered_df = load_single_csv_gz(new_file_path, subject_ids)\n",
    "\n",
    "# Save the filtered data\n",
    "save_filtered_df(filtered_df, new_output_path)"
   ]
  },
  {
   "cell_type": "code",
   "execution_count": null,
   "id": "923407d4",
   "metadata": {},
   "outputs": [],
   "source": [
    "file_name = 'procedureevents.csv.gz'\n",
    "new_file_path = os.path.join(input_root_icu, file_name)\n",
    "new_output_path = os.path.join(output_root_icu, file_name)"
   ]
  },
  {
   "cell_type": "code",
   "execution_count": null,
   "id": "2bcf75da",
   "metadata": {},
   "outputs": [],
   "source": [
    "# Load and filter the new file by the selected subject IDs\n",
    "filtered_df = load_single_csv_gz(new_file_path, subject_ids)\n",
    "\n",
    "# Save the filtered data\n",
    "save_filtered_df(filtered_df, new_output_path)"
   ]
  },
  {
   "cell_type": "code",
   "execution_count": null,
   "id": "54bbb0da",
   "metadata": {},
   "outputs": [],
   "source": [
    "file_name = 'chartevents.csv.gz'\n",
    "new_file_path = os.path.join(input_root_icu, file_name)\n",
    "new_output_path = os.path.join(output_root_icu, file_name)"
   ]
  },
  {
   "cell_type": "code",
   "execution_count": null,
   "id": "cc09964f",
   "metadata": {},
   "outputs": [],
   "source": [
    "# Load and filter the new file by the selected subject IDs\n",
    "filtered_df = load_single_csv_gz(new_file_path, subject_ids)\n",
    "\n",
    "# Save the filtered data\n",
    "save_filtered_df(filtered_df, new_output_path)"
   ]
  },
  {
   "cell_type": "code",
   "execution_count": null,
   "id": "8041919d",
   "metadata": {},
   "outputs": [],
   "source": [
    "file_name = 'datetimeevents.csv.gz'\n",
    "new_file_path = os.path.join(input_root_icu, file_name)\n",
    "new_output_path = os.path.join(output_root_icu, file_name)"
   ]
  },
  {
   "cell_type": "code",
   "execution_count": null,
   "id": "490f012c",
   "metadata": {},
   "outputs": [],
   "source": [
    "# Load and filter the new file by the selected subject IDs\n",
    "filtered_df = load_single_csv_gz(new_file_path, subject_ids)\n",
    "\n",
    "# Save the filtered data\n",
    "save_filtered_df(filtered_df, new_output_path)"
   ]
  },
  {
   "cell_type": "code",
   "execution_count": null,
   "id": "7f6d715f",
   "metadata": {},
   "outputs": [],
   "source": [
    "file_name = 'd_items.csv.gz'\n",
    "new_file_path = os.path.join(input_root_icu, file_name)\n",
    "new_output_path = os.path.join(output_root_icu, file_name)"
   ]
  },
  {
   "cell_type": "code",
   "execution_count": null,
   "id": "149f6799",
   "metadata": {},
   "outputs": [],
   "source": [
    "# Load and filter the new file by the selected subject IDs\n",
    "filtered_df = load_single_csv_gz(new_file_path, subject_ids)\n",
    "\n",
    "# Save the filtered data\n",
    "save_filtered_df(filtered_df, new_output_path)"
   ]
  },
  {
   "cell_type": "code",
   "execution_count": null,
   "id": "dc8d2bce",
   "metadata": {},
   "outputs": [],
   "source": [
    "filtered_df"
   ]
  },
  {
   "cell_type": "markdown",
   "id": "e6573fd8",
   "metadata": {},
   "source": [
    "## Load other data not matchable"
   ]
  },
  {
   "cell_type": "code",
   "execution_count": null,
   "id": "f8db60f6",
   "metadata": {},
   "outputs": [],
   "source": [
    "file_name = 'd_items.csv.gz'\n",
    "new_file_path = os.path.join(input_path, file_name)\n",
    "new_output_path = os.path.join(output_path, file_name)"
   ]
  },
  {
   "cell_type": "code",
   "execution_count": null,
   "id": "22db2c10",
   "metadata": {},
   "outputs": [],
   "source": [
    "filtered_df = load_single_csv_gz(new_file_path, selected_subject_ids)\n",
    "\n",
    "# Save the filtered data\n",
    "# save_filtered_df(filtered_df, new_output_path)"
   ]
  },
  {
   "cell_type": "code",
   "execution_count": null,
   "id": "32f432bf",
   "metadata": {},
   "outputs": [],
   "source": [
    "filtered_df"
   ]
  },
  {
   "cell_type": "code",
   "execution_count": null,
   "id": "40587cf2",
   "metadata": {},
   "outputs": [],
   "source": []
  },
  {
   "cell_type": "markdown",
   "id": "3d16fba1",
   "metadata": {},
   "source": [
    "## Load Hosp data"
   ]
  },
  {
   "cell_type": "code",
   "execution_count": null,
   "id": "9d361578",
   "metadata": {},
   "outputs": [],
   "source": [
    "file_name = 'patients.csv.gz'\n",
    "new_file_path = os.path.join(input_root_hosp, file_name)\n",
    "new_output_path = os.path.join(output_root_hosp, file_name)"
   ]
  },
  {
   "cell_type": "code",
   "execution_count": null,
   "id": "c5ff5f98",
   "metadata": {},
   "outputs": [],
   "source": [
    "filtered_df = load_single_csv_gz(new_file_path, subject_ids)\n",
    "save_filtered_df(filtered_df, new_output_path)"
   ]
  },
  {
   "cell_type": "code",
   "execution_count": null,
   "id": "36c69bf7",
   "metadata": {},
   "outputs": [],
   "source": [
    "file_name = 'admissions.csv.gz'\n",
    "new_file_path = os.path.join(input_root_hosp, file_name)\n",
    "new_output_path = os.path.join(output_root_hosp, file_name)"
   ]
  },
  {
   "cell_type": "code",
   "execution_count": null,
   "id": "9d479615",
   "metadata": {},
   "outputs": [],
   "source": [
    "filtered_df = load_single_csv_gz(new_file_path, subject_ids)\n",
    "save_filtered_df(filtered_df, new_output_path)"
   ]
  },
  {
   "cell_type": "code",
   "execution_count": null,
   "id": "3c5666da",
   "metadata": {},
   "outputs": [],
   "source": [
    "file_name = 'diagnoses_icd.csv.gz'\n",
    "new_file_path = os.path.join(input_root_hosp, file_name)\n",
    "new_output_path = os.path.join(output_root_hosp, file_name)\n",
    "\n",
    "\n",
    "filtered_df = load_single_csv_gz(new_file_path, subject_ids)\n",
    "save_filtered_df(filtered_df, new_output_path)"
   ]
  },
  {
   "cell_type": "code",
   "execution_count": null,
   "id": "aa2bfd2a",
   "metadata": {},
   "outputs": [],
   "source": [
    "file_name = 'labevents.csv.gz'\n",
    "new_file_path = os.path.join(input_root_hosp, file_name)\n",
    "new_output_path = os.path.join(output_root_hosp, file_name)\n",
    "\n",
    "\n",
    "filtered_df = load_single_csv_gz(new_file_path, subject_ids)\n",
    "save_filtered_df(filtered_df, new_output_path)"
   ]
  },
  {
   "cell_type": "code",
   "execution_count": null,
   "id": "ca316061",
   "metadata": {},
   "outputs": [],
   "source": [
    "file_name = 'microbiologyevents.csv.gz'\n",
    "new_file_path = os.path.join(input_root_hosp, file_name)\n",
    "new_output_path = os.path.join(output_root_hosp, file_name)\n",
    "\n",
    "\n",
    "filtered_df = load_single_csv_gz(new_file_path, subject_ids)\n",
    "save_filtered_df(filtered_df, new_output_path)"
   ]
  },
  {
   "cell_type": "code",
   "execution_count": null,
   "id": "f8646911",
   "metadata": {},
   "outputs": [],
   "source": [
    "file_name = 'prescriptions.csv.gz'\n",
    "new_file_path = os.path.join(input_root_hosp, file_name)\n",
    "new_output_path = os.path.join(output_root_hosp, file_name)\n",
    "\n",
    "\n",
    "filtered_df = load_single_csv_gz(new_file_path, subject_ids)\n",
    "save_filtered_df(filtered_df, new_output_path)"
   ]
  },
  {
   "cell_type": "code",
   "execution_count": null,
   "id": "c267637e",
   "metadata": {},
   "outputs": [],
   "source": []
  }
 ],
 "metadata": {
  "kernelspec": {
   "display_name": "Python 3 (mimic_prep_env)",
   "language": "python",
   "name": "mimic_prep_env"
  },
  "language_info": {
   "codemirror_mode": {
    "name": "ipython",
    "version": 3
   },
   "file_extension": ".py",
   "mimetype": "text/x-python",
   "name": "python",
   "nbconvert_exporter": "python",
   "pygments_lexer": "ipython3",
   "version": "3.7.7"
  }
 },
 "nbformat": 4,
 "nbformat_minor": 5
}
