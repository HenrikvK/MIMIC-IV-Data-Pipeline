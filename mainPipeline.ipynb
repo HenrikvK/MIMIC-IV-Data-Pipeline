{
 "cells": [
  {
   "cell_type": "markdown",
   "id": "98387576",
   "metadata": {},
   "source": [
    "# Extract and encode MIMIC data\n",
    "We extract the mimic information and encode it as time-series data. \n",
    "We use the following tables: \n",
    "- labevents: \n",
    "    - contains blood tests, etc. \n",
    "- microbiology events: \n",
    "\n",
    "- output events: \n",
    "    - contains \n",
    "    \n",
    "- chartevents\n",
    "    - contains vital signs\n",
    "   \n",
    "\n"
   ]
  },
  {
   "cell_type": "code",
   "execution_count": 1,
   "id": "3961be11",
   "metadata": {},
   "outputs": [],
   "source": [
    "%load_ext autoreload\n",
    "%autoreload 2\n",
    "\n",
    "import os "
   ]
  },
  {
   "cell_type": "markdown",
   "id": "94becd9b",
   "metadata": {},
   "source": [
    "Define the relative or absolute data path. The mimic data must be in the folders: \n",
    "- data_root + '/mimiciv/3.0/hosp/' \n",
    "- data_root + '/mimiciv/3.0/icu/' "
   ]
  },
  {
   "cell_type": "code",
   "execution_count": 2,
   "id": "94e8d99d",
   "metadata": {},
   "outputs": [],
   "source": [
    "# define a relative or absolute path to the mimic folder. \n",
    "data_path = '/../data/real_world_data/physionet.org_small/files'\n",
    "# data_path = \"/lustre/groups/labs/marr/qscd01/datasets/vonKleist/physionet.org/files\"\n",
    "root_dir = os.path.dirname(os.path.abspath('UserInterface.ipynb')) + data_path\n",
    "\n",
    "# define path for processed files\n",
    "target_path = './data/features/'"
   ]
  },
  {
   "cell_type": "code",
   "execution_count": 3,
   "id": "e1d0c16c",
   "metadata": {},
   "outputs": [],
   "source": [
    "import ipywidgets as widgets\n",
    "import sys\n",
    "from pathlib import Path\n",
    "import importlib\n",
    "import pandas as pd\n",
    "\n",
    "\n",
    "module_path='preprocessing/day_intervals_preproc'\n",
    "if module_path not in sys.path:\n",
    "    sys.path.append(module_path)\n",
    "\n",
    "module_path='utils'\n",
    "if module_path not in sys.path:\n",
    "    sys.path.append(module_path)\n",
    "    \n",
    "module_path='preprocessing/hosp_module_preproc'\n",
    "if module_path not in sys.path:\n",
    "    sys.path.append(module_path)\n",
    "    \n",
    "module_path='model'\n",
    "if module_path not in sys.path:\n",
    "    sys.path.append(module_path)\n",
    "#print(sys.path)\n",
    "# define the path to the data from current repository \n",
    "# (from here data is in mimiciv/3.0/hosp )\n",
    "root_dir = os.path.dirname(os.path.abspath('UserInterface.ipynb')) + data_path\n",
    "\n",
    "# root_dir = data_path\n",
    "\n",
    "import day_intervals_cohort\n",
    "from day_intervals_cohort import *\n",
    "\n",
    "import day_intervals_cohort_v2\n",
    "from day_intervals_cohort_v2 import *\n",
    "\n",
    "import day_intervals_cohort_v3\n",
    "from day_intervals_cohort_v3 import *\n",
    "\n",
    "import data_generation_icu\n",
    "\n",
    "import data_generation\n",
    "import evaluation\n",
    "\n",
    "import feature_selection_hosp\n",
    "from feature_selection_hosp import *"
   ]
  },
  {
   "cell_type": "code",
   "execution_count": 4,
   "id": "available-albany",
   "metadata": {},
   "outputs": [],
   "source": [
    "# this is only for training\n",
    "import ml_models\n",
    "from ml_models import *\n",
    "\n",
    "import dl_train\n",
    "from dl_train import *\n",
    "\n",
    "import tokenization\n",
    "from tokenization import *\n",
    "\n",
    "import behrt_train\n",
    "from behrt_train import *\n",
    "\n",
    "import feature_selection_icu\n",
    "from feature_selection_icu import *\n",
    "import fairness\n",
    "import callibrate_output"
   ]
  },
  {
   "cell_type": "code",
   "execution_count": 5,
   "id": "nutritional-chicago",
   "metadata": {},
   "outputs": [],
   "source": [
    "importlib.reload(day_intervals_cohort)\n",
    "import day_intervals_cohort\n",
    "from day_intervals_cohort import *\n",
    "\n",
    "importlib.reload(day_intervals_cohort_v2)\n",
    "import day_intervals_cohort_v2\n",
    "from day_intervals_cohort_v2 import *\n",
    "\n",
    "importlib.reload(day_intervals_cohort_v3)\n",
    "import day_intervals_cohort_v3\n",
    "from day_intervals_cohort_v3 import *\n",
    "\n",
    "\n",
    "importlib.reload(data_generation_icu)\n",
    "import data_generation_icu\n",
    "importlib.reload(data_generation)\n",
    "import data_generation\n",
    "\n",
    "importlib.reload(feature_selection_hosp)\n",
    "import feature_selection_hosp\n",
    "from feature_selection_hosp import *\n",
    "\n",
    "importlib.reload(feature_selection_icu)\n",
    "import feature_selection_icu\n",
    "from feature_selection_icu import *\n",
    "\n",
    "importlib.reload(tokenization)\n",
    "import tokenization\n",
    "from tokenization import *\n",
    "\n",
    "importlib.reload(ml_models)\n",
    "import ml_models\n",
    "from ml_models import *\n",
    "\n",
    "importlib.reload(dl_train)\n",
    "import dl_train\n",
    "from dl_train import *\n",
    "\n",
    "importlib.reload(behrt_train)\n",
    "import behrt_train\n",
    "from behrt_train import *\n",
    "\n",
    "importlib.reload(fairness)\n",
    "import fairness\n",
    "\n",
    "importlib.reload(callibrate_output)\n",
    "import callibrate_output\n",
    "\n",
    "importlib.reload(evaluation)\n",
    "import evaluation"
   ]
  },
  {
   "cell_type": "markdown",
   "id": "eligible-demand",
   "metadata": {},
   "source": [
    "# Welcome to your MIMIC-IV Project"
   ]
  },
  {
   "cell_type": "markdown",
   "id": "jewish-crown",
   "metadata": {},
   "source": [
    "This repository explains the steps to download and clean MIMIC-IV dataset for analysis.\n",
    "The repository is compatible with MIMIC-IV v1.0 and MIMIC-IV v2.0\n",
    "\n",
    "Please go to:\n",
    "- https://physionet.org/content/mimiciv/1.0/ for v1.0\n",
    "- https://physionet.org/content/mimiciv/2.0/ for v2.0\n",
    "- https://physionet.org/content/mimiciv/3.0/ for v3.0\n",
    "\n",
    "Follow instructions to get access to MIMIC-IV dataset.\n",
    "\n",
    "Download the files using your terminal: \n",
    "- wget -r -N -c -np --user mehakg --ask-password https://physionet.org/files/mimiciv/1.0/ or\n",
    "- wget -r -N -c -np --user mehakg --ask-password https://physionet.org/files/mimiciv/2.0/ or\n",
    "- wget -r -N -c -np --user mehakg --ask-password https://physionet.org/files/mimiciv/3.0/        \n",
    "\n",
    "Save downloaded files in the parent directory of this github repo. \n",
    "\n",
    "The structure should look like below for v1.0-\n",
    "- mimiciv/1.0/core\n",
    "- mimiciv/1.0/hosp\n",
    "- mimiciv/1.0/icu\n",
    "\n",
    "The structure should look like below for v2.0-\n",
    "- mimiciv/2.0/hosp\n",
    "- mimiciv/2.0/icu\n",
    "\n",
    "The structure should look like below for v3.0-\n",
    "- mimiciv/3.0/hosp\n",
    "- mimiciv/3.0/icu"
   ]
  },
  {
   "cell_type": "markdown",
   "id": "happy-tissue",
   "metadata": {},
   "source": [
    "## 1. DATA EXTRACTION\n",
    "Please run below cell to select option for cohort selection.\n",
    "The cohort will be svaed in **./data/cohort/**"
   ]
  },
  {
   "cell_type": "code",
   "execution_count": 6,
   "id": "structured-dimension",
   "metadata": {
    "tags": [
     "{",
     "\"tags\":",
     "[",
     "\"hide-input\"",
     "]",
     "}"
    ]
   },
   "outputs": [
    {
     "name": "stdout",
     "output_type": "stream",
     "text": [
      "Please select the approriate version of MIMIC-IV for which you have downloaded data ?\n"
     ]
    },
    {
     "data": {
      "application/vnd.jupyter.widget-view+json": {
       "model_id": "a9e3456be8f944e5892a77323fbd8455",
       "version_major": 2,
       "version_minor": 0
      },
      "text/plain": [
       "RadioButtons(index=2, options=('Version 1', 'Version 2', 'Version 3'), value='Version 3')"
      ]
     },
     "metadata": {},
     "output_type": "display_data"
    },
    {
     "name": "stdout",
     "output_type": "stream",
     "text": [
      "Please select what prediction task you want to perform ?\n"
     ]
    },
    {
     "data": {
      "application/vnd.jupyter.widget-view+json": {
       "model_id": "b0c9be14015249ec8781939c344295de",
       "version_major": 2,
       "version_minor": 0
      },
      "text/plain": [
       "RadioButtons(index=3, options=('Mortality', 'Length of Stay', 'Readmission', 'Phenotype'), value='Phenotype')"
      ]
     },
     "metadata": {},
     "output_type": "display_data"
    }
   ],
   "source": [
    "print(\"Please select the approriate version of MIMIC-IV for which you have downloaded data ?\")\n",
    "version = widgets.RadioButtons(options=['Version 1','Version 2','Version 3'],value='Version 3')\n",
    "display(version)\n",
    "\n",
    "print(\"Please select what prediction task you want to perform ?\")\n",
    "radio_input4 = widgets.RadioButtons(options=['Mortality','Length of Stay','Readmission','Phenotype'],value='Phenotype')\n",
    "display(radio_input4)\n"
   ]
  },
  {
   "cell_type": "markdown",
   "id": "written-syndicate",
   "metadata": {},
   "source": [
    "### Refining Cohort and Prediction Task Definition\n",
    "\n",
    "Based on your current selection following block will provide option to further refine prediction task and cohort associated with it:\n",
    "\n",
    "- First you will refine the prediction task choosing from following options -\n",
    "    - **Length of Stay** - You can select from two predefined options or enter custom number of days to predict length os stay greater than number of days.\n",
    "\n",
    "    - **Readmission** - You can select from two predefined options or enter custom number of days to predict readmission after \"number of days\" after previous admission.\n",
    "\n",
    "    - **Phenotype Prediction** - You can select from four major chronic diseases to predict its future outcome\n",
    "\n",
    "        - Heart failure\n",
    "        - CAD (Coronary Artery Disease)\n",
    "        - CKD (Chronic Kidney Disease)\n",
    "        - COPD (Chronic obstructive pulmonary disease)\n",
    "\n",
    "- Second, you will choode whether to perfom above task using ICU or non-ICU admissions data\n",
    "\n",
    "- Third, you can refine the refine the cohort selection for any of the above choosen prediction tasks by including the admission samples admitted with particular chronic disease - \n",
    "    - Heart failure\n",
    "    - CAD (Coronary Artery Disease)\n",
    "    - CKD (Chronic Kidney Disease)\n",
    "    - COPD (Chronic obstructive pulmonary disease)\n",
    "    \n",
    "print(\"**Please run below cell to extract the cohort for selected options**\")"
   ]
  },
  {
   "cell_type": "code",
   "execution_count": 7,
   "id": "broke-spirituality",
   "metadata": {},
   "outputs": [
    {
     "data": {
      "application/vnd.jupyter.widget-view+json": {
       "model_id": "9bbd9b148dce45369b6bcb007009a957",
       "version_major": 2,
       "version_minor": 0
      },
      "text/plain": [
       "RadioButtons(index=2, options=('Heart Failure in 30 days', 'CAD in 30 days', 'CKD in 30 days', 'COPD in 30 day…"
      ]
     },
     "metadata": {},
     "output_type": "display_data"
    },
    {
     "name": "stdout",
     "output_type": "stream",
     "text": [
      "Extract Data\n",
      "Please select below if you want to work with ICU or Non-ICU data ?\n"
     ]
    },
    {
     "data": {
      "application/vnd.jupyter.widget-view+json": {
       "model_id": "1c57770f445643bdb3a78fff3109497d",
       "version_major": 2,
       "version_minor": 0
      },
      "text/plain": [
       "RadioButtons(options=('ICU', 'Non-ICU'), value='ICU')"
      ]
     },
     "metadata": {},
     "output_type": "display_data"
    },
    {
     "name": "stdout",
     "output_type": "stream",
     "text": [
      "Please select if you want to perform choosen prediction task for a specific disease.\n"
     ]
    },
    {
     "data": {
      "application/vnd.jupyter.widget-view+json": {
       "model_id": "12331961715a404ca463dbd902517568",
       "version_major": 2,
       "version_minor": 0
      },
      "text/plain": [
       "RadioButtons(index=2, options=('No Disease Filter', 'Heart Failure', 'CKD', 'CAD', 'COPD'), value='CKD')"
      ]
     },
     "metadata": {},
     "output_type": "display_data"
    }
   ],
   "source": [
    "# define what data to load \n",
    "if radio_input4.value=='Length of Stay':\n",
    "    options=['Length of Stay ge 3','Length of Stay ge 7','Custom']\n",
    "    value='Length of Stay ge 3'\n",
    "    radio_input2 = widgets.RadioButtons(options = option, value=  value)\n",
    "    display(radio_input2)\n",
    "    text1=widgets.IntSlider(\n",
    "    value=3,\n",
    "    min=1,\n",
    "    max=10,\n",
    "    step=1,\n",
    "    disabled=False,\n",
    "    continuous_update=False,\n",
    "    orientation='horizontal',\n",
    "    readout=True,\n",
    "    readout_format='d'\n",
    ")\n",
    "    display(widgets.HBox([widgets.Label('Length of stay ge (in days)',layout={'width': '180px'}), text1]))\n",
    "elif radio_input4.value=='Readmission':\n",
    "    options=['30 Day Readmission','60 Day Readmission','90 Day Readmission',\n",
    "             '120 Day Readmission','Custom']\n",
    "    value= '30 Day Readmission'\n",
    "    radio_input2 = widgets.RadioButtons(options = options,value = value)\n",
    "    display(radio_input2)\n",
    "    text1=widgets.IntSlider(\n",
    "    value=30,\n",
    "    min=10,\n",
    "    max=150,\n",
    "    step=10,\n",
    "    disabled=False\n",
    "    )\n",
    "    display(widgets.HBox([widgets.Label('Readmission after (in days)',layout={'width': '180px'}), text1]))\n",
    "elif radio_input4.value=='Phenotype':\n",
    "    options = ['Heart Failure in 30 days','CAD in 30 days','CKD in 30 days','COPD in 30 days']\n",
    "    value ='CKD in 30 days'\n",
    "    radio_input2 = widgets.RadioButtons(options=options, value = value)\n",
    "    display(radio_input2)\n",
    "elif radio_input4.value=='Mortality':\n",
    "    options=['Mortality']\n",
    "    value='Mortality'\n",
    "    radio_input2 = widgets.RadioButtons(options=options,value=value)\n",
    "    #display(radio_input2)\n",
    "\n",
    "print(\"Extract Data\")\n",
    "print(\"Please select below if you want to work with ICU or Non-ICU data ?\")\n",
    "radio_input1 = widgets.RadioButtons(options=['ICU', 'Non-ICU'],value='ICU')\n",
    "display(radio_input1)\n",
    "\n",
    "print(\"Please select if you want to perform choosen prediction task for a specific disease.\")\n",
    "radio_input3 = widgets.RadioButtons(options=['No Disease Filter','Heart Failure','CKD','CAD','COPD'],value='CKD')\n",
    "display(radio_input3)"
   ]
  },
  {
   "cell_type": "code",
   "execution_count": 8,
   "id": "republican-freight",
   "metadata": {},
   "outputs": [
    {
     "name": "stdout",
     "output_type": "stream",
     "text": [
      "===========MIMIC-IV v3.0============\n",
      "EXTRACTING FOR: | ICU | READMISSION DUE TO N18 | ADMITTED DUE TO N18 | 30 |\n"
     ]
    },
    {
     "name": "stderr",
     "output_type": "stream",
     "text": [
      "  2%|█▌                                                                                | 11/565 [00:00<00:05, 98.79it/s]"
     ]
    },
    {
     "name": "stdout",
     "output_type": "stream",
     "text": [
      "[ READMISSION DUE TO N18 ]\n"
     ]
    },
    {
     "name": "stderr",
     "output_type": "stream",
     "text": [
      "100%|█████████████████████████████████████████████████████████████████████████████████| 565/565 [00:05<00:00, 94.89it/s]\n"
     ]
    },
    {
     "name": "stdout",
     "output_type": "stream",
     "text": [
      "[ READMISSION LABELS FINISHED ]\n",
      "[ COHORT SUCCESSFULLY SAVED ]\n",
      "[ SUMMARY SUCCESSFULLY SAVED ]\n",
      "Readmission FOR ICU DATA\n",
      "# Admission Records: 902\n",
      "# Patients: 565\n",
      "# Positive cases: 143\n",
      "# Negative cases: 759\n"
     ]
    }
   ],
   "source": [
    "disease_label=\"\"\n",
    "time=0\n",
    "label=radio_input4.value\n",
    "\n",
    "if label=='Readmission':\n",
    "    if radio_input2.value=='Custom':\n",
    "        time=text1.value\n",
    "    else:\n",
    "        time=int(radio_input2.value.split()[0])\n",
    "elif label=='Length of Stay':\n",
    "    if radio_input2.value=='Custom':\n",
    "        time=text1.value\n",
    "    else:\n",
    "        time=int(radio_input2.value.split()[4])\n",
    "\n",
    "if label=='Phenotype':    \n",
    "    if radio_input2.value=='Heart Failure in 30 days':\n",
    "        label='Readmission'\n",
    "        time=30\n",
    "        disease_label='I50'\n",
    "    elif radio_input2.value=='CAD in 30 days':\n",
    "        label='Readmission'\n",
    "        time=30\n",
    "        disease_label='I25'\n",
    "    elif radio_input2.value=='CKD in 30 days':\n",
    "        label='Readmission'\n",
    "        time=30\n",
    "        disease_label='N18'\n",
    "    elif radio_input2.value=='COPD in 30 days':\n",
    "        label='Readmission'\n",
    "        time=30\n",
    "        disease_label='J44'\n",
    "    \n",
    "data_icu=radio_input1.value==\"ICU\"\n",
    "data_mort=label==\"Mortality\"\n",
    "data_admn=label=='Readmission'\n",
    "data_los=label=='Length of Stay'\n",
    "        \n",
    "\n",
    "if (radio_input3.value==\"Heart Failure\"):\n",
    "    icd_code='I50'\n",
    "elif (radio_input3.value==\"CKD\"):\n",
    "    icd_code='N18'\n",
    "elif (radio_input3.value==\"COPD\"):\n",
    "    icd_code='J44'\n",
    "elif (radio_input3.value==\"CAD\"):\n",
    "    icd_code='I25'\n",
    "else:\n",
    "    icd_code='No Disease Filter'\n",
    "\n",
    "if version.value=='Version 1':\n",
    "    version_path= \"mimiciv/1.0\"\n",
    "    cohort_output = day_intervals_cohort.extract_data(radio_input1.value,label,time,icd_code, root_dir,disease_label)\n",
    "elif version.value=='Version 2':\n",
    "    version_path= \"mimiciv/2.0\"\n",
    "    cohort_output = day_intervals_cohort_v2.extract_data(radio_input1.value,label,time,icd_code, root_dir,disease_label)\n",
    "elif version.value=='Version 3':\n",
    "    version_path= \"mimiciv/3.0\"\n",
    "    cohort_output = day_intervals_cohort_v3.extract_data(radio_input1.value,label,time,icd_code, root_dir,disease_label)"
   ]
  },
  {
   "cell_type": "markdown",
   "id": "interstate-stadium",
   "metadata": {},
   "source": [
    "## 2. FEATURE SELECTION\n",
    "Features available for ICU data -\n",
    "- Diagnosis (https://mimic.mit.edu/docs/iv/modules/hosp/diagnoses_icd/)\n",
    "- Procedures (https://mimic.mit.edu/docs/iv/modules/icu/procedureevents/)\n",
    "- Medications (https://mimic.mit.edu/docs/iv/modules/icu/inputevents/)\n",
    "- Output Events (https://mimic.mit.edu/docs/iv/modules/icu/outputevents/)\n",
    "- Chart Events (https://mimic.mit.edu/docs/iv/modules/icu/chartevents/)\n",
    "- Lab Events (https://mimic.mit.edu/docs/iv/modules/hosp/labevents/)\n",
    "- Microbiology Events (https://mimic.mit.edu/docs/iv/modules/hosp/microbiologyevents/)\n",
    "\n",
    "All features will be saved in the defined **target_path**\n",
    "\n",
    "**Please run below cell to select features**"
   ]
  },
  {
   "cell_type": "code",
   "execution_count": 53,
   "id": "raised-olympus",
   "metadata": {},
   "outputs": [
    {
     "name": "stdout",
     "output_type": "stream",
     "text": [
      "Feature Selection\n",
      "Which Features you want to include for cohort?\n"
     ]
    },
    {
     "data": {
      "application/vnd.jupyter.widget-view+json": {
       "model_id": "98daa2f0660244c289f7a7a1190e4dba",
       "version_major": 2,
       "version_minor": 0
      },
      "text/plain": [
       "Checkbox(value=True, description='Diagnosis')"
      ]
     },
     "metadata": {},
     "output_type": "display_data"
    },
    {
     "data": {
      "application/vnd.jupyter.widget-view+json": {
       "model_id": "eb1d3206097245309f30e5acd8c49078",
       "version_major": 2,
       "version_minor": 0
      },
      "text/plain": [
       "Checkbox(value=True, description='Output Events')"
      ]
     },
     "metadata": {},
     "output_type": "display_data"
    },
    {
     "data": {
      "application/vnd.jupyter.widget-view+json": {
       "model_id": "945f27ad943d4a65b38cd872d0f576c0",
       "version_major": 2,
       "version_minor": 0
      },
      "text/plain": [
       "Checkbox(value=True, description='Chart Events')"
      ]
     },
     "metadata": {},
     "output_type": "display_data"
    },
    {
     "data": {
      "application/vnd.jupyter.widget-view+json": {
       "model_id": "72fdf8f78b92460faf5df7eb79ef5684",
       "version_major": 2,
       "version_minor": 0
      },
      "text/plain": [
       "Checkbox(value=True, description='Procedures')"
      ]
     },
     "metadata": {},
     "output_type": "display_data"
    },
    {
     "data": {
      "application/vnd.jupyter.widget-view+json": {
       "model_id": "6819d1770b9741d6a63e1f5c10350a71",
       "version_major": 2,
       "version_minor": 0
      },
      "text/plain": [
       "Checkbox(value=True, description='Medications')"
      ]
     },
     "metadata": {},
     "output_type": "display_data"
    },
    {
     "data": {
      "application/vnd.jupyter.widget-view+json": {
       "model_id": "97d21a9f0bf94cf1906d61d853e6eb4c",
       "version_major": 2,
       "version_minor": 0
      },
      "text/plain": [
       "Checkbox(value=True, description='Lab Events')"
      ]
     },
     "metadata": {},
     "output_type": "display_data"
    },
    {
     "data": {
      "application/vnd.jupyter.widget-view+json": {
       "model_id": "b5038c8dd08c456396bf405d89441e1e",
       "version_major": 2,
       "version_minor": 0
      },
      "text/plain": [
       "Checkbox(value=False, description='Microbiology Events')"
      ]
     },
     "metadata": {},
     "output_type": "display_data"
    },
    {
     "name": "stdout",
     "output_type": "stream",
     "text": [
      "icu\n",
      "**Please run below cell to extract selected features**\n"
     ]
    }
   ],
   "source": [
    "print(\"Feature Selection\")\n",
    "if data_icu:\n",
    "    print(\"Which Features you want to include for cohort?\")\n",
    "    check_input1 = widgets.Checkbox(description='Diagnosis', value=True)\n",
    "    display(check_input1)\n",
    "    check_input2 = widgets.Checkbox(description='Output Events', value=True)\n",
    "    display(check_input2)\n",
    "    check_input3 = widgets.Checkbox(description='Chart Events', value=True)\n",
    "    display(check_input3)\n",
    "    check_input4 = widgets.Checkbox(description='Procedures', value=True)\n",
    "    display(check_input4)\n",
    "    check_input5 = widgets.Checkbox(description='Medications', value=True)\n",
    "    display(check_input5)\n",
    "    check_input100 = widgets.Checkbox(description='Lab Events', value=True)\n",
    "    display(check_input100)\n",
    "    check_input101 = widgets.Checkbox(description='Microbiology Events', value=False)\n",
    "    display(check_input101)\n",
    "\n",
    "    print(\"icu\")\n",
    "else:\n",
    "    print(\"Which Features you want to include for cohort?\")\n",
    "    check_input1 = widgets.Checkbox(description='Diagnosis', value=True)\n",
    "    display(check_input1)\n",
    "    check_input2 = widgets.Checkbox(description='Labs', value=True)\n",
    "    display(check_input2)\n",
    "    check_input3 = widgets.Checkbox(description='Procedures', value=True)\n",
    "    display(check_input3)\n",
    "    check_input4 = widgets.Checkbox(description='Medications', value=True )\n",
    "    display(check_input4)\n",
    "print(\"**Please run below cell to extract selected features**\")"
   ]
  },
  {
   "cell_type": "code",
   "execution_count": 54,
   "id": "420826ee-6187-4bba-8638-c58e4efc0743",
   "metadata": {},
   "outputs": [],
   "source": [
    "diag_flag=check_input1.value\n",
    "out_flag=check_input2.value\n",
    "chart_flag=check_input3.value\n",
    "proc_flag=check_input4.value\n",
    "med_flag=check_input5.value\n",
    "lab_flag=check_input100.value\n",
    "micro_flag=check_input101.value"
   ]
  },
  {
   "cell_type": "code",
   "execution_count": 61,
   "id": "05836bcb",
   "metadata": {
    "scrolled": true
   },
   "outputs": [
    {
     "name": "stdout",
     "output_type": "stream",
     "text": [
      "[EXTRACTING DIAGNOSIS DATA]\n",
      "# unique ICD-9 codes 1130\n",
      "# unique ICD-10 codes 1853\n",
      "# unique ICD-10 codes (After converting ICD-9 to ICD-10) 2067\n",
      "# unique ICD-10 codes (After clinical gruping ICD-10 codes) 695\n",
      "# Admissions:   902\n",
      "Total rows 21812\n",
      "Columns kept for diagnosis: ['subject_id', 'hadm_id', 'stay_id', 'icd_code', 'root_icd10_convert', 'root']\n",
      "[SUCCESSFULLY SAVED DIAGNOSIS DATA]\n",
      "[EXTRACTING OUTPUT EVENTS DATA]\n",
      "# Unique Events:   59\n",
      "# Admissions:   833\n",
      "Total rows 43693\n",
      "Columns kept for output events: ['subject_id', 'hadm_id', 'stay_id', 'itemid', 'charttime', 'intime', 'event_time_from_admit', 'value']\n"
     ]
    },
    {
     "name": "stderr",
     "output_type": "stream",
     "text": [
      "\r",
      "0it [00:00, ?it/s]"
     ]
    },
    {
     "name": "stdout",
     "output_type": "stream",
     "text": [
      "[SUCCESSFULLY SAVED OUTPUT EVENTS DATA]\n",
      "[EXTRACTING CHART EVENTS DATA]\n"
     ]
    },
    {
     "name": "stderr",
     "output_type": "stream",
     "text": [
      "3it [00:41, 13.98s/it]\n"
     ]
    },
    {
     "name": "stdout",
     "output_type": "stream",
     "text": [
      "# Unique Events:   681\n",
      "# Admissions:   902\n",
      "Total rows 1496896\n",
      "Columns kept for chart events: ['stay_id', 'itemid', 'event_time_from_admit', 'valuenum']\n",
      "[SUCCESSFULLY SAVED CHART EVENTS DATA]\n",
      "[EXTRACTING PROCEDURES DATA]\n",
      "# Unique Events:   120\n",
      "# Admissions:   796\n",
      "Total rows 6821\n",
      "Columns kept for procedures: ['subject_id', 'hadm_id', 'stay_id', 'itemid', 'starttime', 'intime', 'event_time_from_admit']\n",
      "[SUCCESSFULLY SAVED PROCEDURES DATA]\n",
      "[EXTRACTING MEDICATION DATA]\n",
      "# of unique type of drug:  104\n",
      "# Admissions:   731\n",
      "# Total rows 52798\n",
      "Columns kept for medication: ['subject_id', 'hadm_id', 'stay_id', 'itemid', 'starttime', 'endtime', 'start_hours_from_admit', 'stop_hours_from_admit', 'rate', 'amount', 'orderid']\n"
     ]
    },
    {
     "name": "stderr",
     "output_type": "stream",
     "text": [
      "\r",
      "0it [00:00, ?it/s]"
     ]
    },
    {
     "name": "stdout",
     "output_type": "stream",
     "text": [
      "[SUCCESSFULLY SAVED MEDICATION DATA]\n",
      "[EXTRACTING LAB EVENTS DATA]\n"
     ]
    },
    {
     "name": "stderr",
     "output_type": "stream",
     "text": [
      "2it [00:03,  1.96s/it]\n"
     ]
    },
    {
     "name": "stdout",
     "output_type": "stream",
     "text": [
      "# of unique type of lab events:  461\n",
      "# Admissions:   282\n",
      "# Total rows 167158\n",
      "Columns kept for lab events: ['subject_id', 'hadm_id', 'stay_id', 'itemid', 'charttime', 'storetime', 'valuenum', 'valueuom', 'ref_range_lower', 'ref_range_upper', 'chart_hours_from_admit', 'store_hours_from_admit']\n",
      "[SUCCESSFULLY SAVED LAB EVENTS DATA]\n"
     ]
    }
   ],
   "source": [
    "# load and preprocess the data (by dropping some columns)\n",
    "if data_icu:\n",
    "    diag_flag=check_input1.value\n",
    "    out_flag=check_input2.value\n",
    "    chart_flag=check_input3.value\n",
    "    proc_flag=check_input4.value\n",
    "    med_flag=check_input5.value\n",
    "\n",
    "    lab_flag=check_input100.value\n",
    "    micro_flag=check_input101.value\n",
    "\n",
    "    \n",
    "    #feature_icu(cohort_output, root_dir, root_dir + '/'+ version_path,diag_flag,out_flag,chart_flag,proc_flag,med_flag)\n",
    "    data = feature_icu( cohort_output = cohort_output, \n",
    "                        root_dir = root_dir, \n",
    "                        version_path = root_dir + '/'+ version_path,\n",
    "                        save_path = target_path, \n",
    "                        diag_flag = diag_flag,\n",
    "                        out_flag = out_flag,\n",
    "                        chart_flag = chart_flag,\n",
    "                        proc_flag = proc_flag,\n",
    "                        med_flag  = med_flag,\n",
    "                        lab_flag = lab_flag,\n",
    "                        micro_flag = micro_flag)\n",
    "else:\n",
    "    # not adapted yet\n",
    "    print(\"Warning: this code hasn't been checked!\")\n",
    "    diag_flag=check_input1.value\n",
    "    lab_flag=check_input2.value\n",
    "    proc_flag=check_input3.value\n",
    "    med_flag=check_input4.value\n",
    "    feature_nonicu(cohort_outputroot_dir, root_dir+ '/'+ version_path , version_path,diag_flag,lab_flag,proc_flag,med_flag)"
   ]
  },
  {
   "cell_type": "code",
   "execution_count": 57,
   "id": "bbdfb2ae",
   "metadata": {},
   "outputs": [
    {
     "data": {
      "text/html": [
       "<div>\n",
       "<style scoped>\n",
       "    .dataframe tbody tr th:only-of-type {\n",
       "        vertical-align: middle;\n",
       "    }\n",
       "\n",
       "    .dataframe tbody tr th {\n",
       "        vertical-align: top;\n",
       "    }\n",
       "\n",
       "    .dataframe thead th {\n",
       "        text-align: right;\n",
       "    }\n",
       "</style>\n",
       "<table border=\"1\" class=\"dataframe\">\n",
       "  <thead>\n",
       "    <tr style=\"text-align: right;\">\n",
       "      <th></th>\n",
       "      <th>stay_id</th>\n",
       "      <th>itemid</th>\n",
       "      <th>event_time_from_admit</th>\n",
       "      <th>valuenum</th>\n",
       "    </tr>\n",
       "  </thead>\n",
       "  <tbody>\n",
       "    <tr>\n",
       "      <th>0</th>\n",
       "      <td>32669861</td>\n",
       "      <td>220045</td>\n",
       "      <td>1 days 22:29:31</td>\n",
       "      <td>93.0</td>\n",
       "    </tr>\n",
       "    <tr>\n",
       "      <th>1</th>\n",
       "      <td>32669861</td>\n",
       "      <td>220210</td>\n",
       "      <td>1 days 22:29:31</td>\n",
       "      <td>26.0</td>\n",
       "    </tr>\n",
       "    <tr>\n",
       "      <th>2</th>\n",
       "      <td>32669861</td>\n",
       "      <td>220277</td>\n",
       "      <td>1 days 22:29:31</td>\n",
       "      <td>93.0</td>\n",
       "    </tr>\n",
       "    <tr>\n",
       "      <th>3</th>\n",
       "      <td>32669861</td>\n",
       "      <td>220179</td>\n",
       "      <td>1 days 22:30:31</td>\n",
       "      <td>128.0</td>\n",
       "    </tr>\n",
       "    <tr>\n",
       "      <th>4</th>\n",
       "      <td>32669861</td>\n",
       "      <td>220180</td>\n",
       "      <td>1 days 22:30:31</td>\n",
       "      <td>55.0</td>\n",
       "    </tr>\n",
       "    <tr>\n",
       "      <th>...</th>\n",
       "      <td>...</td>\n",
       "      <td>...</td>\n",
       "      <td>...</td>\n",
       "      <td>...</td>\n",
       "    </tr>\n",
       "    <tr>\n",
       "      <th>1496889</th>\n",
       "      <td>30259797</td>\n",
       "      <td>227442</td>\n",
       "      <td>12 days 16:33:25</td>\n",
       "      <td>4.7</td>\n",
       "    </tr>\n",
       "    <tr>\n",
       "      <th>1496890</th>\n",
       "      <td>30259797</td>\n",
       "      <td>227443</td>\n",
       "      <td>12 days 16:33:25</td>\n",
       "      <td>29.0</td>\n",
       "    </tr>\n",
       "    <tr>\n",
       "      <th>1496891</th>\n",
       "      <td>30259797</td>\n",
       "      <td>227465</td>\n",
       "      <td>12 days 16:33:25</td>\n",
       "      <td>14.2</td>\n",
       "    </tr>\n",
       "    <tr>\n",
       "      <th>1496892</th>\n",
       "      <td>30259797</td>\n",
       "      <td>227466</td>\n",
       "      <td>12 days 16:33:25</td>\n",
       "      <td>28.1</td>\n",
       "    </tr>\n",
       "    <tr>\n",
       "      <th>1496893</th>\n",
       "      <td>30259797</td>\n",
       "      <td>227467</td>\n",
       "      <td>12 days 16:33:25</td>\n",
       "      <td>1.3</td>\n",
       "    </tr>\n",
       "  </tbody>\n",
       "</table>\n",
       "<p>1496894 rows × 4 columns</p>\n",
       "</div>"
      ],
      "text/plain": [
       "          stay_id  itemid event_time_from_admit  valuenum\n",
       "0        32669861  220045       1 days 22:29:31      93.0\n",
       "1        32669861  220210       1 days 22:29:31      26.0\n",
       "2        32669861  220277       1 days 22:29:31      93.0\n",
       "3        32669861  220179       1 days 22:30:31     128.0\n",
       "4        32669861  220180       1 days 22:30:31      55.0\n",
       "...           ...     ...                   ...       ...\n",
       "1496889  30259797  227442      12 days 16:33:25       4.7\n",
       "1496890  30259797  227443      12 days 16:33:25      29.0\n",
       "1496891  30259797  227465      12 days 16:33:25      14.2\n",
       "1496892  30259797  227466      12 days 16:33:25      28.1\n",
       "1496893  30259797  227467      12 days 16:33:25       1.3\n",
       "\n",
       "[1496894 rows x 4 columns]"
      ]
     },
     "execution_count": 57,
     "metadata": {},
     "output_type": "execute_result"
    }
   ],
   "source": [
    "# look at the data \n",
    "data['chart']"
   ]
  },
  {
   "cell_type": "markdown",
   "id": "aboriginal-upset",
   "metadata": {},
   "source": [
    "## 3. CLINICAL GROUPING\n",
    "Below you will have option to clinically group diagnosis and medications.\n",
    "Grouping medical codes will reduce dimensional space of features.\n",
    "\n",
    "Default options selected below will group medical codes to reduce feature dimension space.\n",
    "\n",
    "**Please run below cell to select preprocessing for diferent features**"
   ]
  },
  {
   "cell_type": "code",
   "execution_count": 62,
   "id": "partial-manhattan",
   "metadata": {},
   "outputs": [
    {
     "name": "stdout",
     "output_type": "stream",
     "text": [
      "Do you want to group ICD 10 DIAG codes ?\n"
     ]
    },
    {
     "data": {
      "application/vnd.jupyter.widget-view+json": {
       "model_id": "5ef106ee1eaf44f2a18880c5f8ffecbe",
       "version_major": 2,
       "version_minor": 0
      },
      "text/plain": [
       "RadioButtons(index=2, layout=Layout(width='100%'), options=('Keep both ICD-9 and ICD-10 codes', 'Convert ICD-9…"
      ]
     },
     "metadata": {},
     "output_type": "display_data"
    },
    {
     "name": "stdout",
     "output_type": "stream",
     "text": [
      "**Please run below cell to perform feature preprocessing**\n"
     ]
    }
   ],
   "source": [
    "if data_icu:\n",
    "    if diag_flag:\n",
    "        print(\"Do you want to group ICD 10 DIAG codes ?\")\n",
    "        radio_input4 = widgets.RadioButtons(options=['Keep both ICD-9 and ICD-10 codes','Convert ICD-9 to ICD-10 codes','Convert ICD-9 to ICD-10 and group ICD-10 codes'],value='Convert ICD-9 to ICD-10 and group ICD-10 codes',layout={'width': '100%'})\n",
    "        display(radio_input4)   \n",
    "    \n",
    "else:\n",
    "    if diag_flag:\n",
    "        print(\"Do you want to group ICD 10 DIAG codes ?\")\n",
    "        radio_input4 = widgets.RadioButtons(options=['Keep both ICD-9 and ICD-10 codes','Convert ICD-9 to ICD-10 codes','Convert ICD-9 to ICD-10 and group ICD-10 codes'],value='Convert ICD-9 to ICD-10 and group ICD-10 codes',layout={'width': '100%'})\n",
    "        display(radio_input4)     \n",
    "    if med_flag:\n",
    "        print(\"Do you want to group Medication codes to use Non propietary names?\")\n",
    "        radio_input5 = widgets.RadioButtons(options=['Yes','No'],value='Yes',layout={'width': '100%'})\n",
    "        display(radio_input5)\n",
    "    if proc_flag:\n",
    "        print(\"Which ICD codes for Procedures you want to keep in data?\")\n",
    "        radio_input6 = widgets.RadioButtons(options=['ICD-9 and ICD-10','ICD-10'],value='ICD-10',layout={'width': '100%'})\n",
    "        display(radio_input6)\n",
    "print(\"**Please run below cell to perform feature preprocessing**\")"
   ]
  },
  {
   "cell_type": "code",
   "execution_count": 63,
   "id": "descending-symphony",
   "metadata": {},
   "outputs": [
    {
     "name": "stdout",
     "output_type": "stream",
     "text": [
      "[PROCESSING DIAGNOSIS DATA]\n",
      "Total number of rows 21238\n",
      "[SUCCESSFULLY SAVED DIAGNOSIS DATA]\n"
     ]
    }
   ],
   "source": [
    "group_diag=False\n",
    "group_med=False\n",
    "group_proc=False\n",
    "if data_icu:\n",
    "    if diag_flag:\n",
    "        group_diag=radio_input4.value\n",
    "    preprocess_features_icu(cohort_output = cohort_output, \n",
    "                            save_path = target_path, \n",
    "                            diag_flag = diag_flag, \n",
    "                            group_diag = group_diag,\n",
    "                            chart_flag = False, \n",
    "                            clean_chart = False, \n",
    "                            impute_outlier_chart = False,  \n",
    "                            thresh = 0, \n",
    "                            left_thresh= 0)\n",
    "else:\n",
    "    # not adapted yet\n",
    "    print(\"Warning: this code hasn't been checked!\")\n",
    "    if diag_flag:\n",
    "        group_diag=radio_input4.value\n",
    "    if med_flag:\n",
    "        group_med=radio_input5.value\n",
    "    if proc_flag:\n",
    "        group_proc=radio_input6.value\n",
    "    preprocess_features_hosp(cohort_output, diag_flag,proc_flag,med_flag,False,group_diag,group_med,group_proc,False,False,0,0)"
   ]
  },
  {
   "cell_type": "markdown",
   "id": "immediate-captain",
   "metadata": {},
   "source": [
    "### 4. SUMMARY OF FEATURES\n",
    "\n",
    "This step will generate summary of all features extracted so far.<br>\n",
    "It will save summary files in **./data/summary/**<br>\n",
    "- These files provide summary about **mean frequency** of medical codes per admission.<br>\n",
    "- It also provides **total occurrence count** of each medical code.<br>\n",
    "- For labs and chart events it will also provide <br>**missing %** which tells how many rows for a certain medical code has missing value.\n",
    "\n",
    "Please use this information to further refine your cohort by selecting <br>which medical codes in each feature you want to keep and <br>which codes you would like to remove for downstream analysis tasks.\n",
    "\n",
    "**Please run below cell to generate summary files**"
   ]
  },
  {
   "cell_type": "code",
   "execution_count": 64,
   "id": "thick-residence",
   "metadata": {},
   "outputs": [
    {
     "name": "stdout",
     "output_type": "stream",
     "text": [
      "[GENERATING FEATURE SUMMARY]\n",
      "[SUCCESSFULLY SAVED FEATURE SUMMARY]\n"
     ]
    }
   ],
   "source": [
    "if data_icu:\n",
    "    #generate_summary_icu(diag_flag,proc_flag,med_flag,out_flag,chart_flag)\n",
    "    generate_summary_icu(diag_flag,proc_flag,med_flag,out_flag,chart_flag, lab_flag, micro_flag)\n",
    "else:\n",
    "    generate_summary_hosp(diag_flag,proc_flag,med_flag,lab_flag)"
   ]
  },
  {
   "cell_type": "markdown",
   "id": "northern-architecture",
   "metadata": {},
   "source": [
    "## 5. Feature Selection\n",
    "\n",
    "based on the files generated in previous step and other infromation gathered by you,<br>\n",
    "Please select which medical codes you want to include in this study.\n",
    "\n",
    "Please run below cell to to select options for which features you want to perform feature selection.\n",
    "\n",
    "- Select **Yes** if you want to select a subset of medical codes for that feature and<br> **edit** the corresponding feature file for it.\n",
    "- Select **No** if you want to keep all the codes in a feature."
   ]
  },
  {
   "cell_type": "code",
   "execution_count": 65,
   "id": "immediate-seafood",
   "metadata": {},
   "outputs": [
    {
     "name": "stdout",
     "output_type": "stream",
     "text": [
      "Do you want to do Feature Selection for Diagnosis \n",
      " (If yes, please edit list of codes in ./data/summary/diag_features.csv)\n"
     ]
    },
    {
     "data": {
      "application/vnd.jupyter.widget-view+json": {
       "model_id": "fb3d3f01de614c4a99d50e14c7446e72",
       "version_major": 2,
       "version_minor": 0
      },
      "text/plain": [
       "RadioButtons(index=1, options=('Yes', 'No'), value='No')"
      ]
     },
     "metadata": {},
     "output_type": "display_data"
    },
    {
     "name": "stdout",
     "output_type": "stream",
     "text": [
      "Do you want to do Feature Selection for Medication \n",
      " (If yes, please edit list of codes in ./data/summary/med_features.csv)\n"
     ]
    },
    {
     "data": {
      "application/vnd.jupyter.widget-view+json": {
       "model_id": "54ca7c1f0d614bb386a847fec4162818",
       "version_major": 2,
       "version_minor": 0
      },
      "text/plain": [
       "RadioButtons(index=1, options=('Yes', 'No'), value='No')"
      ]
     },
     "metadata": {},
     "output_type": "display_data"
    },
    {
     "name": "stdout",
     "output_type": "stream",
     "text": [
      "Do you want to do Feature Selection for Procedures \n",
      " (If yes, please edit list of codes in ./data/summary/proc_features.csv)\n"
     ]
    },
    {
     "data": {
      "application/vnd.jupyter.widget-view+json": {
       "model_id": "b89beed889984cd199118a7d8d19cbff",
       "version_major": 2,
       "version_minor": 0
      },
      "text/plain": [
       "RadioButtons(index=1, options=('Yes', 'No'), value='No')"
      ]
     },
     "metadata": {},
     "output_type": "display_data"
    },
    {
     "name": "stdout",
     "output_type": "stream",
     "text": [
      "Do you want to do Feature Selection for Output event \n",
      " (If yes, please edit list of codes in ./data/summary/out_features.csv)\n"
     ]
    },
    {
     "data": {
      "application/vnd.jupyter.widget-view+json": {
       "model_id": "c30d945debaf4d9c95f54ed358628ab5",
       "version_major": 2,
       "version_minor": 0
      },
      "text/plain": [
       "RadioButtons(index=1, options=('Yes', 'No'), value='No')"
      ]
     },
     "metadata": {},
     "output_type": "display_data"
    },
    {
     "name": "stdout",
     "output_type": "stream",
     "text": [
      "Do you want to do Feature Selection for Chart events \n",
      " (If yes, please edit list of codes in ./data/summary/chart_features.csv)\n"
     ]
    },
    {
     "data": {
      "application/vnd.jupyter.widget-view+json": {
       "model_id": "4a90e30a6c784b97afb4913a7f97cb2b",
       "version_major": 2,
       "version_minor": 0
      },
      "text/plain": [
       "RadioButtons(index=1, options=('Yes', 'No'), value='No')"
      ]
     },
     "metadata": {},
     "output_type": "display_data"
    },
    {
     "name": "stdout",
     "output_type": "stream",
     "text": [
      "**Please run below cell to perform feature selection**\n"
     ]
    }
   ],
   "source": [
    "if data_icu:\n",
    "    if diag_flag:\n",
    "        print(\"Do you want to do Feature Selection for Diagnosis \\n (If yes, please edit list of codes in ./data/summary/diag_features.csv)\")\n",
    "        radio_input4 = widgets.RadioButtons(options=['Yes','No'],value='No')\n",
    "        display(radio_input4)       \n",
    "    if med_flag:\n",
    "        print(\"Do you want to do Feature Selection for Medication \\n (If yes, please edit list of codes in ./data/summary/med_features.csv)\")\n",
    "        radio_input5 = widgets.RadioButtons(options=['Yes','No'],value='No')\n",
    "        display(radio_input5)   \n",
    "    if proc_flag:\n",
    "        print(\"Do you want to do Feature Selection for Procedures \\n (If yes, please edit list of codes in ./data/summary/proc_features.csv)\")\n",
    "        radio_input6 = widgets.RadioButtons(options=['Yes','No'],value='No')\n",
    "        display(radio_input6)   \n",
    "    if out_flag:\n",
    "        print(\"Do you want to do Feature Selection for Output event \\n (If yes, please edit list of codes in ./data/summary/out_features.csv)\")\n",
    "        radio_input7 = widgets.RadioButtons(options=['Yes','No'],value='No')\n",
    "        display(radio_input7)  \n",
    "    if chart_flag:\n",
    "        print(\"Do you want to do Feature Selection for Chart events \\n (If yes, please edit list of codes in ./data/summary/chart_features.csv)\")\n",
    "        radio_input8 = widgets.RadioButtons(options=['Yes','No'],value='No')\n",
    "        display(radio_input8)  \n",
    "else:\n",
    "    if diag_flag:\n",
    "        print(\"Do you want to do Feature Selection for Diagnosis \\n (If yes, please edit list of codes in ./data/summary/diag_features.csv)\")\n",
    "        radio_input4 = widgets.RadioButtons(options=['Yes','No'],value='No')\n",
    "        display(radio_input4)         \n",
    "    if med_flag:\n",
    "        print(\"Do you want to do Feature Selection for Medication \\n (If yes, please edit list of codes in ./data/summary/med_features.csv)\")\n",
    "        radio_input5 = widgets.RadioButtons(options=['Yes','No'],value='No')\n",
    "        display(radio_input5)   \n",
    "    if proc_flag:\n",
    "        print(\"Do you want to do Feature Selection for Procedures \\n (If yes, please edit list of codes in ./data/summary/proc_features.csv)\")\n",
    "        radio_input6 = widgets.RadioButtons(options=['Yes','No'],value='No')\n",
    "        display(radio_input6)   \n",
    "    if lab_flag:\n",
    "        print(\"Do you want to do Feature Selection for Labs \\n (If yes, please edit list of codes in ./data/summary/lab_features.csv)\")\n",
    "        radio_input7 = widgets.RadioButtons(options=['Yes','No'],value='No')\n",
    "        display(radio_input7)   \n",
    "print(\"**Please run below cell to perform feature selection**\")"
   ]
  },
  {
   "cell_type": "code",
   "execution_count": 66,
   "id": "perceived-python",
   "metadata": {},
   "outputs": [],
   "source": [
    "select_diag=False\n",
    "select_med=False\n",
    "select_proc=False\n",
    "select_lab=False\n",
    "select_out=False\n",
    "select_chart=False\n",
    "\n",
    "if data_icu:\n",
    "    if diag_flag:\n",
    "        select_diag=radio_input4.value == 'Yes'\n",
    "    if med_flag:\n",
    "        select_med=radio_input5.value == 'Yes'\n",
    "    if proc_flag:\n",
    "        select_proc=radio_input6.value == 'Yes'\n",
    "    if out_flag:\n",
    "        select_out=radio_input7.value == 'Yes'\n",
    "    if chart_flag:\n",
    "        select_chart=radio_input8.value == 'Yes'\n",
    "    features_selection_icu(cohort_output, diag_flag,proc_flag,med_flag,out_flag, chart_flag,select_diag,select_med,select_proc,select_out,select_chart)\n",
    "else:\n",
    "    if diag_flag:\n",
    "        select_diag=radio_input4.value == 'Yes'\n",
    "    if med_flag:\n",
    "        select_med=radio_input5.value == 'Yes'\n",
    "    if proc_flag:\n",
    "        select_proc=radio_input6.value == 'Yes'\n",
    "    if lab_flag:\n",
    "        select_lab=radio_input7.value == 'Yes'\n",
    "    features_selection_hosp(cohort_output, diag_flag,proc_flag,med_flag,lab_flag,select_diag,select_med,select_proc,select_lab)"
   ]
  },
  {
   "cell_type": "markdown",
   "id": "comfortable-director",
   "metadata": {},
   "source": [
    "## 6. CLEANING OF FEATURES\n",
    "Below you will have option to to clean lab and chart events by performing outlier removal and unit conversion.\n",
    "\n",
    "Outlier removal is performed to remove values higher than selected **right threshold** percentile and lower than selected **left threshold** percentile among all values for each itemid. \n",
    "\n",
    "**Please run below cell to select preprocessing for diferent features**"
   ]
  },
  {
   "cell_type": "code",
   "execution_count": 67,
   "id": "moderate-forum",
   "metadata": {},
   "outputs": [
    {
     "name": "stdout",
     "output_type": "stream",
     "text": [
      "Outlier removal in values of chart events ?\n"
     ]
    },
    {
     "data": {
      "application/vnd.jupyter.widget-view+json": {
       "model_id": "b6f6308e9bb14a499428dcc31426c4df",
       "version_major": 2,
       "version_minor": 0
      },
      "text/plain": [
       "RadioButtons(layout=Layout(height='40px', width='100%'), options=('No outlier detection', 'Impute Outlier (def…"
      ]
     },
     "metadata": {},
     "output_type": "display_data"
    },
    {
     "data": {
      "application/vnd.jupyter.widget-view+json": {
       "model_id": "8a567aff78c343ea847572c188f36cb3",
       "version_major": 2,
       "version_minor": 0
      },
      "text/plain": [
       "HBox(children=(Label(value='Right Outlier Threshold', layout=Layout(width='150px')), IntSlider(value=98, layou…"
      ]
     },
     "metadata": {},
     "output_type": "display_data"
    },
    {
     "data": {
      "application/vnd.jupyter.widget-view+json": {
       "model_id": "5cceab17733b444f9a7adbc56be575ab",
       "version_major": 2,
       "version_minor": 0
      },
      "text/plain": [
       "HBox(children=(Label(value='Left Outlier Threshold', layout=Layout(width='150px')), IntSlider(value=0, layout=…"
      ]
     },
     "metadata": {},
     "output_type": "display_data"
    },
    {
     "name": "stdout",
     "output_type": "stream",
     "text": [
      "**Please run below cell to perform feature preprocessing**\n"
     ]
    }
   ],
   "source": [
    "if data_icu:\n",
    "    if chart_flag:\n",
    "        print(\"Outlier removal in values of chart events ?\")\n",
    "        layout = widgets.Layout(width='100%', height='40px') #set width and height\n",
    "\n",
    "        radio_input5 = widgets.RadioButtons(options=['No outlier detection','Impute Outlier (default:98)','Remove outliers (default:98)'],value='No outlier detection',layout=layout)\n",
    "        display(radio_input5)\n",
    "        outlier=widgets.IntSlider(\n",
    "        value=98,\n",
    "        min=90,\n",
    "        max=99,\n",
    "        step=1,\n",
    "        disabled=False,layout={'width': '100%'}\n",
    "        )\n",
    "        left_outlier=widgets.IntSlider(\n",
    "        value=0,\n",
    "        min=0,\n",
    "        max=10,\n",
    "        step=1,\n",
    "        disabled=False,layout={'width': '100%'}\n",
    "        )\n",
    "        #display(oulier)\n",
    "        display(widgets.HBox([widgets.Label('Right Outlier Threshold',layout={'width': '150px'}), outlier]))\n",
    "        display(widgets.HBox([widgets.Label('Left Outlier Threshold',layout={'width': '150px'}), left_outlier]))\n",
    "    \n",
    "else:      \n",
    "    if lab_flag:\n",
    "        print(\"Outlier removal in values of lab events ?\")\n",
    "        layout = widgets.Layout(width='100%', height='40px') #set width and height\n",
    "\n",
    "        radio_input7 = widgets.RadioButtons(options=['No outlier detection','Impute Outlier (default:98)','Remove outliers (default:98)'],value='No outlier detection',layout=layout)\n",
    "        display(radio_input7)\n",
    "        outlier=widgets.IntSlider(\n",
    "        value=98,\n",
    "        min=90,\n",
    "        max=99,\n",
    "        step=1,\n",
    "        disabled=False,layout={'width': '100%'}\n",
    "        )\n",
    "        left_outlier=widgets.IntSlider(\n",
    "        value=0,\n",
    "        min=0,\n",
    "        max=10,\n",
    "        step=1,\n",
    "        disabled=False,layout={'width': '100%'}\n",
    "        )\n",
    "        #display(oulier)\n",
    "        display(widgets.HBox([widgets.Label('Right Outlier Threshold',layout={'width': '150px'}), outlier]))\n",
    "        display(widgets.HBox([widgets.Label('Left Outlier Threshold',layout={'width': '150px'}), left_outlier]))\n",
    "print(\"**Please run below cell to perform feature preprocessing**\")"
   ]
  },
  {
   "cell_type": "code",
   "execution_count": 69,
   "id": "impossible-mailman",
   "metadata": {},
   "outputs": [],
   "source": [
    "thresh=0\n",
    "if data_icu:\n",
    "    if chart_flag:\n",
    "        clean_chart=radio_input5.value!='No outlier detection'\n",
    "        impute_outlier_chart=radio_input5.value=='Impute Outlier (default:98)'\n",
    "        thresh=outlier.value\n",
    "        left_thresh=left_outlier.value\n",
    "    preprocess_features_icu(cohort_output = cohort_output, \n",
    "                            save_path = target_path, \n",
    "                            diag_flag = False, \n",
    "                            group_diag = False,\n",
    "                            chart_flag = chart_flag,\n",
    "                            clean_chart = clean_chart,\n",
    "                            impute_outlier_chart = impute_outlier_chart,\n",
    "                            thresh = thresh,\n",
    "                            left_thresh = left_thresh)\n",
    "else:\n",
    "    # not adapted yet\n",
    "    print(\"Warning: this code hasn't been checked!\")\n",
    "    if lab_flag:\n",
    "        clean_lab=radio_input7.value!='No outlier detection'\n",
    "        impute_outlier=radio_input7.value=='Impute Outlier (default:98)'\n",
    "        thresh=outlier.value\n",
    "        left_thresh=left_outlier.value\n",
    "    preprocess_features_hosp(cohort_output, False,False,False,lab_flag,False,False,False,clean_lab,impute_outlier,thresh,left_thresh)"
   ]
  },
  {
   "cell_type": "markdown",
   "id": "8c0c4c60",
   "metadata": {},
   "source": [
    "## Visualize the data\n",
    "Before encoding the data into time-series format, we can first load and visualize it to understand it better"
   ]
  },
  {
   "cell_type": "code",
   "execution_count": 81,
   "id": "8ba669f1",
   "metadata": {},
   "outputs": [],
   "source": [
    "from data_loading.load_preprocessed_data import DataLoader\n",
    "\n",
    "#data_loader = DataLoader(root_dir, cohort_output,data_mort,data_admn,data_los,diag_flag,proc_flag,out_flag,chart_flag,med_flag, lab_flag, micro_flag,impute, include,bucket,predW)\n",
    "data_loader = DataLoader(root_dir = root_dir, \n",
    "                         cohort_output = cohort_output,\n",
    "                         if_mort = data_mort,\n",
    "                         if_admn = data_admn,\n",
    "                         if_los = data_los,\n",
    "                         feat_cond = diag_flag,\n",
    "                         feat_proc = proc_flag,\n",
    "                         feat_out = out_flag,\n",
    "                         feat_chart = chart_flag,\n",
    "                         feat_med = med_flag, \n",
    "                         feat_lab = lab_flag, \n",
    "                         feat_micro = micro_flag,\n",
    "                         impute  = 0)"
   ]
  },
  {
   "cell_type": "code",
   "execution_count": 82,
   "id": "392d9364",
   "metadata": {},
   "outputs": [
    {
     "name": "stdout",
     "output_type": "stream",
     "text": [
      "[ READ ADM FEATURES ]\n",
      "[ ======READING DIAGNOSIS ]\n",
      "[ ======READING PROCEDURES ]\n",
      "[ ======READING OUT EVENTS ]\n"
     ]
    },
    {
     "name": "stderr",
     "output_type": "stream",
     "text": [
      "\r",
      "0it [00:00, ?it/s]"
     ]
    },
    {
     "name": "stdout",
     "output_type": "stream",
     "text": [
      "[ ======READING CHART EVENTS ]\n"
     ]
    },
    {
     "name": "stderr",
     "output_type": "stream",
     "text": [
      "1it [00:08,  8.60s/it]\n"
     ]
    },
    {
     "name": "stdout",
     "output_type": "stream",
     "text": [
      "[ ======READING MEDICATIONS ]\n",
      "[ ======READING LAB EVENTS ]\n",
      "[ READ ALL FEATURES ]\n",
      "[ PROCESSED TIME SERIES TO EQUAL LENGTH  ]\n",
      "Loaded the data for:  dict_keys(['data', 'cond', 'cond_per_adm', 'meds', 'proc', 'out', 'chart', 'lab'])\n"
     ]
    }
   ],
   "source": [
    "# load each table in a dictionary \n",
    "dataset = data_loader.load()\n",
    "print(\"Loaded the data for: \", dataset.keys())"
   ]
  },
  {
   "cell_type": "code",
   "execution_count": 93,
   "id": "a85bc436",
   "metadata": {},
   "outputs": [
    {
     "data": {
      "text/plain": [
       "(718,)"
      ]
     },
     "execution_count": 93,
     "metadata": {},
     "output_type": "execute_result"
    }
   ],
   "source": [
    "# now we can look at individual tables\n",
    "dataset['data']['stay_id'].unique().shape"
   ]
  },
  {
   "cell_type": "markdown",
   "id": "independent-academy",
   "metadata": {},
   "source": [
    "## 7. Time-Series Representation\n",
    "In this section, please choose how you want to process and represent time-series data.\n",
    "\n",
    "- First option is to select the length of time-series data you want to include for this study. (Default is 72 hours)\n",
    "\n",
    "- Second option is to select bucket size which tells in what size time windows you want to divide your time-series.<br>\n",
    "For example, if you select **2** bucket size, it wil aggregate data for every 2 hours and <br>a time-series of length 24 hours will be represented as time-series with 12 time-windows <br>where data for every 2 hours is agggregated from original raw time-series.\n",
    "\n",
    "During this step, we will also save the time-series data in data dictionaries in the format that can be directly used for following deep learning analysis.\n",
    "\n",
    "### Imputation\n",
    "You can also choose if you want to impute lab/chart values. The imputation will be done by froward fill and mean or median imputation.<br>\n",
    "Values will be forward fill first and if no value exists for that admission we will use mean or median value for the patient.\n",
    "\n",
    "The data dictionaries will be saved in **./data/dict/**\n",
    "\n",
    "Please refer the readme to know the structure of data dictionaries.\n",
    "\n",
    "**Please run below cell to select time-series representation**"
   ]
  },
  {
   "cell_type": "code",
   "execution_count": null,
   "id": "mechanical-three",
   "metadata": {},
   "outputs": [],
   "source": [
    "print(\"=======Time-series Data Represenation=======\")\n",
    "\n",
    "print(\"Length of data to be included for time-series prediction ?\")\n",
    "if(data_mort):\n",
    "    radio_input8 = widgets.RadioButtons(options=['First 72 hours','First 48 hours','First 24 hours','Custom'],value='First 72 hours')\n",
    "    display(radio_input8)\n",
    "    text2=widgets.IntSlider(\n",
    "    value=72,\n",
    "    min=24,\n",
    "    max=72,\n",
    "    step=1,\n",
    "    description='Fisrt',\n",
    "    disabled=False\n",
    "    )\n",
    "    display(widgets.HBox([widgets.Label('Fisrt (in hours):',layout={'width': '150px'}), text2]))\n",
    "elif(data_admn):\n",
    "    radio_input8 = widgets.RadioButtons(options=['Last 72 hours','Last 48 hours','Last 24 hours','Custom'],value='Last 72 hours')\n",
    "    display(radio_input8)\n",
    "    text2=widgets.IntSlider(\n",
    "    value=72,\n",
    "    min=24,\n",
    "    max=72,\n",
    "    step=1,\n",
    "    description='Last',\n",
    "    disabled=False\n",
    "    )\n",
    "    display(widgets.HBox([widgets.Label('Last (in hours):',layout={'width': '150px'}), text2]))\n",
    "elif(data_los):\n",
    "    radio_input8 = widgets.RadioButtons(options=['First 12 hours','First 24 hours','Custom'],value='First 24 hours')\n",
    "    display(radio_input8)\n",
    "    text2=widgets.IntSlider(\n",
    "    value=72,\n",
    "    min=12,\n",
    "    max=72,\n",
    "    step=1,\n",
    "    description='First',\n",
    "    disabled=False\n",
    "    )\n",
    "    display(widgets.HBox([widgets.Label('Fisrt (in hours):',layout={'width': '150px'}), text2]))\n",
    "    \n",
    "    \n",
    "print(\"What time bucket size you want to choose ?\")\n",
    "radio_input7 = widgets.RadioButtons(options=['1 hour','2 hour','3 hour','4 hour','5 hour','Custom'],value='1 hour')\n",
    "display(radio_input7)\n",
    "text1=widgets.IntSlider(\n",
    "    value=1,\n",
    "    min=1,\n",
    "    max=6,\n",
    "    step=1,\n",
    "    disabled=False\n",
    "    )\n",
    "#display(text1)\n",
    "display(widgets.HBox([widgets.Label('Bucket Size (in hours):',layout={'width': '150px'}), text1]))\n",
    "print(\"Do you want to forward fill and mean or median impute lab/chart values to form continuous data signal?\")\n",
    "radio_impute = widgets.RadioButtons(options=['No Imputation', 'forward fill and mean','forward fill and median'],value='No Imputation')\n",
    "display(radio_impute)   \n",
    "\n",
    "radio_input6 = widgets.RadioButtons(options=['0 hours','2 hours','4 hours','6 hours'],value='0 hours')\n",
    "if(data_mort):\n",
    "    print(\"If you have choosen mortality prediction task, then what prediction window length you want to keep?\")\n",
    "    radio_input6 = widgets.RadioButtons(options=['2 hours','4 hours','6 hours','8 hours','Custom'],value='2 hours')\n",
    "    display(radio_input6)\n",
    "    text3=widgets.IntSlider(\n",
    "    value=2,\n",
    "    min=2,\n",
    "    max=8,\n",
    "    step=1,\n",
    "    disabled=False\n",
    "    )\n",
    "    display(widgets.HBox([widgets.Label('Prediction window (in hours)',layout={'width': '180px'}), text3]))\n",
    "print(\"**Please run below cell to perform time-series represenation and save in data dictionaries**\")"
   ]
  },
  {
   "cell_type": "code",
   "execution_count": null,
   "id": "indie-appendix",
   "metadata": {},
   "outputs": [],
   "source": [
    "if (radio_input6.value=='Custom'):\n",
    "    predW=int(text3.value)\n",
    "else:\n",
    "    predW=int(radio_input6.value[0].strip())\n",
    "if (radio_input7.value=='Custom'):\n",
    "    bucket=int(text1.value)\n",
    "else:\n",
    "    bucket=int(radio_input7.value[0].strip())\n",
    "if (radio_input8.value=='Custom'):\n",
    "    include=int(text2.value)\n",
    "else:\n",
    "    include=int(radio_input8.value.split()[1])\n",
    "if (radio_impute.value=='forward fill and mean'):\n",
    "    impute='Mean'\n",
    "elif (radio_impute.value=='forward fill and median'):\n",
    "    impute='Median'\n",
    "else:\n",
    "    impute=False\n",
    "\n",
    "if data_icu:\n",
    "    gen=data_generation_icu.Generator(root_dir, cohort_output,data_mort,data_admn,data_los,diag_flag,proc_flag,out_flag,chart_flag,med_flag, lab_flag, micro_flag,impute,include,bucket,predW)\n",
    "    #gen=data_generation_icu.Generator(cohort_output,data_mort,diag_flag,False,False,chart_flag,False,impute,include,bucket,predW)\n",
    "    #if chart_flag:\n",
    "    #    gen=data_generation_icu.Generator(cohort_output,data_mort,False,False,False,chart_flag,False,impute,include,bucket,predW)\n",
    "else:\n",
    "    gen=data_generation.Generator(root_dir, cohort_output,data_mort,data_admn,data_los,diag_flag,lab_flag,proc_flag,med_flag,impute,include,bucket,predW)"
   ]
  },
  {
   "cell_type": "markdown",
   "id": "f7c3221f",
   "metadata": {},
   "source": [
    "## Extract acute kidney injury information"
   ]
  },
  {
   "cell_type": "code",
   "execution_count": null,
   "id": "bfb47404",
   "metadata": {},
   "outputs": [],
   "source": [
    "def extract_aki(out_df, charts_df):\n",
    "    \"\"\"\n",
    "    Extract the acute kidney injury information to compute the label, based on urine output.\n",
    "    \n",
    "    Parameters:\n",
    "    - out_df: DataFrame containing output events.\n",
    "    - charts_df: DataFrame containing chart events.\n",
    "    \n",
    "    Returns:\n",
    "    - Combined DataFrame with filtered rows from both input DataFrames.\n",
    "    \"\"\"\n",
    "\n",
    "    # Step 1: filter output events\n",
    "    itemids_out = [\"226627\", \"226631\", \"227488\", \"227489\"] \n",
    "    out_aki = out_df[out_df['itemid'].isin(itemids_out)]\n",
    "\n",
    "    # check if all ids exist\n",
    "    print(\"Unique ids within output data: \", out_aki['itemid'].unique())\n",
    "    \n",
    "\n",
    "    # Step 2: filter charts\n",
    "    itemids_chart = [\"224639\", \"226512\", \"226531\"] \n",
    "    charts_aki = charts_df[charts_df['itemid'].isin(itemids_chart)]\n",
    "    \n",
    "    # check if all ids exist\n",
    "    print(\"Unique ids within chart data: \", charts_aki['itemid'].unique())\n",
    "\n",
    "    # Step 3: combine the two tables and keep 'stay_id', 'itemid', 'start_time', and 'value'/'valuenum'\n",
    "    combined_aki = pd.concat([out_aki[['stay_id', 'itemid', 'start_time', 'value']],\n",
    "                              charts_aki[['stay_id', 'itemid', 'start_time', 'valuenum']].rename(columns={'valuenum': 'value'})])\n",
    "\n",
    "    # Step 4: filter charts\n",
    "    itemids_all = [\"226627\", \"226631\", \"227488\", \"227489\", \"224639\", \"226512\", \"226531\"] \n",
    "    print(\"Unique ids within chart data: \", combined_aki['itemid'].unique())\n",
    "    \n",
    "    return combined_aki"
   ]
  },
  {
   "cell_type": "code",
   "execution_count": 139,
   "id": "8417a09e",
   "metadata": {},
   "outputs": [
    {
     "name": "stdout",
     "output_type": "stream",
     "text": [
      "Unique ids within output data:  [226631 227488 227489 226627]\n",
      "Unique ids within chart data:  [226531 224639 226512]\n",
      "Unique ids within chart data:  [226631 227488 227489 226627 226531 224639 226512]\n"
     ]
    }
   ],
   "source": [
    "combined_aki = extract_aki(dataset['out'], dataset['chart'])"
   ]
  },
  {
   "cell_type": "code",
   "execution_count": 134,
   "id": "acf23d96",
   "metadata": {},
   "outputs": [],
   "source": [
    "import pandas as pd\n",
    "\n",
    "def extract_patient_weights(df):\n",
    "    # Define the itemids for weight\n",
    "    weight_itemids = [224639, 226512, 226531]\n",
    "    \n",
    "    # Filter the DataFrame for the relevant itemids\n",
    "    weights_df = df[df['itemid'].isin(weight_itemids)]\n",
    "    \n",
    "    # Convert the weight from pounds to kilograms for the last itemid\n",
    "    pound_to_kg_factor = 0.453592\n",
    "    weights_df.loc[weights_df['itemid'] == 226531, 'value'] = weights_df.loc[weights_df['itemid'] == 226531, 'value'] * pound_to_kg_factor\n",
    "    \n",
    "    # Calculate the average weights for each stay_id\n",
    "    averages_df = weights_df.groupby('stay_id').agg({\n",
    "        'value': 'mean'\n",
    "    }).reset_index()\n",
    "    \n",
    "    # Rename the 'value' column to indicate it's the average weight\n",
    "    averages_df.rename(columns={'value': 'weight'}, inplace=True)\n",
    "    \n",
    "    # Pivot the DataFrame to create a new table with stay_id and weight versions\n",
    "    # This step is no longer necessary for the final output\n",
    "    # weights_pivot = weights_df.pivot_table(index='stay_id', columns='itemid', values='value', aggfunc='mean')  # Use mean to average the weights\n",
    "    \n",
    "    # Check the differences between the weight columns\n",
    "    if len(weights_df.columns) > 2:  # Ensure there are at least two weight columns to compare\n",
    "        for i in range(len(weight_itemids) - 1):  # Loop through itemids\n",
    "            item1 = weight_itemids[i]\n",
    "            item2 = weight_itemids[i + 1]\n",
    "            diff = abs(weights_df.loc[weights_df['itemid'] == item1, 'value'].mean() - weights_df.loc[weights_df['itemid'] == item2, 'value'].mean())\n",
    "            if diff > 15:\n",
    "                print(f\"Warning: Differences greater than 15 found between itemids {item1} and {item2}\")\n",
    "    \n",
    "    # Return only the average weight DataFrame\n",
    "    return averages_df\n"
   ]
  },
  {
   "cell_type": "code",
   "execution_count": 135,
   "id": "2ed2f7c9",
   "metadata": {},
   "outputs": [],
   "source": [
    "weight_df = extract_patient_weights(combined_aki)"
   ]
  },
  {
   "cell_type": "code",
   "execution_count": 136,
   "id": "a0f0b053",
   "metadata": {},
   "outputs": [
    {
     "data": {
      "text/html": [
       "<div>\n",
       "<style scoped>\n",
       "    .dataframe tbody tr th:only-of-type {\n",
       "        vertical-align: middle;\n",
       "    }\n",
       "\n",
       "    .dataframe tbody tr th {\n",
       "        vertical-align: top;\n",
       "    }\n",
       "\n",
       "    .dataframe thead th {\n",
       "        text-align: right;\n",
       "    }\n",
       "</style>\n",
       "<table border=\"1\" class=\"dataframe\">\n",
       "  <thead>\n",
       "    <tr style=\"text-align: right;\">\n",
       "      <th></th>\n",
       "      <th>stay_id</th>\n",
       "      <th>weight</th>\n",
       "    </tr>\n",
       "  </thead>\n",
       "  <tbody>\n",
       "    <tr>\n",
       "      <th>0</th>\n",
       "      <td>30001396</td>\n",
       "      <td>161.925454</td>\n",
       "    </tr>\n",
       "    <tr>\n",
       "      <th>1</th>\n",
       "      <td>30057454</td>\n",
       "      <td>86.334029</td>\n",
       "    </tr>\n",
       "    <tr>\n",
       "      <th>2</th>\n",
       "      <td>30072056</td>\n",
       "      <td>55.292865</td>\n",
       "    </tr>\n",
       "    <tr>\n",
       "      <th>3</th>\n",
       "      <td>30086978</td>\n",
       "      <td>84.232034</td>\n",
       "    </tr>\n",
       "    <tr>\n",
       "      <th>4</th>\n",
       "      <td>30112361</td>\n",
       "      <td>43.729993</td>\n",
       "    </tr>\n",
       "    <tr>\n",
       "      <th>...</th>\n",
       "      <td>...</td>\n",
       "      <td>...</td>\n",
       "    </tr>\n",
       "    <tr>\n",
       "      <th>648</th>\n",
       "      <td>39949413</td>\n",
       "      <td>88.813314</td>\n",
       "    </tr>\n",
       "    <tr>\n",
       "      <th>649</th>\n",
       "      <td>39971380</td>\n",
       "      <td>116.754581</td>\n",
       "    </tr>\n",
       "    <tr>\n",
       "      <th>650</th>\n",
       "      <td>39972000</td>\n",
       "      <td>60.690610</td>\n",
       "    </tr>\n",
       "    <tr>\n",
       "      <th>651</th>\n",
       "      <td>39983674</td>\n",
       "      <td>99.580114</td>\n",
       "    </tr>\n",
       "    <tr>\n",
       "      <th>652</th>\n",
       "      <td>39997370</td>\n",
       "      <td>76.255005</td>\n",
       "    </tr>\n",
       "  </tbody>\n",
       "</table>\n",
       "<p>653 rows × 2 columns</p>\n",
       "</div>"
      ],
      "text/plain": [
       "      stay_id      weight\n",
       "0    30001396  161.925454\n",
       "1    30057454   86.334029\n",
       "2    30072056   55.292865\n",
       "3    30086978   84.232034\n",
       "4    30112361   43.729993\n",
       "..        ...         ...\n",
       "648  39949413   88.813314\n",
       "649  39971380  116.754581\n",
       "650  39972000   60.690610\n",
       "651  39983674   99.580114\n",
       "652  39997370   76.255005\n",
       "\n",
       "[653 rows x 2 columns]"
      ]
     },
     "execution_count": 136,
     "metadata": {},
     "output_type": "execute_result"
    }
   ],
   "source": [
    "weight_df"
   ]
  },
  {
   "cell_type": "markdown",
   "id": "0c7c7859",
   "metadata": {},
   "source": [
    "### Urine"
   ]
  },
  {
   "cell_type": "code",
   "execution_count": 150,
   "id": "33deef2e",
   "metadata": {},
   "outputs": [],
   "source": [
    "import pandas as pd\n",
    "\n",
    "import pandas as pd\n",
    "\n",
    "def calculate_urine_output_and_aki(df, df_weight):\n",
    "    \"\"\"\n",
    "    Calculate urine output and determine Acute Kidney Injury (AKI) status from patient data for all stay_ids.\n",
    "\n",
    "    Parameters:\n",
    "    df (pd.DataFrame): DataFrame containing patient stay data with the following columns:\n",
    "                       - 'stay_id': Unique identifier for each patient stay\n",
    "                       - 'start_time': Timestamp for each measurement\n",
    "                       - 'value': Measurement value (e.g., urine volume)\n",
    "                       - 'itemid': Identifier for the type of measurement (e.g., urine input/output)\n",
    "    df_weight (pd.DataFrame): DataFrame containing patient weight data with the following columns:\n",
    "                              - 'stay_id': Unique identifier for each patient stay\n",
    "                              - 'itemid_weight': Weight of the patient\n",
    "\n",
    "    Returns:\n",
    "    pd.DataFrame: A DataFrame containing the following columns:\n",
    "                  - 'stay_id': Unique identifier for each patient stay\n",
    "                  - 'start_time': Timestamp for each measurement\n",
    "                  - 'value': Difference between urine output and input\n",
    "                  - 'interval': Time difference between measurements\n",
    "                  - 'urine_per_hour': Urine output per hour\n",
    "                  - 'urine_per_hour_per_kg': Urine output per hour per kg of patient weight\n",
    "                  - 'AKI_volume': Indicator for low urine output (<0.5)\n",
    "                  - 'AKI_time': Indicator for long intervals (>=12 hours)\n",
    "                  - 'AKI_preliminary': Combined indicator for AKI based on volume and time\n",
    "                  - 'AKI': Final indicator for AKI status (1 if AKI is present, 0 otherwise)\n",
    "    \"\"\"\n",
    "    # Filter the main DataFrame to keep relevant columns\n",
    "    df = df[['stay_id', 'start_time', 'value', 'itemid']]\n",
    "\n",
    "    # Filter and rename for urine input and output\n",
    "    import pdb\n",
    "    pdb.set_trace()\n",
    "    df_GU_in = df[df['itemid'] == 227488].rename(columns={'itemid': 'itemid_in', 'value': 'value_in'})\n",
    "    df_GU_out = df[df['itemid'] == 227489].rename(columns={'itemid': 'itemid_out', 'value': 'value_out'})\n",
    "\n",
    "    # Merge input and output data on stay_id and start_time\n",
    "    df_calculation = df_GU_out.merge(df_GU_in, how='inner', on=['stay_id', 'start_time'])\n",
    "\n",
    "    # Calculate urine output and intervals\n",
    "    df_calculation['value'] = df_calculation['value_out'] - df_calculation['value_in']\n",
    "    df_calculation['interval'] = df_calculation.groupby('stay_id')['start_time'].diff()\n",
    "\n",
    "    # Merge patient weights\n",
    "    df_weight = df_weight.rename(columns={'itemid_weight': 'weight'})\n",
    "    df_calculation = df_calculation.merge(df_weight[['stay_id', 'weight']], on='stay_id', how='left')\n",
    "\n",
    "    # Calculate urine output metrics\n",
    "    df_calculation['urine_per_hour'] = df_calculation['value'] / df_calculation['interval']\n",
    "    df_calculation['urine_per_hour_per_kg'] = df_calculation['urine_per_hour'] / df_calculation['weight']\n",
    "\n",
    "    # Determine AKI indicators\n",
    "    df_calculation[\"AKI_volume\"] = (df_calculation['urine_per_hour_per_kg'] < 0.5).astype(int)\n",
    "    df_calculation[\"AKI_time\"] = (df_calculation['interval'] >= pd.Timedelta(hours=12)).astype(int)\n",
    "    df_calculation[\"AKI_preliminary\"] = df_calculation[\"AKI_volume\"] + df_calculation[\"AKI_time\"]\n",
    "    df_calculation['AKI'] = (df_calculation['AKI_preliminary'] == 2).astype(int)\n",
    "\n",
    "    return df_calculation[['stay_id', 'start_time', 'value', 'interval', \n",
    "                           'urine_per_hour', 'urine_per_hour_per_kg', \n",
    "                           'AKI_volume', 'AKI_time', 'AKI_preliminary', 'AKI']]\n",
    "\n",
    "# Example usage\n",
    "# df = pd.read_csv('your_data.csv')  # Load your main DataFrame\n",
    "# df_weight = pd.read_csv('your_weight_data.csv')  # Load your weight DataFrame\n",
    "# result_df = calculate_urine_output_and_aki(df, df_weight)\n",
    "# print(result_df)\n"
   ]
  },
  {
   "cell_type": "code",
   "execution_count": 151,
   "id": "1f066548",
   "metadata": {},
   "outputs": [
    {
     "name": "stdout",
     "output_type": "stream",
     "text": [
      "> \u001b[0;32m/tmp/ipykernel_3988/672885513.py\u001b[0m(38)\u001b[0;36mcalculate_urine_output_and_aki\u001b[0;34m()\u001b[0m\n",
      "\u001b[0;32m     36 \u001b[0;31m    \u001b[0;32mimport\u001b[0m \u001b[0mpdb\u001b[0m\u001b[0;34m\u001b[0m\u001b[0;34m\u001b[0m\u001b[0m\n",
      "\u001b[0m\u001b[0;32m     37 \u001b[0;31m    \u001b[0mpdb\u001b[0m\u001b[0;34m.\u001b[0m\u001b[0mset_trace\u001b[0m\u001b[0;34m(\u001b[0m\u001b[0;34m)\u001b[0m\u001b[0;34m\u001b[0m\u001b[0;34m\u001b[0m\u001b[0m\n",
      "\u001b[0m\u001b[0;32m---> 38 \u001b[0;31m    \u001b[0mdf_GU_in\u001b[0m \u001b[0;34m=\u001b[0m \u001b[0mdf\u001b[0m\u001b[0;34m[\u001b[0m\u001b[0mdf\u001b[0m\u001b[0;34m[\u001b[0m\u001b[0;34m'itemid'\u001b[0m\u001b[0;34m]\u001b[0m \u001b[0;34m==\u001b[0m \u001b[0;36m227488\u001b[0m\u001b[0;34m]\u001b[0m\u001b[0;34m.\u001b[0m\u001b[0mrename\u001b[0m\u001b[0;34m(\u001b[0m\u001b[0mcolumns\u001b[0m\u001b[0;34m=\u001b[0m\u001b[0;34m{\u001b[0m\u001b[0;34m'itemid'\u001b[0m\u001b[0;34m:\u001b[0m \u001b[0;34m'itemid_in'\u001b[0m\u001b[0;34m,\u001b[0m \u001b[0;34m'value'\u001b[0m\u001b[0;34m:\u001b[0m \u001b[0;34m'value_in'\u001b[0m\u001b[0;34m}\u001b[0m\u001b[0;34m)\u001b[0m\u001b[0;34m\u001b[0m\u001b[0;34m\u001b[0m\u001b[0m\n",
      "\u001b[0m\u001b[0;32m     39 \u001b[0;31m    \u001b[0mdf_GU_out\u001b[0m \u001b[0;34m=\u001b[0m \u001b[0mdf\u001b[0m\u001b[0;34m[\u001b[0m\u001b[0mdf\u001b[0m\u001b[0;34m[\u001b[0m\u001b[0;34m'itemid'\u001b[0m\u001b[0;34m]\u001b[0m \u001b[0;34m==\u001b[0m \u001b[0;36m227489\u001b[0m\u001b[0;34m]\u001b[0m\u001b[0;34m.\u001b[0m\u001b[0mrename\u001b[0m\u001b[0;34m(\u001b[0m\u001b[0mcolumns\u001b[0m\u001b[0;34m=\u001b[0m\u001b[0;34m{\u001b[0m\u001b[0;34m'itemid'\u001b[0m\u001b[0;34m:\u001b[0m \u001b[0;34m'itemid_out'\u001b[0m\u001b[0;34m,\u001b[0m \u001b[0;34m'value'\u001b[0m\u001b[0;34m:\u001b[0m \u001b[0;34m'value_out'\u001b[0m\u001b[0;34m}\u001b[0m\u001b[0;34m)\u001b[0m\u001b[0;34m\u001b[0m\u001b[0;34m\u001b[0m\u001b[0m\n",
      "\u001b[0m\u001b[0;32m     40 \u001b[0;31m\u001b[0;34m\u001b[0m\u001b[0m\n",
      "\u001b[0m\n",
      "ipdb> n\n",
      "> \u001b[0;32m/tmp/ipykernel_3988/672885513.py\u001b[0m(39)\u001b[0;36mcalculate_urine_output_and_aki\u001b[0;34m()\u001b[0m\n",
      "\u001b[0;32m     37 \u001b[0;31m    \u001b[0mpdb\u001b[0m\u001b[0;34m.\u001b[0m\u001b[0mset_trace\u001b[0m\u001b[0;34m(\u001b[0m\u001b[0;34m)\u001b[0m\u001b[0;34m\u001b[0m\u001b[0;34m\u001b[0m\u001b[0m\n",
      "\u001b[0m\u001b[0;32m     38 \u001b[0;31m    \u001b[0mdf_GU_in\u001b[0m \u001b[0;34m=\u001b[0m \u001b[0mdf\u001b[0m\u001b[0;34m[\u001b[0m\u001b[0mdf\u001b[0m\u001b[0;34m[\u001b[0m\u001b[0;34m'itemid'\u001b[0m\u001b[0;34m]\u001b[0m \u001b[0;34m==\u001b[0m \u001b[0;36m227488\u001b[0m\u001b[0;34m]\u001b[0m\u001b[0;34m.\u001b[0m\u001b[0mrename\u001b[0m\u001b[0;34m(\u001b[0m\u001b[0mcolumns\u001b[0m\u001b[0;34m=\u001b[0m\u001b[0;34m{\u001b[0m\u001b[0;34m'itemid'\u001b[0m\u001b[0;34m:\u001b[0m \u001b[0;34m'itemid_in'\u001b[0m\u001b[0;34m,\u001b[0m \u001b[0;34m'value'\u001b[0m\u001b[0;34m:\u001b[0m \u001b[0;34m'value_in'\u001b[0m\u001b[0;34m}\u001b[0m\u001b[0;34m)\u001b[0m\u001b[0;34m\u001b[0m\u001b[0;34m\u001b[0m\u001b[0m\n",
      "\u001b[0m\u001b[0;32m---> 39 \u001b[0;31m    \u001b[0mdf_GU_out\u001b[0m \u001b[0;34m=\u001b[0m \u001b[0mdf\u001b[0m\u001b[0;34m[\u001b[0m\u001b[0mdf\u001b[0m\u001b[0;34m[\u001b[0m\u001b[0;34m'itemid'\u001b[0m\u001b[0;34m]\u001b[0m \u001b[0;34m==\u001b[0m \u001b[0;36m227489\u001b[0m\u001b[0;34m]\u001b[0m\u001b[0;34m.\u001b[0m\u001b[0mrename\u001b[0m\u001b[0;34m(\u001b[0m\u001b[0mcolumns\u001b[0m\u001b[0;34m=\u001b[0m\u001b[0;34m{\u001b[0m\u001b[0;34m'itemid'\u001b[0m\u001b[0;34m:\u001b[0m \u001b[0;34m'itemid_out'\u001b[0m\u001b[0;34m,\u001b[0m \u001b[0;34m'value'\u001b[0m\u001b[0;34m:\u001b[0m \u001b[0;34m'value_out'\u001b[0m\u001b[0;34m}\u001b[0m\u001b[0;34m)\u001b[0m\u001b[0;34m\u001b[0m\u001b[0;34m\u001b[0m\u001b[0m\n",
      "\u001b[0m\u001b[0;32m     40 \u001b[0;31m\u001b[0;34m\u001b[0m\u001b[0m\n",
      "\u001b[0m\u001b[0;32m     41 \u001b[0;31m    \u001b[0;31m# Merge input and output data on stay_id and start_time\u001b[0m\u001b[0;34m\u001b[0m\u001b[0;34m\u001b[0m\u001b[0;34m\u001b[0m\u001b[0m\n",
      "\u001b[0m\n",
      "ipdb> df_GU_in\n",
      "        stay_id  start_time  value_in  itemid_in\n",
      "3617   37839379           5      30.0     227488\n",
      "3627   37839379          12      30.0     227488\n",
      "18494  37161074          14     250.0     227488\n",
      "18496  37161074          14      50.0     227488\n",
      "18498  37161074          15      50.0     227488\n",
      "18556  37161074           0     200.0     227488\n",
      "18558  37161074           1     100.0     227488\n",
      "18560  37161074           2     100.0     227488\n",
      "18562  37161074           3     100.0     227488\n",
      "18564  37161074           4     200.0     227488\n",
      "18566  37161074           5     200.0     227488\n",
      "18568  37161074           6     100.0     227488\n",
      "18570  37161074           7     300.0     227488\n",
      "18572  37161074           9     200.0     227488\n",
      "18574  37161074          10     100.0     227488\n",
      "32103  34589391           8      10.0     227488\n",
      "ipdb> df_GU_in['stay_id'].unique()\n",
      "array([37839379, 37161074, 34589391])\n",
      "ipdb> df['stay_id'].unique()\n",
      "array([33290343, 37839379, 33856536, 33378345, 37171883, 32841071,\n",
      "       37161074, 31171895, 38468262, 32794579, 37527025, 35343378,\n",
      "       34589391, 37140079, 34748643, 32669861, 35572315, 38554095,\n",
      "       30955999, 30057454, 37086676, 30282279, 39005188, 37504676,\n",
      "       39480239, 33209076, 39312258, 32663348, 32434125, 36787094,\n",
      "       37309694, 35268649, 33753088, 33296518, 32093682, 33684656,\n",
      "       37609804, 39428217, 37307878, 30365528, 36544217, 35759923,\n",
      "       31872137, 36369992, 31261940, 33355136, 35242188, 33901074,\n",
      "       36525878, 30946246, 30822717, 32884462, 33034482, 35912066,\n",
      "       32479229, 33346304, 38212750, 33582428, 39526699, 30456480,\n",
      "       32630589, 36969946, 30632197, 38915654, 36219964, 31054256,\n",
      "       35063704, 37251664, 36008514, 39158559, 39399172, 38407168,\n",
      "       31866472, 37297645, 31378939, 31909015, 35837034, 34870097,\n",
      "       33756127, 32890751, 39330400, 35164242, 35374978, 38828916,\n",
      "       30818438, 35551890, 36072439, 37652944, 37032616, 31251751,\n",
      "       37873566, 39088277, 30946736, 33345706, 38148500, 30342613,\n",
      "       38271986, 36317254, 38624591, 39469782, 31974618, 34120815,\n",
      "       30703287, 36715122, 33607697, 30453649, 34812602, 31283894,\n",
      "       32724677, 39869330, 34410460, 39894588, 32202349, 36453823,\n",
      "       32322738, 33945409, 39651052, 33000715, 30894241, 33409323,\n",
      "       39972000, 37003772, 39290585, 37311580, 35635604, 39275114,\n",
      "       36982036, 31172373, 34036698, 39647056, 34255843, 36092157,\n",
      "       37108880, 39429411, 33289812, 31073026, 32172151, 34137939,\n",
      "       34973201, 34720839, 31526440, 38212772, 36959531, 38040290,\n",
      "       31834185, 37304234, 32035092, 32456885, 39139167, 32002818,\n",
      "       36081927, 33757772, 36555862, 32326103, 35489747, 38491401,\n",
      "       35400369, 37222142, 34670752, 33516261, 38947855, 30128862,\n",
      "       39634568, 30802202, 35301427, 32005991, 35533114, 35665194,\n",
      "       36495971, 36759890, 39599122, 38379338, 31558480, 38559158,\n",
      "       30812911, 33181296, 33272396, 34760891, 39400689, 39720351,\n",
      "       31377399, 35516944, 37688054, 33266069, 34496985, 38641039,\n",
      "       38083912, 33511663, 30112361, 33687655, 33335989, 33427870,\n",
      "       30157987, 37601939, 34577612, 35696843, 33189282, 39203202,\n",
      "       33453554, 33567408, 36985687, 37134353, 38082773, 39062633,\n",
      "       33062405, 31300397, 34251119, 33979180, 35274720, 38128199,\n",
      "       36905271, 37714884, 34679622, 39190238, 38314601, 39228347,\n",
      "       30621681, 39221454, 30149328, 37165181, 34567131, 30967719,\n",
      "       33688389, 31679643, 32384421, 34593136, 35700773, 35342961,\n",
      "       33436986, 30834221, 33719223, 38580165, 37836747, 32803197,\n",
      "       31970323, 32443170, 35628916, 35528503, 39983674, 34032482,\n",
      "       30852106, 35881283, 38669835, 36837429, 30661819, 30738803,\n",
      "       33927389, 37547561, 32355634, 30164313, 39565973, 32159248,\n",
      "       35351506, 35169151, 31304021, 32576613, 36591645, 38179915,\n",
      "       33711564, 38879581, 32847855, 33039212, 38535795, 38861727,\n",
      "       38874110, 30948410, 34078785, 32935167, 33761113, 31178233,\n",
      "       34002336, 37953384, 31185637, 38524167, 39808640, 35020023,\n",
      "       32408174, 36898534, 30312039, 35918005, 37160254, 31136960,\n",
      "       38161491, 33963059, 39508629, 36099061, 33974670, 33777961,\n",
      "       31927555, 38504431, 33664869, 30943097, 32386447, 31859193,\n",
      "       37613254, 33721212, 32447844, 39850910, 36980863, 34360239,\n",
      "       34624667, 30878537, 32448624, 36739594, 32101209, 37837485,\n",
      "       35657565, 38222105, 31583169, 35964351, 31466642, 34341158,\n",
      "       35529249, 36376619, 34153136, 30531559, 32684904, 32304110,\n",
      "       36363512, 32330324, 32556495, 34524371, 30729947, 31362523,\n",
      "       37550329, 38129335, 35564395, 34838981, 31520205, 36380402,\n",
      "       30456045, 38673515, 31267357, 36484669, 32681829, 38185502,\n",
      "       38257443, 34938727, 31022391, 36823127, 38355891, 30327305,\n",
      "       38478679, 32779948, 31551060, 32196915, 30215337, 34759254,\n",
      "       37262080, 31081076, 34574922, 31047714, 37476021, 37479186,\n",
      "       33101514, 37879495, 34664825, 35138932, 38540127, 39839128,\n",
      "       39282918, 34979270, 35647699, 36100062, 39237086, 31299486,\n",
      "       33694304, 33090313, 31942142, 30244025, 30624694, 34626942,\n",
      "       32445424, 32964381, 35500998, 32126026, 33713499, 38786981,\n",
      "       36755319, 34150098, 37891482, 33526475, 39911150, 35801461,\n",
      "       34102776, 30843628, 36291313, 30900977, 35884202, 35813180,\n",
      "       38601638, 35783849, 36742174, 30780329, 39591306, 37423201,\n",
      "       39375730, 35971641, 36234742, 30086978, 32832399, 37933335,\n",
      "       38767547, 34407278, 30944277, 35802752, 36951109, 34821443,\n",
      "       38712220, 37824245, 35977178, 38278763, 30841859, 33747740,\n",
      "       33615107, 32286683, 31549642, 35776736, 37160609, 33236037,\n",
      "       37056687, 35468791, 31795907, 39818534, 32267133, 38807757,\n",
      "       34386732, 38879844, 39897185, 39997370, 30755921, 37929550,\n",
      "       34890921, 36310166, 39433815, 35446056, 33843886, 38222248,\n",
      "       38396416, 35468123, 32847813, 33528778, 35547658, 38449519,\n",
      "       34077913, 37080182, 37567576, 32955890, 30072056, 34903741,\n",
      "       37589711, 31908350, 35145438, 30120455, 35114509, 35461582,\n",
      "       38384277, 30618117, 36155414, 30001396, 32403373, 35041574,\n",
      "       39855848, 35174682, 37945769, 34863264, 36728274, 32320614,\n",
      "       32887205, 31262392, 34931076, 35545886, 38500429, 39460038,\n",
      "       39267763, 33378147, 36091605, 34755227, 38623326, 31508971,\n",
      "       34930759, 37440781, 30378899, 37784277, 36667636, 32144781,\n",
      "       37443929, 34901461, 38173794, 32279564, 35847563, 31013697,\n",
      "       38817538, 31231621, 39857882, 37181584, 37041608, 38441974,\n",
      "       39949413, 36819435, 31603980, 32846953, 31945149, 36579426,\n",
      "       32383424, 34174085, 33217215, 39244750, 32429176, 33448977,\n",
      "       33164569, 35710561, 30590055, 38823411, 32355547, 37051054,\n",
      "       37590229, 39465661, 32887508, 38388922, 32869409, 38457797,\n",
      "       39660209, 38771709, 35847904, 30965732, 30396785, 35710585,\n",
      "       38994991, 31281842, 38313173, 33429183, 32895663, 35666901,\n",
      "       38815889, 32592495, 31931892, 31018515, 31800040, 37435147,\n",
      "       35822716, 32876629, 37663031, 32238848, 36862612, 38071274,\n",
      "       30624762, 37003099, 31659000, 32239624, 39874424, 38164688,\n",
      "       31152748, 30762375, 36489169, 31592145, 34122543, 33113728,\n",
      "       31824803, 30336588, 37779784, 31223366, 37856661, 32682124,\n",
      "       38514479, 33973652, 37521244, 33082414, 37278783, 39889680,\n",
      "       39675531, 32539345, 36487701, 31713987, 32311367, 35341337,\n",
      "       34597594, 37001234, 38049497, 38319765, 38182441, 37624467,\n",
      "       39540781, 36595246, 35363827, 39662660, 30899896, 30312074,\n",
      "       30258331, 30519346, 37381618, 30271658, 31292293, 37502518,\n",
      "       31431242, 39033190, 37109901, 31221787, 37709926, 38400764,\n",
      "       33635352, 38036604, 39353242, 32163174, 30595022, 37653369,\n",
      "       37817097, 30606202, 30213832, 37192412, 32657820, 36948528,\n",
      "       37775783, 38171986, 39493839, 38394924, 31937197, 30491079,\n",
      "       37837178, 35206647, 35434691, 34218109, 36147354, 38163163,\n",
      "       31126189, 31471308, 36301483, 37781270, 32641124, 38987321,\n",
      "       33250178, 34884576, 39881510, 39971380, 32215481, 38411179,\n",
      "       39280649, 34339187, 36969505, 37886692, 38713989, 37030662,\n",
      "       37938963, 30391097, 38152595, 39505120, 33053573, 36127596,\n",
      "       33044457, 38621493, 35840735, 30297271, 30259797])\n"
     ]
    },
    {
     "name": "stdout",
     "output_type": "stream",
     "text": [
      "ipdb> df[df['itemid'] == 227488]\n",
      "        stay_id  start_time  value  itemid\n",
      "3617   37839379           5   30.0  227488\n",
      "3627   37839379          12   30.0  227488\n",
      "18494  37161074          14  250.0  227488\n",
      "18496  37161074          14   50.0  227488\n",
      "18498  37161074          15   50.0  227488\n",
      "18556  37161074           0  200.0  227488\n",
      "18558  37161074           1  100.0  227488\n",
      "18560  37161074           2  100.0  227488\n",
      "18562  37161074           3  100.0  227488\n",
      "18564  37161074           4  200.0  227488\n",
      "18566  37161074           5  200.0  227488\n",
      "18568  37161074           6  100.0  227488\n",
      "18570  37161074           7  300.0  227488\n",
      "18572  37161074           9  200.0  227488\n",
      "18574  37161074          10  100.0  227488\n",
      "32103  34589391           8   10.0  227488\n",
      "ipdb> df['itemid'].unique()\n",
      "array([226631, 227488, 227489, 226627, 226531, 224639, 226512])\n",
      "ipdb> df['stay_id'].unique()\n",
      "array([33290343, 37839379, 33856536, 33378345, 37171883, 32841071,\n",
      "       37161074, 31171895, 38468262, 32794579, 37527025, 35343378,\n",
      "       34589391, 37140079, 34748643, 32669861, 35572315, 38554095,\n",
      "       30955999, 30057454, 37086676, 30282279, 39005188, 37504676,\n",
      "       39480239, 33209076, 39312258, 32663348, 32434125, 36787094,\n",
      "       37309694, 35268649, 33753088, 33296518, 32093682, 33684656,\n",
      "       37609804, 39428217, 37307878, 30365528, 36544217, 35759923,\n",
      "       31872137, 36369992, 31261940, 33355136, 35242188, 33901074,\n",
      "       36525878, 30946246, 30822717, 32884462, 33034482, 35912066,\n",
      "       32479229, 33346304, 38212750, 33582428, 39526699, 30456480,\n",
      "       32630589, 36969946, 30632197, 38915654, 36219964, 31054256,\n",
      "       35063704, 37251664, 36008514, 39158559, 39399172, 38407168,\n",
      "       31866472, 37297645, 31378939, 31909015, 35837034, 34870097,\n",
      "       33756127, 32890751, 39330400, 35164242, 35374978, 38828916,\n",
      "       30818438, 35551890, 36072439, 37652944, 37032616, 31251751,\n",
      "       37873566, 39088277, 30946736, 33345706, 38148500, 30342613,\n",
      "       38271986, 36317254, 38624591, 39469782, 31974618, 34120815,\n",
      "       30703287, 36715122, 33607697, 30453649, 34812602, 31283894,\n",
      "       32724677, 39869330, 34410460, 39894588, 32202349, 36453823,\n",
      "       32322738, 33945409, 39651052, 33000715, 30894241, 33409323,\n",
      "       39972000, 37003772, 39290585, 37311580, 35635604, 39275114,\n",
      "       36982036, 31172373, 34036698, 39647056, 34255843, 36092157,\n",
      "       37108880, 39429411, 33289812, 31073026, 32172151, 34137939,\n",
      "       34973201, 34720839, 31526440, 38212772, 36959531, 38040290,\n",
      "       31834185, 37304234, 32035092, 32456885, 39139167, 32002818,\n",
      "       36081927, 33757772, 36555862, 32326103, 35489747, 38491401,\n",
      "       35400369, 37222142, 34670752, 33516261, 38947855, 30128862,\n",
      "       39634568, 30802202, 35301427, 32005991, 35533114, 35665194,\n",
      "       36495971, 36759890, 39599122, 38379338, 31558480, 38559158,\n",
      "       30812911, 33181296, 33272396, 34760891, 39400689, 39720351,\n",
      "       31377399, 35516944, 37688054, 33266069, 34496985, 38641039,\n",
      "       38083912, 33511663, 30112361, 33687655, 33335989, 33427870,\n",
      "       30157987, 37601939, 34577612, 35696843, 33189282, 39203202,\n",
      "       33453554, 33567408, 36985687, 37134353, 38082773, 39062633,\n",
      "       33062405, 31300397, 34251119, 33979180, 35274720, 38128199,\n",
      "       36905271, 37714884, 34679622, 39190238, 38314601, 39228347,\n",
      "       30621681, 39221454, 30149328, 37165181, 34567131, 30967719,\n",
      "       33688389, 31679643, 32384421, 34593136, 35700773, 35342961,\n",
      "       33436986, 30834221, 33719223, 38580165, 37836747, 32803197,\n",
      "       31970323, 32443170, 35628916, 35528503, 39983674, 34032482,\n",
      "       30852106, 35881283, 38669835, 36837429, 30661819, 30738803,\n",
      "       33927389, 37547561, 32355634, 30164313, 39565973, 32159248,\n",
      "       35351506, 35169151, 31304021, 32576613, 36591645, 38179915,\n",
      "       33711564, 38879581, 32847855, 33039212, 38535795, 38861727,\n",
      "       38874110, 30948410, 34078785, 32935167, 33761113, 31178233,\n",
      "       34002336, 37953384, 31185637, 38524167, 39808640, 35020023,\n",
      "       32408174, 36898534, 30312039, 35918005, 37160254, 31136960,\n",
      "       38161491, 33963059, 39508629, 36099061, 33974670, 33777961,\n",
      "       31927555, 38504431, 33664869, 30943097, 32386447, 31859193,\n",
      "       37613254, 33721212, 32447844, 39850910, 36980863, 34360239,\n",
      "       34624667, 30878537, 32448624, 36739594, 32101209, 37837485,\n",
      "       35657565, 38222105, 31583169, 35964351, 31466642, 34341158,\n",
      "       35529249, 36376619, 34153136, 30531559, 32684904, 32304110,\n",
      "       36363512, 32330324, 32556495, 34524371, 30729947, 31362523,\n",
      "       37550329, 38129335, 35564395, 34838981, 31520205, 36380402,\n",
      "       30456045, 38673515, 31267357, 36484669, 32681829, 38185502,\n",
      "       38257443, 34938727, 31022391, 36823127, 38355891, 30327305,\n",
      "       38478679, 32779948, 31551060, 32196915, 30215337, 34759254,\n",
      "       37262080, 31081076, 34574922, 31047714, 37476021, 37479186,\n",
      "       33101514, 37879495, 34664825, 35138932, 38540127, 39839128,\n",
      "       39282918, 34979270, 35647699, 36100062, 39237086, 31299486,\n",
      "       33694304, 33090313, 31942142, 30244025, 30624694, 34626942,\n",
      "       32445424, 32964381, 35500998, 32126026, 33713499, 38786981,\n",
      "       36755319, 34150098, 37891482, 33526475, 39911150, 35801461,\n",
      "       34102776, 30843628, 36291313, 30900977, 35884202, 35813180,\n",
      "       38601638, 35783849, 36742174, 30780329, 39591306, 37423201,\n",
      "       39375730, 35971641, 36234742, 30086978, 32832399, 37933335,\n",
      "       38767547, 34407278, 30944277, 35802752, 36951109, 34821443,\n",
      "       38712220, 37824245, 35977178, 38278763, 30841859, 33747740,\n",
      "       33615107, 32286683, 31549642, 35776736, 37160609, 33236037,\n",
      "       37056687, 35468791, 31795907, 39818534, 32267133, 38807757,\n",
      "       34386732, 38879844, 39897185, 39997370, 30755921, 37929550,\n",
      "       34890921, 36310166, 39433815, 35446056, 33843886, 38222248,\n",
      "       38396416, 35468123, 32847813, 33528778, 35547658, 38449519,\n",
      "       34077913, 37080182, 37567576, 32955890, 30072056, 34903741,\n",
      "       37589711, 31908350, 35145438, 30120455, 35114509, 35461582,\n",
      "       38384277, 30618117, 36155414, 30001396, 32403373, 35041574,\n",
      "       39855848, 35174682, 37945769, 34863264, 36728274, 32320614,\n",
      "       32887205, 31262392, 34931076, 35545886, 38500429, 39460038,\n",
      "       39267763, 33378147, 36091605, 34755227, 38623326, 31508971,\n",
      "       34930759, 37440781, 30378899, 37784277, 36667636, 32144781,\n",
      "       37443929, 34901461, 38173794, 32279564, 35847563, 31013697,\n",
      "       38817538, 31231621, 39857882, 37181584, 37041608, 38441974,\n",
      "       39949413, 36819435, 31603980, 32846953, 31945149, 36579426,\n",
      "       32383424, 34174085, 33217215, 39244750, 32429176, 33448977,\n",
      "       33164569, 35710561, 30590055, 38823411, 32355547, 37051054,\n",
      "       37590229, 39465661, 32887508, 38388922, 32869409, 38457797,\n",
      "       39660209, 38771709, 35847904, 30965732, 30396785, 35710585,\n",
      "       38994991, 31281842, 38313173, 33429183, 32895663, 35666901,\n",
      "       38815889, 32592495, 31931892, 31018515, 31800040, 37435147,\n",
      "       35822716, 32876629, 37663031, 32238848, 36862612, 38071274,\n",
      "       30624762, 37003099, 31659000, 32239624, 39874424, 38164688,\n",
      "       31152748, 30762375, 36489169, 31592145, 34122543, 33113728,\n",
      "       31824803, 30336588, 37779784, 31223366, 37856661, 32682124,\n",
      "       38514479, 33973652, 37521244, 33082414, 37278783, 39889680,\n",
      "       39675531, 32539345, 36487701, 31713987, 32311367, 35341337,\n",
      "       34597594, 37001234, 38049497, 38319765, 38182441, 37624467,\n",
      "       39540781, 36595246, 35363827, 39662660, 30899896, 30312074,\n",
      "       30258331, 30519346, 37381618, 30271658, 31292293, 37502518,\n",
      "       31431242, 39033190, 37109901, 31221787, 37709926, 38400764,\n",
      "       33635352, 38036604, 39353242, 32163174, 30595022, 37653369,\n",
      "       37817097, 30606202, 30213832, 37192412, 32657820, 36948528,\n",
      "       37775783, 38171986, 39493839, 38394924, 31937197, 30491079,\n",
      "       37837178, 35206647, 35434691, 34218109, 36147354, 38163163,\n",
      "       31126189, 31471308, 36301483, 37781270, 32641124, 38987321,\n",
      "       33250178, 34884576, 39881510, 39971380, 32215481, 38411179,\n",
      "       39280649, 34339187, 36969505, 37886692, 38713989, 37030662,\n",
      "       37938963, 30391097, 38152595, 39505120, 33053573, 36127596,\n",
      "       33044457, 38621493, 35840735, 30297271, 30259797])\n",
      "ipdb> df['stay_id'].unique().shape\n"
     ]
    },
    {
     "name": "stdout",
     "output_type": "stream",
     "text": [
      "(653,)\n",
      "ipdb> df[df['itemid'] == 227488]\n",
      "        stay_id  start_time  value  itemid\n",
      "3617   37839379           5   30.0  227488\n",
      "3627   37839379          12   30.0  227488\n",
      "18494  37161074          14  250.0  227488\n",
      "18496  37161074          14   50.0  227488\n",
      "18498  37161074          15   50.0  227488\n",
      "18556  37161074           0  200.0  227488\n",
      "18558  37161074           1  100.0  227488\n",
      "18560  37161074           2  100.0  227488\n",
      "18562  37161074           3  100.0  227488\n",
      "18564  37161074           4  200.0  227488\n",
      "18566  37161074           5  200.0  227488\n",
      "18568  37161074           6  100.0  227488\n",
      "18570  37161074           7  300.0  227488\n",
      "18572  37161074           9  200.0  227488\n",
      "18574  37161074          10  100.0  227488\n",
      "32103  34589391           8   10.0  227488\n",
      "ipdb> df[df['itemid'] == 227488]['stay_id'].unique()\n",
      "array([37839379, 37161074, 34589391])\n",
      "ipdb> df[df['itemid'] == '227488']['stay_id'].unique()\n",
      "array([], dtype=int64)\n",
      "ipdb> df[df['itemid'] == '227489']['stay_id'].unique()\n",
      "array([], dtype=int64)\n",
      "ipdb>  df[df['itemid'] == 227489]['stay_id'].unique()\n",
      "array([37839379, 37161074, 34589391])\n",
      "ipdb> exit\n"
     ]
    },
    {
     "ename": "BdbQuit",
     "evalue": "",
     "output_type": "error",
     "traceback": [
      "\u001b[0;31m---------------------------------------------------------------------------\u001b[0m",
      "\u001b[0;31mBdbQuit\u001b[0m                                   Traceback (most recent call last)",
      "\u001b[0;32m/tmp/ipykernel_3988/4019709011.py\u001b[0m in \u001b[0;36m<module>\u001b[0;34m\u001b[0m\n\u001b[0;32m----> 1\u001b[0;31m \u001b[0mcalculate_urine_output_and_aki\u001b[0m\u001b[0;34m(\u001b[0m\u001b[0mdf\u001b[0m \u001b[0;34m=\u001b[0m \u001b[0mcombined_aki\u001b[0m\u001b[0;34m,\u001b[0m \u001b[0mdf_weight\u001b[0m \u001b[0;34m=\u001b[0m \u001b[0mweight_df\u001b[0m\u001b[0;34m)\u001b[0m\u001b[0;34m\u001b[0m\u001b[0;34m\u001b[0m\u001b[0m\n\u001b[0m",
      "\u001b[0;32m/tmp/ipykernel_3988/672885513.py\u001b[0m in \u001b[0;36mcalculate_urine_output_and_aki\u001b[0;34m(df, df_weight)\u001b[0m\n\u001b[1;32m     37\u001b[0m     \u001b[0mpdb\u001b[0m\u001b[0;34m.\u001b[0m\u001b[0mset_trace\u001b[0m\u001b[0;34m(\u001b[0m\u001b[0;34m)\u001b[0m\u001b[0;34m\u001b[0m\u001b[0;34m\u001b[0m\u001b[0m\n\u001b[1;32m     38\u001b[0m     \u001b[0mdf_GU_in\u001b[0m \u001b[0;34m=\u001b[0m \u001b[0mdf\u001b[0m\u001b[0;34m[\u001b[0m\u001b[0mdf\u001b[0m\u001b[0;34m[\u001b[0m\u001b[0;34m'itemid'\u001b[0m\u001b[0;34m]\u001b[0m \u001b[0;34m==\u001b[0m \u001b[0;36m227488\u001b[0m\u001b[0;34m]\u001b[0m\u001b[0;34m.\u001b[0m\u001b[0mrename\u001b[0m\u001b[0;34m(\u001b[0m\u001b[0mcolumns\u001b[0m\u001b[0;34m=\u001b[0m\u001b[0;34m{\u001b[0m\u001b[0;34m'itemid'\u001b[0m\u001b[0;34m:\u001b[0m \u001b[0;34m'itemid_in'\u001b[0m\u001b[0;34m,\u001b[0m \u001b[0;34m'value'\u001b[0m\u001b[0;34m:\u001b[0m \u001b[0;34m'value_in'\u001b[0m\u001b[0;34m}\u001b[0m\u001b[0;34m)\u001b[0m\u001b[0;34m\u001b[0m\u001b[0;34m\u001b[0m\u001b[0m\n\u001b[0;32m---> 39\u001b[0;31m     \u001b[0mdf_GU_out\u001b[0m \u001b[0;34m=\u001b[0m \u001b[0mdf\u001b[0m\u001b[0;34m[\u001b[0m\u001b[0mdf\u001b[0m\u001b[0;34m[\u001b[0m\u001b[0;34m'itemid'\u001b[0m\u001b[0;34m]\u001b[0m \u001b[0;34m==\u001b[0m \u001b[0;36m227489\u001b[0m\u001b[0;34m]\u001b[0m\u001b[0;34m.\u001b[0m\u001b[0mrename\u001b[0m\u001b[0;34m(\u001b[0m\u001b[0mcolumns\u001b[0m\u001b[0;34m=\u001b[0m\u001b[0;34m{\u001b[0m\u001b[0;34m'itemid'\u001b[0m\u001b[0;34m:\u001b[0m \u001b[0;34m'itemid_out'\u001b[0m\u001b[0;34m,\u001b[0m \u001b[0;34m'value'\u001b[0m\u001b[0;34m:\u001b[0m \u001b[0;34m'value_out'\u001b[0m\u001b[0;34m}\u001b[0m\u001b[0;34m)\u001b[0m\u001b[0;34m\u001b[0m\u001b[0;34m\u001b[0m\u001b[0m\n\u001b[0m\u001b[1;32m     40\u001b[0m \u001b[0;34m\u001b[0m\u001b[0m\n\u001b[1;32m     41\u001b[0m     \u001b[0;31m# Merge input and output data on stay_id and start_time\u001b[0m\u001b[0;34m\u001b[0m\u001b[0;34m\u001b[0m\u001b[0;34m\u001b[0m\u001b[0m\n",
      "\u001b[0;32m/tmp/ipykernel_3988/672885513.py\u001b[0m in \u001b[0;36mcalculate_urine_output_and_aki\u001b[0;34m(df, df_weight)\u001b[0m\n\u001b[1;32m     37\u001b[0m     \u001b[0mpdb\u001b[0m\u001b[0;34m.\u001b[0m\u001b[0mset_trace\u001b[0m\u001b[0;34m(\u001b[0m\u001b[0;34m)\u001b[0m\u001b[0;34m\u001b[0m\u001b[0;34m\u001b[0m\u001b[0m\n\u001b[1;32m     38\u001b[0m     \u001b[0mdf_GU_in\u001b[0m \u001b[0;34m=\u001b[0m \u001b[0mdf\u001b[0m\u001b[0;34m[\u001b[0m\u001b[0mdf\u001b[0m\u001b[0;34m[\u001b[0m\u001b[0;34m'itemid'\u001b[0m\u001b[0;34m]\u001b[0m \u001b[0;34m==\u001b[0m \u001b[0;36m227488\u001b[0m\u001b[0;34m]\u001b[0m\u001b[0;34m.\u001b[0m\u001b[0mrename\u001b[0m\u001b[0;34m(\u001b[0m\u001b[0mcolumns\u001b[0m\u001b[0;34m=\u001b[0m\u001b[0;34m{\u001b[0m\u001b[0;34m'itemid'\u001b[0m\u001b[0;34m:\u001b[0m \u001b[0;34m'itemid_in'\u001b[0m\u001b[0;34m,\u001b[0m \u001b[0;34m'value'\u001b[0m\u001b[0;34m:\u001b[0m \u001b[0;34m'value_in'\u001b[0m\u001b[0;34m}\u001b[0m\u001b[0;34m)\u001b[0m\u001b[0;34m\u001b[0m\u001b[0;34m\u001b[0m\u001b[0m\n\u001b[0;32m---> 39\u001b[0;31m     \u001b[0mdf_GU_out\u001b[0m \u001b[0;34m=\u001b[0m \u001b[0mdf\u001b[0m\u001b[0;34m[\u001b[0m\u001b[0mdf\u001b[0m\u001b[0;34m[\u001b[0m\u001b[0;34m'itemid'\u001b[0m\u001b[0;34m]\u001b[0m \u001b[0;34m==\u001b[0m \u001b[0;36m227489\u001b[0m\u001b[0;34m]\u001b[0m\u001b[0;34m.\u001b[0m\u001b[0mrename\u001b[0m\u001b[0;34m(\u001b[0m\u001b[0mcolumns\u001b[0m\u001b[0;34m=\u001b[0m\u001b[0;34m{\u001b[0m\u001b[0;34m'itemid'\u001b[0m\u001b[0;34m:\u001b[0m \u001b[0;34m'itemid_out'\u001b[0m\u001b[0;34m,\u001b[0m \u001b[0;34m'value'\u001b[0m\u001b[0;34m:\u001b[0m \u001b[0;34m'value_out'\u001b[0m\u001b[0;34m}\u001b[0m\u001b[0;34m)\u001b[0m\u001b[0;34m\u001b[0m\u001b[0;34m\u001b[0m\u001b[0m\n\u001b[0m\u001b[1;32m     40\u001b[0m \u001b[0;34m\u001b[0m\u001b[0m\n\u001b[1;32m     41\u001b[0m     \u001b[0;31m# Merge input and output data on stay_id and start_time\u001b[0m\u001b[0;34m\u001b[0m\u001b[0;34m\u001b[0m\u001b[0;34m\u001b[0m\u001b[0m\n",
      "\u001b[0;32m~/miniconda3/envs/mimic_prep_env/lib/python3.7/bdb.py\u001b[0m in \u001b[0;36mtrace_dispatch\u001b[0;34m(self, frame, event, arg)\u001b[0m\n\u001b[1;32m     86\u001b[0m             \u001b[0;32mreturn\u001b[0m \u001b[0;31m# None\u001b[0m\u001b[0;34m\u001b[0m\u001b[0;34m\u001b[0m\u001b[0m\n\u001b[1;32m     87\u001b[0m         \u001b[0;32mif\u001b[0m \u001b[0mevent\u001b[0m \u001b[0;34m==\u001b[0m \u001b[0;34m'line'\u001b[0m\u001b[0;34m:\u001b[0m\u001b[0;34m\u001b[0m\u001b[0;34m\u001b[0m\u001b[0m\n\u001b[0;32m---> 88\u001b[0;31m             \u001b[0;32mreturn\u001b[0m \u001b[0mself\u001b[0m\u001b[0;34m.\u001b[0m\u001b[0mdispatch_line\u001b[0m\u001b[0;34m(\u001b[0m\u001b[0mframe\u001b[0m\u001b[0;34m)\u001b[0m\u001b[0;34m\u001b[0m\u001b[0;34m\u001b[0m\u001b[0m\n\u001b[0m\u001b[1;32m     89\u001b[0m         \u001b[0;32mif\u001b[0m \u001b[0mevent\u001b[0m \u001b[0;34m==\u001b[0m \u001b[0;34m'call'\u001b[0m\u001b[0;34m:\u001b[0m\u001b[0;34m\u001b[0m\u001b[0;34m\u001b[0m\u001b[0m\n\u001b[1;32m     90\u001b[0m             \u001b[0;32mreturn\u001b[0m \u001b[0mself\u001b[0m\u001b[0;34m.\u001b[0m\u001b[0mdispatch_call\u001b[0m\u001b[0;34m(\u001b[0m\u001b[0mframe\u001b[0m\u001b[0;34m,\u001b[0m \u001b[0marg\u001b[0m\u001b[0;34m)\u001b[0m\u001b[0;34m\u001b[0m\u001b[0;34m\u001b[0m\u001b[0m\n",
      "\u001b[0;32m~/miniconda3/envs/mimic_prep_env/lib/python3.7/bdb.py\u001b[0m in \u001b[0;36mdispatch_line\u001b[0;34m(self, frame)\u001b[0m\n\u001b[1;32m    111\u001b[0m         \u001b[0;32mif\u001b[0m \u001b[0mself\u001b[0m\u001b[0;34m.\u001b[0m\u001b[0mstop_here\u001b[0m\u001b[0;34m(\u001b[0m\u001b[0mframe\u001b[0m\u001b[0;34m)\u001b[0m \u001b[0;32mor\u001b[0m \u001b[0mself\u001b[0m\u001b[0;34m.\u001b[0m\u001b[0mbreak_here\u001b[0m\u001b[0;34m(\u001b[0m\u001b[0mframe\u001b[0m\u001b[0;34m)\u001b[0m\u001b[0;34m:\u001b[0m\u001b[0;34m\u001b[0m\u001b[0;34m\u001b[0m\u001b[0m\n\u001b[1;32m    112\u001b[0m             \u001b[0mself\u001b[0m\u001b[0;34m.\u001b[0m\u001b[0muser_line\u001b[0m\u001b[0;34m(\u001b[0m\u001b[0mframe\u001b[0m\u001b[0;34m)\u001b[0m\u001b[0;34m\u001b[0m\u001b[0;34m\u001b[0m\u001b[0m\n\u001b[0;32m--> 113\u001b[0;31m             \u001b[0;32mif\u001b[0m \u001b[0mself\u001b[0m\u001b[0;34m.\u001b[0m\u001b[0mquitting\u001b[0m\u001b[0;34m:\u001b[0m \u001b[0;32mraise\u001b[0m \u001b[0mBdbQuit\u001b[0m\u001b[0;34m\u001b[0m\u001b[0;34m\u001b[0m\u001b[0m\n\u001b[0m\u001b[1;32m    114\u001b[0m         \u001b[0;32mreturn\u001b[0m \u001b[0mself\u001b[0m\u001b[0;34m.\u001b[0m\u001b[0mtrace_dispatch\u001b[0m\u001b[0;34m\u001b[0m\u001b[0;34m\u001b[0m\u001b[0m\n\u001b[1;32m    115\u001b[0m \u001b[0;34m\u001b[0m\u001b[0m\n",
      "\u001b[0;31mBdbQuit\u001b[0m: "
     ]
    }
   ],
   "source": [
    "calculate_urine_output_and_aki(df = combined_aki, df_weight = weight_df)"
   ]
  },
  {
   "cell_type": "code",
   "execution_count": 145,
   "id": "974d0729",
   "metadata": {},
   "outputs": [
    {
     "data": {
      "text/html": [
       "<div>\n",
       "<style scoped>\n",
       "    .dataframe tbody tr th:only-of-type {\n",
       "        vertical-align: middle;\n",
       "    }\n",
       "\n",
       "    .dataframe tbody tr th {\n",
       "        vertical-align: top;\n",
       "    }\n",
       "\n",
       "    .dataframe thead th {\n",
       "        text-align: right;\n",
       "    }\n",
       "</style>\n",
       "<table border=\"1\" class=\"dataframe\">\n",
       "  <thead>\n",
       "    <tr style=\"text-align: right;\">\n",
       "      <th></th>\n",
       "      <th>stay_id</th>\n",
       "      <th>itemid</th>\n",
       "      <th>start_time</th>\n",
       "      <th>value</th>\n",
       "    </tr>\n",
       "  </thead>\n",
       "  <tbody>\n",
       "    <tr>\n",
       "      <th>909</th>\n",
       "      <td>33290343</td>\n",
       "      <td>226631</td>\n",
       "      <td>0</td>\n",
       "      <td>200.0</td>\n",
       "    </tr>\n",
       "    <tr>\n",
       "      <th>3617</th>\n",
       "      <td>37839379</td>\n",
       "      <td>227488</td>\n",
       "      <td>5</td>\n",
       "      <td>30.0</td>\n",
       "    </tr>\n",
       "    <tr>\n",
       "      <th>3618</th>\n",
       "      <td>37839379</td>\n",
       "      <td>227489</td>\n",
       "      <td>5</td>\n",
       "      <td>30.0</td>\n",
       "    </tr>\n",
       "    <tr>\n",
       "      <th>3627</th>\n",
       "      <td>37839379</td>\n",
       "      <td>227488</td>\n",
       "      <td>12</td>\n",
       "      <td>30.0</td>\n",
       "    </tr>\n",
       "    <tr>\n",
       "      <th>3628</th>\n",
       "      <td>37839379</td>\n",
       "      <td>227489</td>\n",
       "      <td>12</td>\n",
       "      <td>30.0</td>\n",
       "    </tr>\n",
       "    <tr>\n",
       "      <th>...</th>\n",
       "      <td>...</td>\n",
       "      <td>...</td>\n",
       "      <td>...</td>\n",
       "      <td>...</td>\n",
       "    </tr>\n",
       "    <tr>\n",
       "      <th>1421176</th>\n",
       "      <td>30259797</td>\n",
       "      <td>224639</td>\n",
       "      <td>-207</td>\n",
       "      <td>100.8</td>\n",
       "    </tr>\n",
       "    <tr>\n",
       "      <th>1422397</th>\n",
       "      <td>30259797</td>\n",
       "      <td>224639</td>\n",
       "      <td>-256</td>\n",
       "      <td>96.8</td>\n",
       "    </tr>\n",
       "    <tr>\n",
       "      <th>1424351</th>\n",
       "      <td>30259797</td>\n",
       "      <td>224639</td>\n",
       "      <td>-279</td>\n",
       "      <td>96.0</td>\n",
       "    </tr>\n",
       "    <tr>\n",
       "      <th>1424474</th>\n",
       "      <td>30259797</td>\n",
       "      <td>224639</td>\n",
       "      <td>-234</td>\n",
       "      <td>98.0</td>\n",
       "    </tr>\n",
       "    <tr>\n",
       "      <th>1424801</th>\n",
       "      <td>30259797</td>\n",
       "      <td>226531</td>\n",
       "      <td>-298</td>\n",
       "      <td>211.6</td>\n",
       "    </tr>\n",
       "  </tbody>\n",
       "</table>\n",
       "<p>4849 rows × 4 columns</p>\n",
       "</div>"
      ],
      "text/plain": [
       "          stay_id  itemid  start_time  value\n",
       "909      33290343  226631           0  200.0\n",
       "3617     37839379  227488           5   30.0\n",
       "3618     37839379  227489           5   30.0\n",
       "3627     37839379  227488          12   30.0\n",
       "3628     37839379  227489          12   30.0\n",
       "...           ...     ...         ...    ...\n",
       "1421176  30259797  224639        -207  100.8\n",
       "1422397  30259797  224639        -256   96.8\n",
       "1424351  30259797  224639        -279   96.0\n",
       "1424474  30259797  224639        -234   98.0\n",
       "1424801  30259797  226531        -298  211.6\n",
       "\n",
       "[4849 rows x 4 columns]"
      ]
     },
     "execution_count": 145,
     "metadata": {},
     "output_type": "execute_result"
    }
   ],
   "source": [
    "combined_aki"
   ]
  },
  {
   "cell_type": "code",
   "execution_count": null,
   "id": "d70ca8c6",
   "metadata": {},
   "outputs": [],
   "source": [
    "df = pd.read_csv(path)\n",
    "\n",
    "df = df[['stay_id', 'time', 'value', 'itemid', 'itemid_weight']]\n",
    "df_stay = df[df[stay_id] == stay_id_value]\n",
    "\n",
    "df_GU_in = df_stay[['itemid'] == 227488 ]\n",
    "df_GU_in = df_GU_in.rename(columns={'itemid': 'itemid_in', 'value': 'value_in'})\n",
    "\n",
    "df_GU_out = df_stay[['itemid'] == 227489 ]\n",
    "df_GU_out = df_GU_out.rename(columns={'itemid': 'itemid_out', 'value': 'value_out'})\n",
    "\n",
    "df_calculation = df_GU_out.merge(df_GU_in, how='inner', on=['stay_id','time'])\n",
    "df_calculation['value'] = df_calculation['value_out'] - df_calculation['value_in']\n",
    "df_calculation['interval'] = df_calculation['time'].diff()\n",
    "df_calculation['urine_per_hour'] = df_calculation['value']/df_calculation['interval']\n",
    "df_calculation['urine_per_hour_per_kg'] = df_calculation['urine_per_hour']/df_stay['itemid_weight']\n",
    "\n",
    "df_calculation[\"AKI_volume\"] = df['urine_per_hour_per_kg'].apply(lambda x: 1 if x < 0.5 else 0)\n",
    "df_calculation[\"AKI_time\"] = df['interval'].apply(lambda x: 1 if x >= 12 else 0)\n",
    "df_calculation[\"AKI_preliminary\"] = df_calculation[\"AKI_volume\"] + df_calculation[\"AKI_time\"]\n",
    "df_calculation['AKI'] = df_calculation['AKI_preliminary'].apply(lambda x: 1 if x == 2 else 0)"
   ]
  },
  {
   "cell_type": "code",
   "execution_count": 138,
   "id": "1688be3e",
   "metadata": {},
   "outputs": [
    {
     "data": {
      "text/html": [
       "<div>\n",
       "<style scoped>\n",
       "    .dataframe tbody tr th:only-of-type {\n",
       "        vertical-align: middle;\n",
       "    }\n",
       "\n",
       "    .dataframe tbody tr th {\n",
       "        vertical-align: top;\n",
       "    }\n",
       "\n",
       "    .dataframe thead th {\n",
       "        text-align: right;\n",
       "    }\n",
       "</style>\n",
       "<table border=\"1\" class=\"dataframe\">\n",
       "  <thead>\n",
       "    <tr style=\"text-align: right;\">\n",
       "      <th></th>\n",
       "      <th>stay_id</th>\n",
       "      <th>itemid</th>\n",
       "      <th>event_time_from_admit</th>\n",
       "      <th>valuenum</th>\n",
       "    </tr>\n",
       "  </thead>\n",
       "  <tbody>\n",
       "    <tr>\n",
       "      <th>0</th>\n",
       "      <td>32669861</td>\n",
       "      <td>220045</td>\n",
       "      <td>1 days 22:29:31</td>\n",
       "      <td>93.0</td>\n",
       "    </tr>\n",
       "    <tr>\n",
       "      <th>1</th>\n",
       "      <td>32669861</td>\n",
       "      <td>220210</td>\n",
       "      <td>1 days 22:29:31</td>\n",
       "      <td>26.0</td>\n",
       "    </tr>\n",
       "    <tr>\n",
       "      <th>2</th>\n",
       "      <td>32669861</td>\n",
       "      <td>220277</td>\n",
       "      <td>1 days 22:29:31</td>\n",
       "      <td>93.0</td>\n",
       "    </tr>\n",
       "    <tr>\n",
       "      <th>3</th>\n",
       "      <td>32669861</td>\n",
       "      <td>220179</td>\n",
       "      <td>1 days 22:30:31</td>\n",
       "      <td>128.0</td>\n",
       "    </tr>\n",
       "    <tr>\n",
       "      <th>4</th>\n",
       "      <td>32669861</td>\n",
       "      <td>220180</td>\n",
       "      <td>1 days 22:30:31</td>\n",
       "      <td>55.0</td>\n",
       "    </tr>\n",
       "    <tr>\n",
       "      <th>...</th>\n",
       "      <td>...</td>\n",
       "      <td>...</td>\n",
       "      <td>...</td>\n",
       "      <td>...</td>\n",
       "    </tr>\n",
       "    <tr>\n",
       "      <th>1496889</th>\n",
       "      <td>30259797</td>\n",
       "      <td>227442</td>\n",
       "      <td>12 days 16:33:25</td>\n",
       "      <td>4.7</td>\n",
       "    </tr>\n",
       "    <tr>\n",
       "      <th>1496890</th>\n",
       "      <td>30259797</td>\n",
       "      <td>227443</td>\n",
       "      <td>12 days 16:33:25</td>\n",
       "      <td>29.0</td>\n",
       "    </tr>\n",
       "    <tr>\n",
       "      <th>1496891</th>\n",
       "      <td>30259797</td>\n",
       "      <td>227465</td>\n",
       "      <td>12 days 16:33:25</td>\n",
       "      <td>14.2</td>\n",
       "    </tr>\n",
       "    <tr>\n",
       "      <th>1496892</th>\n",
       "      <td>30259797</td>\n",
       "      <td>227466</td>\n",
       "      <td>12 days 16:33:25</td>\n",
       "      <td>28.1</td>\n",
       "    </tr>\n",
       "    <tr>\n",
       "      <th>1496893</th>\n",
       "      <td>30259797</td>\n",
       "      <td>227467</td>\n",
       "      <td>12 days 16:33:25</td>\n",
       "      <td>1.3</td>\n",
       "    </tr>\n",
       "  </tbody>\n",
       "</table>\n",
       "<p>1496894 rows × 4 columns</p>\n",
       "</div>"
      ],
      "text/plain": [
       "          stay_id  itemid event_time_from_admit  valuenum\n",
       "0        32669861  220045       1 days 22:29:31      93.0\n",
       "1        32669861  220210       1 days 22:29:31      26.0\n",
       "2        32669861  220277       1 days 22:29:31      93.0\n",
       "3        32669861  220179       1 days 22:30:31     128.0\n",
       "4        32669861  220180       1 days 22:30:31      55.0\n",
       "...           ...     ...                   ...       ...\n",
       "1496889  30259797  227442      12 days 16:33:25       4.7\n",
       "1496890  30259797  227443      12 days 16:33:25      29.0\n",
       "1496891  30259797  227465      12 days 16:33:25      14.2\n",
       "1496892  30259797  227466      12 days 16:33:25      28.1\n",
       "1496893  30259797  227467      12 days 16:33:25       1.3\n",
       "\n",
       "[1496894 rows x 4 columns]"
      ]
     },
     "execution_count": 138,
     "metadata": {},
     "output_type": "execute_result"
    }
   ],
   "source": [
    "data['chart']"
   ]
  },
  {
   "cell_type": "code",
   "execution_count": 98,
   "id": "88144b88",
   "metadata": {},
   "outputs": [],
   "source": [
    "import pandas as pd\n",
    "\n",
    "def extract_aki_info(combined_aki):\n",
    "    \"\"\"\n",
    "    Extracts Acute Kidney Injury (AKI) information from a combined DataFrame of medical measurements.\n",
    "\n",
    "    Parameters:\n",
    "    combined_aki (pd.DataFrame): A DataFrame that contains medical data with 'stay_id', 'itemid', 'start_time', \n",
    "                                 and 'value' columns. 'itemid' identifies different measurements, such as urine \n",
    "                                 output and patient weight.\n",
    "\n",
    "    The function calculates AKI based on the following conditions:\n",
    "    - Urine output per hour per kilogram of body weight < 0.5 for at least 12 hours indicates potential AKI.\n",
    "    \n",
    "    It calculates for all `stay_id`s at once:\n",
    "    - Urine output per hour.\n",
    "    - Urine output per hour per kilogram.\n",
    "    - Flags whether the AKI volume condition is met (urine_per_hour_per_kg < 0.5).\n",
    "    - Flags whether the AKI time condition is met (interval >= 12 hours).\n",
    "    - Combines the volume and time criteria to flag AKI.\n",
    "\n",
    "    Returns:\n",
    "    pd.DataFrame: A DataFrame with the AKI-related calculations for each stay.\n",
    "    \"\"\"\n",
    "\n",
    "    df = combined_aki\n",
    "    \n",
    "    itemid_urine  = 226627 # '226631'\n",
    "    itemid_weight = 226512\n",
    "\n",
    "    # Filter for urine output and weight records\n",
    "    urine_output_df = df[df['itemid'] == itemid_urine][['stay_id', 'start_time', 'value']]\n",
    "    weight_df = df[df['itemid'] == itemid_weight][['stay_id', 'value']].drop_duplicates(subset=['stay_id'])\n",
    "\n",
    "    import pdb\n",
    "    pdb.set_trace() \n",
    "    \n",
    "    # Merge urine output with patient weight data\n",
    "    df_merged = pd.merge(urine_output_df, weight_df, on='stay_id', how='outer', suffixes=('_urine', '_weight'))\n",
    "\n",
    "    # Calculate time intervals (in hours) for each stay_id\n",
    "    df_merged['interval'] = df_merged.groupby('stay_id')['start_time'].diff()\n",
    "\n",
    "    # Calculate urine output per hour\n",
    "    df_merged['urine_per_hour'] = df_merged['value_urine'] / df_merged['interval']\n",
    "\n",
    "    # Calculate urine output per hour per kilogram of body weight\n",
    "    df_merged['urine_per_hour_per_kg'] = df_merged['urine_per_hour'] / df_merged['value_weight']\n",
    "\n",
    "    # AKI volume criteria: urine output < 0.5 mL/kg/h\n",
    "    df_merged[\"AKI_volume\"] = df_merged['urine_per_hour_per_kg'].apply(lambda x: 1 if x < 0.5 else 0)\n",
    "\n",
    "    # AKI time criteria: interval >= 12 hours\n",
    "    df_merged[\"AKI_time\"] = df_merged['interval'].apply(lambda x: 1 if x >= 12 else 0)\n",
    "\n",
    "    # Preliminary AKI: both conditions must be met\n",
    "    df_merged[\"AKI_preliminary\"] = df_merged[\"AKI_volume\"] + df_merged[\"AKI_time\"]\n",
    "\n",
    "    # Final AKI flag: both conditions must be satisfied (AKI_preliminary == 2)\n",
    "    df_merged['AKI'] = df_merged['AKI_preliminary'].apply(lambda x: 1 if x == 2 else 0)\n",
    "\n",
    "    return df_merged\n"
   ]
  },
  {
   "cell_type": "code",
   "execution_count": 99,
   "id": "ec15903b",
   "metadata": {},
   "outputs": [
    {
     "name": "stdout",
     "output_type": "stream",
     "text": [
      "> \u001b[0;32m/tmp/ipykernel_3988/2486658497.py\u001b[0m(39)\u001b[0;36mextract_aki_info\u001b[0;34m()\u001b[0m\n",
      "\u001b[0;32m     37 \u001b[0;31m\u001b[0;34m\u001b[0m\u001b[0m\n",
      "\u001b[0m\u001b[0;32m     38 \u001b[0;31m    \u001b[0;31m# Merge urine output with patient weight data\u001b[0m\u001b[0;34m\u001b[0m\u001b[0;34m\u001b[0m\u001b[0;34m\u001b[0m\u001b[0m\n",
      "\u001b[0m\u001b[0;32m---> 39 \u001b[0;31m    \u001b[0mdf_merged\u001b[0m \u001b[0;34m=\u001b[0m \u001b[0mpd\u001b[0m\u001b[0;34m.\u001b[0m\u001b[0mmerge\u001b[0m\u001b[0;34m(\u001b[0m\u001b[0murine_output_df\u001b[0m\u001b[0;34m,\u001b[0m \u001b[0mweight_df\u001b[0m\u001b[0;34m,\u001b[0m \u001b[0mon\u001b[0m\u001b[0;34m=\u001b[0m\u001b[0;34m'stay_id'\u001b[0m\u001b[0;34m,\u001b[0m \u001b[0mhow\u001b[0m\u001b[0;34m=\u001b[0m\u001b[0;34m'outer'\u001b[0m\u001b[0;34m,\u001b[0m \u001b[0msuffixes\u001b[0m\u001b[0;34m=\u001b[0m\u001b[0;34m(\u001b[0m\u001b[0;34m'_urine'\u001b[0m\u001b[0;34m,\u001b[0m \u001b[0;34m'_weight'\u001b[0m\u001b[0;34m)\u001b[0m\u001b[0;34m)\u001b[0m\u001b[0;34m\u001b[0m\u001b[0;34m\u001b[0m\u001b[0m\n",
      "\u001b[0m\u001b[0;32m     40 \u001b[0;31m\u001b[0;34m\u001b[0m\u001b[0m\n",
      "\u001b[0m\u001b[0;32m     41 \u001b[0;31m    \u001b[0;31m# Calculate time intervals (in hours) for each stay_id\u001b[0m\u001b[0;34m\u001b[0m\u001b[0;34m\u001b[0m\u001b[0;34m\u001b[0m\u001b[0m\n",
      "\u001b[0m\n",
      "ipdb> n\n",
      "> \u001b[0;32m/tmp/ipykernel_3988/2486658497.py\u001b[0m(42)\u001b[0;36mextract_aki_info\u001b[0;34m()\u001b[0m\n",
      "\u001b[0;32m     40 \u001b[0;31m\u001b[0;34m\u001b[0m\u001b[0m\n",
      "\u001b[0m\u001b[0;32m     41 \u001b[0;31m    \u001b[0;31m# Calculate time intervals (in hours) for each stay_id\u001b[0m\u001b[0;34m\u001b[0m\u001b[0;34m\u001b[0m\u001b[0;34m\u001b[0m\u001b[0m\n",
      "\u001b[0m\u001b[0;32m---> 42 \u001b[0;31m    \u001b[0mdf_merged\u001b[0m\u001b[0;34m[\u001b[0m\u001b[0;34m'interval'\u001b[0m\u001b[0;34m]\u001b[0m \u001b[0;34m=\u001b[0m \u001b[0mdf_merged\u001b[0m\u001b[0;34m.\u001b[0m\u001b[0mgroupby\u001b[0m\u001b[0;34m(\u001b[0m\u001b[0;34m'stay_id'\u001b[0m\u001b[0;34m)\u001b[0m\u001b[0;34m[\u001b[0m\u001b[0;34m'start_time'\u001b[0m\u001b[0;34m]\u001b[0m\u001b[0;34m.\u001b[0m\u001b[0mdiff\u001b[0m\u001b[0;34m(\u001b[0m\u001b[0;34m)\u001b[0m\u001b[0;34m\u001b[0m\u001b[0;34m\u001b[0m\u001b[0m\n",
      "\u001b[0m\u001b[0;32m     43 \u001b[0;31m\u001b[0;34m\u001b[0m\u001b[0m\n",
      "\u001b[0m\u001b[0;32m     44 \u001b[0;31m    \u001b[0;31m# Calculate urine output per hour\u001b[0m\u001b[0;34m\u001b[0m\u001b[0;34m\u001b[0m\u001b[0;34m\u001b[0m\u001b[0m\n",
      "\u001b[0m\n",
      "ipdb> df_merged.shape\n",
      "(35, 4)\n",
      "ipdb> exit\n"
     ]
    },
    {
     "ename": "BdbQuit",
     "evalue": "",
     "output_type": "error",
     "traceback": [
      "\u001b[0;31m---------------------------------------------------------------------------\u001b[0m",
      "\u001b[0;31mBdbQuit\u001b[0m                                   Traceback (most recent call last)",
      "\u001b[0;32m/tmp/ipykernel_3988/1580132180.py\u001b[0m in \u001b[0;36m<module>\u001b[0;34m\u001b[0m\n\u001b[0;32m----> 1\u001b[0;31m \u001b[0mdf_merged\u001b[0m \u001b[0;34m=\u001b[0m \u001b[0mextract_aki_info\u001b[0m\u001b[0;34m(\u001b[0m\u001b[0mcombined_aki\u001b[0m\u001b[0;34m)\u001b[0m\u001b[0;34m\u001b[0m\u001b[0;34m\u001b[0m\u001b[0m\n\u001b[0m",
      "\u001b[0;32m/tmp/ipykernel_3988/2486658497.py\u001b[0m in \u001b[0;36mextract_aki_info\u001b[0;34m(combined_aki)\u001b[0m\n\u001b[1;32m     40\u001b[0m \u001b[0;34m\u001b[0m\u001b[0m\n\u001b[1;32m     41\u001b[0m     \u001b[0;31m# Calculate time intervals (in hours) for each stay_id\u001b[0m\u001b[0;34m\u001b[0m\u001b[0;34m\u001b[0m\u001b[0;34m\u001b[0m\u001b[0m\n\u001b[0;32m---> 42\u001b[0;31m     \u001b[0mdf_merged\u001b[0m\u001b[0;34m[\u001b[0m\u001b[0;34m'interval'\u001b[0m\u001b[0;34m]\u001b[0m \u001b[0;34m=\u001b[0m \u001b[0mdf_merged\u001b[0m\u001b[0;34m.\u001b[0m\u001b[0mgroupby\u001b[0m\u001b[0;34m(\u001b[0m\u001b[0;34m'stay_id'\u001b[0m\u001b[0;34m)\u001b[0m\u001b[0;34m[\u001b[0m\u001b[0;34m'start_time'\u001b[0m\u001b[0;34m]\u001b[0m\u001b[0;34m.\u001b[0m\u001b[0mdiff\u001b[0m\u001b[0;34m(\u001b[0m\u001b[0;34m)\u001b[0m\u001b[0;34m\u001b[0m\u001b[0;34m\u001b[0m\u001b[0m\n\u001b[0m\u001b[1;32m     43\u001b[0m \u001b[0;34m\u001b[0m\u001b[0m\n\u001b[1;32m     44\u001b[0m     \u001b[0;31m# Calculate urine output per hour\u001b[0m\u001b[0;34m\u001b[0m\u001b[0;34m\u001b[0m\u001b[0;34m\u001b[0m\u001b[0m\n",
      "\u001b[0;32m/tmp/ipykernel_3988/2486658497.py\u001b[0m in \u001b[0;36mextract_aki_info\u001b[0;34m(combined_aki)\u001b[0m\n\u001b[1;32m     40\u001b[0m \u001b[0;34m\u001b[0m\u001b[0m\n\u001b[1;32m     41\u001b[0m     \u001b[0;31m# Calculate time intervals (in hours) for each stay_id\u001b[0m\u001b[0;34m\u001b[0m\u001b[0;34m\u001b[0m\u001b[0;34m\u001b[0m\u001b[0m\n\u001b[0;32m---> 42\u001b[0;31m     \u001b[0mdf_merged\u001b[0m\u001b[0;34m[\u001b[0m\u001b[0;34m'interval'\u001b[0m\u001b[0;34m]\u001b[0m \u001b[0;34m=\u001b[0m \u001b[0mdf_merged\u001b[0m\u001b[0;34m.\u001b[0m\u001b[0mgroupby\u001b[0m\u001b[0;34m(\u001b[0m\u001b[0;34m'stay_id'\u001b[0m\u001b[0;34m)\u001b[0m\u001b[0;34m[\u001b[0m\u001b[0;34m'start_time'\u001b[0m\u001b[0;34m]\u001b[0m\u001b[0;34m.\u001b[0m\u001b[0mdiff\u001b[0m\u001b[0;34m(\u001b[0m\u001b[0;34m)\u001b[0m\u001b[0;34m\u001b[0m\u001b[0;34m\u001b[0m\u001b[0m\n\u001b[0m\u001b[1;32m     43\u001b[0m \u001b[0;34m\u001b[0m\u001b[0m\n\u001b[1;32m     44\u001b[0m     \u001b[0;31m# Calculate urine output per hour\u001b[0m\u001b[0;34m\u001b[0m\u001b[0;34m\u001b[0m\u001b[0;34m\u001b[0m\u001b[0m\n",
      "\u001b[0;32m~/miniconda3/envs/mimic_prep_env/lib/python3.7/bdb.py\u001b[0m in \u001b[0;36mtrace_dispatch\u001b[0;34m(self, frame, event, arg)\u001b[0m\n\u001b[1;32m     86\u001b[0m             \u001b[0;32mreturn\u001b[0m \u001b[0;31m# None\u001b[0m\u001b[0;34m\u001b[0m\u001b[0;34m\u001b[0m\u001b[0m\n\u001b[1;32m     87\u001b[0m         \u001b[0;32mif\u001b[0m \u001b[0mevent\u001b[0m \u001b[0;34m==\u001b[0m \u001b[0;34m'line'\u001b[0m\u001b[0;34m:\u001b[0m\u001b[0;34m\u001b[0m\u001b[0;34m\u001b[0m\u001b[0m\n\u001b[0;32m---> 88\u001b[0;31m             \u001b[0;32mreturn\u001b[0m \u001b[0mself\u001b[0m\u001b[0;34m.\u001b[0m\u001b[0mdispatch_line\u001b[0m\u001b[0;34m(\u001b[0m\u001b[0mframe\u001b[0m\u001b[0;34m)\u001b[0m\u001b[0;34m\u001b[0m\u001b[0;34m\u001b[0m\u001b[0m\n\u001b[0m\u001b[1;32m     89\u001b[0m         \u001b[0;32mif\u001b[0m \u001b[0mevent\u001b[0m \u001b[0;34m==\u001b[0m \u001b[0;34m'call'\u001b[0m\u001b[0;34m:\u001b[0m\u001b[0;34m\u001b[0m\u001b[0;34m\u001b[0m\u001b[0m\n\u001b[1;32m     90\u001b[0m             \u001b[0;32mreturn\u001b[0m \u001b[0mself\u001b[0m\u001b[0;34m.\u001b[0m\u001b[0mdispatch_call\u001b[0m\u001b[0;34m(\u001b[0m\u001b[0mframe\u001b[0m\u001b[0;34m,\u001b[0m \u001b[0marg\u001b[0m\u001b[0;34m)\u001b[0m\u001b[0;34m\u001b[0m\u001b[0;34m\u001b[0m\u001b[0m\n",
      "\u001b[0;32m~/miniconda3/envs/mimic_prep_env/lib/python3.7/bdb.py\u001b[0m in \u001b[0;36mdispatch_line\u001b[0;34m(self, frame)\u001b[0m\n\u001b[1;32m    111\u001b[0m         \u001b[0;32mif\u001b[0m \u001b[0mself\u001b[0m\u001b[0;34m.\u001b[0m\u001b[0mstop_here\u001b[0m\u001b[0;34m(\u001b[0m\u001b[0mframe\u001b[0m\u001b[0;34m)\u001b[0m \u001b[0;32mor\u001b[0m \u001b[0mself\u001b[0m\u001b[0;34m.\u001b[0m\u001b[0mbreak_here\u001b[0m\u001b[0;34m(\u001b[0m\u001b[0mframe\u001b[0m\u001b[0;34m)\u001b[0m\u001b[0;34m:\u001b[0m\u001b[0;34m\u001b[0m\u001b[0;34m\u001b[0m\u001b[0m\n\u001b[1;32m    112\u001b[0m             \u001b[0mself\u001b[0m\u001b[0;34m.\u001b[0m\u001b[0muser_line\u001b[0m\u001b[0;34m(\u001b[0m\u001b[0mframe\u001b[0m\u001b[0;34m)\u001b[0m\u001b[0;34m\u001b[0m\u001b[0;34m\u001b[0m\u001b[0m\n\u001b[0;32m--> 113\u001b[0;31m             \u001b[0;32mif\u001b[0m \u001b[0mself\u001b[0m\u001b[0;34m.\u001b[0m\u001b[0mquitting\u001b[0m\u001b[0;34m:\u001b[0m \u001b[0;32mraise\u001b[0m \u001b[0mBdbQuit\u001b[0m\u001b[0;34m\u001b[0m\u001b[0;34m\u001b[0m\u001b[0m\n\u001b[0m\u001b[1;32m    114\u001b[0m         \u001b[0;32mreturn\u001b[0m \u001b[0mself\u001b[0m\u001b[0;34m.\u001b[0m\u001b[0mtrace_dispatch\u001b[0m\u001b[0;34m\u001b[0m\u001b[0;34m\u001b[0m\u001b[0m\n\u001b[1;32m    115\u001b[0m \u001b[0;34m\u001b[0m\u001b[0m\n",
      "\u001b[0;31mBdbQuit\u001b[0m: "
     ]
    }
   ],
   "source": [
    "df_merged = extract_aki_info(combined_aki)"
   ]
  },
  {
   "cell_type": "markdown",
   "id": "82504018",
   "metadata": {},
   "source": [
    "## Visualize the dynamic data\n",
    "Now, since we processed the data into a temporal format, we can now visualize the resulting tables"
   ]
  },
  {
   "cell_type": "code",
   "execution_count": null,
   "id": "486e78a8",
   "metadata": {},
   "outputs": [],
   "source": [
    "from data_loading.load_preprocessed_dynamic_data import DynamicDataLoader\n",
    "\n",
    "# Load data with default paths\n",
    "data_loader = DynamicDataLoader(data_icu=True)\n",
    "X, y = data_loader.load_data()\n",
    "\n",
    "# Load data with custom paths\n",
    "data_loader_custom = DataLoader(data_icu=True, \n",
    "                                labels_path='./data/csv/labels.csv',\n",
    "                                data_dir='./data/csv/')\n",
    "X_custom, y_custom = data_loader_custom.load_data()\n",
    "\n",
    "# Load data for a specific number of patients (e.g., 10 patients) with custom paths\n",
    "data_loader_limited = DynamicDataLoader(data_icu=True, \n",
    "                                 labels_path='./data/csv/labels.csv',\n",
    "                                 data_dir='./data/csv/', \n",
    "                                 num_patients=10)\n",
    "X_limited, y_limited = data_loader_limited.load_data()"
   ]
  },
  {
   "cell_type": "code",
   "execution_count": null,
   "id": "872a20c8",
   "metadata": {},
   "outputs": [],
   "source": [
    "# lets take a look \n",
    "X_custom.head()"
   ]
  },
  {
   "cell_type": "markdown",
   "id": "c7e6afc6",
   "metadata": {},
   "source": [
    "## Visualize the dynamic data\n",
    "Now, since we processed the data into a temporal format, we can now visualize the resulting tables"
   ]
  },
  {
   "cell_type": "code",
   "execution_count": null,
   "id": "consolidated-former",
   "metadata": {},
   "outputs": [],
   "source": [
    "print(\"=======Machine :earning Models=======\")\n",
    "radio_input5 = widgets.RadioButtons(options=['Logistic Regression','Random Forest','Gradient Bossting','Xgboost'],value='Gradient Bossting')\n",
    "display(radio_input5)\n",
    "print(\"Do you wnat to conactenate the time-series feature\")\n",
    "radio_input6 = widgets.RadioButtons(options=['Conactenate','Aggregate'],value='Conactenate')\n",
    "display(radio_input6)\n",
    "print(\"Please select below option for cross-validation\")\n",
    "radio_input7 = widgets.RadioButtons(options=['No CV','5-fold CV','10-fold CV'],value='5-fold CV')\n",
    "display(radio_input7)\n",
    "print(\"Do you want to do oversampling for minority calss ?\")\n",
    "radio_input8 = widgets.RadioButtons(options=['True','False'],value='True')\n",
    "display(radio_input8)"
   ]
  },
  {
   "cell_type": "code",
   "execution_count": null,
   "id": "promising-miller",
   "metadata": {
    "scrolled": true
   },
   "outputs": [],
   "source": [
    "if radio_input7.value=='No CV':\n",
    "    cv=0\n",
    "elif radio_input7.value=='5-fold CV':\n",
    "    cv=int(5)\n",
    "elif radio_input7.value=='10-fold CV':\n",
    "    cv=int(10)\n",
    "ml=ml_models.ML_models(data_icu,cv,radio_input5.value,concat=radio_input6.value=='Conactenate',oversampling=radio_input8.value=='True')"
   ]
  },
  {
   "cell_type": "markdown",
   "id": "ordinary-chancellor",
   "metadata": {},
   "source": [
    "## 9. Deep Learning Models\n",
    "- Time-series LSTM and Time-series CNN which will only use time-series events like medications, charts, labs, output events to train model.\n",
    "\n",
    "- Hybrid LSTM and Hybrid CNN will use static data - diagnosis, demographic data aong with other time-series data to train model.\n",
    "\n",
    "- LSTM with Attention model will use attention layer to rank the important features and learn to predict output. It will use both static and time-series data.\n",
    "\n",
    "**Go to ./model/parameter.py and define all variables needed for model building and training**\n",
    "\n",
    "**Please run below cell to select which model to use**"
   ]
  },
  {
   "cell_type": "code",
   "execution_count": null,
   "id": "operational-pride",
   "metadata": {},
   "outputs": [],
   "source": [
    "radio_input6=widgets.RadioButtons(options=['Time-series LSTM','Time-series CNN','Hybrid LSTM','Hybrid CNN'],value='Time-series LSTM')\n",
    "display(radio_input6)\n",
    "print(\"Please select below option for cross-validation\")\n",
    "radio_input7 = widgets.RadioButtons(options=['No CV','5-fold CV','10-fold CV'],value='5-fold CV')\n",
    "display(radio_input7)\n",
    "print(\"Do you want to do oversampling for minority calss ?\")\n",
    "radio_input8 = widgets.RadioButtons(options=['True','False'],value='True')\n",
    "display(radio_input8)"
   ]
  },
  {
   "cell_type": "code",
   "execution_count": null,
   "id": "golden-stewart",
   "metadata": {
    "scrolled": true
   },
   "outputs": [],
   "source": [
    "if radio_input7.value=='No CV':\n",
    "    cv=0\n",
    "elif radio_input7.value=='5-fold CV':\n",
    "    cv=int(5)\n",
    "elif radio_input7.value=='10-fold CV':\n",
    "    cv=int(10)\n",
    "    \n",
    "if data_icu:\n",
    "    model=dl_train.DL_models(data_icu,diag_flag,proc_flag,out_flag,chart_flag,med_flag,False,radio_input6.value,cv,oversampling=radio_input8.value=='True',model_name='attn_icu_read',train=True)\n",
    "else:\n",
    "    model=dl_train.DL_models(data_icu,diag_flag,proc_flag,False,False,med_flag,lab_flag,radio_input6.value,cv,oversampling=radio_input8.value=='True',model_name='attn_icu_read',train=True)"
   ]
  },
  {
   "cell_type": "markdown",
   "id": "driven-factor",
   "metadata": {},
   "source": [
    "## 10. Running BEHRT\n",
    "Below we integrate the implementation of BEHRT in our pipeline.\n",
    "We perform pre-procesing needed to run BEHRT model. https://github.com/deepmedicine/BEHRT\n",
    "\n",
    "Few things to note before running BEHRT -\n",
    "- The numerical values are binned into quantiles.\n",
    "- BEHRT has recommended maximum number of events per sample to be 512. \n",
    "    So feature selection is important so that number of events per sample does not exceed 512.\n",
    "- The model is quite computationally heavy so it requires a GPU.\n",
    "\n",
    "The output files for BEHRT will be saved in ./data/behrt/ folder\n",
    "\n",
    "**Please run below cell to to pre-process and run BEHRT on the selected cohort**"
   ]
  },
  {
   "cell_type": "code",
   "execution_count": null,
   "id": "aggressive-break",
   "metadata": {},
   "outputs": [],
   "source": [
    "if data_icu:\n",
    "    token=tokenization.BEHRT_models(data_icu,diag_flag,proc_flag,out_flag,chart_flag,med_flag,False)\n",
    "    tokenized_src, tokenized_age, tokenized_gender, tokenized_ethni, tokenized_ins, tokenized_labels=token.tokenize()\n",
    "else:\n",
    "    token=tokenization.BEHRT_models(data_icu,diag_flag,proc_flag,False,False,med_flag,lab_flag)\n",
    "    tokenized_src, tokenized_age, tokenized_gender, tokenized_ethni, tokenized_ins, tokenized_labels=token.tokenize()\n",
    "    \n",
    "behrt_train.train_behrt(tokenized_src, tokenized_age, tokenized_gender, tokenized_ethni, tokenized_ins, tokenized_labels)"
   ]
  },
  {
   "cell_type": "markdown",
   "id": "reserved-objective",
   "metadata": {},
   "source": [
    "### EVALUATION AS STANDALONE MODULE\n",
    "Below cell shows an exaple of how evaluation module can be used as a standalone module.\n",
    "\n",
    "evaluation.Loss class can be instantiated and model output and ground truth can be passed to it to obtain results.\n",
    "\n",
    "In the example below we captured model output and ground truth in a file and used that file to read the data.\n",
    "\n",
    "In function definition ***loss(prob,truth,logits,False)***\n",
    "\n",
    "prob -> List of Output predicted probabilities of case being positive\n",
    "\n",
    "truth -> List of ground truth labels\n",
    "\n",
    "logits -> List of logits obtained from last fully connected layer before applying softmax.sigmoid function in the model."
   ]
  },
  {
   "cell_type": "code",
   "execution_count": null,
   "id": "streaming-integration",
   "metadata": {},
   "outputs": [],
   "source": [
    "if torch.cuda.is_available():\n",
    "    device='cuda:0'\n",
    "#device='cpu'\n",
    "loss=evaluation.Loss(device,acc=True,ppv=True,sensi=True,tnr=True,npv=True,auroc=True,aurocPlot=True,auprc=True,auprcPlot=True,callb=True,callbPlot=True)\n",
    "with open(\"./data/output/outputDict\", 'rb') as fp:\n",
    "    outputDict=pickle.load(fp)\n",
    "prob=list(outputDict['Prob'])\n",
    "truth=list(outputDict['Labels'])\n",
    "logits=list(outputDict['Logits'])\n",
    "#print(torch.tensor(prob))\n",
    "print(\"======= TESTING ========\")\n",
    "loss(prob,truth,logits,train=False,standalone=True)\n"
   ]
  },
  {
   "cell_type": "markdown",
   "id": "designing-works",
   "metadata": {},
   "source": [
    "### 11. FAIRNESS EVALUATION\n",
    "In train and testing step we save output files in **./data/output/** folder.\n",
    "\n",
    "This file conatins list of demographic variables included in training and testing of the model.\n",
    "\n",
    "It also contains the ground truth labels and predicted probability for each sample.\n",
    "\n",
    "We use the above saved data to perform fairness evaluation of the results obtained from model testing.\n",
    "\n",
    "This module can be used as stand-alone module also.\n",
    "\n",
    "Please create a file that contains predicted probabilites form the last sigmoid layer in column named **Prob** and\n",
    "ground truth labels for each sample in column named **Labels**."
   ]
  },
  {
   "cell_type": "code",
   "execution_count": null,
   "id": "civilian-direction",
   "metadata": {},
   "outputs": [],
   "source": [
    "fairness.fairness_evaluation(inputFile='outputDict',outputFile='fairnessReport')"
   ]
  },
  {
   "cell_type": "markdown",
   "id": "efficient-distinction",
   "metadata": {},
   "source": [
    "### 12. MODEL CALLIBRATION\n",
    "\n",
    "Please run below cell if you want to callibrate predicted probabilites of the model on test data.\n",
    "It will use the output saved during the testing of the model.\n",
    "\n",
    "The file is saved in **./data/output/**.\n",
    "\n",
    "This module can be used as stand-alone module also.\n",
    "\n",
    "Please create a file that contain predicted logits form the last fully connected layer in column named **Logits** and <br>ground truth labels for each sample in a column named **Labels**."
   ]
  },
  {
   "cell_type": "code",
   "execution_count": null,
   "id": "secure-flavor",
   "metadata": {},
   "outputs": [],
   "source": [
    "callibrate_output.callibrate(inputFile='outputDict',outputFile='callibratedResults')"
   ]
  },
  {
   "cell_type": "code",
   "execution_count": null,
   "id": "fleet-canyon",
   "metadata": {},
   "outputs": [],
   "source": []
  }
 ],
 "metadata": {
  "hide_input": false,
  "kernelspec": {
   "display_name": "Python 3 (mimic_prep_env)",
   "language": "python",
   "name": "mimic_prep_env"
  },
  "language_info": {
   "codemirror_mode": {
    "name": "ipython",
    "version": 3
   },
   "file_extension": ".py",
   "mimetype": "text/x-python",
   "name": "python",
   "nbconvert_exporter": "python",
   "pygments_lexer": "ipython3",
   "version": "3.7.7"
  }
 },
 "nbformat": 4,
 "nbformat_minor": 5
}
