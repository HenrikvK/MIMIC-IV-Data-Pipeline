{
 "cells": [
  {
   "cell_type": "code",
   "execution_count": 1,
   "id": "cc242e2f",
   "metadata": {},
   "outputs": [],
   "source": [
    "# data_path = '/../data/real_world_data/physionet.org/files'\n",
    "data_path = '/../data/real_world_data/physionet.org_small/files'"
   ]
  },
  {
   "cell_type": "code",
   "execution_count": 2,
   "id": "available-albany",
   "metadata": {},
   "outputs": [],
   "source": [
    "%load_ext autoreload\n",
    "%autoreload 2\n",
    "\n",
    "import ipywidgets as widgets\n",
    "import sys\n",
    "from pathlib import Path\n",
    "import os\n",
    "import importlib\n",
    "\n",
    "\n",
    "module_path='preprocessing/day_intervals_preproc'\n",
    "if module_path not in sys.path:\n",
    "    sys.path.append(module_path)\n",
    "\n",
    "module_path='utils'\n",
    "if module_path not in sys.path:\n",
    "    sys.path.append(module_path)\n",
    "    \n",
    "module_path='preprocessing/hosp_module_preproc'\n",
    "if module_path not in sys.path:\n",
    "    sys.path.append(module_path)\n",
    "    \n",
    "module_path='model'\n",
    "if module_path not in sys.path:\n",
    "    sys.path.append(module_path)\n",
    "#print(sys.path)\n",
    "# define the path to the data from current repository \n",
    "# (from here data is in mimiciv/3.0/hosp )\n",
    "root_dir = os.path.dirname(os.path.abspath('UserInterface.ipynb')) + data_path\n",
    "import day_intervals_cohort\n",
    "from day_intervals_cohort import *\n",
    "\n",
    "import day_intervals_cohort_v2\n",
    "from day_intervals_cohort_v2 import *\n",
    "\n",
    "import day_intervals_cohort_v3\n",
    "from day_intervals_cohort_v3 import *\n",
    "\n",
    "import data_generation_icu\n",
    "\n",
    "import data_generation\n",
    "import evaluation\n",
    "\n",
    "import feature_selection_hosp\n",
    "from feature_selection_hosp import *\n",
    "\n",
    "# import train\n",
    "# from train import *\n",
    "\n",
    "\n",
    "import ml_models\n",
    "from ml_models import *\n",
    "\n",
    "import dl_train\n",
    "from dl_train import *\n",
    "\n",
    "import tokenization\n",
    "from tokenization import *\n",
    "\n",
    "\n",
    "import behrt_train\n",
    "from behrt_train import *\n",
    "\n",
    "import feature_selection_icu\n",
    "from feature_selection_icu import *\n",
    "import fairness\n",
    "import callibrate_output"
   ]
  },
  {
   "cell_type": "code",
   "execution_count": 3,
   "id": "nutritional-chicago",
   "metadata": {},
   "outputs": [],
   "source": [
    "importlib.reload(day_intervals_cohort)\n",
    "import day_intervals_cohort\n",
    "from day_intervals_cohort import *\n",
    "\n",
    "importlib.reload(day_intervals_cohort_v2)\n",
    "import day_intervals_cohort_v2\n",
    "from day_intervals_cohort_v2 import *\n",
    "\n",
    "importlib.reload(day_intervals_cohort_v3)\n",
    "import day_intervals_cohort_v3\n",
    "from day_intervals_cohort_v3 import *\n",
    "\n",
    "\n",
    "importlib.reload(data_generation_icu)\n",
    "import data_generation_icu\n",
    "importlib.reload(data_generation)\n",
    "import data_generation\n",
    "\n",
    "importlib.reload(feature_selection_hosp)\n",
    "import feature_selection_hosp\n",
    "from feature_selection_hosp import *\n",
    "\n",
    "importlib.reload(feature_selection_icu)\n",
    "import feature_selection_icu\n",
    "from feature_selection_icu import *\n",
    "\n",
    "importlib.reload(tokenization)\n",
    "import tokenization\n",
    "from tokenization import *\n",
    "\n",
    "importlib.reload(ml_models)\n",
    "import ml_models\n",
    "from ml_models import *\n",
    "\n",
    "importlib.reload(dl_train)\n",
    "import dl_train\n",
    "from dl_train import *\n",
    "\n",
    "importlib.reload(behrt_train)\n",
    "import behrt_train\n",
    "from behrt_train import *\n",
    "\n",
    "importlib.reload(fairness)\n",
    "import fairness\n",
    "\n",
    "importlib.reload(callibrate_output)\n",
    "import callibrate_output\n",
    "\n",
    "importlib.reload(evaluation)\n",
    "import evaluation"
   ]
  },
  {
   "cell_type": "markdown",
   "id": "eligible-demand",
   "metadata": {},
   "source": [
    "# Welcome to your MIMIC-IV Project"
   ]
  },
  {
   "cell_type": "markdown",
   "id": "jewish-crown",
   "metadata": {},
   "source": [
    "This repository explains the steps to download and clean MIMIC-IV dataset for analysis.\n",
    "The repository is compatible with MIMIC-IV v1.0 and MIMIC-IV v2.0\n",
    "\n",
    "Please go to:\n",
    "- https://physionet.org/content/mimiciv/1.0/ for v1.0\n",
    "- https://physionet.org/content/mimiciv/2.0/ for v2.0\n",
    "\n",
    "Follow instructions to get access to MIMIC-IV dataset.\n",
    "\n",
    "Download the files using your terminal: \n",
    "- wget -r -N -c -np --user mehakg --ask-password https://physionet.org/files/mimiciv/1.0/ or\n",
    "- wget -r -N -c -np --user mehakg --ask-password https://physionet.org/files/mimiciv/2.0/\n",
    "        \n",
    "\n",
    "Save downloaded files in the parent directory of this github repo. \n",
    "\n",
    "The structure should look like below for v1.0-\n",
    "- mimiciv/1.0/core\n",
    "- mimiciv/1.0/hosp\n",
    "- mimiciv/1.0/icu\n",
    "\n",
    "The structure should look like below for v2.0-\n",
    "- mimiciv/2.0/hosp\n",
    "- mimiciv/2.0/icu"
   ]
  },
  {
   "cell_type": "markdown",
   "id": "happy-tissue",
   "metadata": {},
   "source": [
    "## 1. DATA EXTRACTION\n",
    "Please run below cell to select option for cohort selection.\n",
    "The cohort will be svaed in **./data/cohort/**"
   ]
  },
  {
   "cell_type": "code",
   "execution_count": 4,
   "id": "structured-dimension",
   "metadata": {
    "tags": [
     "{",
     "\"tags\":",
     "[",
     "\"hide-input\"",
     "]",
     "}"
    ]
   },
   "outputs": [
    {
     "name": "stdout",
     "output_type": "stream",
     "text": [
      "Please select the approriate version of MIMIC-IV for which you have downloaded data ?\n"
     ]
    },
    {
     "data": {
      "application/vnd.jupyter.widget-view+json": {
       "model_id": "d0d79350c07041d2b30351032318baeb",
       "version_major": 2,
       "version_minor": 0
      },
      "text/plain": [
       "RadioButtons(options=('Version 1', 'Version 2', 'Version 3'), value='Version 1')"
      ]
     },
     "metadata": {},
     "output_type": "display_data"
    },
    {
     "name": "stdout",
     "output_type": "stream",
     "text": [
      "Please select what prediction task you want to perform ?\n"
     ]
    },
    {
     "data": {
      "application/vnd.jupyter.widget-view+json": {
       "model_id": "d18bcd7be172447995975b691c0bd155",
       "version_major": 2,
       "version_minor": 0
      },
      "text/plain": [
       "RadioButtons(options=('Mortality', 'Length of Stay', 'Readmission', 'Phenotype'), value='Mortality')"
      ]
     },
     "metadata": {},
     "output_type": "display_data"
    }
   ],
   "source": [
    "print(\"Please select the approriate version of MIMIC-IV for which you have downloaded data ?\")\n",
    "version = widgets.RadioButtons(options=['Version 1','Version 2','Version 3'],value='Version 1')\n",
    "display(version)\n",
    "\n",
    "print(\"Please select what prediction task you want to perform ?\")\n",
    "radio_input4 = widgets.RadioButtons(options=['Mortality','Length of Stay','Readmission','Phenotype'],value='Mortality')\n",
    "display(radio_input4)\n"
   ]
  },
  {
   "cell_type": "markdown",
   "id": "written-syndicate",
   "metadata": {},
   "source": [
    "### Refining Cohort and Prediction Task Definition\n",
    "\n",
    "Based on your current selection following block will provide option to further refine prediction task and cohort associated with it:\n",
    "\n",
    "- First you will refine the prediction task choosing from following options -\n",
    "    - **length of Stay** - You can select from two predefined options or enter custom number of days to predict length os stay greater than number of days.\n",
    "\n",
    "    - **Readmission** - You can select from two predefined options or enter custom number of days to predict readmission after \"number of days\" after previous admission.\n",
    "\n",
    "    - **Phenotype Prediction** - You can select from four major chronic diseases to predict its future outcome\n",
    "\n",
    "        - Heart failure\n",
    "        - CAD (Coronary Artery Disease)\n",
    "        - CKD (Chronic Kidney Disease)\n",
    "        - COPD (Chronic obstructive pulmonary disease)\n",
    "\n",
    "- Second, you will choode whether to perfom above task using ICU or non-ICU admissions data\n",
    "\n",
    "- Third, you can refine the refine the cohort selection for any of the above choosen prediction tasks by including the admission samples admitted with particular chronic disease - \n",
    "    - Heart failure\n",
    "    - CAD (Coronary Artery Disease)\n",
    "    - CKD (Chronic Kidney Disease)\n",
    "    - COPD (Chronic obstructive pulmonary disease)\n",
    "    \n",
    "print(\"**Please run below cell to extract the cohort for selected options**\")"
   ]
  },
  {
   "cell_type": "code",
   "execution_count": 10,
   "id": "broke-spirituality",
   "metadata": {},
   "outputs": [
    {
     "data": {
      "application/vnd.jupyter.widget-view+json": {
       "model_id": "5785081ca98d44a7b306fc4f9904131f",
       "version_major": 2,
       "version_minor": 0
      },
      "text/plain": [
       "RadioButtons(options=('Heart Failure in 30 days', 'CAD in 30 days', 'CKD in 30 days', 'COPD in 30 days'), valu…"
      ]
     },
     "metadata": {},
     "output_type": "display_data"
    },
    {
     "name": "stdout",
     "output_type": "stream",
     "text": [
      "Extract Data\n",
      "Please select below if you want to work with ICU or Non-ICU data ?\n"
     ]
    },
    {
     "data": {
      "application/vnd.jupyter.widget-view+json": {
       "model_id": "8d6c39c786d549718cf4e25d64d07acd",
       "version_major": 2,
       "version_minor": 0
      },
      "text/plain": [
       "RadioButtons(options=('ICU', 'Non-ICU'), value='ICU')"
      ]
     },
     "metadata": {},
     "output_type": "display_data"
    },
    {
     "name": "stdout",
     "output_type": "stream",
     "text": [
      "Please select if you want to perform choosen prediction task for a specific disease.\n"
     ]
    },
    {
     "data": {
      "application/vnd.jupyter.widget-view+json": {
       "model_id": "75b96a8b0e0442e3ad09e249ed221909",
       "version_major": 2,
       "version_minor": 0
      },
      "text/plain": [
       "RadioButtons(options=('No Disease Filter', 'Heart Failure', 'CKD', 'CAD', 'COPD'), value='No Disease Filter')"
      ]
     },
     "metadata": {},
     "output_type": "display_data"
    }
   ],
   "source": [
    "if radio_input4.value=='Length of Stay':\n",
    "    radio_input2 = widgets.RadioButtons(options=['Length of Stay ge 3','Length of Stay ge 7','Custom'],value='Length of Stay ge 3')\n",
    "    display(radio_input2)\n",
    "    text1=widgets.IntSlider(\n",
    "    value=3,\n",
    "    min=1,\n",
    "    max=10,\n",
    "    step=1,\n",
    "    disabled=False,\n",
    "    continuous_update=False,\n",
    "    orientation='horizontal',\n",
    "    readout=True,\n",
    "    readout_format='d'\n",
    ")\n",
    "    display(widgets.HBox([widgets.Label('Length of stay ge (in days)',layout={'width': '180px'}), text1]))\n",
    "elif radio_input4.value=='Readmission':\n",
    "    radio_input2 = widgets.RadioButtons(options=['30 Day Readmission','60 Day Readmission','90 Day Readmission','120 Day Readmission','Custom'],value='30 Day Readmission')\n",
    "    display(radio_input2)\n",
    "    text1=widgets.IntSlider(\n",
    "    value=30,\n",
    "    min=10,\n",
    "    max=150,\n",
    "    step=10,\n",
    "    disabled=False\n",
    "    )\n",
    "    display(widgets.HBox([widgets.Label('Readmission after (in days)',layout={'width': '180px'}), text1]))\n",
    "elif radio_input4.value=='Phenotype':\n",
    "    radio_input2 = widgets.RadioButtons(options=['Heart Failure in 30 days','CAD in 30 days','CKD in 30 days','COPD in 30 days'],value='Heart Failure in 30 days')\n",
    "    display(radio_input2)\n",
    "elif radio_input4.value=='Mortality':\n",
    "    radio_input2 = widgets.RadioButtons(options=['Mortality'],value='Mortality')\n",
    "    #display(radio_input2)\n",
    "\n",
    "print(\"Extract Data\")\n",
    "print(\"Please select below if you want to work with ICU or Non-ICU data ?\")\n",
    "radio_input1 = widgets.RadioButtons(options=['ICU', 'Non-ICU'],value='ICU')\n",
    "display(radio_input1)\n",
    "\n",
    "print(\"Please select if you want to perform choosen prediction task for a specific disease.\")\n",
    "radio_input3 = widgets.RadioButtons(options=['No Disease Filter','Heart Failure','CKD','CAD','COPD'],value='No Disease Filter')\n",
    "display(radio_input3)"
   ]
  },
  {
   "cell_type": "code",
   "execution_count": 11,
   "id": "republican-freight",
   "metadata": {},
   "outputs": [
    {
     "name": "stdout",
     "output_type": "stream",
     "text": [
      "===========MIMIC-IV v3.0============\n",
      "EXTRACTING FOR: | ICU | READMISSION DUE TO N18 | ADMITTED DUE TO N18 | 30 |\n"
     ]
    },
    {
     "name": "stderr",
     "output_type": "stream",
     "text": [
      "\r",
      "  0%|                                                                                                 | 0/565 [00:00<?, ?it/s]"
     ]
    },
    {
     "name": "stdout",
     "output_type": "stream",
     "text": [
      "[ READMISSION DUE TO N18 ]\n"
     ]
    },
    {
     "name": "stderr",
     "output_type": "stream",
     "text": [
      "100%|███████████████████████████████████████████████████████████████████████████████████████| 565/565 [00:07<00:00, 73.13it/s]\n"
     ]
    },
    {
     "name": "stdout",
     "output_type": "stream",
     "text": [
      "[ READMISSION LABELS FINISHED ]\n",
      "[ COHORT SUCCESSFULLY SAVED ]\n",
      "[ SUMMARY SUCCESSFULLY SAVED ]\n",
      "Readmission FOR ICU DATA\n",
      "# Admission Records: 902\n",
      "# Patients: 565\n",
      "# Positive cases: 143\n",
      "# Negative cases: 759\n"
     ]
    }
   ],
   "source": [
    "disease_label=\"\"\n",
    "time=0\n",
    "label=radio_input4.value\n",
    "\n",
    "if label=='Readmission':\n",
    "    if radio_input2.value=='Custom':\n",
    "        time=text1.value\n",
    "    else:\n",
    "        time=int(radio_input2.value.split()[0])\n",
    "elif label=='Length of Stay':\n",
    "    if radio_input2.value=='Custom':\n",
    "        time=text1.value\n",
    "    else:\n",
    "        time=int(radio_input2.value.split()[4])\n",
    "\n",
    "if label=='Phenotype':    \n",
    "    if radio_input2.value=='Heart Failure in 30 days':\n",
    "        label='Readmission'\n",
    "        time=30\n",
    "        disease_label='I50'\n",
    "    elif radio_input2.value=='CAD in 30 days':\n",
    "        label='Readmission'\n",
    "        time=30\n",
    "        disease_label='I25'\n",
    "    elif radio_input2.value=='CKD in 30 days':\n",
    "        label='Readmission'\n",
    "        time=30\n",
    "        disease_label='N18'\n",
    "    elif radio_input2.value=='COPD in 30 days':\n",
    "        label='Readmission'\n",
    "        time=30\n",
    "        disease_label='J44'\n",
    "    \n",
    "data_icu=radio_input1.value==\"ICU\"\n",
    "data_mort=label==\"Mortality\"\n",
    "data_admn=label=='Readmission'\n",
    "data_los=label=='Length of Stay'\n",
    "        \n",
    "\n",
    "if (radio_input3.value==\"Heart Failure\"):\n",
    "    icd_code='I50'\n",
    "elif (radio_input3.value==\"CKD\"):\n",
    "    icd_code='N18'\n",
    "elif (radio_input3.value==\"COPD\"):\n",
    "    icd_code='J44'\n",
    "elif (radio_input3.value==\"CAD\"):\n",
    "    icd_code='I25'\n",
    "else:\n",
    "    icd_code='No Disease Filter'\n",
    "\n",
    "if version.value=='Version 1':\n",
    "    version_path= \"mimiciv/1.0\"\n",
    "    cohort_output = day_intervals_cohort.extract_data(radio_input1.value,label,time,icd_code, root_dir,disease_label)\n",
    "elif version.value=='Version 2':\n",
    "    version_path= \"mimiciv/2.0\"\n",
    "    cohort_output = day_intervals_cohort_v2.extract_data(radio_input1.value,label,time,icd_code, root_dir,disease_label)\n",
    "elif version.value=='Version 3':\n",
    "    version_path= \"mimiciv/3.0\"\n",
    "    cohort_output = day_intervals_cohort_v3.extract_data(radio_input1.value,label,time,icd_code, root_dir,disease_label)"
   ]
  },
  {
   "cell_type": "markdown",
   "id": "interstate-stadium",
   "metadata": {},
   "source": [
    "## 2. FEATURE SELECTION\n",
    "Features available for ICU data -\n",
    "- Diagnosis (https://mimic.mit.edu/docs/iv/modules/hosp/diagnoses_icd/)\n",
    "- Procedures (https://mimic.mit.edu/docs/iv/modules/icu/procedureevents/)\n",
    "- Medications (https://mimic.mit.edu/docs/iv/modules/icu/inputevents/)\n",
    "- Output Events (https://mimic.mit.edu/docs/iv/modules/icu/outputevents/)\n",
    "- Chart Events (https://mimic.mit.edu/docs/iv/modules/icu/chartevents/)\n",
    "\n",
    "Features available for ICU data -\n",
    "- Diagnosis (https://mimic.mit.edu/docs/iv/modules/hosp/diagnoses_icd/)\n",
    "- Procedures (https://mimic.mit.edu/docs/iv/modules/hosp/procedures_icd/)\n",
    "- Medications (https://mimic.mit.edu/docs/iv/modules/hosp/prescriptions/)\n",
    "- Lab Events (https://mimic.mit.edu/docs/iv/modules/hosp/labevents/)\n",
    "\n",
    "All features will be saved in **./data/features/**\n",
    "\n",
    "**Please run below cell to select features**"
   ]
  },
  {
   "cell_type": "code",
   "execution_count": 12,
   "id": "raised-olympus",
   "metadata": {},
   "outputs": [
    {
     "name": "stdout",
     "output_type": "stream",
     "text": [
      "Feature Selection\n",
      "Which Features you want to include for cohort?\n"
     ]
    },
    {
     "data": {
      "application/vnd.jupyter.widget-view+json": {
       "model_id": "2df09fbf64534b69a346f334668c8497",
       "version_major": 2,
       "version_minor": 0
      },
      "text/plain": [
       "Checkbox(value=False, description='Diagnosis')"
      ]
     },
     "metadata": {},
     "output_type": "display_data"
    },
    {
     "data": {
      "application/vnd.jupyter.widget-view+json": {
       "model_id": "d97880632ca14b749212838cdc99756e",
       "version_major": 2,
       "version_minor": 0
      },
      "text/plain": [
       "Checkbox(value=False, description='Output Events')"
      ]
     },
     "metadata": {},
     "output_type": "display_data"
    },
    {
     "data": {
      "application/vnd.jupyter.widget-view+json": {
       "model_id": "a67fbaedf62d4134936effada2abef69",
       "version_major": 2,
       "version_minor": 0
      },
      "text/plain": [
       "Checkbox(value=False, description='Chart Events(Labs and Vitals)')"
      ]
     },
     "metadata": {},
     "output_type": "display_data"
    },
    {
     "data": {
      "application/vnd.jupyter.widget-view+json": {
       "model_id": "c968f050f4284dd297bd0c007272a901",
       "version_major": 2,
       "version_minor": 0
      },
      "text/plain": [
       "Checkbox(value=False, description='Procedures')"
      ]
     },
     "metadata": {},
     "output_type": "display_data"
    },
    {
     "data": {
      "application/vnd.jupyter.widget-view+json": {
       "model_id": "fd9f8a42af9146f1ae055dd7d503529d",
       "version_major": 2,
       "version_minor": 0
      },
      "text/plain": [
       "Checkbox(value=False, description='Medications')"
      ]
     },
     "metadata": {},
     "output_type": "display_data"
    },
    {
     "name": "stdout",
     "output_type": "stream",
     "text": [
      "**Please run below cell to extract selected features**\n"
     ]
    }
   ],
   "source": [
    "print(\"Feature Selection\")\n",
    "if data_icu:\n",
    "    print(\"Which Features you want to include for cohort?\")\n",
    "    check_input1 = widgets.Checkbox(description='Diagnosis')\n",
    "    display(check_input1)\n",
    "    check_input2 = widgets.Checkbox(description='Output Events')\n",
    "    display(check_input2)\n",
    "    check_input3 = widgets.Checkbox(description='Chart Events(Labs and Vitals)')\n",
    "    display(check_input3)\n",
    "    check_input4 = widgets.Checkbox(description='Procedures')\n",
    "    display(check_input4)\n",
    "    check_input5 = widgets.Checkbox(description='Medications')\n",
    "    display(check_input5)\n",
    "else:\n",
    "    print(\"Which Features you want to include for cohort?\")\n",
    "    check_input1 = widgets.Checkbox(description='Diagnosis')\n",
    "    display(check_input1)\n",
    "    check_input2 = widgets.Checkbox(description='Labs')\n",
    "    display(check_input2)\n",
    "    check_input3 = widgets.Checkbox(description='Procedures')\n",
    "    display(check_input3)\n",
    "    check_input4 = widgets.Checkbox(description='Medications')\n",
    "    display(check_input4)\n",
    "print(\"**Please run below cell to extract selected features**\")"
   ]
  },
  {
   "cell_type": "code",
   "execution_count": 13,
   "id": "native-covering",
   "metadata": {
    "scrolled": true
   },
   "outputs": [
    {
     "name": "stdout",
     "output_type": "stream",
     "text": [
      "[EXTRACTING DIAGNOSIS DATA]\n",
      "# unique ICD-9 codes 1130\n",
      "# unique ICD-10 codes 1853\n",
      "# unique ICD-10 codes (After converting ICD-9 to ICD-10) 2067\n",
      "# unique ICD-10 codes (After clinical gruping ICD-10 codes) 695\n",
      "# Admissions:   902\n",
      "Total rows 21812\n",
      "[SUCCESSFULLY SAVED DIAGNOSIS DATA]\n",
      "[EXTRACTING OUPTPUT EVENTS DATA]\n",
      "# Unique Events:   59\n",
      "# Admissions:   833\n",
      "Total rows 43693\n"
     ]
    },
    {
     "name": "stderr",
     "output_type": "stream",
     "text": [
      "\r",
      "0it [00:00, ?it/s]"
     ]
    },
    {
     "name": "stdout",
     "output_type": "stream",
     "text": [
      "[SUCCESSFULLY SAVED OUPTPUT EVENTS DATA]\n",
      "[EXTRACTING CHART EVENTS DATA]\n"
     ]
    },
    {
     "name": "stderr",
     "output_type": "stream",
     "text": [
      "3it [00:33, 11.05s/it]\n"
     ]
    },
    {
     "name": "stdout",
     "output_type": "stream",
     "text": [
      "# Unique Events:   341\n",
      "# Admissions:   902\n",
      "Total rows 967277\n",
      "[SUCCESSFULLY SAVED CHART EVENTS DATA]\n",
      "[EXTRACTING PROCEDURES DATA]\n",
      "# Unique Events:   120\n",
      "# Admissions:   796\n",
      "Total rows 6821\n",
      "[SUCCESSFULLY SAVED PROCEDURES DATA]\n",
      "[EXTRACTING MEDICATIONS DATA]\n",
      "# of unique type of drug:  104\n",
      "# Admissions:   731\n",
      "# Total rows 52798\n",
      "[SUCCESSFULLY SAVED MEDICATIONS DATA]\n"
     ]
    }
   ],
   "source": [
    "if data_icu:\n",
    "    diag_flag=check_input1.value\n",
    "    out_flag=check_input2.value\n",
    "    chart_flag=check_input3.value\n",
    "    proc_flag=check_input4.value\n",
    "    med_flag=check_input5.value\n",
    "    feature_icu(cohort_output, root_dir, root_dir + '/'+ version_path,diag_flag,out_flag,chart_flag,proc_flag,med_flag)\n",
    "else:\n",
    "    diag_flag=check_input1.value\n",
    "    lab_flag=check_input2.value\n",
    "    proc_flag=check_input3.value\n",
    "    med_flag=check_input4.value\n",
    "    feature_nonicu(cohort_outputroot_dir, root_dir+ '/'+ version_path , version_path,diag_flag,lab_flag,proc_flag,med_flag)"
   ]
  },
  {
   "cell_type": "markdown",
   "id": "aboriginal-upset",
   "metadata": {},
   "source": [
    "## 3. CLINICAL GROUPING\n",
    "Below you will have option to clinically group diagnosis and medications.\n",
    "Grouping medical codes will reduce dimensional space of features.\n",
    "\n",
    "Default options selected below will group medical codes to reduce feature dimension space.\n",
    "\n",
    "**Please run below cell to select preprocessing for diferent features**"
   ]
  },
  {
   "cell_type": "code",
   "execution_count": 14,
   "id": "partial-manhattan",
   "metadata": {},
   "outputs": [
    {
     "name": "stdout",
     "output_type": "stream",
     "text": [
      "Do you want to group ICD 10 DIAG codes ?\n"
     ]
    },
    {
     "data": {
      "application/vnd.jupyter.widget-view+json": {
       "model_id": "c0b249d5544f491b855c076557ac019d",
       "version_major": 2,
       "version_minor": 0
      },
      "text/plain": [
       "RadioButtons(index=2, layout=Layout(width='100%'), options=('Keep both ICD-9 and ICD-10 codes', 'Convert ICD-9…"
      ]
     },
     "metadata": {},
     "output_type": "display_data"
    },
    {
     "name": "stdout",
     "output_type": "stream",
     "text": [
      "**Please run below cell to perform feature preprocessing**\n"
     ]
    }
   ],
   "source": [
    "if data_icu:\n",
    "    if diag_flag:\n",
    "        print(\"Do you want to group ICD 10 DIAG codes ?\")\n",
    "        radio_input4 = widgets.RadioButtons(options=['Keep both ICD-9 and ICD-10 codes','Convert ICD-9 to ICD-10 codes','Convert ICD-9 to ICD-10 and group ICD-10 codes'],value='Convert ICD-9 to ICD-10 and group ICD-10 codes',layout={'width': '100%'})\n",
    "        display(radio_input4)   \n",
    "    \n",
    "else:\n",
    "    if diag_flag:\n",
    "        print(\"Do you want to group ICD 10 DIAG codes ?\")\n",
    "        radio_input4 = widgets.RadioButtons(options=['Keep both ICD-9 and ICD-10 codes','Convert ICD-9 to ICD-10 codes','Convert ICD-9 to ICD-10 and group ICD-10 codes'],value='Convert ICD-9 to ICD-10 and group ICD-10 codes',layout={'width': '100%'})\n",
    "        display(radio_input4)     \n",
    "    if med_flag:\n",
    "        print(\"Do you want to group Medication codes to use Non propietary names?\")\n",
    "        radio_input5 = widgets.RadioButtons(options=['Yes','No'],value='Yes',layout={'width': '100%'})\n",
    "        display(radio_input5)\n",
    "    if proc_flag:\n",
    "        print(\"Which ICD codes for Procedures you want to keep in data?\")\n",
    "        radio_input6 = widgets.RadioButtons(options=['ICD-9 and ICD-10','ICD-10'],value='ICD-10',layout={'width': '100%'})\n",
    "        display(radio_input6)\n",
    "print(\"**Please run below cell to perform feature preprocessing**\")"
   ]
  },
  {
   "cell_type": "code",
   "execution_count": 15,
   "id": "descending-symphony",
   "metadata": {},
   "outputs": [
    {
     "name": "stdout",
     "output_type": "stream",
     "text": [
      "[PROCESSING DIAGNOSIS DATA]\n",
      "Total number of rows 21238\n",
      "[SUCCESSFULLY SAVED DIAGNOSIS DATA]\n"
     ]
    }
   ],
   "source": [
    "group_diag=False\n",
    "group_med=False\n",
    "group_proc=False\n",
    "if data_icu:\n",
    "    if diag_flag:\n",
    "        group_diag=radio_input4.value\n",
    "    preprocess_features_icu(cohort_output, diag_flag, group_diag,False,False,False,0,0)\n",
    "else:\n",
    "    if diag_flag:\n",
    "        group_diag=radio_input4.value\n",
    "    if med_flag:\n",
    "        group_med=radio_input5.value\n",
    "    if proc_flag:\n",
    "        group_proc=radio_input6.value\n",
    "    preprocess_features_hosp(cohort_output, diag_flag,proc_flag,med_flag,False,group_diag,group_med,group_proc,False,False,0,0)"
   ]
  },
  {
   "cell_type": "markdown",
   "id": "immediate-captain",
   "metadata": {},
   "source": [
    "### 4. SUMMARY OF FEATURES\n",
    "\n",
    "This step will generate summary of all features extracted so far.<br>\n",
    "It will save summary files in **./data/summary/**<br>\n",
    "- These files provide summary about **mean frequency** of medical codes per admission.<br>\n",
    "- It also provides **total occurrence count** of each medical code.<br>\n",
    "- For labs and chart events it will also provide <br>**missing %** which tells how many rows for a certain medical code has missing value.\n",
    "\n",
    "Please use this information to further refine your cohort by selecting <br>which medical codes in each feature you want to keep and <br>which codes you would like to remove for downstream analysis tasks.\n",
    "\n",
    "**Please run below cell to generate summary files**"
   ]
  },
  {
   "cell_type": "code",
   "execution_count": 16,
   "id": "thick-residence",
   "metadata": {},
   "outputs": [
    {
     "name": "stdout",
     "output_type": "stream",
     "text": [
      "[GENERATING FEATURE SUMMARY]\n",
      "[SUCCESSFULLY SAVED FEATURE SUMMARY]\n"
     ]
    }
   ],
   "source": [
    "if data_icu:\n",
    "    generate_summary_icu(diag_flag,proc_flag,med_flag,out_flag,chart_flag)\n",
    "else:\n",
    "    generate_summary_hosp(diag_flag,proc_flag,med_flag,lab_flag)"
   ]
  },
  {
   "cell_type": "markdown",
   "id": "northern-architecture",
   "metadata": {},
   "source": [
    "## 5. Feature Selection\n",
    "\n",
    "based on the files generated in previous step and other infromation gathered by you,<br>\n",
    "Please select which medical codes you want to include in this study.\n",
    "\n",
    "Please run below cell to to select options for which features you want to perform feature selection.\n",
    "\n",
    "- Select **Yes** if you want to select a subset of medical codes for that feature and<br> **edit** the corresponding feature file for it.\n",
    "- Select **No** if you want to keep all the codes in a feature."
   ]
  },
  {
   "cell_type": "code",
   "execution_count": 17,
   "id": "immediate-seafood",
   "metadata": {},
   "outputs": [
    {
     "name": "stdout",
     "output_type": "stream",
     "text": [
      "Do you want to do Feature Selection for Diagnosis \n",
      " (If yes, please edit list of codes in ./data/summary/diag_features.csv)\n"
     ]
    },
    {
     "data": {
      "application/vnd.jupyter.widget-view+json": {
       "model_id": "9ca62ba7974c43049b9e78b93aec4bad",
       "version_major": 2,
       "version_minor": 0
      },
      "text/plain": [
       "RadioButtons(index=1, options=('Yes', 'No'), value='No')"
      ]
     },
     "metadata": {},
     "output_type": "display_data"
    },
    {
     "name": "stdout",
     "output_type": "stream",
     "text": [
      "Do you want to do Feature Selection for Medication \n",
      " (If yes, please edit list of codes in ./data/summary/med_features.csv)\n"
     ]
    },
    {
     "data": {
      "application/vnd.jupyter.widget-view+json": {
       "model_id": "a23be72455784729ad6d8c856dceae9a",
       "version_major": 2,
       "version_minor": 0
      },
      "text/plain": [
       "RadioButtons(index=1, options=('Yes', 'No'), value='No')"
      ]
     },
     "metadata": {},
     "output_type": "display_data"
    },
    {
     "name": "stdout",
     "output_type": "stream",
     "text": [
      "Do you want to do Feature Selection for Procedures \n",
      " (If yes, please edit list of codes in ./data/summary/proc_features.csv)\n"
     ]
    },
    {
     "data": {
      "application/vnd.jupyter.widget-view+json": {
       "model_id": "1c54f443d0c24f919ef39d1e43d6d612",
       "version_major": 2,
       "version_minor": 0
      },
      "text/plain": [
       "RadioButtons(index=1, options=('Yes', 'No'), value='No')"
      ]
     },
     "metadata": {},
     "output_type": "display_data"
    },
    {
     "name": "stdout",
     "output_type": "stream",
     "text": [
      "Do you want to do Feature Selection for Output event \n",
      " (If yes, please edit list of codes in ./data/summary/out_features.csv)\n"
     ]
    },
    {
     "data": {
      "application/vnd.jupyter.widget-view+json": {
       "model_id": "0c2f925ab62842a69259fa56d161db86",
       "version_major": 2,
       "version_minor": 0
      },
      "text/plain": [
       "RadioButtons(index=1, options=('Yes', 'No'), value='No')"
      ]
     },
     "metadata": {},
     "output_type": "display_data"
    },
    {
     "name": "stdout",
     "output_type": "stream",
     "text": [
      "Do you want to do Feature Selection for Chart events \n",
      " (If yes, please edit list of codes in ./data/summary/chart_features.csv)\n"
     ]
    },
    {
     "data": {
      "application/vnd.jupyter.widget-view+json": {
       "model_id": "b01444cc2e37423b9f55ef0833c59d8a",
       "version_major": 2,
       "version_minor": 0
      },
      "text/plain": [
       "RadioButtons(index=1, options=('Yes', 'No'), value='No')"
      ]
     },
     "metadata": {},
     "output_type": "display_data"
    },
    {
     "name": "stdout",
     "output_type": "stream",
     "text": [
      "**Please run below cell to perform feature selection**\n"
     ]
    }
   ],
   "source": [
    "if data_icu:\n",
    "    if diag_flag:\n",
    "        print(\"Do you want to do Feature Selection for Diagnosis \\n (If yes, please edit list of codes in ./data/summary/diag_features.csv)\")\n",
    "        radio_input4 = widgets.RadioButtons(options=['Yes','No'],value='No')\n",
    "        display(radio_input4)       \n",
    "    if med_flag:\n",
    "        print(\"Do you want to do Feature Selection for Medication \\n (If yes, please edit list of codes in ./data/summary/med_features.csv)\")\n",
    "        radio_input5 = widgets.RadioButtons(options=['Yes','No'],value='No')\n",
    "        display(radio_input5)   \n",
    "    if proc_flag:\n",
    "        print(\"Do you want to do Feature Selection for Procedures \\n (If yes, please edit list of codes in ./data/summary/proc_features.csv)\")\n",
    "        radio_input6 = widgets.RadioButtons(options=['Yes','No'],value='No')\n",
    "        display(radio_input6)   \n",
    "    if out_flag:\n",
    "        print(\"Do you want to do Feature Selection for Output event \\n (If yes, please edit list of codes in ./data/summary/out_features.csv)\")\n",
    "        radio_input7 = widgets.RadioButtons(options=['Yes','No'],value='No')\n",
    "        display(radio_input7)  \n",
    "    if chart_flag:\n",
    "        print(\"Do you want to do Feature Selection for Chart events \\n (If yes, please edit list of codes in ./data/summary/chart_features.csv)\")\n",
    "        radio_input8 = widgets.RadioButtons(options=['Yes','No'],value='No')\n",
    "        display(radio_input8)  \n",
    "else:\n",
    "    if diag_flag:\n",
    "        print(\"Do you want to do Feature Selection for Diagnosis \\n (If yes, please edit list of codes in ./data/summary/diag_features.csv)\")\n",
    "        radio_input4 = widgets.RadioButtons(options=['Yes','No'],value='No')\n",
    "        display(radio_input4)         \n",
    "    if med_flag:\n",
    "        print(\"Do you want to do Feature Selection for Medication \\n (If yes, please edit list of codes in ./data/summary/med_features.csv)\")\n",
    "        radio_input5 = widgets.RadioButtons(options=['Yes','No'],value='No')\n",
    "        display(radio_input5)   \n",
    "    if proc_flag:\n",
    "        print(\"Do you want to do Feature Selection for Procedures \\n (If yes, please edit list of codes in ./data/summary/proc_features.csv)\")\n",
    "        radio_input6 = widgets.RadioButtons(options=['Yes','No'],value='No')\n",
    "        display(radio_input6)   \n",
    "    if lab_flag:\n",
    "        print(\"Do you want to do Feature Selection for Labs \\n (If yes, please edit list of codes in ./data/summary/lab_features.csv)\")\n",
    "        radio_input7 = widgets.RadioButtons(options=['Yes','No'],value='No')\n",
    "        display(radio_input7)   \n",
    "print(\"**Please run below cell to perform feature selection**\")"
   ]
  },
  {
   "cell_type": "code",
   "execution_count": 125,
   "id": "perceived-python",
   "metadata": {},
   "outputs": [
    {
     "name": "stdout",
     "output_type": "stream",
     "text": [
      "[FEATURE SELECTION DIAGNOSIS DATA]\n",
      "Total number of rows 21238\n",
      "[SUCCESSFULLY SAVED DIAGNOSIS DATA]\n"
     ]
    }
   ],
   "source": [
    "select_diag=False\n",
    "select_med=False\n",
    "select_proc=False\n",
    "select_lab=False\n",
    "select_out=False\n",
    "select_chart=False\n",
    "\n",
    "if data_icu:\n",
    "    if diag_flag:\n",
    "        select_diag=radio_input4.value == 'Yes'\n",
    "    if med_flag:\n",
    "        select_med=radio_input5.value == 'Yes'\n",
    "    if proc_flag:\n",
    "        select_proc=radio_input6.value == 'Yes'\n",
    "    if out_flag:\n",
    "        select_out=radio_input7.value == 'Yes'\n",
    "    if chart_flag:\n",
    "        select_chart=radio_input8.value == 'Yes'\n",
    "    features_selection_icu(cohort_output, diag_flag,proc_flag,med_flag,out_flag, chart_flag,select_diag,select_med,select_proc,select_out,select_chart)\n",
    "else:\n",
    "    if diag_flag:\n",
    "        select_diag=radio_input4.value == 'Yes'\n",
    "    if med_flag:\n",
    "        select_med=radio_input5.value == 'Yes'\n",
    "    if proc_flag:\n",
    "        select_proc=radio_input6.value == 'Yes'\n",
    "    if lab_flag:\n",
    "        select_lab=radio_input7.value == 'Yes'\n",
    "    features_selection_hosp(cohort_output, diag_flag,proc_flag,med_flag,lab_flag,select_diag,select_med,select_proc,select_lab)"
   ]
  },
  {
   "cell_type": "markdown",
   "id": "comfortable-director",
   "metadata": {},
   "source": [
    "## 6. CLEANING OF FEATURES\n",
    "Below you will have option to to clean lab and chart events by performing outlier removal and unit conversion.\n",
    "\n",
    "Outlier removal is performed to remove values higher than selected **right threshold** percentile and lower than selected **left threshold** percentile among all values for each itemid. \n",
    "\n",
    "**Please run below cell to select preprocessing for diferent features**"
   ]
  },
  {
   "cell_type": "code",
   "execution_count": 126,
   "id": "moderate-forum",
   "metadata": {},
   "outputs": [
    {
     "name": "stdout",
     "output_type": "stream",
     "text": [
      "Outlier removal in values of chart events ?\n"
     ]
    },
    {
     "data": {
      "application/vnd.jupyter.widget-view+json": {
       "model_id": "e58e90b1f5f94581b58c6ce30020feb1",
       "version_major": 2,
       "version_minor": 0
      },
      "text/plain": [
       "RadioButtons(layout=Layout(height='40px', width='100%'), options=('No outlier detection', 'Impute Outlier (def…"
      ]
     },
     "metadata": {},
     "output_type": "display_data"
    },
    {
     "data": {
      "application/vnd.jupyter.widget-view+json": {
       "model_id": "4646308438e6455687690cfea0ed0a91",
       "version_major": 2,
       "version_minor": 0
      },
      "text/plain": [
       "HBox(children=(Label(value='Right Outlier Threshold', layout=Layout(width='150px')), IntSlider(value=98, layou…"
      ]
     },
     "metadata": {},
     "output_type": "display_data"
    },
    {
     "data": {
      "application/vnd.jupyter.widget-view+json": {
       "model_id": "fe6eacb22baa4fa680710ba258c0dc80",
       "version_major": 2,
       "version_minor": 0
      },
      "text/plain": [
       "HBox(children=(Label(value='Left Outlier Threshold', layout=Layout(width='150px')), IntSlider(value=0, layout=…"
      ]
     },
     "metadata": {},
     "output_type": "display_data"
    },
    {
     "name": "stdout",
     "output_type": "stream",
     "text": [
      "**Please run below cell to perform feature preprocessing**\n"
     ]
    }
   ],
   "source": [
    "if data_icu:\n",
    "    if chart_flag:\n",
    "        print(\"Outlier removal in values of chart events ?\")\n",
    "        layout = widgets.Layout(width='100%', height='40px') #set width and height\n",
    "\n",
    "        radio_input5 = widgets.RadioButtons(options=['No outlier detection','Impute Outlier (default:98)','Remove outliers (default:98)'],value='No outlier detection',layout=layout)\n",
    "        display(radio_input5)\n",
    "        outlier=widgets.IntSlider(\n",
    "        value=98,\n",
    "        min=90,\n",
    "        max=99,\n",
    "        step=1,\n",
    "        disabled=False,layout={'width': '100%'}\n",
    "        )\n",
    "        left_outlier=widgets.IntSlider(\n",
    "        value=0,\n",
    "        min=0,\n",
    "        max=10,\n",
    "        step=1,\n",
    "        disabled=False,layout={'width': '100%'}\n",
    "        )\n",
    "        #display(oulier)\n",
    "        display(widgets.HBox([widgets.Label('Right Outlier Threshold',layout={'width': '150px'}), outlier]))\n",
    "        display(widgets.HBox([widgets.Label('Left Outlier Threshold',layout={'width': '150px'}), left_outlier]))\n",
    "    \n",
    "else:      \n",
    "    if lab_flag:\n",
    "        print(\"Outlier removal in values of lab events ?\")\n",
    "        layout = widgets.Layout(width='100%', height='40px') #set width and height\n",
    "\n",
    "        radio_input7 = widgets.RadioButtons(options=['No outlier detection','Impute Outlier (default:98)','Remove outliers (default:98)'],value='No outlier detection',layout=layout)\n",
    "        display(radio_input7)\n",
    "        outlier=widgets.IntSlider(\n",
    "        value=98,\n",
    "        min=90,\n",
    "        max=99,\n",
    "        step=1,\n",
    "        disabled=False,layout={'width': '100%'}\n",
    "        )\n",
    "        left_outlier=widgets.IntSlider(\n",
    "        value=0,\n",
    "        min=0,\n",
    "        max=10,\n",
    "        step=1,\n",
    "        disabled=False,layout={'width': '100%'}\n",
    "        )\n",
    "        #display(oulier)\n",
    "        display(widgets.HBox([widgets.Label('Right Outlier Threshold',layout={'width': '150px'}), outlier]))\n",
    "        display(widgets.HBox([widgets.Label('Left Outlier Threshold',layout={'width': '150px'}), left_outlier]))\n",
    "print(\"**Please run below cell to perform feature preprocessing**\")"
   ]
  },
  {
   "cell_type": "code",
   "execution_count": 127,
   "id": "impossible-mailman",
   "metadata": {},
   "outputs": [],
   "source": [
    "thresh=0\n",
    "if data_icu:\n",
    "    if chart_flag:\n",
    "        clean_chart=radio_input5.value!='No outlier detection'\n",
    "        impute_outlier_chart=radio_input5.value=='Impute Outlier (default:98)'\n",
    "        thresh=outlier.value\n",
    "        left_thresh=left_outlier.value\n",
    "    preprocess_features_icu(cohort_output, False, False,chart_flag,clean_chart,impute_outlier_chart,thresh,left_thresh)\n",
    "else:\n",
    "    if lab_flag:\n",
    "        clean_lab=radio_input7.value!='No outlier detection'\n",
    "        impute_outlier=radio_input7.value=='Impute Outlier (default:98)'\n",
    "        thresh=outlier.value\n",
    "        left_thresh=left_outlier.value\n",
    "    preprocess_features_hosp(cohort_output, False,False,False,lab_flag,False,False,False,clean_lab,impute_outlier,thresh,left_thresh)"
   ]
  },
  {
   "cell_type": "markdown",
   "id": "independent-academy",
   "metadata": {},
   "source": [
    "## 7. Time-Series Representation\n",
    "In this section, please choose how you want to process and represent time-series data.\n",
    "\n",
    "- First option is to select the length of time-series data you want to include for this study. (Default is 72 hours)\n",
    "\n",
    "- Second option is to select bucket size which tells in what size time windows you want to divide your time-series.<br>\n",
    "For example, if you select **2** bucket size, it wil aggregate data for every 2 hours and <br>a time-series of length 24 hours will be represented as time-series with 12 time-windows <br>where data for every 2 hours is agggregated from original raw time-series.\n",
    "\n",
    "During this step, we will also save the time-series data in data dictionaries in the format that can be directly used for following deep learning analysis.\n",
    "\n",
    "### Imputation\n",
    "You can also choose if you want to impute lab/chart values. The imputation will be done by froward fill and mean or median imputation.<br>\n",
    "Values will be forward fill first and if no value exists for that admission we will use mean or median value for the patient.\n",
    "\n",
    "The data dictionaries will be saved in **./data/dict/**\n",
    "\n",
    "Please refer the readme to know the structure of data dictionaries.\n",
    "\n",
    "**Please run below cell to select time-series representation**"
   ]
  },
  {
   "cell_type": "code",
   "execution_count": 128,
   "id": "mechanical-three",
   "metadata": {},
   "outputs": [
    {
     "name": "stdout",
     "output_type": "stream",
     "text": [
      "=======Time-series Data Represenation=======\n",
      "Length of data to be included for time-series prediction ?\n"
     ]
    },
    {
     "data": {
      "application/vnd.jupyter.widget-view+json": {
       "model_id": "4e651091e9a34428b1e1e3986e773d49",
       "version_major": 2,
       "version_minor": 0
      },
      "text/plain": [
       "RadioButtons(options=('Last 72 hours', 'Last 48 hours', 'Last 24 hours', 'Custom'), value='Last 72 hours')"
      ]
     },
     "metadata": {},
     "output_type": "display_data"
    },
    {
     "data": {
      "application/vnd.jupyter.widget-view+json": {
       "model_id": "c076fda80b52430e913b9b0613eba4a6",
       "version_major": 2,
       "version_minor": 0
      },
      "text/plain": [
       "HBox(children=(Label(value='Last (in hours):', layout=Layout(width='150px')), IntSlider(value=72, description=…"
      ]
     },
     "metadata": {},
     "output_type": "display_data"
    },
    {
     "name": "stdout",
     "output_type": "stream",
     "text": [
      "What time bucket size you want to choose ?\n"
     ]
    },
    {
     "data": {
      "application/vnd.jupyter.widget-view+json": {
       "model_id": "898ff4b1112a43f0bee00c80bb314f2b",
       "version_major": 2,
       "version_minor": 0
      },
      "text/plain": [
       "RadioButtons(options=('1 hour', '2 hour', '3 hour', '4 hour', '5 hour', 'Custom'), value='1 hour')"
      ]
     },
     "metadata": {},
     "output_type": "display_data"
    },
    {
     "data": {
      "application/vnd.jupyter.widget-view+json": {
       "model_id": "4368cfec15f444b0a5adf5689c849d19",
       "version_major": 2,
       "version_minor": 0
      },
      "text/plain": [
       "HBox(children=(Label(value='Bucket Size (in hours):', layout=Layout(width='150px')), IntSlider(value=1, max=6,…"
      ]
     },
     "metadata": {},
     "output_type": "display_data"
    },
    {
     "name": "stdout",
     "output_type": "stream",
     "text": [
      "Do you want to forward fill and mean or median impute lab/chart values to form continuous data signal?\n"
     ]
    },
    {
     "data": {
      "application/vnd.jupyter.widget-view+json": {
       "model_id": "045218e9f700411890801876a0dabb02",
       "version_major": 2,
       "version_minor": 0
      },
      "text/plain": [
       "RadioButtons(options=('No Imputation', 'forward fill and mean', 'forward fill and median'), value='No Imputati…"
      ]
     },
     "metadata": {},
     "output_type": "display_data"
    },
    {
     "name": "stdout",
     "output_type": "stream",
     "text": [
      "**Please run below cell to perform time-series represenation and save in data dictionaries**\n"
     ]
    }
   ],
   "source": [
    "print(\"=======Time-series Data Represenation=======\")\n",
    "\n",
    "print(\"Length of data to be included for time-series prediction ?\")\n",
    "if(data_mort):\n",
    "    radio_input8 = widgets.RadioButtons(options=['First 72 hours','First 48 hours','First 24 hours','Custom'],value='First 72 hours')\n",
    "    display(radio_input8)\n",
    "    text2=widgets.IntSlider(\n",
    "    value=72,\n",
    "    min=24,\n",
    "    max=72,\n",
    "    step=1,\n",
    "    description='Fisrt',\n",
    "    disabled=False\n",
    "    )\n",
    "    display(widgets.HBox([widgets.Label('Fisrt (in hours):',layout={'width': '150px'}), text2]))\n",
    "elif(data_admn):\n",
    "    radio_input8 = widgets.RadioButtons(options=['Last 72 hours','Last 48 hours','Last 24 hours','Custom'],value='Last 72 hours')\n",
    "    display(radio_input8)\n",
    "    text2=widgets.IntSlider(\n",
    "    value=72,\n",
    "    min=24,\n",
    "    max=72,\n",
    "    step=1,\n",
    "    description='Last',\n",
    "    disabled=False\n",
    "    )\n",
    "    display(widgets.HBox([widgets.Label('Last (in hours):',layout={'width': '150px'}), text2]))\n",
    "elif(data_los):\n",
    "    radio_input8 = widgets.RadioButtons(options=['First 12 hours','First 24 hours','Custom'],value='First 24 hours')\n",
    "    display(radio_input8)\n",
    "    text2=widgets.IntSlider(\n",
    "    value=72,\n",
    "    min=12,\n",
    "    max=72,\n",
    "    step=1,\n",
    "    description='First',\n",
    "    disabled=False\n",
    "    )\n",
    "    display(widgets.HBox([widgets.Label('Fisrt (in hours):',layout={'width': '150px'}), text2]))\n",
    "    \n",
    "    \n",
    "print(\"What time bucket size you want to choose ?\")\n",
    "radio_input7 = widgets.RadioButtons(options=['1 hour','2 hour','3 hour','4 hour','5 hour','Custom'],value='1 hour')\n",
    "display(radio_input7)\n",
    "text1=widgets.IntSlider(\n",
    "    value=1,\n",
    "    min=1,\n",
    "    max=6,\n",
    "    step=1,\n",
    "    disabled=False\n",
    "    )\n",
    "#display(text1)\n",
    "display(widgets.HBox([widgets.Label('Bucket Size (in hours):',layout={'width': '150px'}), text1]))\n",
    "print(\"Do you want to forward fill and mean or median impute lab/chart values to form continuous data signal?\")\n",
    "radio_impute = widgets.RadioButtons(options=['No Imputation', 'forward fill and mean','forward fill and median'],value='No Imputation')\n",
    "display(radio_impute)   \n",
    "\n",
    "radio_input6 = widgets.RadioButtons(options=['0 hours','2 hours','4 hours','6 hours'],value='0 hours')\n",
    "if(data_mort):\n",
    "    print(\"If you have choosen mortality prediction task, then what prediction window length you want to keep?\")\n",
    "    radio_input6 = widgets.RadioButtons(options=['2 hours','4 hours','6 hours','8 hours','Custom'],value='2 hours')\n",
    "    display(radio_input6)\n",
    "    text3=widgets.IntSlider(\n",
    "    value=2,\n",
    "    min=2,\n",
    "    max=8,\n",
    "    step=1,\n",
    "    disabled=False\n",
    "    )\n",
    "    display(widgets.HBox([widgets.Label('Prediction window (in hours)',layout={'width': '180px'}), text3]))\n",
    "print(\"**Please run below cell to perform time-series represenation and save in data dictionaries**\")"
   ]
  },
  {
   "cell_type": "code",
   "execution_count": 113,
   "id": "indie-appendix",
   "metadata": {},
   "outputs": [
    {
     "name": "stdout",
     "output_type": "stream",
     "text": [
      "[ READ COHORT ]\n",
      "[ ======READING DIAGNOSIS ]\n",
      "[ ======READING PROCEDURES ]\n",
      "[ ======READING OUT EVENTS ]\n"
     ]
    },
    {
     "name": "stderr",
     "output_type": "stream",
     "text": [
      "\r",
      "0it [00:00, ?it/s]"
     ]
    },
    {
     "name": "stdout",
     "output_type": "stream",
     "text": [
      "[ ======READING CHART EVENTS ]\n"
     ]
    },
    {
     "name": "stderr",
     "output_type": "stream",
     "text": [
      "1it [00:06,  6.05s/it]\n"
     ]
    },
    {
     "name": "stdout",
     "output_type": "stream",
     "text": [
      "[ ======READING MEDICATIONS ]\n"
     ]
    },
    {
     "name": "stderr",
     "output_type": "stream",
     "text": [
      "\r",
      "  0%|                                                                                                  | 0/72 [00:00<?, ?it/s]"
     ]
    },
    {
     "name": "stdout",
     "output_type": "stream",
     "text": [
      "[ READ ALL FEATURES ]\n",
      "[ PROCESSED TIME SERIES TO EQUAL LENGTH  ]\n"
     ]
    },
    {
     "name": "stderr",
     "output_type": "stream",
     "text": [
      "100%|█████████████████████████████████████████████████████████████████████████████████████████| 72/72 [00:02<00:00, 35.80it/s]\n"
     ]
    },
    {
     "name": "stdout",
     "output_type": "stream",
     "text": [
      "bucket 1\n",
      "[ PROCESSED TIME SERIES TO EQUAL TIME INTERVAL ]\n",
      "72\n"
     ]
    },
    {
     "name": "stderr",
     "output_type": "stream",
     "text": [
      "100%|███████████████████████████████████████████████████████████████████████████████████████| 296/296 [01:40<00:00,  2.95it/s]\n"
     ]
    },
    {
     "name": "stdout",
     "output_type": "stream",
     "text": [
      "[ SUCCESSFULLY SAVED DATA DICTIONARIES ]\n"
     ]
    }
   ],
   "source": [
    "if (radio_input6.value=='Custom'):\n",
    "    predW=int(text3.value)\n",
    "else:\n",
    "    predW=int(radio_input6.value[0].strip())\n",
    "if (radio_input7.value=='Custom'):\n",
    "    bucket=int(text1.value)\n",
    "else:\n",
    "    bucket=int(radio_input7.value[0].strip())\n",
    "if (radio_input8.value=='Custom'):\n",
    "    include=int(text2.value)\n",
    "else:\n",
    "    include=int(radio_input8.value.split()[1])\n",
    "if (radio_impute.value=='forward fill and mean'):\n",
    "    impute='Mean'\n",
    "elif (radio_impute.value=='forward fill and median'):\n",
    "    impute='Median'\n",
    "else:\n",
    "    impute=False\n",
    "\n",
    "if data_icu:\n",
    "    gen=data_generation_icu.Generator(root_dir, cohort_output,data_mort,data_admn,data_los,diag_flag,proc_flag,out_flag,chart_flag,med_flag,impute,include,bucket,predW)\n",
    "    #gen=data_generation_icu.Generator(cohort_output,data_mort,diag_flag,False,False,chart_flag,False,impute,include,bucket,predW)\n",
    "    #if chart_flag:\n",
    "    #    gen=data_generation_icu.Generator(cohort_output,data_mort,False,False,False,chart_flag,False,impute,include,bucket,predW)\n",
    "else:\n",
    "    gen=data_generation.Generator(root_dir, cohort_output,data_mort,data_admn,data_los,diag_flag,lab_flag,proc_flag,med_flag,impute,include,bucket,predW)"
   ]
  },
  {
   "cell_type": "markdown",
   "id": "1b8f9406",
   "metadata": {},
   "source": [
    "## Visualize the data\n",
    "Here, we want to be able to extract the different tables to look at what we have"
   ]
  },
  {
   "cell_type": "code",
   "execution_count": 129,
   "id": "721bb844",
   "metadata": {},
   "outputs": [],
   "source": [
    "from data_loading.load_preprocessed_data import DataLoader\n",
    "\n",
    "data_loader = DataLoader(root_dir, cohort_output,data_mort,data_admn,data_los,diag_flag,proc_flag,out_flag,chart_flag,med_flag,impute, include,bucket,predW)"
   ]
  },
  {
   "cell_type": "code",
   "execution_count": 131,
   "id": "e67141b1",
   "metadata": {},
   "outputs": [
    {
     "name": "stdout",
     "output_type": "stream",
     "text": [
      "[ READ ADM FEATURES ]\n",
      "[ ======READING DIAGNOSIS ]\n",
      "[ ======READING PROCEDURES ]\n",
      "[ ======READING OUT EVENTS ]\n"
     ]
    },
    {
     "name": "stderr",
     "output_type": "stream",
     "text": [
      "\r",
      "0it [00:00, ?it/s]"
     ]
    },
    {
     "name": "stdout",
     "output_type": "stream",
     "text": [
      "[ ======READING CHART EVENTS ]\n"
     ]
    },
    {
     "name": "stderr",
     "output_type": "stream",
     "text": [
      "1it [00:05,  5.71s/it]\n"
     ]
    },
    {
     "name": "stdout",
     "output_type": "stream",
     "text": [
      "[ ======READING MEDICATIONS ]\n",
      "[ READ ALL FEATURES ]\n",
      "[ PROCESSED TIME SERIES TO EQUAL LENGTH  ]\n"
     ]
    }
   ],
   "source": [
    "# load each table in a dictionary \n",
    "dataset = data_loader.load()\n",
    "print(\"Loaded the data for: \", dataset.keys())"
   ]
  },
  {
   "cell_type": "code",
   "execution_count": 135,
   "id": "76ea5975",
   "metadata": {},
   "outputs": [
    {
     "data": {
      "text/html": [
       "<div>\n",
       "<style scoped>\n",
       "    .dataframe tbody tr th:only-of-type {\n",
       "        vertical-align: middle;\n",
       "    }\n",
       "\n",
       "    .dataframe tbody tr th {\n",
       "        vertical-align: top;\n",
       "    }\n",
       "\n",
       "    .dataframe thead th {\n",
       "        text-align: right;\n",
       "    }\n",
       "</style>\n",
       "<table border=\"1\" class=\"dataframe\">\n",
       "  <thead>\n",
       "    <tr style=\"text-align: right;\">\n",
       "      <th></th>\n",
       "      <th>subject_id</th>\n",
       "      <th>hadm_id</th>\n",
       "      <th>stay_id</th>\n",
       "      <th>itemid</th>\n",
       "      <th>starttime</th>\n",
       "      <th>endtime</th>\n",
       "      <th>start_hours_from_admit</th>\n",
       "      <th>stop_hours_from_admit</th>\n",
       "      <th>rate</th>\n",
       "      <th>amount</th>\n",
       "      <th>orderid</th>\n",
       "      <th>start_time</th>\n",
       "      <th>stop_time</th>\n",
       "      <th>select_time</th>\n",
       "    </tr>\n",
       "  </thead>\n",
       "  <tbody>\n",
       "    <tr>\n",
       "      <th>27</th>\n",
       "      <td>10023117</td>\n",
       "      <td>21133938.0</td>\n",
       "      <td>38554095</td>\n",
       "      <td>220949</td>\n",
       "      <td>2175-03-26 18:40:00</td>\n",
       "      <td>2175-03-27 08:15:00</td>\n",
       "      <td>5 days 15:19:07.000000000</td>\n",
       "      <td>6 days 04:54:07.000000000</td>\n",
       "      <td>9.373867</td>\n",
       "      <td>127.328363</td>\n",
       "      <td>3079309</td>\n",
       "      <td>49</td>\n",
       "      <td>62</td>\n",
       "      <td>86</td>\n",
       "    </tr>\n",
       "    <tr>\n",
       "      <th>28</th>\n",
       "      <td>10023117</td>\n",
       "      <td>21133938.0</td>\n",
       "      <td>38554095</td>\n",
       "      <td>225152</td>\n",
       "      <td>2175-03-26 18:40:00</td>\n",
       "      <td>2175-03-27 08:15:00</td>\n",
       "      <td>5 days 15:19:07.000000000</td>\n",
       "      <td>6 days 04:54:07.000000000</td>\n",
       "      <td>937.386719</td>\n",
       "      <td>12732.836056</td>\n",
       "      <td>3079309</td>\n",
       "      <td>49</td>\n",
       "      <td>62</td>\n",
       "      <td>86</td>\n",
       "    </tr>\n",
       "    <tr>\n",
       "      <th>54</th>\n",
       "      <td>10023117</td>\n",
       "      <td>21133938.0</td>\n",
       "      <td>38554095</td>\n",
       "      <td>220949</td>\n",
       "      <td>2175-03-24 13:46:00</td>\n",
       "      <td>2175-03-24 20:40:00</td>\n",
       "      <td>3 days 10:25:07.000000000</td>\n",
       "      <td>3 days 17:19:07.000000000</td>\n",
       "      <td>7.592908</td>\n",
       "      <td>52.391066</td>\n",
       "      <td>4545276</td>\n",
       "      <td>0</td>\n",
       "      <td>3</td>\n",
       "      <td>86</td>\n",
       "    </tr>\n",
       "    <tr>\n",
       "      <th>55</th>\n",
       "      <td>10023117</td>\n",
       "      <td>21133938.0</td>\n",
       "      <td>38554095</td>\n",
       "      <td>225152</td>\n",
       "      <td>2175-03-24 13:46:00</td>\n",
       "      <td>2175-03-24 20:40:00</td>\n",
       "      <td>3 days 10:25:07.000000000</td>\n",
       "      <td>3 days 17:19:07.000000000</td>\n",
       "      <td>759.290710</td>\n",
       "      <td>5239.105928</td>\n",
       "      <td>4545276</td>\n",
       "      <td>0</td>\n",
       "      <td>3</td>\n",
       "      <td>86</td>\n",
       "    </tr>\n",
       "    <tr>\n",
       "      <th>56</th>\n",
       "      <td>10023117</td>\n",
       "      <td>21133938.0</td>\n",
       "      <td>38554095</td>\n",
       "      <td>220949</td>\n",
       "      <td>2175-03-27 09:56:00</td>\n",
       "      <td>2175-03-27 10:55:00</td>\n",
       "      <td>6 days 06:35:07.000000000</td>\n",
       "      <td>6 days 07:34:07.000000000</td>\n",
       "      <td>8.790478</td>\n",
       "      <td>8.643970</td>\n",
       "      <td>7841032</td>\n",
       "      <td>64</td>\n",
       "      <td>65</td>\n",
       "      <td>86</td>\n",
       "    </tr>\n",
       "    <tr>\n",
       "      <th>...</th>\n",
       "      <td>...</td>\n",
       "      <td>...</td>\n",
       "      <td>...</td>\n",
       "      <td>...</td>\n",
       "      <td>...</td>\n",
       "      <td>...</td>\n",
       "      <td>...</td>\n",
       "      <td>...</td>\n",
       "      <td>...</td>\n",
       "      <td>...</td>\n",
       "      <td>...</td>\n",
       "      <td>...</td>\n",
       "      <td>...</td>\n",
       "      <td>...</td>\n",
       "    </tr>\n",
       "    <tr>\n",
       "      <th>35205</th>\n",
       "      <td>19957675</td>\n",
       "      <td>21799993.0</td>\n",
       "      <td>30259797</td>\n",
       "      <td>229011</td>\n",
       "      <td>2129-04-14 18:01:00</td>\n",
       "      <td>2129-04-15 18:14:00</td>\n",
       "      <td>11 days 08:26:25.000000000</td>\n",
       "      <td>12 days 08:39:25.000000000</td>\n",
       "      <td>60.111507</td>\n",
       "      <td>1455.700361</td>\n",
       "      <td>1947280</td>\n",
       "      <td>21</td>\n",
       "      <td>45</td>\n",
       "      <td>251</td>\n",
       "    </tr>\n",
       "    <tr>\n",
       "      <th>35233</th>\n",
       "      <td>19957675</td>\n",
       "      <td>21799993.0</td>\n",
       "      <td>30259797</td>\n",
       "      <td>229011</td>\n",
       "      <td>2129-04-13 22:16:00</td>\n",
       "      <td>2129-04-14 00:32:00</td>\n",
       "      <td>10 days 12:41:25.000000000</td>\n",
       "      <td>10 days 14:57:25.000000000</td>\n",
       "      <td>20.000000</td>\n",
       "      <td>45.333335</td>\n",
       "      <td>1365134</td>\n",
       "      <td>1</td>\n",
       "      <td>3</td>\n",
       "      <td>251</td>\n",
       "    </tr>\n",
       "    <tr>\n",
       "      <th>35234</th>\n",
       "      <td>19957675</td>\n",
       "      <td>21799993.0</td>\n",
       "      <td>30259797</td>\n",
       "      <td>229011</td>\n",
       "      <td>2129-04-14 00:32:00</td>\n",
       "      <td>2129-04-14 05:59:00</td>\n",
       "      <td>10 days 14:57:25.000000000</td>\n",
       "      <td>10 days 20:24:25.000000000</td>\n",
       "      <td>30.011002</td>\n",
       "      <td>163.559953</td>\n",
       "      <td>8117797</td>\n",
       "      <td>3</td>\n",
       "      <td>9</td>\n",
       "      <td>251</td>\n",
       "    </tr>\n",
       "    <tr>\n",
       "      <th>35235</th>\n",
       "      <td>19957675</td>\n",
       "      <td>21799993.0</td>\n",
       "      <td>30259797</td>\n",
       "      <td>220949</td>\n",
       "      <td>2129-04-14 06:08:00</td>\n",
       "      <td>2129-04-14 08:08:00</td>\n",
       "      <td>10 days 20:33:25.000000000</td>\n",
       "      <td>10 days 22:33:25.000000000</td>\n",
       "      <td>249.999985</td>\n",
       "      <td>499.999981</td>\n",
       "      <td>1159372</td>\n",
       "      <td>9</td>\n",
       "      <td>11</td>\n",
       "      <td>251</td>\n",
       "    </tr>\n",
       "    <tr>\n",
       "      <th>35266</th>\n",
       "      <td>19957675</td>\n",
       "      <td>21799993.0</td>\n",
       "      <td>30259797</td>\n",
       "      <td>229011</td>\n",
       "      <td>2129-04-16 12:00:00</td>\n",
       "      <td>2129-04-16 21:02:00</td>\n",
       "      <td>13 days 02:25:25.000000000</td>\n",
       "      <td>13 days 11:27:25.000000000</td>\n",
       "      <td>39.996307</td>\n",
       "      <td>361.299972</td>\n",
       "      <td>7700410</td>\n",
       "      <td>63</td>\n",
       "      <td>72</td>\n",
       "      <td>251</td>\n",
       "    </tr>\n",
       "  </tbody>\n",
       "</table>\n",
       "<p>7402 rows × 14 columns</p>\n",
       "</div>"
      ],
      "text/plain": [
       "       subject_id     hadm_id   stay_id  itemid            starttime  \\\n",
       "27       10023117  21133938.0  38554095  220949  2175-03-26 18:40:00   \n",
       "28       10023117  21133938.0  38554095  225152  2175-03-26 18:40:00   \n",
       "54       10023117  21133938.0  38554095  220949  2175-03-24 13:46:00   \n",
       "55       10023117  21133938.0  38554095  225152  2175-03-24 13:46:00   \n",
       "56       10023117  21133938.0  38554095  220949  2175-03-27 09:56:00   \n",
       "...           ...         ...       ...     ...                  ...   \n",
       "35205    19957675  21799993.0  30259797  229011  2129-04-14 18:01:00   \n",
       "35233    19957675  21799993.0  30259797  229011  2129-04-13 22:16:00   \n",
       "35234    19957675  21799993.0  30259797  229011  2129-04-14 00:32:00   \n",
       "35235    19957675  21799993.0  30259797  220949  2129-04-14 06:08:00   \n",
       "35266    19957675  21799993.0  30259797  229011  2129-04-16 12:00:00   \n",
       "\n",
       "                   endtime      start_hours_from_admit  \\\n",
       "27     2175-03-27 08:15:00   5 days 15:19:07.000000000   \n",
       "28     2175-03-27 08:15:00   5 days 15:19:07.000000000   \n",
       "54     2175-03-24 20:40:00   3 days 10:25:07.000000000   \n",
       "55     2175-03-24 20:40:00   3 days 10:25:07.000000000   \n",
       "56     2175-03-27 10:55:00   6 days 06:35:07.000000000   \n",
       "...                    ...                         ...   \n",
       "35205  2129-04-15 18:14:00  11 days 08:26:25.000000000   \n",
       "35233  2129-04-14 00:32:00  10 days 12:41:25.000000000   \n",
       "35234  2129-04-14 05:59:00  10 days 14:57:25.000000000   \n",
       "35235  2129-04-14 08:08:00  10 days 20:33:25.000000000   \n",
       "35266  2129-04-16 21:02:00  13 days 02:25:25.000000000   \n",
       "\n",
       "            stop_hours_from_admit        rate        amount  orderid  \\\n",
       "27      6 days 04:54:07.000000000    9.373867    127.328363  3079309   \n",
       "28      6 days 04:54:07.000000000  937.386719  12732.836056  3079309   \n",
       "54      3 days 17:19:07.000000000    7.592908     52.391066  4545276   \n",
       "55      3 days 17:19:07.000000000  759.290710   5239.105928  4545276   \n",
       "56      6 days 07:34:07.000000000    8.790478      8.643970  7841032   \n",
       "...                           ...         ...           ...      ...   \n",
       "35205  12 days 08:39:25.000000000   60.111507   1455.700361  1947280   \n",
       "35233  10 days 14:57:25.000000000   20.000000     45.333335  1365134   \n",
       "35234  10 days 20:24:25.000000000   30.011002    163.559953  8117797   \n",
       "35235  10 days 22:33:25.000000000  249.999985    499.999981  1159372   \n",
       "35266  13 days 11:27:25.000000000   39.996307    361.299972  7700410   \n",
       "\n",
       "       start_time  stop_time  select_time  \n",
       "27             49         62           86  \n",
       "28             49         62           86  \n",
       "54              0          3           86  \n",
       "55              0          3           86  \n",
       "56             64         65           86  \n",
       "...           ...        ...          ...  \n",
       "35205          21         45          251  \n",
       "35233           1          3          251  \n",
       "35234           3          9          251  \n",
       "35235           9         11          251  \n",
       "35266          63         72          251  \n",
       "\n",
       "[7402 rows x 14 columns]"
      ]
     },
     "execution_count": 135,
     "metadata": {},
     "output_type": "execute_result"
    }
   ],
   "source": [
    "# now we can look at individual tables\n",
    "dataset['meds']"
   ]
  },
  {
   "cell_type": "markdown",
   "id": "82504018",
   "metadata": {},
   "source": [
    "## Visualize the dynamic data\n",
    "Now, since we processed the data into a temporal format, we can now visualize the resulting tables"
   ]
  },
  {
   "cell_type": "code",
   "execution_count": null,
   "id": "486e78a8",
   "metadata": {},
   "outputs": [],
   "source": [
    "from data_loading.load_preprocessed_dynamic_data import DynamicDataLoader\n",
    "\n",
    "# Load data with default paths\n",
    "data_loader = DynamicDataLoader(data_icu=True)\n",
    "X, y = data_loader.load_data()\n",
    "\n",
    "# Load data with custom paths\n",
    "data_loader_custom = DataLoader(data_icu=True, \n",
    "                                labels_path='./data/csv/labels.csv',\n",
    "                                data_dir='./data/csv/')\n",
    "X_custom, y_custom = data_loader_custom.load_data()\n",
    "\n",
    "# Load data for a specific number of patients (e.g., 10 patients) with custom paths\n",
    "data_loader_limited = DynamicDataLoader(data_icu=True, \n",
    "                                 labels_path='./data/csv/labels.csv',\n",
    "                                 data_dir='./data/csv/', \n",
    "                                 num_patients=10)\n",
    "X_limited, y_limited = data_loader_limited.load_data()"
   ]
  },
  {
   "cell_type": "code",
   "execution_count": 122,
   "id": "872a20c8",
   "metadata": {},
   "outputs": [
    {
     "data": {
      "text/html": [
       "<div>\n",
       "<style scoped>\n",
       "    .dataframe tbody tr th:only-of-type {\n",
       "        vertical-align: middle;\n",
       "    }\n",
       "\n",
       "    .dataframe tbody tr th {\n",
       "        vertical-align: top;\n",
       "    }\n",
       "\n",
       "    .dataframe thead th {\n",
       "        text-align: right;\n",
       "    }\n",
       "</style>\n",
       "<table border=\"1\" class=\"dataframe\">\n",
       "  <thead>\n",
       "    <tr style=\"text-align: right;\">\n",
       "      <th></th>\n",
       "      <th>(MEDS, 220949)</th>\n",
       "      <th>(MEDS, 221653)</th>\n",
       "      <th>(MEDS, 225158)</th>\n",
       "      <th>(MEDS, 228340)</th>\n",
       "      <th>(MEDS, 225828)</th>\n",
       "      <th>(MEDS, 225152)</th>\n",
       "      <th>(MEDS, 221668)</th>\n",
       "      <th>(MEDS, 221906)</th>\n",
       "      <th>(MEDS, 225942)</th>\n",
       "      <th>(MEDS, 225943)</th>\n",
       "      <th>...</th>\n",
       "      <th>(COND, K35)</th>\n",
       "      <th>(COND, S05)</th>\n",
       "      <th>(COND, H21)</th>\n",
       "      <th>(COND, S01)</th>\n",
       "      <th>(COND, N03)</th>\n",
       "      <th>(COND, B25)</th>\n",
       "      <th>Age</th>\n",
       "      <th>gender</th>\n",
       "      <th>ethnicity</th>\n",
       "      <th>insurance</th>\n",
       "    </tr>\n",
       "  </thead>\n",
       "  <tbody>\n",
       "    <tr>\n",
       "      <th>0</th>\n",
       "      <td>-0.0</td>\n",
       "      <td>0.0</td>\n",
       "      <td>500.695007</td>\n",
       "      <td>0.0</td>\n",
       "      <td>0.0</td>\n",
       "      <td>0.0</td>\n",
       "      <td>0.0</td>\n",
       "      <td>0.0</td>\n",
       "      <td>0.0</td>\n",
       "      <td>0.0</td>\n",
       "      <td>...</td>\n",
       "      <td>0.0</td>\n",
       "      <td>0.0</td>\n",
       "      <td>0.0</td>\n",
       "      <td>0.0</td>\n",
       "      <td>0.0</td>\n",
       "      <td>0.0</td>\n",
       "      <td>54.0</td>\n",
       "      <td>M</td>\n",
       "      <td>WHITE</td>\n",
       "      <td>Medicaid</td>\n",
       "    </tr>\n",
       "    <tr>\n",
       "      <th>1</th>\n",
       "      <td>-0.0</td>\n",
       "      <td>0.0</td>\n",
       "      <td>996.000030</td>\n",
       "      <td>0.0</td>\n",
       "      <td>0.0</td>\n",
       "      <td>0.0</td>\n",
       "      <td>0.0</td>\n",
       "      <td>0.0</td>\n",
       "      <td>0.0</td>\n",
       "      <td>0.0</td>\n",
       "      <td>...</td>\n",
       "      <td>NaN</td>\n",
       "      <td>NaN</td>\n",
       "      <td>NaN</td>\n",
       "      <td>NaN</td>\n",
       "      <td>NaN</td>\n",
       "      <td>NaN</td>\n",
       "      <td>NaN</td>\n",
       "      <td>NaN</td>\n",
       "      <td>NaN</td>\n",
       "      <td>NaN</td>\n",
       "    </tr>\n",
       "    <tr>\n",
       "      <th>2</th>\n",
       "      <td>-0.0</td>\n",
       "      <td>0.0</td>\n",
       "      <td>996.000030</td>\n",
       "      <td>0.0</td>\n",
       "      <td>0.0</td>\n",
       "      <td>0.0</td>\n",
       "      <td>0.0</td>\n",
       "      <td>0.0</td>\n",
       "      <td>0.0</td>\n",
       "      <td>0.0</td>\n",
       "      <td>...</td>\n",
       "      <td>NaN</td>\n",
       "      <td>NaN</td>\n",
       "      <td>NaN</td>\n",
       "      <td>NaN</td>\n",
       "      <td>NaN</td>\n",
       "      <td>NaN</td>\n",
       "      <td>NaN</td>\n",
       "      <td>NaN</td>\n",
       "      <td>NaN</td>\n",
       "      <td>NaN</td>\n",
       "    </tr>\n",
       "    <tr>\n",
       "      <th>3</th>\n",
       "      <td>-0.0</td>\n",
       "      <td>0.0</td>\n",
       "      <td>996.000030</td>\n",
       "      <td>0.0</td>\n",
       "      <td>0.0</td>\n",
       "      <td>0.0</td>\n",
       "      <td>0.0</td>\n",
       "      <td>0.0</td>\n",
       "      <td>0.0</td>\n",
       "      <td>0.0</td>\n",
       "      <td>...</td>\n",
       "      <td>NaN</td>\n",
       "      <td>NaN</td>\n",
       "      <td>NaN</td>\n",
       "      <td>NaN</td>\n",
       "      <td>NaN</td>\n",
       "      <td>NaN</td>\n",
       "      <td>NaN</td>\n",
       "      <td>NaN</td>\n",
       "      <td>NaN</td>\n",
       "      <td>NaN</td>\n",
       "    </tr>\n",
       "    <tr>\n",
       "      <th>4</th>\n",
       "      <td>-0.0</td>\n",
       "      <td>0.0</td>\n",
       "      <td>996.000030</td>\n",
       "      <td>0.0</td>\n",
       "      <td>0.0</td>\n",
       "      <td>0.0</td>\n",
       "      <td>0.0</td>\n",
       "      <td>0.0</td>\n",
       "      <td>0.0</td>\n",
       "      <td>0.0</td>\n",
       "      <td>...</td>\n",
       "      <td>NaN</td>\n",
       "      <td>NaN</td>\n",
       "      <td>NaN</td>\n",
       "      <td>NaN</td>\n",
       "      <td>NaN</td>\n",
       "      <td>NaN</td>\n",
       "      <td>NaN</td>\n",
       "      <td>NaN</td>\n",
       "      <td>NaN</td>\n",
       "      <td>NaN</td>\n",
       "    </tr>\n",
       "  </tbody>\n",
       "</table>\n",
       "<p>5 rows × 1032 columns</p>\n",
       "</div>"
      ],
      "text/plain": [
       "   (MEDS, 220949)  (MEDS, 221653)  (MEDS, 225158)  (MEDS, 228340)  \\\n",
       "0            -0.0             0.0      500.695007             0.0   \n",
       "1            -0.0             0.0      996.000030             0.0   \n",
       "2            -0.0             0.0      996.000030             0.0   \n",
       "3            -0.0             0.0      996.000030             0.0   \n",
       "4            -0.0             0.0      996.000030             0.0   \n",
       "\n",
       "   (MEDS, 225828)  (MEDS, 225152)  (MEDS, 221668)  (MEDS, 221906)  \\\n",
       "0             0.0             0.0             0.0             0.0   \n",
       "1             0.0             0.0             0.0             0.0   \n",
       "2             0.0             0.0             0.0             0.0   \n",
       "3             0.0             0.0             0.0             0.0   \n",
       "4             0.0             0.0             0.0             0.0   \n",
       "\n",
       "   (MEDS, 225942)  (MEDS, 225943)  ...  (COND, K35)  (COND, S05)  (COND, H21)  \\\n",
       "0             0.0             0.0  ...          0.0          0.0          0.0   \n",
       "1             0.0             0.0  ...          NaN          NaN          NaN   \n",
       "2             0.0             0.0  ...          NaN          NaN          NaN   \n",
       "3             0.0             0.0  ...          NaN          NaN          NaN   \n",
       "4             0.0             0.0  ...          NaN          NaN          NaN   \n",
       "\n",
       "   (COND, S01)  (COND, N03)  (COND, B25)   Age  gender  ethnicity  insurance  \n",
       "0          0.0          0.0          0.0  54.0       M      WHITE   Medicaid  \n",
       "1          NaN          NaN          NaN   NaN     NaN        NaN        NaN  \n",
       "2          NaN          NaN          NaN   NaN     NaN        NaN        NaN  \n",
       "3          NaN          NaN          NaN   NaN     NaN        NaN        NaN  \n",
       "4          NaN          NaN          NaN   NaN     NaN        NaN        NaN  \n",
       "\n",
       "[5 rows x 1032 columns]"
      ]
     },
     "execution_count": 122,
     "metadata": {},
     "output_type": "execute_result"
    }
   ],
   "source": [
    "# lets take a look \n",
    "X_custom.head()"
   ]
  },
  {
   "cell_type": "markdown",
   "id": "lined-reset",
   "metadata": {},
   "source": [
    "## 8. Machine Learning Models\n",
    "\n",
    "Below we provide options to select -\n",
    "- Type of machine learning model\n",
    "- Wheteher to concatenate or aggregate time-series features.\n",
    "    For example, if the EHR data has collected value for Blood Pressure for one year over 4 time windows of 3 months each then,\n",
    "    - **Conactenate** will concatenate all four values resulting in 4 different features for blood pressure,\n",
    "    - **Aggregate** will aggreagte(mean) over four tiem windows resulting in one feature for blood pressure."
   ]
  },
  {
   "cell_type": "code",
   "execution_count": 38,
   "id": "consolidated-former",
   "metadata": {},
   "outputs": [
    {
     "name": "stdout",
     "output_type": "stream",
     "text": [
      "=======Machine :earning Models=======\n"
     ]
    },
    {
     "data": {
      "application/vnd.jupyter.widget-view+json": {
       "model_id": "78402038fd06422293c458ae6c292b13",
       "version_major": 2,
       "version_minor": 0
      },
      "text/plain": [
       "RadioButtons(index=2, options=('Logistic Regression', 'Random Forest', 'Gradient Bossting', 'Xgboost'), value=…"
      ]
     },
     "metadata": {},
     "output_type": "display_data"
    },
    {
     "name": "stdout",
     "output_type": "stream",
     "text": [
      "Do you wnat to conactenate the time-series feature\n"
     ]
    },
    {
     "data": {
      "application/vnd.jupyter.widget-view+json": {
       "model_id": "34d441b6a3f24cceaa9c2a3ba8006676",
       "version_major": 2,
       "version_minor": 0
      },
      "text/plain": [
       "RadioButtons(options=('Conactenate', 'Aggregate'), value='Conactenate')"
      ]
     },
     "metadata": {},
     "output_type": "display_data"
    },
    {
     "name": "stdout",
     "output_type": "stream",
     "text": [
      "Please select below option for cross-validation\n"
     ]
    },
    {
     "data": {
      "application/vnd.jupyter.widget-view+json": {
       "model_id": "dd4e83ebb7074ef39e67f57b2b2c8d08",
       "version_major": 2,
       "version_minor": 0
      },
      "text/plain": [
       "RadioButtons(index=1, options=('No CV', '5-fold CV', '10-fold CV'), value='5-fold CV')"
      ]
     },
     "metadata": {},
     "output_type": "display_data"
    },
    {
     "name": "stdout",
     "output_type": "stream",
     "text": [
      "Do you want to do oversampling for minority calss ?\n"
     ]
    },
    {
     "data": {
      "application/vnd.jupyter.widget-view+json": {
       "model_id": "afc51847ba924cc589073cad2a4948f2",
       "version_major": 2,
       "version_minor": 0
      },
      "text/plain": [
       "RadioButtons(options=('True', 'False'), value='True')"
      ]
     },
     "metadata": {},
     "output_type": "display_data"
    }
   ],
   "source": [
    "print(\"=======Machine :earning Models=======\")\n",
    "radio_input5 = widgets.RadioButtons(options=['Logistic Regression','Random Forest','Gradient Bossting','Xgboost'],value='Gradient Bossting')\n",
    "display(radio_input5)\n",
    "print(\"Do you wnat to conactenate the time-series feature\")\n",
    "radio_input6 = widgets.RadioButtons(options=['Conactenate','Aggregate'],value='Conactenate')\n",
    "display(radio_input6)\n",
    "print(\"Please select below option for cross-validation\")\n",
    "radio_input7 = widgets.RadioButtons(options=['No CV','5-fold CV','10-fold CV'],value='5-fold CV')\n",
    "display(radio_input7)\n",
    "print(\"Do you want to do oversampling for minority calss ?\")\n",
    "radio_input8 = widgets.RadioButtons(options=['True','False'],value='True')\n",
    "display(radio_input8)"
   ]
  },
  {
   "cell_type": "code",
   "execution_count": null,
   "id": "promising-miller",
   "metadata": {
    "scrolled": true
   },
   "outputs": [],
   "source": [
    "if radio_input7.value=='No CV':\n",
    "    cv=0\n",
    "elif radio_input7.value=='5-fold CV':\n",
    "    cv=int(5)\n",
    "elif radio_input7.value=='10-fold CV':\n",
    "    cv=int(10)\n",
    "ml=ml_models.ML_models(data_icu,cv,radio_input5.value,concat=radio_input6.value=='Conactenate',oversampling=radio_input8.value=='True')"
   ]
  },
  {
   "cell_type": "markdown",
   "id": "ordinary-chancellor",
   "metadata": {},
   "source": [
    "## 9. Deep Learning Models\n",
    "- Time-series LSTM and Time-series CNN which will only use time-series events like medications, charts, labs, output events to train model.\n",
    "\n",
    "- Hybrid LSTM and Hybrid CNN will use static data - diagnosis, demographic data aong with other time-series data to train model.\n",
    "\n",
    "- LSTM with Attention model will use attention layer to rank the important features and learn to predict output. It will use both static and time-series data.\n",
    "\n",
    "**Go to ./model/parameter.py and define all variables needed for model building and training**\n",
    "\n",
    "**Please run below cell to select which model to use**"
   ]
  },
  {
   "cell_type": "code",
   "execution_count": null,
   "id": "operational-pride",
   "metadata": {},
   "outputs": [],
   "source": [
    "radio_input6=widgets.RadioButtons(options=['Time-series LSTM','Time-series CNN','Hybrid LSTM','Hybrid CNN'],value='Time-series LSTM')\n",
    "display(radio_input6)\n",
    "print(\"Please select below option for cross-validation\")\n",
    "radio_input7 = widgets.RadioButtons(options=['No CV','5-fold CV','10-fold CV'],value='5-fold CV')\n",
    "display(radio_input7)\n",
    "print(\"Do you want to do oversampling for minority calss ?\")\n",
    "radio_input8 = widgets.RadioButtons(options=['True','False'],value='True')\n",
    "display(radio_input8)"
   ]
  },
  {
   "cell_type": "code",
   "execution_count": null,
   "id": "golden-stewart",
   "metadata": {
    "scrolled": true
   },
   "outputs": [],
   "source": [
    "if radio_input7.value=='No CV':\n",
    "    cv=0\n",
    "elif radio_input7.value=='5-fold CV':\n",
    "    cv=int(5)\n",
    "elif radio_input7.value=='10-fold CV':\n",
    "    cv=int(10)\n",
    "    \n",
    "if data_icu:\n",
    "    model=dl_train.DL_models(data_icu,diag_flag,proc_flag,out_flag,chart_flag,med_flag,False,radio_input6.value,cv,oversampling=radio_input8.value=='True',model_name='attn_icu_read',train=True)\n",
    "else:\n",
    "    model=dl_train.DL_models(data_icu,diag_flag,proc_flag,False,False,med_flag,lab_flag,radio_input6.value,cv,oversampling=radio_input8.value=='True',model_name='attn_icu_read',train=True)"
   ]
  },
  {
   "cell_type": "markdown",
   "id": "driven-factor",
   "metadata": {},
   "source": [
    "## 10. Running BEHRT\n",
    "Below we integrate the implementation of BEHRT in our pipeline.\n",
    "We perform pre-procesing needed to run BEHRT model. https://github.com/deepmedicine/BEHRT\n",
    "\n",
    "Few things to note before running BEHRT -\n",
    "- The numerical values are binned into quantiles.\n",
    "- BEHRT has recommended maximum number of events per sample to be 512. \n",
    "    So feature selection is important so that number of events per sample does not exceed 512.\n",
    "- The model is quite computationally heavy so it requires a GPU.\n",
    "\n",
    "The output files for BEHRT will be saved in ./data/behrt/ folder\n",
    "\n",
    "**Please run below cell to to pre-process and run BEHRT on the selected cohort**"
   ]
  },
  {
   "cell_type": "code",
   "execution_count": null,
   "id": "aggressive-break",
   "metadata": {},
   "outputs": [],
   "source": [
    "if data_icu:\n",
    "    token=tokenization.BEHRT_models(data_icu,diag_flag,proc_flag,out_flag,chart_flag,med_flag,False)\n",
    "    tokenized_src, tokenized_age, tokenized_gender, tokenized_ethni, tokenized_ins, tokenized_labels=token.tokenize()\n",
    "else:\n",
    "    token=tokenization.BEHRT_models(data_icu,diag_flag,proc_flag,False,False,med_flag,lab_flag)\n",
    "    tokenized_src, tokenized_age, tokenized_gender, tokenized_ethni, tokenized_ins, tokenized_labels=token.tokenize()\n",
    "    \n",
    "behrt_train.train_behrt(tokenized_src, tokenized_age, tokenized_gender, tokenized_ethni, tokenized_ins, tokenized_labels)"
   ]
  },
  {
   "cell_type": "markdown",
   "id": "reserved-objective",
   "metadata": {},
   "source": [
    "### EVALUATION AS STANDALONE MODULE\n",
    "Below cell shows an exaple of how evaluation module can be used as a standalone module.\n",
    "\n",
    "evaluation.Loss class can be instantiated and model output and ground truth can be passed to it to obtain results.\n",
    "\n",
    "In the example below we captured model output and ground truth in a file and used that file to read the data.\n",
    "\n",
    "In function definition ***loss(prob,truth,logits,False)***\n",
    "\n",
    "prob -> List of Output predicted probabilities of case being positive\n",
    "\n",
    "truth -> List of ground truth labels\n",
    "\n",
    "logits -> List of logits obtained from last fully connected layer before applying softmax.sigmoid function in the model."
   ]
  },
  {
   "cell_type": "code",
   "execution_count": null,
   "id": "streaming-integration",
   "metadata": {},
   "outputs": [],
   "source": [
    "if torch.cuda.is_available():\n",
    "    device='cuda:0'\n",
    "#device='cpu'\n",
    "loss=evaluation.Loss(device,acc=True,ppv=True,sensi=True,tnr=True,npv=True,auroc=True,aurocPlot=True,auprc=True,auprcPlot=True,callb=True,callbPlot=True)\n",
    "with open(\"./data/output/outputDict\", 'rb') as fp:\n",
    "    outputDict=pickle.load(fp)\n",
    "prob=list(outputDict['Prob'])\n",
    "truth=list(outputDict['Labels'])\n",
    "logits=list(outputDict['Logits'])\n",
    "#print(torch.tensor(prob))\n",
    "print(\"======= TESTING ========\")\n",
    "loss(prob,truth,logits,train=False,standalone=True)\n"
   ]
  },
  {
   "cell_type": "markdown",
   "id": "designing-works",
   "metadata": {},
   "source": [
    "### 11. FAIRNESS EVALUATION\n",
    "In train and testing step we save output files in **./data/output/** folder.\n",
    "\n",
    "This file conatins list of demographic variables included in training and testing of the model.\n",
    "\n",
    "It also contains the ground truth labels and predicted probability for each sample.\n",
    "\n",
    "We use the above saved data to perform fairness evaluation of the results obtained from model testing.\n",
    "\n",
    "This module can be used as stand-alone module also.\n",
    "\n",
    "Please create a file that contains predicted probabilites form the last sigmoid layer in column named **Prob** and\n",
    "ground truth labels for each sample in column named **Labels**."
   ]
  },
  {
   "cell_type": "code",
   "execution_count": null,
   "id": "civilian-direction",
   "metadata": {},
   "outputs": [],
   "source": [
    "fairness.fairness_evaluation(inputFile='outputDict',outputFile='fairnessReport')"
   ]
  },
  {
   "cell_type": "markdown",
   "id": "efficient-distinction",
   "metadata": {},
   "source": [
    "### 12. MODEL CALLIBRATION\n",
    "\n",
    "Please run below cell if you want to callibrate predicted probabilites of the model on test data.\n",
    "It will use the output saved during the testing of the model.\n",
    "\n",
    "The file is saved in **./data/output/**.\n",
    "\n",
    "This module can be used as stand-alone module also.\n",
    "\n",
    "Please create a file that contain predicted logits form the last fully connected layer in column named **Logits** and <br>ground truth labels for each sample in a column named **Labels**."
   ]
  },
  {
   "cell_type": "code",
   "execution_count": null,
   "id": "secure-flavor",
   "metadata": {},
   "outputs": [],
   "source": [
    "callibrate_output.callibrate(inputFile='outputDict',outputFile='callibratedResults')"
   ]
  },
  {
   "cell_type": "code",
   "execution_count": null,
   "id": "fleet-canyon",
   "metadata": {},
   "outputs": [],
   "source": []
  }
 ],
 "metadata": {
  "hide_input": false,
  "kernelspec": {
   "display_name": "Python 3 (mimic_prep_env)",
   "language": "python",
   "name": "mimic_prep_env"
  },
  "language_info": {
   "codemirror_mode": {
    "name": "ipython",
    "version": 3
   },
   "file_extension": ".py",
   "mimetype": "text/x-python",
   "name": "python",
   "nbconvert_exporter": "python",
   "pygments_lexer": "ipython3",
   "version": "3.7.12"
  }
 },
 "nbformat": 4,
 "nbformat_minor": 5
}
