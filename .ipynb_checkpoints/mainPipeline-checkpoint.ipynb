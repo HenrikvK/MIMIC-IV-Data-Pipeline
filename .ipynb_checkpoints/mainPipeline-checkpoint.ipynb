{
 "cells": [
  {
   "cell_type": "code",
   "execution_count": 1,
   "id": "cc242e2f",
   "metadata": {},
   "outputs": [],
   "source": [
    "# data_path = '/../data/real_world_data/physionet.org/files'\n",
    "data_path = \"/lustre/groups/labs/marr/qscd01/datasets/vonKleist/physionet.org/files\""
   ]
  },
  {
   "cell_type": "code",
   "execution_count": 2,
   "id": "available-albany",
   "metadata": {},
   "outputs": [],
   "source": [
    "%load_ext autoreload\n",
    "%autoreload 2\n",
    "\n",
    "import ipywidgets as widgets\n",
    "import sys\n",
    "from pathlib import Path\n",
    "import os\n",
    "import importlib\n",
    "import pandas as pd\n",
    "\n",
    "\n",
    "module_path='preprocessing/day_intervals_preproc'\n",
    "if module_path not in sys.path:\n",
    "    sys.path.append(module_path)\n",
    "\n",
    "module_path='utils'\n",
    "if module_path not in sys.path:\n",
    "    sys.path.append(module_path)\n",
    "    \n",
    "module_path='preprocessing/hosp_module_preproc'\n",
    "if module_path not in sys.path:\n",
    "    sys.path.append(module_path)\n",
    "    \n",
    "module_path='model'\n",
    "if module_path not in sys.path:\n",
    "    sys.path.append(module_path)\n",
    "#print(sys.path)\n",
    "# define the path to the data from current repository \n",
    "# (from here data is in mimiciv/3.0/hosp )\n",
    "#root_dir = os.path.dirname(os.path.abspath('UserInterface.ipynb')) + data_path\n",
    "\n",
    "root_dir = data_path\n",
    "\n",
    "import day_intervals_cohort\n",
    "from day_intervals_cohort import *\n",
    "\n",
    "import day_intervals_cohort_v2\n",
    "from day_intervals_cohort_v2 import *\n",
    "\n",
    "import day_intervals_cohort_v3\n",
    "from day_intervals_cohort_v3 import *\n",
    "\n",
    "import data_generation_icu\n",
    "\n",
    "import data_generation\n",
    "import evaluation\n",
    "\n",
    "import feature_selection_hosp\n",
    "from feature_selection_hosp import *\n",
    "\n",
    "# import train\n",
    "# from train import *\n",
    "\n",
    "\n",
    "import ml_models\n",
    "from ml_models import *\n",
    "\n",
    "import dl_train\n",
    "from dl_train import *\n",
    "\n",
    "import tokenization\n",
    "from tokenization import *\n",
    "\n",
    "\n",
    "import behrt_train\n",
    "from behrt_train import *\n",
    "\n",
    "import feature_selection_icu\n",
    "from feature_selection_icu import *\n",
    "import fairness\n",
    "import callibrate_output"
   ]
  },
  {
   "cell_type": "code",
   "execution_count": 3,
   "id": "nutritional-chicago",
   "metadata": {},
   "outputs": [],
   "source": [
    "importlib.reload(day_intervals_cohort)\n",
    "import day_intervals_cohort\n",
    "from day_intervals_cohort import *\n",
    "\n",
    "importlib.reload(day_intervals_cohort_v2)\n",
    "import day_intervals_cohort_v2\n",
    "from day_intervals_cohort_v2 import *\n",
    "\n",
    "importlib.reload(day_intervals_cohort_v3)\n",
    "import day_intervals_cohort_v3\n",
    "from day_intervals_cohort_v3 import *\n",
    "\n",
    "\n",
    "importlib.reload(data_generation_icu)\n",
    "import data_generation_icu\n",
    "importlib.reload(data_generation)\n",
    "import data_generation\n",
    "\n",
    "importlib.reload(feature_selection_hosp)\n",
    "import feature_selection_hosp\n",
    "from feature_selection_hosp import *\n",
    "\n",
    "importlib.reload(feature_selection_icu)\n",
    "import feature_selection_icu\n",
    "from feature_selection_icu import *\n",
    "\n",
    "importlib.reload(tokenization)\n",
    "import tokenization\n",
    "from tokenization import *\n",
    "\n",
    "importlib.reload(ml_models)\n",
    "import ml_models\n",
    "from ml_models import *\n",
    "\n",
    "importlib.reload(dl_train)\n",
    "import dl_train\n",
    "from dl_train import *\n",
    "\n",
    "importlib.reload(behrt_train)\n",
    "import behrt_train\n",
    "from behrt_train import *\n",
    "\n",
    "importlib.reload(fairness)\n",
    "import fairness\n",
    "\n",
    "importlib.reload(callibrate_output)\n",
    "import callibrate_output\n",
    "\n",
    "importlib.reload(evaluation)\n",
    "import evaluation"
   ]
  },
  {
   "cell_type": "markdown",
   "id": "eligible-demand",
   "metadata": {},
   "source": [
    "# Welcome to your MIMIC-IV Project"
   ]
  },
  {
   "cell_type": "markdown",
   "id": "jewish-crown",
   "metadata": {},
   "source": [
    "This repository explains the steps to download and clean MIMIC-IV dataset for analysis.\n",
    "The repository is compatible with MIMIC-IV v1.0 and MIMIC-IV v2.0\n",
    "\n",
    "Please go to:\n",
    "- https://physionet.org/content/mimiciv/1.0/ for v1.0\n",
    "- https://physionet.org/content/mimiciv/2.0/ for v2.0\n",
    "\n",
    "Follow instructions to get access to MIMIC-IV dataset.\n",
    "\n",
    "Download the files using your terminal: \n",
    "- wget -r -N -c -np --user mehakg --ask-password https://physionet.org/files/mimiciv/1.0/ or\n",
    "- wget -r -N -c -np --user mehakg --ask-password https://physionet.org/files/mimiciv/2.0/\n",
    "        \n",
    "\n",
    "Save downloaded files in the parent directory of this github repo. \n",
    "\n",
    "The structure should look like below for v1.0-\n",
    "- mimiciv/1.0/core\n",
    "- mimiciv/1.0/hosp\n",
    "- mimiciv/1.0/icu\n",
    "\n",
    "The structure should look like below for v2.0-\n",
    "- mimiciv/2.0/hosp\n",
    "- mimiciv/2.0/icu"
   ]
  },
  {
   "cell_type": "markdown",
   "id": "happy-tissue",
   "metadata": {},
   "source": [
    "## 1. DATA EXTRACTION\n",
    "Please run below cell to select option for cohort selection.\n",
    "The cohort will be svaed in **./data/cohort/**"
   ]
  },
  {
   "cell_type": "code",
   "execution_count": 6,
   "id": "structured-dimension",
   "metadata": {
    "tags": [
     "{",
     "\"tags\":",
     "[",
     "\"hide-input\"",
     "]",
     "}"
    ]
   },
   "outputs": [
    {
     "name": "stdout",
     "output_type": "stream",
     "text": [
      "Please select the approriate version of MIMIC-IV for which you have downloaded data ?\n"
     ]
    },
    {
     "data": {
      "application/vnd.jupyter.widget-view+json": {
<<<<<<< HEAD
<<<<<<< HEAD
       "model_id": "c17c992bf2d24877b5a001d4eef69a5a",
=======
       "model_id": "2377ed8f79cf4aca93fb1b01a3bf9e88",
>>>>>>> 0259719662cf49b02db6acf09e08eca21701f638
=======
       "model_id": "96f79ac8ca4e4cf6ab353dcadfa7e866",
>>>>>>> origin/main
       "version_major": 2,
       "version_minor": 0
      },
      "text/plain": [
       "RadioButtons(index=2, options=('Version 1', 'Version 2', 'Version 3'), value='Version 3')"
      ]
     },
     "metadata": {},
     "output_type": "display_data"
    },
    {
     "name": "stdout",
     "output_type": "stream",
     "text": [
      "Please select what prediction task you want to perform ?\n"
     ]
    },
    {
     "data": {
      "application/vnd.jupyter.widget-view+json": {
<<<<<<< HEAD
<<<<<<< HEAD
       "model_id": "38fa04f6813a475faf090d9e97d517d7",
=======
       "model_id": "1ebb16233c2a4ae4a45af0e5b424f32f",
>>>>>>> 0259719662cf49b02db6acf09e08eca21701f638
=======
       "model_id": "d77aeb34fb914d38acaf7b1a3806d511",
>>>>>>> origin/main
       "version_major": 2,
       "version_minor": 0
      },
      "text/plain": [
       "RadioButtons(index=3, options=('Mortality', 'Length of Stay', 'Readmission', 'Phenotype'), value='Phenotype')"
      ]
     },
     "metadata": {},
     "output_type": "display_data"
    }
   ],
   "source": [
    "print(\"Please select the approriate version of MIMIC-IV for which you have downloaded data ?\")\n",
    "version = widgets.RadioButtons(options=['Version 1','Version 2','Version 3'],value='Version 3')\n",
    "display(version)\n",
    "\n",
    "print(\"Please select what prediction task you want to perform ?\")\n",
    "radio_input4 = widgets.RadioButtons(options=['Mortality','Length of Stay','Readmission','Phenotype'],value='Phenotype')\n",
    "display(radio_input4)\n"
   ]
  },
  {
   "cell_type": "markdown",
   "id": "written-syndicate",
   "metadata": {},
   "source": [
    "### Refining Cohort and Prediction Task Definition\n",
    "\n",
    "Based on your current selection following block will provide option to further refine prediction task and cohort associated with it:\n",
    "\n",
    "- First you will refine the prediction task choosing from following options -\n",
    "    - **length of Stay** - You can select from two predefined options or enter custom number of days to predict length os stay greater than number of days.\n",
    "\n",
    "    - **Readmission** - You can select from two predefined options or enter custom number of days to predict readmission after \"number of days\" after previous admission.\n",
    "\n",
    "    - **Phenotype Prediction** - You can select from four major chronic diseases to predict its future outcome\n",
    "\n",
    "        - Heart failure\n",
    "        - CAD (Coronary Artery Disease)\n",
    "        - CKD (Chronic Kidney Disease)\n",
    "        - COPD (Chronic obstructive pulmonary disease)\n",
    "\n",
    "- Second, you will choode whether to perfom above task using ICU or non-ICU admissions data\n",
    "\n",
    "- Third, you can refine the refine the cohort selection for any of the above choosen prediction tasks by including the admission samples admitted with particular chronic disease - \n",
    "    - Heart failure\n",
    "    - CAD (Coronary Artery Disease)\n",
    "    - CKD (Chronic Kidney Disease)\n",
    "    - COPD (Chronic obstructive pulmonary disease)\n",
    "    \n",
    "print(\"**Please run below cell to extract the cohort for selected options**\")"
   ]
  },
  {
   "cell_type": "code",
<<<<<<< HEAD
<<<<<<< HEAD
   "execution_count": 5,
=======
   "execution_count": 9,
>>>>>>> 0259719662cf49b02db6acf09e08eca21701f638
=======
   "execution_count": 5,
>>>>>>> origin/main
   "id": "broke-spirituality",
   "metadata": {},
   "outputs": [
    {
     "data": {
      "application/vnd.jupyter.widget-view+json": {
<<<<<<< HEAD
<<<<<<< HEAD
       "model_id": "ba87b56b9b334b8990382fa7462ea500",
=======
       "model_id": "66727670564f4bbabaecfc03bef741f8",
>>>>>>> 0259719662cf49b02db6acf09e08eca21701f638
=======
       "model_id": "99cd9c1941a64df4bb3ce9e09f1744e6",
>>>>>>> origin/main
       "version_major": 2,
       "version_minor": 0
      },
      "text/plain": [
       "RadioButtons(index=2, options=('Heart Failure in 30 days', 'CAD in 30 days', 'CKD in 30 days', 'COPD in 30 day…"
      ]
     },
     "metadata": {},
     "output_type": "display_data"
    },
    {
     "name": "stdout",
     "output_type": "stream",
     "text": [
      "Extract Data\n",
      "Please select below if you want to work with ICU or Non-ICU data ?\n"
     ]
    },
    {
     "data": {
      "application/vnd.jupyter.widget-view+json": {
<<<<<<< HEAD
<<<<<<< HEAD
       "model_id": "63b0bdf32dca4b56b2adb0b7c53caeb0",
=======
       "model_id": "9d44ea83e68f4c5ebd2a467bf4055bed",
>>>>>>> 0259719662cf49b02db6acf09e08eca21701f638
=======
       "model_id": "2355cf8f5c3b4c27afdcdd741f00f813",
>>>>>>> origin/main
       "version_major": 2,
       "version_minor": 0
      },
      "text/plain": [
       "RadioButtons(options=('ICU', 'Non-ICU'), value='ICU')"
      ]
     },
     "metadata": {},
     "output_type": "display_data"
    },
    {
     "name": "stdout",
     "output_type": "stream",
     "text": [
      "Please select if you want to perform choosen prediction task for a specific disease.\n"
     ]
    },
    {
     "data": {
      "application/vnd.jupyter.widget-view+json": {
<<<<<<< HEAD
<<<<<<< HEAD
       "model_id": "9dcc048feb7d407d9117ab05c10fff5f",
=======
       "model_id": "4f8c4c9580fd469780d6f9c25669b752",
>>>>>>> 0259719662cf49b02db6acf09e08eca21701f638
=======
       "model_id": "6280ea01622546ae8cf20f8b926d0aee",
>>>>>>> origin/main
       "version_major": 2,
       "version_minor": 0
      },
      "text/plain": [
       "RadioButtons(index=2, options=('No Disease Filter', 'Heart Failure', 'CKD', 'CAD', 'COPD'), value='CKD')"
      ]
     },
     "metadata": {},
     "output_type": "display_data"
    }
   ],
   "source": [
    "if radio_input4.value=='Length of Stay':\n",
    "    radio_input2 = widgets.RadioButtons(options=['Length of Stay ge 3','Length of Stay ge 7','Custom']\n",
    "                                        ,value='Length of Stay ge 3')\n",
    "    display(radio_input2)\n",
    "    text1=widgets.IntSlider(\n",
    "    value=3,\n",
    "    min=1,\n",
    "    max=10,\n",
    "    step=1,\n",
    "    disabled=False,\n",
    "    continuous_update=False,\n",
    "    orientation='horizontal',\n",
    "    readout=True,\n",
    "    readout_format='d'\n",
    ")\n",
    "    display(widgets.HBox([widgets.Label('Length of stay ge (in days)',layout={'width': '180px'}), text1]))\n",
    "elif radio_input4.value=='Readmission':\n",
    "    radio_input2 = widgets.RadioButtons(options=['30 Day Readmission',\n",
    "                                                 '60 Day Readmission','90 Day Readmission',\n",
    "                                                 '120 Day Readmission','Custom'],value='30 Day Readmission')\n",
    "    display(radio_input2)\n",
    "    text1=widgets.IntSlider(\n",
    "    value=30,\n",
    "    min=10,\n",
    "    max=150,\n",
    "    step=10,\n",
    "    disabled=False\n",
    "    )\n",
    "    display(widgets.HBox([widgets.Label('Readmission after (in days)',layout={'width': '180px'}), text1]))\n",
    "elif radio_input4.value=='Phenotype':\n",
<<<<<<< HEAD
<<<<<<< HEAD
    "    radio_input2 = widgets.RadioButtons(options=['Heart Failure in 30 days','CAD in 30 days','CKD in 30 days','COPD in 30 days'],value='CKD in 30 days')\n",
=======
    "    radio_input2 = widgets.RadioButtons(options=['Heart Failure in 30 days',\n",
    "                                                 'CAD in 30 days','CKD in 30 days',\n",
    "                                                 'COPD in 30 days'],value='CKD in 30 days')\n",
>>>>>>> 0259719662cf49b02db6acf09e08eca21701f638
=======
    "    radio_input2 = widgets.RadioButtons(options=['Heart Failure in 30 days',\n",
    "                                                 'CAD in 30 days','CKD in 30 days',\n",
    "                                                 'COPD in 30 days'],value='CKD in 30 days')\n",
>>>>>>> origin/main
    "    display(radio_input2)\n",
    "elif radio_input4.value=='Mortality':\n",
    "    radio_input2 = widgets.RadioButtons(options=['Mortality'],value='Mortality')\n",
    "    #display(radio_input2)\n",
    "\n",
    "print(\"Extract Data\")\n",
    "print(\"Please select below if you want to work with ICU or Non-ICU data ?\")\n",
    "radio_input1 = widgets.RadioButtons(options=['ICU', 'Non-ICU'],value='ICU')\n",
    "display(radio_input1)\n",
    "\n",
    "print(\"Please select if you want to perform choosen prediction task for a specific disease.\")\n",
    "radio_input3 = widgets.RadioButtons(options=['No Disease Filter','Heart Failure','CKD','CAD','COPD'],value='CKD')\n",
    "display(radio_input3)"
   ]
  },
  {
   "cell_type": "code",
<<<<<<< HEAD
<<<<<<< HEAD
   "execution_count": 6,
=======
   "execution_count": 10,
>>>>>>> 0259719662cf49b02db6acf09e08eca21701f638
=======
   "execution_count": 6,
>>>>>>> origin/main
   "id": "republican-freight",
   "metadata": {},
   "outputs": [
    {
     "name": "stdout",
     "output_type": "stream",
     "text": [
      "===========MIMIC-IV v3.0============\n",
<<<<<<< HEAD
<<<<<<< HEAD
      "EXTRACTING FOR: | ICU | READMISSION DUE TO N18 | ADMITTED DUE TO N18 | 30 |\n",
=======
=======
>>>>>>> origin/main
      "EXTRACTING FOR: | ICU | READMISSION DUE TO N18 | 30 | \n"
     ]
    },
    {
     "name": "stderr",
     "output_type": "stream",
     "text": [
<<<<<<< HEAD
      "\r",
      "  0%|                                                                                           | 0/565 [00:00<?, ?it/s]"
=======
      "  2%|█▍                                                                                | 10/565 [00:00<00:05, 97.28it/s]"
>>>>>>> origin/main
     ]
    },
    {
     "name": "stdout",
     "output_type": "stream",
     "text": [
>>>>>>> 0259719662cf49b02db6acf09e08eca21701f638
      "[ READMISSION DUE TO N18 ]\n"
     ]
    },
    {
     "name": "stderr",
     "output_type": "stream",
     "text": [
<<<<<<< HEAD
<<<<<<< HEAD
      "100%|██████████| 11547/11547 [00:56<00:00, 203.45it/s]\n"
=======
      "100%|█████████████████████████████████████████████████████████████████████████████████| 565/565 [00:11<00:00, 47.68it/s]"
>>>>>>> 0259719662cf49b02db6acf09e08eca21701f638
=======
      "100%|█████████████████████████████████████████████████████████████████████████████████| 565/565 [00:06<00:00, 90.90it/s]"
>>>>>>> origin/main
     ]
    },
    {
     "name": "stdout",
     "output_type": "stream",
     "text": [
      "[ READMISSION LABELS FINISHED ]\n",
      "[ COHORT SUCCESSFULLY SAVED ]\n",
      "[ SUMMARY SUCCESSFULLY SAVED ]\n",
      "Readmission FOR ICU DATA\n",
      "# Admission Records: 18419\n",
      "# Patients: 11547\n",
      "# Positive cases: 3088\n",
      "# Negative cases: 15331\n"
     ]
    },
    {
     "name": "stderr",
     "output_type": "stream",
     "text": [
      "\n"
     ]
    },
    {
     "name": "stderr",
     "output_type": "stream",
     "text": [
      "\n"
     ]
    }
   ],
   "source": [
    "disease_label=\"\"\n",
    "time=0\n",
    "label=radio_input4.value\n",
    "\n",
    "if label=='Readmission':\n",
    "    if radio_input2.value=='Custom':\n",
    "        time=text1.value\n",
    "    else:\n",
    "        time=int(radio_input2.value.split()[0])\n",
    "elif label=='Length of Stay':\n",
    "    if radio_input2.value=='Custom':\n",
    "        time=text1.value\n",
    "    else:\n",
    "        time=int(radio_input2.value.split()[4])\n",
    "\n",
    "if label=='Phenotype':    \n",
    "    if radio_input2.value=='Heart Failure in 30 days':\n",
    "        label='Readmission'\n",
    "        time=30\n",
    "        disease_label='I50'\n",
    "    elif radio_input2.value=='CAD in 30 days':\n",
    "        label='Readmission'\n",
    "        time=30\n",
    "        disease_label='I25'\n",
    "    elif radio_input2.value=='CKD in 30 days':\n",
    "        label='Readmission'\n",
    "        time=30\n",
    "        disease_label='N18'\n",
    "    elif radio_input2.value=='COPD in 30 days':\n",
    "        label='Readmission'\n",
    "        time=30\n",
    "        disease_label='J44'\n",
    "    \n",
    "data_icu=radio_input1.value==\"ICU\"\n",
    "data_mort=label==\"Mortality\"\n",
    "data_admn=label=='Readmission'\n",
    "data_los=label=='Length of Stay'\n",
    "        \n",
    "\n",
    "if (radio_input3.value==\"Heart Failure\"):\n",
    "    icd_code='I50'\n",
    "elif (radio_input3.value==\"CKD\"):\n",
    "    icd_code='N18'\n",
    "elif (radio_input3.value==\"COPD\"):\n",
    "    icd_code='J44'\n",
    "elif (radio_input3.value==\"CAD\"):\n",
    "    icd_code='I25'\n",
    "else:\n",
    "    icd_code='No Disease Filter'\n",
    "\n",
    "if version.value=='Version 1':\n",
    "    version_path= \"mimiciv/1.0\"\n",
    "    cohort_output = day_intervals_cohort.extract_data(radio_input1.value,label,time,icd_code, root_dir,disease_label)\n",
    "elif version.value=='Version 2':\n",
    "    version_path= \"mimiciv/2.0\"\n",
    "    cohort_output = day_intervals_cohort_v2.extract_data(radio_input1.value,label,time,icd_code, root_dir,disease_label)\n",
    "elif version.value=='Version 3':\n",
    "    version_path= \"mimiciv/3.0\"\n",
    "    cohort_output = day_intervals_cohort_v3.extract_data(radio_input1.value,label,time,icd_code, root_dir,disease_label)"
   ]
  },
  {
   "cell_type": "markdown",
   "id": "interstate-stadium",
   "metadata": {},
   "source": [
    "## 2. FEATURE SELECTION\n",
    "Features available for ICU data -\n",
    "- Diagnosis (https://mimic.mit.edu/docs/iv/modules/hosp/diagnoses_icd/)\n",
    "- Procedures (https://mimic.mit.edu/docs/iv/modules/icu/procedureevents/)\n",
    "- Medications (https://mimic.mit.edu/docs/iv/modules/icu/inputevents/)\n",
    "- Output Events (https://mimic.mit.edu/docs/iv/modules/icu/outputevents/)\n",
    "- Chart Events (https://mimic.mit.edu/docs/iv/modules/icu/chartevents/)\n",
    "\n",
    "Features available for ICU data -\n",
    "- Diagnosis (https://mimic.mit.edu/docs/iv/modules/hosp/diagnoses_icd/)\n",
    "- Procedures (https://mimic.mit.edu/docs/iv/modules/hosp/procedures_icd/)\n",
    "- Medications (https://mimic.mit.edu/docs/iv/modules/hosp/prescriptions/)\n",
    "- Lab Events (https://mimic.mit.edu/docs/iv/modules/hosp/labevents/)\n",
    "\n",
    "All features will be saved in **./data/features/**\n",
    "\n",
    "**Please run below cell to select features**"
   ]
  },
  {
   "cell_type": "code",
<<<<<<< HEAD
<<<<<<< HEAD
   "execution_count": 7,
=======
   "execution_count": 11,
>>>>>>> 0259719662cf49b02db6acf09e08eca21701f638
=======
   "execution_count": 7,
>>>>>>> origin/main
   "id": "raised-olympus",
   "metadata": {},
   "outputs": [
    {
     "name": "stdout",
     "output_type": "stream",
     "text": [
      "Feature Selection\n",
      "Which Features you want to include for cohort?\n"
     ]
    },
    {
     "data": {
      "application/vnd.jupyter.widget-view+json": {
<<<<<<< HEAD
<<<<<<< HEAD
       "model_id": "58f6749b68dd4ea3af15a45d6c645723",
=======
       "model_id": "aa6eec47d6c7484d98176c0a4d709eeb",
>>>>>>> 0259719662cf49b02db6acf09e08eca21701f638
=======
       "model_id": "3271b143899d48fda38d94abace3ac88",
>>>>>>> origin/main
       "version_major": 2,
       "version_minor": 0
      },
      "text/plain": [
       "Checkbox(value=False, description='Diagnosis')"
      ]
     },
     "metadata": {},
     "output_type": "display_data"
    },
    {
     "data": {
      "application/vnd.jupyter.widget-view+json": {
<<<<<<< HEAD
<<<<<<< HEAD
       "model_id": "f239d70f5c0244f1bf1b4208147f31ea",
=======
       "model_id": "6d9b2ea7c2c646fb9e25e2b2a040da10",
>>>>>>> 0259719662cf49b02db6acf09e08eca21701f638
=======
       "model_id": "2313b29c64ff42468f8a1165aaf24b2c",
>>>>>>> origin/main
       "version_major": 2,
       "version_minor": 0
      },
      "text/plain": [
       "Checkbox(value=False, description='Output Events')"
      ]
     },
     "metadata": {},
     "output_type": "display_data"
    },
    {
     "data": {
      "application/vnd.jupyter.widget-view+json": {
<<<<<<< HEAD
<<<<<<< HEAD
       "model_id": "9762886d8138493d81cf9da0a8369328",
=======
       "model_id": "5dc33c8f94a14930ac5902c56c31f86c",
>>>>>>> 0259719662cf49b02db6acf09e08eca21701f638
=======
       "model_id": "3460d218cac940abba951b9da58c5009",
>>>>>>> origin/main
       "version_major": 2,
       "version_minor": 0
      },
      "text/plain": [
       "Checkbox(value=False, description='Chart Events(Labs and Vitals)')"
      ]
     },
     "metadata": {},
     "output_type": "display_data"
    },
    {
     "data": {
      "application/vnd.jupyter.widget-view+json": {
<<<<<<< HEAD
<<<<<<< HEAD
       "model_id": "9e944c2ca16044598b21da304a17404b",
=======
       "model_id": "6929b79a25d6422abecfecbfa629fa2c",
>>>>>>> 0259719662cf49b02db6acf09e08eca21701f638
=======
       "model_id": "1b022237b4e24bf7b3db406f8a74fcf5",
>>>>>>> origin/main
       "version_major": 2,
       "version_minor": 0
      },
      "text/plain": [
       "Checkbox(value=False, description='Procedures')"
      ]
     },
     "metadata": {},
     "output_type": "display_data"
    },
    {
     "data": {
      "application/vnd.jupyter.widget-view+json": {
<<<<<<< HEAD
<<<<<<< HEAD
       "model_id": "082c7c9a1f2640598e1dedde38d79324",
=======
       "model_id": "6ce13db5d48641989a01deec160781e2",
>>>>>>> 0259719662cf49b02db6acf09e08eca21701f638
=======
       "model_id": "51e4248bc55043f084a5991a12fa564e",
>>>>>>> origin/main
       "version_major": 2,
       "version_minor": 0
      },
      "text/plain": [
       "Checkbox(value=False, description='Medications')"
      ]
     },
     "metadata": {},
     "output_type": "display_data"
    },
    {
     "data": {
      "application/vnd.jupyter.widget-view+json": {
       "model_id": "316afae2fbb24508bd659c9553df142a",
       "version_major": 2,
       "version_minor": 0
      },
      "text/plain": [
       "Checkbox(value=False, description='Lab Events')"
      ]
     },
     "metadata": {},
     "output_type": "display_data"
    },
    {
     "data": {
      "application/vnd.jupyter.widget-view+json": {
       "model_id": "c4ccf50a91f149fa8515394c18a451c6",
       "version_major": 2,
       "version_minor": 0
      },
      "text/plain": [
       "Checkbox(value=False, description='Microbiology Events')"
      ]
     },
     "metadata": {},
     "output_type": "display_data"
    },
    {
     "name": "stdout",
     "output_type": "stream",
     "text": [
      "icu\n",
      "**Please run below cell to extract selected features**\n"
     ]
    }
   ],
   "source": [
    "print(\"Feature Selection\")\n",
    "if data_icu:\n",
    "    print(\"Which Features you want to include for cohort?\")\n",
    "    check_input1 = widgets.Checkbox(description='Diagnosis')\n",
    "    display(check_input1)\n",
    "    check_input2 = widgets.Checkbox(description='Output Events')\n",
    "    display(check_input2)\n",
    "    check_input3 = widgets.Checkbox(description='Chart Events(Labs and Vitals)')\n",
    "    display(check_input3)\n",
    "    check_input4 = widgets.Checkbox(description='Procedures')\n",
    "    display(check_input4)\n",
    "    check_input5 = widgets.Checkbox(description='Medications')\n",
    "    display(check_input5)\n",
    "    check_input100 = widgets.Checkbox(description='Lab Events')\n",
    "    display(check_input100)\n",
    "    check_input101 = widgets.Checkbox(description='Microbiology Events')\n",
    "    display(check_input101)\n",
    "\n",
    "    print(\"icu\")\n",
    "else:\n",
    "    print(\"Which Features you want to include for cohort?\")\n",
    "    check_input1 = widgets.Checkbox(description='Diagnosis')\n",
    "    display(check_input1)\n",
    "    check_input2 = widgets.Checkbox(description='Labs')\n",
    "    display(check_input2)\n",
    "    check_input3 = widgets.Checkbox(description='Procedures')\n",
    "    display(check_input3)\n",
    "    check_input4 = widgets.Checkbox(description='Medications')\n",
    "    display(check_input4)\n",
    "print(\"**Please run below cell to extract selected features**\")"
   ]
  },
  {
   "cell_type": "code",
<<<<<<< HEAD
<<<<<<< HEAD
   "execution_count": 8,
   "id": "fd782178-0e51-4949-b8e1-d0360528e4e8",
   "metadata": {},
   "outputs": [],
   "source": [
    "check_input1.value = True\n",
    "check_input2.value = True\n",
    "check_input3.value = True\n",
    "check_input4.value = True\n",
    "check_input5.value = True\n",
    "\n",
    "check_input100.value = True\n",
    "check_input101.value = True"
   ]
  },
  {
   "cell_type": "code",
   "execution_count": 9,
   "id": "de078f06-2f22-4724-9bd1-94585a50dda1",
   "metadata": {},
   "outputs": [
    {
     "data": {
      "text/plain": [
       "True"
      ]
     },
     "execution_count": 9,
     "metadata": {},
     "output_type": "execute_result"
    }
   ],
   "source": [
    "check_input1.value"
   ]
  },
  {
   "cell_type": "code",
   "execution_count": 10,
   "id": "fe8a24f3-e819-4574-8708-07bfa70a5bea",
   "metadata": {},
   "outputs": [
    {
     "data": {
      "text/plain": [
       "True"
      ]
     },
     "execution_count": 10,
     "metadata": {},
     "output_type": "execute_result"
    }
   ],
   "source": [
    "data_icu\n"
   ]
  },
  {
   "cell_type": "code",
   "execution_count": 11,
   "id": "420826ee-6187-4bba-8638-c58e4efc0743",
   "metadata": {},
   "outputs": [],
   "source": [
    "diag_flag=check_input1.value\n",
    "out_flag=check_input2.value\n",
    "chart_flag=check_input3.value\n",
    "proc_flag=check_input4.value\n",
    "med_flag=check_input5.value\n",
    "\n",
    "lab_flag=check_input100.value\n",
    "micro_flag=check_input101.value"
   ]
  },
  {
   "cell_type": "code",
   "execution_count": 12,
=======
   "execution_count": 126,
>>>>>>> 0259719662cf49b02db6acf09e08eca21701f638
=======
   "execution_count": 19,
>>>>>>> origin/main
   "id": "native-covering",
   "metadata": {
    "scrolled": true
   },
   "outputs": [
    {
     "name": "stdout",
     "output_type": "stream",
     "text": [
      "[EXTRACTING DIAGNOSIS DATA]\n",
      "# unique ICD-9 codes 3624\n",
      "# unique ICD-10 codes 6107\n",
      "# unique ICD-10 codes (After converting ICD-9 to ICD-10) 6412\n",
      "# unique ICD-10 codes (After clinical gruping ICD-10 codes) 1201\n",
      "# Admissions:   18419\n",
      "Total rows 438431\n",
      "[SUCCESSFULLY SAVED DIAGNOSIS DATA]\n",
      "[EXTRACTING OUPTPUT EVENTS DATA]\n",
      "# Unique Events:   68\n",
      "# Admissions:   17150\n",
      "Total rows 906868\n",
      "[SUCCESSFULLY SAVED OUPTPUT EVENTS DATA]\n",
      "[EXTRACTING CHART EVENTS DATA]\n"
     ]
    },
    {
     "name": "stderr",
     "output_type": "stream",
     "text": [
<<<<<<< HEAD
<<<<<<< HEAD
      "44it [05:39,  7.71s/it]\n"
=======
      "3it [00:26,  8.91s/it]\n"
>>>>>>> 0259719662cf49b02db6acf09e08eca21701f638
=======
      "3it [00:28,  9.40s/it]\n"
>>>>>>> origin/main
     ]
    },
    {
     "name": "stdout",
     "output_type": "stream",
     "text": [
<<<<<<< HEAD
<<<<<<< HEAD
      "# Unique Events:   447\n",
      "# Admissions:   18419\n",
      "Total rows 20965802\n",
=======
      "# Unique Events:   681\n",
      "# Admissions:   902\n",
      "Total rows 1496896\n",
      "> \u001b[0;32m/mnt/c/Users/HenrikvonKleist/OneDrive - Helmholtz Zentrum München/Dokumente/PhD/Code/Active Feature Acquisition/MIMIC-IV-Data-Pipeline-main/utils/uom_conversion.py\u001b[0m(34)\u001b[0;36mdrop_wrong_uom\u001b[0;34m()\u001b[0m\n",
      "\u001b[0;32m     31 \u001b[0;31m    \u001b[0;32mimport\u001b[0m \u001b[0mpdb\u001b[0m\u001b[0;34m\u001b[0m\u001b[0;34m\u001b[0m\u001b[0m\n",
      "\u001b[0m\u001b[0;32m     32 \u001b[0;31m    \u001b[0mpdb\u001b[0m\u001b[0;34m.\u001b[0m\u001b[0mset_trace\u001b[0m\u001b[0;34m(\u001b[0m\u001b[0;34m)\u001b[0m\u001b[0;34m\u001b[0m\u001b[0;34m\u001b[0m\u001b[0m\n",
      "\u001b[0m\u001b[0;32m     33 \u001b[0;31m\u001b[0;31m#     print(count)\u001b[0m\u001b[0;34m\u001b[0m\u001b[0;34m\u001b[0m\u001b[0;34m\u001b[0m\u001b[0m\n",
      "\u001b[0m\u001b[0;32m---> 34 \u001b[0;31m    \u001b[0;32mreturn\u001b[0m \u001b[0mdata\u001b[0m\u001b[0;34m\u001b[0m\u001b[0;34m\u001b[0m\u001b[0m\n",
      "\u001b[0m\u001b[0;32m     35 \u001b[0;31m\u001b[0;34m\u001b[0m\u001b[0m\n",
      "\u001b[0m\n",
      "ipdb> data[data['itemid'].isin([\"226531\"])]\n",
      "          stay_id  itemid  valuenum valueuom event_time_from_admit\n",
      "7        32669861  226531     231.4      NaN       1 days 18:42:31\n",
      "327      32669861  226531     231.4      NaN       0 days 13:20:31\n",
      "941      35572315  226531     277.2      NaN       0 days 10:43:22\n",
      "945      35572315  226531     277.2      NaN       0 days 16:30:22\n",
      "1589     33652203  226531     211.2      NaN       0 days 00:36:45\n",
      "...           ...     ...       ...      ...                   ...\n",
      "1487604  37707822  226531     183.3      NaN       0 days 02:10:28\n",
      "1487652  37707822  226531     183.3      NaN       0 days 03:48:28\n",
      "1487653  37707822  226531     183.3      NaN       0 days 03:50:28\n",
      "1487889  30297271  226531     242.0      NaN       4 days 16:17:00\n",
      "1494467  30259797  226531     211.6      NaN       0 days 01:32:25\n",
      "\n",
      "[1469 rows x 5 columns]\n",
      "ipdb> data[data['itemid'].isin([\"226512\"])]\n",
      "          stay_id  itemid  valuenum valueuom event_time_from_admit\n",
      "8        32669861  226512     105.2       kg     -1 days +23:59:31\n",
      "1121     35572315  226512     126.0       kg     -1 days +23:59:22\n",
      "1595     33652203  226512      96.0       kg     -1 days +23:59:45\n",
      "1969     38554095  226512      74.3       kg     -1 days +23:59:07\n",
      "5284     30955999  226512      69.4       kg     -1 days +22:17:00\n",
      "...           ...     ...       ...      ...                   ...\n",
      "1485099  34606781  226512      73.0       kg     -1 days +23:59:25\n",
      "1486695  35840735  226512      53.7       kg     -1 days +22:33:00\n",
      "1487582  37707822  226512      83.3       kg     -1 days +23:59:28\n",
      "1487887  30297271  226512     110.0       kg     -1 days +22:30:00\n",
      "1494406  30259797  226512      96.2       kg     -1 days +23:59:25\n",
      "\n",
      "[821 rows x 5 columns]\n",
      "ipdb> c\n",
>>>>>>> 0259719662cf49b02db6acf09e08eca21701f638
=======
      "# Unique Events:   681\n",
      "# Admissions:   902\n",
      "Total rows 1496896\n",
>>>>>>> origin/main
      "[SUCCESSFULLY SAVED CHART EVENTS DATA]\n",
      "[EXTRACTING PROCEDURES DATA]\n",
      "# Unique Events:   151\n",
      "# Admissions:   16310\n",
      "Total rows 143737\n",
      "[SUCCESSFULLY SAVED PROCEDURES DATA]\n",
      "[EXTRACTING MEDICATIONS DATA]\n",
      "# of unique type of drug:  172\n",
      "# Admissions:   15152\n",
      "# Total rows 1088709\n",
      "[SUCCESSFULLY SAVED MEDICATIONS DATA]\n",
      "[EXTRACTING LAB EVENTS DATA]\n",
      "# of unique type of lab events:  306\n",
      "# Admissions:   18385\n",
      "# Total rows 10264402\n",
      "[SUCCESSFULLY SAVED LAB EVENTS DATA]\n",
      "[EXTRACTING MICROBIOLOGY EVENTS DATA]\n",
      "# of unique type of micro events:  124\n",
      "# Admissions:   15596\n",
      "# Total rows 252221\n",
      "[SUCCESSFULLY SAVED MICROBIOLOGY EVENTS DATA]\n"
     ]
    }
   ],
   "source": [
    "if data_icu:\n",
    "    diag_flag=check_input1.value\n",
    "    out_flag=check_input2.value\n",
    "    chart_flag=check_input3.value\n",
    "    proc_flag=check_input4.value\n",
    "    med_flag=check_input5.value\n",
    "\n",
    "    lab_flag=check_input100.value\n",
    "    micro_flag=check_input101.value\n",
    "\n",
    "    \n",
    "    #feature_icu(cohort_output, root_dir, root_dir + '/'+ version_path,diag_flag,out_flag,chart_flag,proc_flag,med_flag)\n",
    "    feature_icu(cohort_output, root_dir, root_dir + '/'+ version_path,diag_flag,out_flag,chart_flag,proc_flag,med_flag,lab_flag,micro_flag)\n",
    "else:\n",
    "    diag_flag=check_input1.value\n",
    "    lab_flag=check_input2.value\n",
    "    proc_flag=check_input3.value\n",
    "    med_flag=check_input4.value\n",
    "    feature_nonicu(cohort_outputroot_dir, root_dir+ '/'+ version_path , version_path,diag_flag,lab_flag,proc_flag,med_flag)"
   ]
  },
  {
   "cell_type": "code",
<<<<<<< HEAD
   "execution_count": null,
=======
   "execution_count": 20,
>>>>>>> origin/main
   "id": "7d9483e7",
   "metadata": {},
   "outputs": [],
   "source": [
    "# itemids_chart = [\"226627\", \"226631\", \"224639\", \"226512\", \"226531\" ,226627, 226631, 224639, 226512, 226531] \n",
    "# data[data['itemid'].isin([\"226531\"])]"
   ]
  },
  {
   "cell_type": "markdown",
   "id": "aboriginal-upset",
   "metadata": {},
   "source": [
    "## 3. CLINICAL GROUPING\n",
    "Below you will have option to clinically group diagnosis and medications.\n",
    "Grouping medical codes will reduce dimensional space of features.\n",
    "\n",
    "Default options selected below will group medical codes to reduce feature dimension space.\n",
    "\n",
    "**Please run below cell to select preprocessing for diferent features**"
   ]
  },
  {
   "cell_type": "code",
<<<<<<< HEAD
<<<<<<< HEAD
   "execution_count": 13,
=======
   "execution_count": 127,
>>>>>>> 0259719662cf49b02db6acf09e08eca21701f638
=======
   "execution_count": 21,
>>>>>>> origin/main
   "id": "partial-manhattan",
   "metadata": {},
   "outputs": [
    {
     "name": "stdout",
     "output_type": "stream",
     "text": [
      "Do you want to group ICD 10 DIAG codes ?\n"
     ]
    },
    {
     "data": {
      "application/vnd.jupyter.widget-view+json": {
<<<<<<< HEAD
<<<<<<< HEAD
       "model_id": "7fa6dcc825da4832950217e716f8d14c",
=======
       "model_id": "5bf3f5cc1cc047028b78876d7a32fc67",
>>>>>>> 0259719662cf49b02db6acf09e08eca21701f638
=======
       "model_id": "66e62b8ec00b469cb52f7e385f8cd4d3",
>>>>>>> origin/main
       "version_major": 2,
       "version_minor": 0
      },
      "text/plain": [
       "RadioButtons(index=2, layout=Layout(width='100%'), options=('Keep both ICD-9 and ICD-10 codes', 'Convert ICD-9…"
      ]
     },
     "metadata": {},
     "output_type": "display_data"
    },
    {
     "name": "stdout",
     "output_type": "stream",
     "text": [
      "**Please run below cell to perform feature preprocessing**\n"
     ]
    }
   ],
   "source": [
    "if data_icu:\n",
    "    if diag_flag:\n",
    "        print(\"Do you want to group ICD 10 DIAG codes ?\")\n",
    "        radio_input4 = widgets.RadioButtons(options=['Keep both ICD-9 and ICD-10 codes','Convert ICD-9 to ICD-10 codes','Convert ICD-9 to ICD-10 and group ICD-10 codes'],value='Convert ICD-9 to ICD-10 and group ICD-10 codes',layout={'width': '100%'})\n",
    "        display(radio_input4)   \n",
    "    \n",
    "else:\n",
    "    if diag_flag:\n",
    "        print(\"Do you want to group ICD 10 DIAG codes ?\")\n",
    "        radio_input4 = widgets.RadioButtons(options=['Keep both ICD-9 and ICD-10 codes','Convert ICD-9 to ICD-10 codes','Convert ICD-9 to ICD-10 and group ICD-10 codes'],value='Convert ICD-9 to ICD-10 and group ICD-10 codes',layout={'width': '100%'})\n",
    "        display(radio_input4)     \n",
    "    if med_flag:\n",
    "        print(\"Do you want to group Medication codes to use Non propietary names?\")\n",
    "        radio_input5 = widgets.RadioButtons(options=['Yes','No'],value='Yes',layout={'width': '100%'})\n",
    "        display(radio_input5)\n",
    "    if proc_flag:\n",
    "        print(\"Which ICD codes for Procedures you want to keep in data?\")\n",
    "        radio_input6 = widgets.RadioButtons(options=['ICD-9 and ICD-10','ICD-10'],value='ICD-10',layout={'width': '100%'})\n",
    "        display(radio_input6)\n",
    "print(\"**Please run below cell to perform feature preprocessing**\")"
   ]
  },
  {
   "cell_type": "code",
<<<<<<< HEAD
<<<<<<< HEAD
   "execution_count": 14,
=======
   "execution_count": 128,
>>>>>>> 0259719662cf49b02db6acf09e08eca21701f638
=======
   "execution_count": 22,
>>>>>>> origin/main
   "id": "descending-symphony",
   "metadata": {},
   "outputs": [
    {
     "name": "stdout",
     "output_type": "stream",
     "text": [
      "[PROCESSING DIAGNOSIS DATA]\n",
      "Total number of rows 424288\n",
      "[SUCCESSFULLY SAVED DIAGNOSIS DATA]\n"
     ]
    }
   ],
   "source": [
    "group_diag=False\n",
    "group_med=False\n",
    "group_proc=False\n",
    "if data_icu:\n",
    "    if diag_flag:\n",
    "        group_diag=radio_input4.value\n",
    "    preprocess_features_icu(cohort_output, diag_flag, group_diag,False,False,False,0,0)\n",
    "else:\n",
    "    if diag_flag:\n",
    "        group_diag=radio_input4.value\n",
    "    if med_flag:\n",
    "        group_med=radio_input5.value\n",
    "    if proc_flag:\n",
    "        group_proc=radio_input6.value\n",
    "    preprocess_features_hosp(cohort_output, diag_flag,proc_flag,med_flag,False,group_diag,group_med,group_proc,False,False,0,0)"
   ]
  },
  {
   "cell_type": "markdown",
   "id": "immediate-captain",
   "metadata": {},
   "source": [
    "### 4. SUMMARY OF FEATURES\n",
    "\n",
    "This step will generate summary of all features extracted so far.<br>\n",
    "It will save summary files in **./data/summary/**<br>\n",
    "- These files provide summary about **mean frequency** of medical codes per admission.<br>\n",
    "- It also provides **total occurrence count** of each medical code.<br>\n",
    "- For labs and chart events it will also provide <br>**missing %** which tells how many rows for a certain medical code has missing value.\n",
    "\n",
    "Please use this information to further refine your cohort by selecting <br>which medical codes in each feature you want to keep and <br>which codes you would like to remove for downstream analysis tasks.\n",
    "\n",
    "**Please run below cell to generate summary files**"
   ]
  },
  {
   "cell_type": "code",
<<<<<<< HEAD
<<<<<<< HEAD
   "execution_count": 15,
=======
   "execution_count": 129,
>>>>>>> 0259719662cf49b02db6acf09e08eca21701f638
=======
   "execution_count": 23,
>>>>>>> origin/main
   "id": "thick-residence",
   "metadata": {},
   "outputs": [
    {
     "name": "stdout",
     "output_type": "stream",
     "text": [
      "[GENERATING FEATURE SUMMARY]\n",
      "[SUCCESSFULLY SAVED FEATURE SUMMARY]\n"
     ]
    }
   ],
   "source": [
    "if data_icu:\n",
    "    #generate_summary_icu(diag_flag,proc_flag,med_flag,out_flag,chart_flag)\n",
    "    generate_summary_icu(diag_flag,proc_flag,med_flag,out_flag,chart_flag, lab_flag, micro_flag)\n",
    "else:\n",
    "    generate_summary_hosp(diag_flag,proc_flag,med_flag,lab_flag)"
   ]
  },
  {
   "cell_type": "markdown",
   "id": "northern-architecture",
   "metadata": {},
   "source": [
    "## 5. Feature Selection\n",
    "\n",
    "based on the files generated in previous step and other infromation gathered by you,<br>\n",
    "Please select which medical codes you want to include in this study.\n",
    "\n",
    "Please run below cell to to select options for which features you want to perform feature selection.\n",
    "\n",
    "- Select **Yes** if you want to select a subset of medical codes for that feature and<br> **edit** the corresponding feature file for it.\n",
    "- Select **No** if you want to keep all the codes in a feature."
   ]
  },
  {
   "cell_type": "code",
<<<<<<< HEAD
<<<<<<< HEAD
   "execution_count": 16,
=======
   "execution_count": 130,
>>>>>>> 0259719662cf49b02db6acf09e08eca21701f638
=======
   "execution_count": 24,
>>>>>>> origin/main
   "id": "immediate-seafood",
   "metadata": {},
   "outputs": [
    {
     "name": "stdout",
     "output_type": "stream",
     "text": [
      "Do you want to do Feature Selection for Diagnosis \n",
      " (If yes, please edit list of codes in ./data/summary/diag_features.csv)\n"
     ]
    },
    {
     "data": {
      "application/vnd.jupyter.widget-view+json": {
<<<<<<< HEAD
<<<<<<< HEAD
       "model_id": "b6d3b684b40d488ca04094cf52081b2a",
=======
       "model_id": "c3c23a85854e47738247a17fdcf70185",
>>>>>>> 0259719662cf49b02db6acf09e08eca21701f638
=======
       "model_id": "70401ed6dcae45e2b5b80f287861d42a",
>>>>>>> origin/main
       "version_major": 2,
       "version_minor": 0
      },
      "text/plain": [
       "RadioButtons(index=1, options=('Yes', 'No'), value='No')"
      ]
     },
     "metadata": {},
     "output_type": "display_data"
    },
    {
     "name": "stdout",
     "output_type": "stream",
     "text": [
      "Do you want to do Feature Selection for Medication \n",
      " (If yes, please edit list of codes in ./data/summary/med_features.csv)\n"
     ]
    },
    {
     "data": {
      "application/vnd.jupyter.widget-view+json": {
<<<<<<< HEAD
<<<<<<< HEAD
       "model_id": "ab99ab124e224828928e347b03ebda24",
=======
       "model_id": "8619912e473e415d95a15bb7d8afe378",
>>>>>>> 0259719662cf49b02db6acf09e08eca21701f638
=======
       "model_id": "559296fbbb9c421f958e654f137a707b",
>>>>>>> origin/main
       "version_major": 2,
       "version_minor": 0
      },
      "text/plain": [
       "RadioButtons(index=1, options=('Yes', 'No'), value='No')"
      ]
     },
     "metadata": {},
     "output_type": "display_data"
    },
    {
     "name": "stdout",
     "output_type": "stream",
     "text": [
      "Do you want to do Feature Selection for Procedures \n",
      " (If yes, please edit list of codes in ./data/summary/proc_features.csv)\n"
     ]
    },
    {
     "data": {
      "application/vnd.jupyter.widget-view+json": {
<<<<<<< HEAD
<<<<<<< HEAD
       "model_id": "75d133c7fd58407a9c733aaf8de8b046",
=======
       "model_id": "af356392d33849de8fc74355910b99eb",
>>>>>>> 0259719662cf49b02db6acf09e08eca21701f638
=======
       "model_id": "a4704c5fdf5741c284201bfbc20790e6",
>>>>>>> origin/main
       "version_major": 2,
       "version_minor": 0
      },
      "text/plain": [
       "RadioButtons(index=1, options=('Yes', 'No'), value='No')"
      ]
     },
     "metadata": {},
     "output_type": "display_data"
    },
    {
     "name": "stdout",
     "output_type": "stream",
     "text": [
      "Do you want to do Feature Selection for Output event \n",
      " (If yes, please edit list of codes in ./data/summary/out_features.csv)\n"
     ]
    },
    {
     "data": {
      "application/vnd.jupyter.widget-view+json": {
<<<<<<< HEAD
<<<<<<< HEAD
       "model_id": "21f4707324534cbc944d5f82ee276c24",
=======
       "model_id": "c9e0353ba96a4d87b31bead50bdf0ac2",
>>>>>>> 0259719662cf49b02db6acf09e08eca21701f638
=======
       "model_id": "945c5aa302ff4a039c269bc42f5b92e1",
>>>>>>> origin/main
       "version_major": 2,
       "version_minor": 0
      },
      "text/plain": [
       "RadioButtons(index=1, options=('Yes', 'No'), value='No')"
      ]
     },
     "metadata": {},
     "output_type": "display_data"
    },
    {
     "name": "stdout",
     "output_type": "stream",
     "text": [
      "Do you want to do Feature Selection for Chart events \n",
      " (If yes, please edit list of codes in ./data/summary/chart_features.csv)\n"
     ]
    },
    {
     "data": {
      "application/vnd.jupyter.widget-view+json": {
<<<<<<< HEAD
<<<<<<< HEAD
       "model_id": "9dc5e17770c04801a95fcc4a3960014f",
=======
       "model_id": "cc90119b451f4b688f3d0cb5c16538e3",
>>>>>>> 0259719662cf49b02db6acf09e08eca21701f638
=======
       "model_id": "bd9847c64ae44b31b52c224f33ffb25a",
>>>>>>> origin/main
       "version_major": 2,
       "version_minor": 0
      },
      "text/plain": [
       "RadioButtons(index=1, options=('Yes', 'No'), value='No')"
      ]
     },
     "metadata": {},
     "output_type": "display_data"
    },
    {
     "name": "stdout",
     "output_type": "stream",
     "text": [
      "**Please run below cell to perform feature selection**\n"
     ]
    }
   ],
   "source": [
    "if data_icu:\n",
    "    if diag_flag:\n",
    "        print(\"Do you want to do Feature Selection for Diagnosis \\n (If yes, please edit list of codes in ./data/summary/diag_features.csv)\")\n",
    "        radio_input4 = widgets.RadioButtons(options=['Yes','No'],value='No')\n",
    "        display(radio_input4)       \n",
    "    if med_flag:\n",
    "        print(\"Do you want to do Feature Selection for Medication \\n (If yes, please edit list of codes in ./data/summary/med_features.csv)\")\n",
    "        radio_input5 = widgets.RadioButtons(options=['Yes','No'],value='No')\n",
    "        display(radio_input5)   \n",
    "    if proc_flag:\n",
    "        print(\"Do you want to do Feature Selection for Procedures \\n (If yes, please edit list of codes in ./data/summary/proc_features.csv)\")\n",
    "        radio_input6 = widgets.RadioButtons(options=['Yes','No'],value='No')\n",
    "        display(radio_input6)   \n",
    "    if out_flag:\n",
    "        print(\"Do you want to do Feature Selection for Output event \\n (If yes, please edit list of codes in ./data/summary/out_features.csv)\")\n",
    "        radio_input7 = widgets.RadioButtons(options=['Yes','No'],value='No')\n",
    "        display(radio_input7)  \n",
    "    if chart_flag:\n",
    "        print(\"Do you want to do Feature Selection for Chart events \\n (If yes, please edit list of codes in ./data/summary/chart_features.csv)\")\n",
    "        radio_input8 = widgets.RadioButtons(options=['Yes','No'],value='No')\n",
    "        display(radio_input8)  \n",
    "else:\n",
    "    if diag_flag:\n",
    "        print(\"Do you want to do Feature Selection for Diagnosis \\n (If yes, please edit list of codes in ./data/summary/diag_features.csv)\")\n",
    "        radio_input4 = widgets.RadioButtons(options=['Yes','No'],value='No')\n",
    "        display(radio_input4)         \n",
    "    if med_flag:\n",
    "        print(\"Do you want to do Feature Selection for Medication \\n (If yes, please edit list of codes in ./data/summary/med_features.csv)\")\n",
    "        radio_input5 = widgets.RadioButtons(options=['Yes','No'],value='No')\n",
    "        display(radio_input5)   \n",
    "    if proc_flag:\n",
    "        print(\"Do you want to do Feature Selection for Procedures \\n (If yes, please edit list of codes in ./data/summary/proc_features.csv)\")\n",
    "        radio_input6 = widgets.RadioButtons(options=['Yes','No'],value='No')\n",
    "        display(radio_input6)   \n",
    "    if lab_flag:\n",
    "        print(\"Do you want to do Feature Selection for Labs \\n (If yes, please edit list of codes in ./data/summary/lab_features.csv)\")\n",
    "        radio_input7 = widgets.RadioButtons(options=['Yes','No'],value='No')\n",
    "        display(radio_input7)   \n",
    "print(\"**Please run below cell to perform feature selection**\")"
   ]
  },
  {
   "cell_type": "code",
<<<<<<< HEAD
<<<<<<< HEAD
   "execution_count": 17,
=======
   "execution_count": 131,
>>>>>>> 0259719662cf49b02db6acf09e08eca21701f638
=======
   "execution_count": 25,
>>>>>>> origin/main
   "id": "perceived-python",
   "metadata": {},
   "outputs": [],
   "source": [
    "select_diag=False\n",
    "select_med=False\n",
    "select_proc=False\n",
    "select_lab=False\n",
    "select_out=False\n",
    "select_chart=False\n",
    "\n",
    "if data_icu:\n",
    "    if diag_flag:\n",
    "        select_diag=radio_input4.value == 'Yes'\n",
    "    if med_flag:\n",
    "        select_med=radio_input5.value == 'Yes'\n",
    "    if proc_flag:\n",
    "        select_proc=radio_input6.value == 'Yes'\n",
    "    if out_flag:\n",
    "        select_out=radio_input7.value == 'Yes'\n",
    "    if chart_flag:\n",
    "        select_chart=radio_input8.value == 'Yes'\n",
    "    features_selection_icu(cohort_output, diag_flag,proc_flag,med_flag,out_flag, chart_flag,select_diag,select_med,select_proc,select_out,select_chart)\n",
    "else:\n",
    "    if diag_flag:\n",
    "        select_diag=radio_input4.value == 'Yes'\n",
    "    if med_flag:\n",
    "        select_med=radio_input5.value == 'Yes'\n",
    "    if proc_flag:\n",
    "        select_proc=radio_input6.value == 'Yes'\n",
    "    if lab_flag:\n",
    "        select_lab=radio_input7.value == 'Yes'\n",
    "    features_selection_hosp(cohort_output, diag_flag,proc_flag,med_flag,lab_flag,select_diag,select_med,select_proc,select_lab)"
   ]
  },
  {
   "cell_type": "markdown",
   "id": "comfortable-director",
   "metadata": {},
   "source": [
    "## 6. CLEANING OF FEATURES\n",
    "Below you will have option to to clean lab and chart events by performing outlier removal and unit conversion.\n",
    "\n",
    "Outlier removal is performed to remove values higher than selected **right threshold** percentile and lower than selected **left threshold** percentile among all values for each itemid. \n",
    "\n",
    "**Please run below cell to select preprocessing for diferent features**"
   ]
  },
  {
   "cell_type": "code",
<<<<<<< HEAD
<<<<<<< HEAD
   "execution_count": 18,
=======
   "execution_count": 132,
>>>>>>> 0259719662cf49b02db6acf09e08eca21701f638
=======
   "execution_count": 26,
>>>>>>> origin/main
   "id": "moderate-forum",
   "metadata": {},
   "outputs": [
    {
     "name": "stdout",
     "output_type": "stream",
     "text": [
      "Outlier removal in values of chart events ?\n"
     ]
    },
    {
     "data": {
      "application/vnd.jupyter.widget-view+json": {
<<<<<<< HEAD
<<<<<<< HEAD
       "model_id": "409ad845365640c58fbe64efd0f53cf4",
=======
       "model_id": "56b99147109f408f852f62d4c4af4f5a",
>>>>>>> 0259719662cf49b02db6acf09e08eca21701f638
=======
       "model_id": "7a984db1f56d4bd1a54d427d34aab60e",
>>>>>>> origin/main
       "version_major": 2,
       "version_minor": 0
      },
      "text/plain": [
       "RadioButtons(layout=Layout(height='40px', width='100%'), options=('No outlier detection', 'Impute Outlier (def…"
      ]
     },
     "metadata": {},
     "output_type": "display_data"
    },
    {
     "data": {
      "application/vnd.jupyter.widget-view+json": {
<<<<<<< HEAD
<<<<<<< HEAD
       "model_id": "90538aad764f41699ab40ab200e42287",
=======
       "model_id": "b6e15665a06a4cacb9248924064704fa",
>>>>>>> 0259719662cf49b02db6acf09e08eca21701f638
=======
       "model_id": "b4320547ed6044008817c30277d5255f",
>>>>>>> origin/main
       "version_major": 2,
       "version_minor": 0
      },
      "text/plain": [
       "HBox(children=(Label(value='Right Outlier Threshold', layout=Layout(width='150px')), IntSlider(value=98, layou…"
      ]
     },
     "metadata": {},
     "output_type": "display_data"
    },
    {
     "data": {
      "application/vnd.jupyter.widget-view+json": {
<<<<<<< HEAD
<<<<<<< HEAD
       "model_id": "0a7ed2726f464402ba48d7fd427ef3de",
=======
       "model_id": "dd3864bf549d4bb592363adf4b74a31f",
>>>>>>> 0259719662cf49b02db6acf09e08eca21701f638
=======
       "model_id": "09990ad0dd05472a9eb5ff9d7876f605",
>>>>>>> origin/main
       "version_major": 2,
       "version_minor": 0
      },
      "text/plain": [
       "HBox(children=(Label(value='Left Outlier Threshold', layout=Layout(width='150px')), IntSlider(value=0, layout=…"
      ]
     },
     "metadata": {},
     "output_type": "display_data"
    },
    {
     "name": "stdout",
     "output_type": "stream",
     "text": [
      "**Please run below cell to perform feature preprocessing**\n"
     ]
    }
   ],
   "source": [
    "if data_icu:\n",
    "    if chart_flag:\n",
    "        print(\"Outlier removal in values of chart events ?\")\n",
    "        layout = widgets.Layout(width='100%', height='40px') #set width and height\n",
    "\n",
    "        radio_input5 = widgets.RadioButtons(options=['No outlier detection','Impute Outlier (default:98)','Remove outliers (default:98)'],value='No outlier detection',layout=layout)\n",
    "        display(radio_input5)\n",
    "        outlier=widgets.IntSlider(\n",
    "        value=98,\n",
    "        min=90,\n",
    "        max=99,\n",
    "        step=1,\n",
    "        disabled=False,layout={'width': '100%'}\n",
    "        )\n",
    "        left_outlier=widgets.IntSlider(\n",
    "        value=0,\n",
    "        min=0,\n",
    "        max=10,\n",
    "        step=1,\n",
    "        disabled=False,layout={'width': '100%'}\n",
    "        )\n",
    "        #display(oulier)\n",
    "        display(widgets.HBox([widgets.Label('Right Outlier Threshold',layout={'width': '150px'}), outlier]))\n",
    "        display(widgets.HBox([widgets.Label('Left Outlier Threshold',layout={'width': '150px'}), left_outlier]))\n",
    "    \n",
    "else:      \n",
    "    if lab_flag:\n",
    "        print(\"Outlier removal in values of lab events ?\")\n",
    "        layout = widgets.Layout(width='100%', height='40px') #set width and height\n",
    "\n",
    "        radio_input7 = widgets.RadioButtons(options=['No outlier detection','Impute Outlier (default:98)','Remove outliers (default:98)'],value='No outlier detection',layout=layout)\n",
    "        display(radio_input7)\n",
    "        outlier=widgets.IntSlider(\n",
    "        value=98,\n",
    "        min=90,\n",
    "        max=99,\n",
    "        step=1,\n",
    "        disabled=False,layout={'width': '100%'}\n",
    "        )\n",
    "        left_outlier=widgets.IntSlider(\n",
    "        value=0,\n",
    "        min=0,\n",
    "        max=10,\n",
    "        step=1,\n",
    "        disabled=False,layout={'width': '100%'}\n",
    "        )\n",
    "        #display(oulier)\n",
    "        display(widgets.HBox([widgets.Label('Right Outlier Threshold',layout={'width': '150px'}), outlier]))\n",
    "        display(widgets.HBox([widgets.Label('Left Outlier Threshold',layout={'width': '150px'}), left_outlier]))\n",
    "print(\"**Please run below cell to perform feature preprocessing**\")"
   ]
  },
  {
   "cell_type": "code",
<<<<<<< HEAD
<<<<<<< HEAD
   "execution_count": 19,
=======
   "execution_count": 133,
>>>>>>> 0259719662cf49b02db6acf09e08eca21701f638
=======
   "execution_count": 27,
>>>>>>> origin/main
   "id": "impossible-mailman",
   "metadata": {},
   "outputs": [],
   "source": [
    "thresh=0\n",
    "if data_icu:\n",
    "    if chart_flag:\n",
    "        clean_chart=radio_input5.value!='No outlier detection'\n",
    "        impute_outlier_chart=radio_input5.value=='Impute Outlier (default:98)'\n",
    "        thresh=outlier.value\n",
    "        left_thresh=left_outlier.value\n",
    "    preprocess_features_icu(cohort_output, False, False,chart_flag,clean_chart,impute_outlier_chart,thresh,left_thresh)\n",
    "else:\n",
    "    if lab_flag:\n",
    "        clean_lab=radio_input7.value!='No outlier detection'\n",
    "        impute_outlier=radio_input7.value=='Impute Outlier (default:98)'\n",
    "        thresh=outlier.value\n",
    "        left_thresh=left_outlier.value\n",
    "    preprocess_features_hosp(cohort_output, False,False,False,lab_flag,False,False,False,clean_lab,impute_outlier,thresh,left_thresh)"
   ]
  },
  {
   "cell_type": "markdown",
   "id": "independent-academy",
   "metadata": {},
   "source": [
    "## 7. Time-Series Representation\n",
    "In this section, please choose how you want to process and represent time-series data.\n",
    "\n",
    "- First option is to select the length of time-series data you want to include for this study. (Default is 72 hours)\n",
    "\n",
    "- Second option is to select bucket size which tells in what size time windows you want to divide your time-series.<br>\n",
    "For example, if you select **2** bucket size, it wil aggregate data for every 2 hours and <br>a time-series of length 24 hours will be represented as time-series with 12 time-windows <br>where data for every 2 hours is agggregated from original raw time-series.\n",
    "\n",
    "During this step, we will also save the time-series data in data dictionaries in the format that can be directly used for following deep learning analysis.\n",
    "\n",
    "### Imputation\n",
    "You can also choose if you want to impute lab/chart values. The imputation will be done by froward fill and mean or median imputation.<br>\n",
    "Values will be forward fill first and if no value exists for that admission we will use mean or median value for the patient.\n",
    "\n",
    "The data dictionaries will be saved in **./data/dict/**\n",
    "\n",
    "Please refer the readme to know the structure of data dictionaries.\n",
    "\n",
    "**Please run below cell to select time-series representation**"
   ]
  },
  {
   "cell_type": "code",
<<<<<<< HEAD
<<<<<<< HEAD
   "execution_count": 20,
=======
   "execution_count": 199,
>>>>>>> 0259719662cf49b02db6acf09e08eca21701f638
=======
   "execution_count": 28,
>>>>>>> origin/main
   "id": "mechanical-three",
   "metadata": {},
   "outputs": [
    {
     "name": "stdout",
     "output_type": "stream",
     "text": [
      "=======Time-series Data Represenation=======\n",
      "Length of data to be included for time-series prediction ?\n"
     ]
    },
    {
     "data": {
      "application/vnd.jupyter.widget-view+json": {
<<<<<<< HEAD
<<<<<<< HEAD
       "model_id": "54a93ab9d96044858875bd440038992d",
=======
       "model_id": "48737e297f464c1290dd05b821316a2c",
>>>>>>> 0259719662cf49b02db6acf09e08eca21701f638
=======
       "model_id": "b7651b3ebe4243a89220be45cd8fc46b",
>>>>>>> origin/main
       "version_major": 2,
       "version_minor": 0
      },
      "text/plain": [
       "RadioButtons(options=('Last 72 hours', 'Last 48 hours', 'Last 24 hours', 'Custom'), value='Last 72 hours')"
      ]
     },
     "metadata": {},
     "output_type": "display_data"
    },
    {
     "data": {
      "application/vnd.jupyter.widget-view+json": {
<<<<<<< HEAD
<<<<<<< HEAD
       "model_id": "f836b39014d241889e0fd32ae5bb5b0e",
=======
       "model_id": "ea5dc38be8064dc4a4bee3016121abf4",
>>>>>>> 0259719662cf49b02db6acf09e08eca21701f638
=======
       "model_id": "bc7b26c588bf4be9a58363d974f55ae7",
>>>>>>> origin/main
       "version_major": 2,
       "version_minor": 0
      },
      "text/plain": [
       "HBox(children=(Label(value='Last (in hours):', layout=Layout(width='150px')), IntSlider(value=72, description=…"
      ]
     },
     "metadata": {},
     "output_type": "display_data"
    },
    {
     "name": "stdout",
     "output_type": "stream",
     "text": [
      "What time bucket size you want to choose ?\n"
     ]
    },
    {
     "data": {
      "application/vnd.jupyter.widget-view+json": {
<<<<<<< HEAD
<<<<<<< HEAD
       "model_id": "51fca9bc2bfe4fdb89a59bc865e606f4",
=======
       "model_id": "24bee5fbc84b42759fd7f03263dba1f9",
>>>>>>> 0259719662cf49b02db6acf09e08eca21701f638
=======
       "model_id": "53d7f5908e3c45e7844168405a44e523",
>>>>>>> origin/main
       "version_major": 2,
       "version_minor": 0
      },
      "text/plain": [
       "RadioButtons(options=('1 hour', '2 hour', '3 hour', '4 hour', '5 hour', 'Custom'), value='1 hour')"
      ]
     },
     "metadata": {},
     "output_type": "display_data"
    },
    {
     "data": {
      "application/vnd.jupyter.widget-view+json": {
<<<<<<< HEAD
<<<<<<< HEAD
       "model_id": "f6b35af54eef4a1fbd509c7a31bd8589",
=======
       "model_id": "d80c484429d941bdba3a163cc865d1e6",
>>>>>>> 0259719662cf49b02db6acf09e08eca21701f638
=======
       "model_id": "c4081803c41e429694c9324bbb367de6",
>>>>>>> origin/main
       "version_major": 2,
       "version_minor": 0
      },
      "text/plain": [
       "HBox(children=(Label(value='Bucket Size (in hours):', layout=Layout(width='150px')), IntSlider(value=1, max=6,…"
      ]
     },
     "metadata": {},
     "output_type": "display_data"
    },
    {
     "name": "stdout",
     "output_type": "stream",
     "text": [
      "Do you want to forward fill and mean or median impute lab/chart values to form continuous data signal?\n"
     ]
    },
    {
     "data": {
      "application/vnd.jupyter.widget-view+json": {
<<<<<<< HEAD
<<<<<<< HEAD
       "model_id": "96b6053602c74a9bb682b86b406c038c",
=======
       "model_id": "9cda965f666c4557a1f5ccbe64428a21",
>>>>>>> 0259719662cf49b02db6acf09e08eca21701f638
=======
       "model_id": "8628e4bbe5be41a98b5e786d12dedd46",
>>>>>>> origin/main
       "version_major": 2,
       "version_minor": 0
      },
      "text/plain": [
       "RadioButtons(options=('No Imputation', 'forward fill and mean', 'forward fill and median'), value='No Imputati…"
      ]
     },
     "metadata": {},
     "output_type": "display_data"
    },
    {
     "name": "stdout",
     "output_type": "stream",
     "text": [
      "**Please run below cell to perform time-series represenation and save in data dictionaries**\n"
     ]
    }
   ],
   "source": [
    "print(\"=======Time-series Data Represenation=======\")\n",
    "\n",
    "print(\"Length of data to be included for time-series prediction ?\")\n",
    "if(data_mort):\n",
    "    radio_input8 = widgets.RadioButtons(options=['First 72 hours','First 48 hours','First 24 hours','Custom'],value='First 72 hours')\n",
    "    display(radio_input8)\n",
    "    text2=widgets.IntSlider(\n",
    "    value=72,\n",
    "    min=24,\n",
    "    max=72,\n",
    "    step=1,\n",
    "    description='Fisrt',\n",
    "    disabled=False\n",
    "    )\n",
    "    display(widgets.HBox([widgets.Label('Fisrt (in hours):',layout={'width': '150px'}), text2]))\n",
    "elif(data_admn):\n",
    "    radio_input8 = widgets.RadioButtons(options=['Last 72 hours','Last 48 hours','Last 24 hours','Custom'],value='Last 72 hours')\n",
    "    display(radio_input8)\n",
    "    text2=widgets.IntSlider(\n",
    "    value=72,\n",
    "    min=24,\n",
    "    max=72,\n",
    "    step=1,\n",
    "    description='Last',\n",
    "    disabled=False\n",
    "    )\n",
    "    display(widgets.HBox([widgets.Label('Last (in hours):',layout={'width': '150px'}), text2]))\n",
    "elif(data_los):\n",
    "    radio_input8 = widgets.RadioButtons(options=['First 12 hours','First 24 hours','Custom'],value='First 24 hours')\n",
    "    display(radio_input8)\n",
    "    text2=widgets.IntSlider(\n",
    "    value=72,\n",
    "    min=12,\n",
    "    max=72,\n",
    "    step=1,\n",
    "    description='First',\n",
    "    disabled=False\n",
    "    )\n",
    "    display(widgets.HBox([widgets.Label('Fisrt (in hours):',layout={'width': '150px'}), text2]))\n",
    "    \n",
    "    \n",
    "print(\"What time bucket size you want to choose ?\")\n",
    "radio_input7 = widgets.RadioButtons(options=['1 hour','2 hour','3 hour','4 hour','5 hour','Custom'],value='1 hour')\n",
    "display(radio_input7)\n",
    "text1=widgets.IntSlider(\n",
    "    value=1,\n",
    "    min=1,\n",
    "    max=6,\n",
    "    step=1,\n",
    "    disabled=False\n",
    "    )\n",
    "#display(text1)\n",
    "display(widgets.HBox([widgets.Label('Bucket Size (in hours):',layout={'width': '150px'}), text1]))\n",
    "print(\"Do you want to forward fill and mean or median impute lab/chart values to form continuous data signal?\")\n",
    "radio_impute = widgets.RadioButtons(options=['No Imputation', 'forward fill and mean','forward fill and median'],value='No Imputation')\n",
    "display(radio_impute)   \n",
    "\n",
    "radio_input6 = widgets.RadioButtons(options=['0 hours','2 hours','4 hours','6 hours'],value='0 hours')\n",
    "if(data_mort):\n",
    "    print(\"If you have choosen mortality prediction task, then what prediction window length you want to keep?\")\n",
    "    radio_input6 = widgets.RadioButtons(options=['2 hours','4 hours','6 hours','8 hours','Custom'],value='2 hours')\n",
    "    display(radio_input6)\n",
    "    text3=widgets.IntSlider(\n",
    "    value=2,\n",
    "    min=2,\n",
    "    max=8,\n",
    "    step=1,\n",
    "    disabled=False\n",
    "    )\n",
    "    display(widgets.HBox([widgets.Label('Prediction window (in hours)',layout={'width': '180px'}), text3]))\n",
    "print(\"**Please run below cell to perform time-series represenation and save in data dictionaries**\")"
   ]
  },
  {
   "cell_type": "code",
<<<<<<< HEAD
<<<<<<< HEAD
   "execution_count": 28,
=======
   "execution_count": 202,
>>>>>>> 0259719662cf49b02db6acf09e08eca21701f638
=======
   "execution_count": 29,
>>>>>>> origin/main
   "id": "indie-appendix",
   "metadata": {},
   "outputs": [
    {
     "name": "stdout",
     "output_type": "stream",
     "text": [
      "[ READ COHORT ]\n",
      "[ ======READING DIAGNOSIS ]\n",
      "[ ======READING PROCEDURES ]\n",
      "[ ======READING OUT EVENTS ]\n",
      "[ ======READING CHART EVENTS ]\n"
     ]
    },
    {
     "name": "stderr",
     "output_type": "stream",
     "text": [
<<<<<<< HEAD
<<<<<<< HEAD
      "5it [01:57, 23.51s/it]\n"
=======
      "1it [00:10, 10.61s/it]\n"
=======
      "1it [00:10, 10.43s/it]\n"
>>>>>>> origin/main
     ]
    },
    {
     "name": "stdout",
     "output_type": "stream",
     "text": [
      "[ ======READING MEDICATIONS ]\n",
      "[ READ ALL FEATURES ]\n"
     ]
    },
    {
     "name": "stderr",
     "output_type": "stream",
     "text": [
<<<<<<< HEAD
      "  6%|████▋                                                                               | 4/72 [00:00<00:01, 37.47it/s]"
>>>>>>> 0259719662cf49b02db6acf09e08eca21701f638
=======
      "  6%|████▋                                                                               | 4/72 [00:00<00:01, 35.41it/s]"
>>>>>>> origin/main
     ]
    },
    {
     "name": "stdout",
     "output_type": "stream",
     "text": [
<<<<<<< HEAD
<<<<<<< HEAD
      "[ ======READING MEDICATIONS ]\n",
      "[ ======READING LAB EVENTS ]\n",
      "[ ======READING MICROBIOLOGY EVENTS ]\n",
      "[ READ ALL FEATURES ]\n",
=======
>>>>>>> 0259719662cf49b02db6acf09e08eca21701f638
=======
>>>>>>> origin/main
      "[ PROCESSED TIME SERIES TO EQUAL LENGTH  ]\n"
     ]
    },
    {
     "name": "stderr",
     "output_type": "stream",
     "text": [
<<<<<<< HEAD
<<<<<<< HEAD
      "100%|██████████| 72/72 [01:12<00:00,  1.00s/it]\n"
=======
      "100%|███████████████████████████████████████████████████████████████████████████████████| 72/72 [00:02<00:00, 32.87it/s]\n"
>>>>>>> 0259719662cf49b02db6acf09e08eca21701f638
=======
      "100%|███████████████████████████████████████████████████████████████████████████████████| 72/72 [00:02<00:00, 29.53it/s]\n"
>>>>>>> origin/main
     ]
    },
    {
     "name": "stdout",
     "output_type": "stream",
     "text": [
      "bucket 1\n",
      "[ PROCESSED TIME SERIES TO EQUAL TIME INTERVAL ]\n",
      "72\n"
     ]
    },
    {
     "name": "stderr",
     "output_type": "stream",
     "text": [
<<<<<<< HEAD
<<<<<<< HEAD
      "100%|██████████| 6537/6537 [33:06<00:00,  3.29it/s]\n"
=======
      "100%|█████████████████████████████████████████████████████████████████████████████████| 296/296 [01:44<00:00,  2.82it/s]\n"
>>>>>>> 0259719662cf49b02db6acf09e08eca21701f638
=======
      "100%|█████████████████████████████████████████████████████████████████████████████████| 296/296 [02:11<00:00,  2.25it/s]\n"
>>>>>>> origin/main
     ]
    },
    {
     "ename": "KeyError",
     "evalue": "'itemid'",
     "output_type": "error",
     "traceback": [
      "\u001b[0;31m---------------------------------------------------------------------------\u001b[0m",
      "\u001b[0;31mKeyError\u001b[0m                                  Traceback (most recent call last)",
      "File \u001b[0;32m/ictstr01/home/icb/benjamin.weinert/micromamba/envs/mimic_prep/lib/python3.10/site-packages/pandas/core/indexes/base.py:3361\u001b[0m, in \u001b[0;36mIndex.get_loc\u001b[0;34m(self, key, method, tolerance)\u001b[0m\n\u001b[1;32m   3360\u001b[0m \u001b[38;5;28;01mtry\u001b[39;00m:\n\u001b[0;32m-> 3361\u001b[0m     \u001b[38;5;28;01mreturn\u001b[39;00m \u001b[38;5;28;43mself\u001b[39;49m\u001b[38;5;241;43m.\u001b[39;49m\u001b[43m_engine\u001b[49m\u001b[38;5;241;43m.\u001b[39;49m\u001b[43mget_loc\u001b[49m\u001b[43m(\u001b[49m\u001b[43mcasted_key\u001b[49m\u001b[43m)\u001b[49m\n\u001b[1;32m   3362\u001b[0m \u001b[38;5;28;01mexcept\u001b[39;00m \u001b[38;5;167;01mKeyError\u001b[39;00m \u001b[38;5;28;01mas\u001b[39;00m err:\n",
      "File \u001b[0;32m/ictstr01/home/icb/benjamin.weinert/micromamba/envs/mimic_prep/lib/python3.10/site-packages/pandas/_libs/index.pyx:76\u001b[0m, in \u001b[0;36mpandas._libs.index.IndexEngine.get_loc\u001b[0;34m()\u001b[0m\n",
      "File \u001b[0;32m/ictstr01/home/icb/benjamin.weinert/micromamba/envs/mimic_prep/lib/python3.10/site-packages/pandas/_libs/index.pyx:108\u001b[0m, in \u001b[0;36mpandas._libs.index.IndexEngine.get_loc\u001b[0;34m()\u001b[0m\n",
      "File \u001b[0;32mpandas/_libs/hashtable_class_helper.pxi:5198\u001b[0m, in \u001b[0;36mpandas._libs.hashtable.PyObjectHashTable.get_item\u001b[0;34m()\u001b[0m\n",
      "File \u001b[0;32mpandas/_libs/hashtable_class_helper.pxi:5206\u001b[0m, in \u001b[0;36mpandas._libs.hashtable.PyObjectHashTable.get_item\u001b[0;34m()\u001b[0m\n",
      "\u001b[0;31mKeyError\u001b[0m: 'itemid'",
      "\nThe above exception was the direct cause of the following exception:\n",
      "\u001b[0;31mKeyError\u001b[0m                                  Traceback (most recent call last)",
      "Cell \u001b[0;32mIn[28], line 21\u001b[0m\n\u001b[1;32m     18\u001b[0m     impute\u001b[38;5;241m=\u001b[39m\u001b[38;5;28;01mFalse\u001b[39;00m\n\u001b[1;32m     20\u001b[0m \u001b[38;5;28;01mif\u001b[39;00m data_icu:\n\u001b[0;32m---> 21\u001b[0m     gen\u001b[38;5;241m=\u001b[39m\u001b[43mdata_generation_icu\u001b[49m\u001b[38;5;241;43m.\u001b[39;49m\u001b[43mGenerator\u001b[49m\u001b[43m(\u001b[49m\u001b[43mroot_dir\u001b[49m\u001b[43m,\u001b[49m\u001b[43m \u001b[49m\u001b[43mcohort_output\u001b[49m\u001b[43m,\u001b[49m\u001b[43mdata_mort\u001b[49m\u001b[43m,\u001b[49m\u001b[43mdata_admn\u001b[49m\u001b[43m,\u001b[49m\u001b[43mdata_los\u001b[49m\u001b[43m,\u001b[49m\u001b[43mdiag_flag\u001b[49m\u001b[43m,\u001b[49m\u001b[43mproc_flag\u001b[49m\u001b[43m,\u001b[49m\u001b[43mout_flag\u001b[49m\u001b[43m,\u001b[49m\u001b[43mchart_flag\u001b[49m\u001b[43m,\u001b[49m\u001b[43mmed_flag\u001b[49m\u001b[43m,\u001b[49m\u001b[43m \u001b[49m\u001b[43mlab_flag\u001b[49m\u001b[43m,\u001b[49m\u001b[43m \u001b[49m\u001b[43mmicro_flag\u001b[49m\u001b[43m,\u001b[49m\u001b[43mimpute\u001b[49m\u001b[43m,\u001b[49m\u001b[43minclude\u001b[49m\u001b[43m,\u001b[49m\u001b[43mbucket\u001b[49m\u001b[43m,\u001b[49m\u001b[43mpredW\u001b[49m\u001b[43m)\u001b[49m\n\u001b[1;32m     22\u001b[0m     \u001b[38;5;66;03m#gen=data_generation_icu.Generator(cohort_output,data_mort,diag_flag,False,False,chart_flag,False,impute,include,bucket,predW)\u001b[39;00m\n\u001b[1;32m     23\u001b[0m     \u001b[38;5;66;03m#if chart_flag:\u001b[39;00m\n\u001b[1;32m     24\u001b[0m     \u001b[38;5;66;03m#    gen=data_generation_icu.Generator(cohort_output,data_mort,False,False,False,chart_flag,False,impute,include,bucket,predW)\u001b[39;00m\n\u001b[1;32m     25\u001b[0m \u001b[38;5;28;01melse\u001b[39;00m:\n\u001b[1;32m     26\u001b[0m     gen\u001b[38;5;241m=\u001b[39mdata_generation\u001b[38;5;241m.\u001b[39mGenerator(root_dir, cohort_output,data_mort,data_admn,data_los,diag_flag,lab_flag,proc_flag,med_flag,impute,include,bucket,predW)\n",
      "File \u001b[0;32m/ictstr01/groups/itg/shared/notebooks/benjamin.weinert/git_repos/MIMIC-IV-Data-Pipeline/model/data_generation_icu.py:38\u001b[0m, in \u001b[0;36mGenerator.__init__\u001b[0;34m(self, root_dir, cohort_output, if_mort, if_admn, if_los, feat_cond, feat_proc, feat_out, feat_chart, feat_med, feat_lab, feat_micro, impute, include_time, bucket, predW)\u001b[0m\n\u001b[1;32m     35\u001b[0m     \u001b[38;5;28mself\u001b[39m\u001b[38;5;241m.\u001b[39mlos_length(include_time)\n\u001b[1;32m     36\u001b[0m     \u001b[38;5;28mprint\u001b[39m(\u001b[38;5;124m\"\u001b[39m\u001b[38;5;124m[ PROCESSED TIME SERIES TO EQUAL LENGTH  ]\u001b[39m\u001b[38;5;124m\"\u001b[39m)\n\u001b[0;32m---> 38\u001b[0m \u001b[38;5;28;43mself\u001b[39;49m\u001b[38;5;241;43m.\u001b[39;49m\u001b[43msmooth_meds\u001b[49m\u001b[43m(\u001b[49m\u001b[43mbucket\u001b[49m\u001b[43m)\u001b[49m\n\u001b[1;32m     39\u001b[0m \u001b[38;5;28mprint\u001b[39m(\u001b[38;5;124m\"\u001b[39m\u001b[38;5;124m[ SUCCESSFULLY SAVED DATA DICTIONARIES ]\u001b[39m\u001b[38;5;124m\"\u001b[39m)\n",
      "File \u001b[0;32m/ictstr01/groups/itg/shared/notebooks/benjamin.weinert/git_repos/MIMIC-IV-Data-Pipeline/model/data_generation_icu.py:542\u001b[0m, in \u001b[0;36mGenerator.smooth_meds\u001b[0;34m(self, bucket)\u001b[0m\n\u001b[1;32m    537\u001b[0m         \u001b[38;5;28mprint\u001b[39m(\u001b[38;5;124m\"\u001b[39m\u001b[38;5;124m[ PROCESSED TIME SERIES TO EQUAL TIME INTERVAL ]\u001b[39m\u001b[38;5;124m\"\u001b[39m)\n\u001b[1;32m    538\u001b[0m         \u001b[38;5;66;03m###CREATE DICT\u001b[39;00m\n\u001b[1;32m    539\u001b[0m \u001b[38;5;66;03m#         if(self.feat_chart):\u001b[39;00m\n\u001b[1;32m    540\u001b[0m \u001b[38;5;66;03m#             self.create_chartDict(final_chart,los)\u001b[39;00m\n\u001b[1;32m    541\u001b[0m \u001b[38;5;66;03m#         else:\u001b[39;00m\n\u001b[0;32m--> 542\u001b[0m         \u001b[38;5;28;43mself\u001b[39;49m\u001b[38;5;241;43m.\u001b[39;49m\u001b[43mcreate_Dict\u001b[49m\u001b[43m(\u001b[49m\u001b[43mfinal_meds\u001b[49m\u001b[43m,\u001b[49m\u001b[43mfinal_proc\u001b[49m\u001b[43m,\u001b[49m\u001b[43mfinal_out\u001b[49m\u001b[43m,\u001b[49m\u001b[43mfinal_chart\u001b[49m\u001b[43m,\u001b[49m\u001b[43m \u001b[49m\u001b[43mfinal_lab\u001b[49m\u001b[43m,\u001b[49m\u001b[43m \u001b[49m\u001b[43mfinal_micro\u001b[49m\u001b[43m,\u001b[49m\u001b[43mlos\u001b[49m\u001b[43m)\u001b[49m\n",
      "File \u001b[0;32m/ictstr01/groups/itg/shared/notebooks/benjamin.weinert/git_repos/MIMIC-IV-Data-Pipeline/model/data_generation_icu.py:981\u001b[0m, in \u001b[0;36mGenerator.create_Dict\u001b[0;34m(self, meds, proc, out, chart, lab, micro, los)\u001b[0m\n\u001b[1;32m    979\u001b[0m \u001b[38;5;28;01mif\u001b[39;00m(\u001b[38;5;28mself\u001b[39m\u001b[38;5;241m.\u001b[39mfeat_micro):\n\u001b[1;32m    980\u001b[0m     \u001b[38;5;28;01mwith\u001b[39;00m \u001b[38;5;28mopen\u001b[39m(\u001b[38;5;124m\"\u001b[39m\u001b[38;5;124m./data/dict/microVocab\u001b[39m\u001b[38;5;124m\"\u001b[39m, \u001b[38;5;124m'\u001b[39m\u001b[38;5;124mwb\u001b[39m\u001b[38;5;124m'\u001b[39m) \u001b[38;5;28;01mas\u001b[39;00m fp:\n\u001b[0;32m--> 981\u001b[0m         pickle\u001b[38;5;241m.\u001b[39mdump(\u001b[38;5;28mlist\u001b[39m(\u001b[43mmicro\u001b[49m\u001b[43m[\u001b[49m\u001b[38;5;124;43m'\u001b[39;49m\u001b[38;5;124;43mitemid\u001b[39;49m\u001b[38;5;124;43m'\u001b[39;49m\u001b[43m]\u001b[49m\u001b[38;5;241m.\u001b[39munique()), fp)\n\u001b[1;32m    982\u001b[0m     \u001b[38;5;28mself\u001b[39m\u001b[38;5;241m.\u001b[39mmicro_vocab \u001b[38;5;241m=\u001b[39m meds[\u001b[38;5;124m'\u001b[39m\u001b[38;5;124mtest_itemid\u001b[39m\u001b[38;5;124m'\u001b[39m]\u001b[38;5;241m.\u001b[39mnunique()\n\u001b[1;32m    983\u001b[0m     metaDic[\u001b[38;5;124m'\u001b[39m\u001b[38;5;124mMicro\u001b[39m\u001b[38;5;124m'\u001b[39m]\u001b[38;5;241m=\u001b[39m\u001b[38;5;28mself\u001b[39m\u001b[38;5;241m.\u001b[39mmicro_per_adm\n",
      "File \u001b[0;32m/ictstr01/home/icb/benjamin.weinert/micromamba/envs/mimic_prep/lib/python3.10/site-packages/pandas/core/frame.py:3458\u001b[0m, in \u001b[0;36mDataFrame.__getitem__\u001b[0;34m(self, key)\u001b[0m\n\u001b[1;32m   3456\u001b[0m \u001b[38;5;28;01mif\u001b[39;00m \u001b[38;5;28mself\u001b[39m\u001b[38;5;241m.\u001b[39mcolumns\u001b[38;5;241m.\u001b[39mnlevels \u001b[38;5;241m>\u001b[39m \u001b[38;5;241m1\u001b[39m:\n\u001b[1;32m   3457\u001b[0m     \u001b[38;5;28;01mreturn\u001b[39;00m \u001b[38;5;28mself\u001b[39m\u001b[38;5;241m.\u001b[39m_getitem_multilevel(key)\n\u001b[0;32m-> 3458\u001b[0m indexer \u001b[38;5;241m=\u001b[39m \u001b[38;5;28;43mself\u001b[39;49m\u001b[38;5;241;43m.\u001b[39;49m\u001b[43mcolumns\u001b[49m\u001b[38;5;241;43m.\u001b[39;49m\u001b[43mget_loc\u001b[49m\u001b[43m(\u001b[49m\u001b[43mkey\u001b[49m\u001b[43m)\u001b[49m\n\u001b[1;32m   3459\u001b[0m \u001b[38;5;28;01mif\u001b[39;00m is_integer(indexer):\n\u001b[1;32m   3460\u001b[0m     indexer \u001b[38;5;241m=\u001b[39m [indexer]\n",
      "File \u001b[0;32m/ictstr01/home/icb/benjamin.weinert/micromamba/envs/mimic_prep/lib/python3.10/site-packages/pandas/core/indexes/base.py:3363\u001b[0m, in \u001b[0;36mIndex.get_loc\u001b[0;34m(self, key, method, tolerance)\u001b[0m\n\u001b[1;32m   3361\u001b[0m         \u001b[38;5;28;01mreturn\u001b[39;00m \u001b[38;5;28mself\u001b[39m\u001b[38;5;241m.\u001b[39m_engine\u001b[38;5;241m.\u001b[39mget_loc(casted_key)\n\u001b[1;32m   3362\u001b[0m     \u001b[38;5;28;01mexcept\u001b[39;00m \u001b[38;5;167;01mKeyError\u001b[39;00m \u001b[38;5;28;01mas\u001b[39;00m err:\n\u001b[0;32m-> 3363\u001b[0m         \u001b[38;5;28;01mraise\u001b[39;00m \u001b[38;5;167;01mKeyError\u001b[39;00m(key) \u001b[38;5;28;01mfrom\u001b[39;00m \u001b[38;5;21;01merr\u001b[39;00m\n\u001b[1;32m   3365\u001b[0m \u001b[38;5;28;01mif\u001b[39;00m is_scalar(key) \u001b[38;5;129;01mand\u001b[39;00m isna(key) \u001b[38;5;129;01mand\u001b[39;00m \u001b[38;5;129;01mnot\u001b[39;00m \u001b[38;5;28mself\u001b[39m\u001b[38;5;241m.\u001b[39mhasnans:\n\u001b[1;32m   3366\u001b[0m     \u001b[38;5;28;01mraise\u001b[39;00m \u001b[38;5;167;01mKeyError\u001b[39;00m(key)\n",
      "\u001b[0;31mKeyError\u001b[0m: 'itemid'"
     ]
    }
   ],
   "source": [
    "if (radio_input6.value=='Custom'):\n",
    "    predW=int(text3.value)\n",
    "else:\n",
    "    predW=int(radio_input6.value[0].strip())\n",
    "if (radio_input7.value=='Custom'):\n",
    "    bucket=int(text1.value)\n",
    "else:\n",
    "    bucket=int(radio_input7.value[0].strip())\n",
    "if (radio_input8.value=='Custom'):\n",
    "    include=int(text2.value)\n",
    "else:\n",
    "    include=int(radio_input8.value.split()[1])\n",
    "if (radio_impute.value=='forward fill and mean'):\n",
    "    impute='Mean'\n",
    "elif (radio_impute.value=='forward fill and median'):\n",
    "    impute='Median'\n",
    "else:\n",
    "    impute=False\n",
    "\n",
    "if data_icu:\n",
    "    gen=data_generation_icu.Generator(root_dir, cohort_output,data_mort,data_admn,data_los,diag_flag,proc_flag,out_flag,chart_flag,med_flag, lab_flag, micro_flag,impute,include,bucket,predW)\n",
    "    #gen=data_generation_icu.Generator(cohort_output,data_mort,diag_flag,False,False,chart_flag,False,impute,include,bucket,predW)\n",
    "    #if chart_flag:\n",
    "    #    gen=data_generation_icu.Generator(cohort_output,data_mort,False,False,False,chart_flag,False,impute,include,bucket,predW)\n",
    "else:\n",
    "    gen=data_generation.Generator(root_dir, cohort_output,data_mort,data_admn,data_los,diag_flag,lab_flag,proc_flag,med_flag,impute,include,bucket,predW)"
   ]
  },
  {
   "cell_type": "code",
   "execution_count": 24,
   "id": "50d2e5e6-d0ab-41e1-bb8c-97f1b0ceee95",
   "metadata": {},
   "outputs": [],
   "source": [
    "import pdb"
   ]
  },
  {
   "cell_type": "markdown",
   "id": "1b8f9406",
   "metadata": {},
   "source": [
    "## Visualize the data\n",
    "Here, we want to be able to extract the different tables to look at what we have"
   ]
  },
  {
   "cell_type": "code",
<<<<<<< HEAD
<<<<<<< HEAD
   "execution_count": 56,
=======
   "execution_count": 203,
>>>>>>> 0259719662cf49b02db6acf09e08eca21701f638
=======
   "execution_count": 30,
>>>>>>> origin/main
   "id": "721bb844",
   "metadata": {},
   "outputs": [],
   "source": [
    "from data_loading.load_preprocessed_data import DataLoader\n",
    "\n",
    "impute = 0\n",
    "\n",
    "#data_loader = DataLoader(root_dir, cohort_output,data_mort,data_admn,data_los,diag_flag,proc_flag,out_flag,chart_flag,med_flag, lab_flag, micro_flag,impute, include,bucket,predW)\n",
    "data_loader = DataLoader(root_dir, cohort_output,data_mort,data_admn,data_los,diag_flag,proc_flag,out_flag,chart_flag,med_flag, lab_flag, micro_flag,impute)"
   ]
  },
  {
   "cell_type": "code",
<<<<<<< HEAD
<<<<<<< HEAD
   "execution_count": 57,
   "id": "6fcfc51d-ce4b-4b84-b46b-45c8995b2df9",
   "metadata": {},
   "outputs": [
    {
     "data": {
      "text/plain": [
       "True"
      ]
     },
     "execution_count": 57,
     "metadata": {},
     "output_type": "execute_result"
    }
   ],
   "source": [
    "micro_flag"
   ]
  },
  {
   "cell_type": "code",
   "execution_count": 58,
=======
   "execution_count": 205,
>>>>>>> 0259719662cf49b02db6acf09e08eca21701f638
=======
   "execution_count": 31,
>>>>>>> origin/main
   "id": "e67141b1",
   "metadata": {},
   "outputs": [
    {
     "name": "stdout",
     "output_type": "stream",
     "text": [
      "[ READ ADM FEATURES ]\n",
      "[ ======READING DIAGNOSIS ]\n",
      "[ ======READING PROCEDURES ]\n",
      "[ ======READING OUT EVENTS ]\n",
      "[ ======READING CHART EVENTS ]\n"
     ]
    },
    {
     "name": "stderr",
     "output_type": "stream",
     "text": [
<<<<<<< HEAD
<<<<<<< HEAD
      "5it [01:59, 23.87s/it]\n"
=======
      "1it [00:10, 10.95s/it]\n"
>>>>>>> 0259719662cf49b02db6acf09e08eca21701f638
=======
      "1it [00:13, 13.38s/it]\n"
>>>>>>> origin/main
     ]
    },
    {
     "name": "stdout",
     "output_type": "stream",
     "text": [
      "[ ======READING MEDICATIONS ]\n",
      "[ ======READING LAB EVENTS ]\n",
      "[ ======READING MICROBIOLOGY EVENTS ]\n",
      "[ READ ALL FEATURES ]\n",
      "[ PROCESSED TIME SERIES TO EQUAL LENGTH  ]\n",
<<<<<<< HEAD
<<<<<<< HEAD
      "Loaded the data for:  dict_keys(['data', 'cond', 'cond_per_adm', 'meds', 'proc', 'out', 'chart', 'lab', 'micro'])\n"
=======
      "Loaded the data for:  dict_keys(['data', 'cond', 'cond_per_adm', 'meds', 'proc', 'out', 'chart'])\n"
>>>>>>> 0259719662cf49b02db6acf09e08eca21701f638
=======
      "Loaded the data for:  dict_keys(['data', 'cond', 'cond_per_adm', 'meds', 'proc', 'out', 'chart'])\n"
>>>>>>> origin/main
     ]
    }
   ],
   "source": [
    "# load each table in a dictionary \n",
    "dataset = data_loader.load()\n",
    "print(\"Loaded the data for: \", dataset.keys())"
   ]
  },
  {
   "cell_type": "code",
<<<<<<< HEAD
<<<<<<< HEAD
   "execution_count": 42,
   "id": "16d417ea-30d5-408b-81ac-7af4387dc2dd",
   "metadata": {},
   "outputs": [],
   "source": [
    "test_df = pd.read_csv(\"/lustre/groups/itg/shared/notebooks/benjamin.weinert/git_repos/MIMIC-IV-Data-Pipeline/data/features/preproc_labevents_icu.csv.gz\")"
=======
   "execution_count": 206,
=======
   "execution_count": 43,
>>>>>>> origin/main
   "id": "d841b7a4",
   "metadata": {},
   "outputs": [],
   "source": [
    "def extract_aki(out_df, charts_df):\n",
    "    \"\"\"\n",
    "    Extract the acute kidney injury information to compute the label, based on urine output.\n",
    "    \n",
    "    Parameters:\n",
    "    - out_df: DataFrame containing output events.\n",
    "    - charts_df: DataFrame containing chart events.\n",
    "    \n",
    "    Returns:\n",
    "    - Combined DataFrame with filtered rows from both input DataFrames.\n",
    "    \"\"\"\n",
    "\n",
    "    # Step 1: filter output events\n",
    "    itemids_out = [\"226627\", \"226631\", \"227488\", \"227489\"] \n",
    "    out_aki = out_df[out_df['itemid'].isin(itemids_out)]\n",
<<<<<<< HEAD
=======
    "    \n",
    "    # check if all ids exist\n",
    "    print(\"Unique ids within output data: \", out_aki['itemid'].unique())\n",
    "    \n",
>>>>>>> origin/main
    "\n",
    "    # Step 2: filter charts\n",
    "    itemids_chart = [\"224639\", \"226512\", \"226531\"] \n",
    "    charts_aki = charts_df[charts_df['itemid'].isin(itemids_chart)]\n",
<<<<<<< HEAD
=======
    "    \n",
    "    # check if all ids exist\n",
    "    print(\"Unique ids within chart data: \", charts_aki['itemid'].unique())\n",
>>>>>>> origin/main
    "\n",
    "    # Step 3: combine the two tables and keep 'stay_id', 'itemid', 'start_time', and 'value'/'valuenum'\n",
    "    combined_aki = pd.concat([out_aki[['stay_id', 'itemid', 'start_time', 'value']],\n",
    "                              charts_aki[['stay_id', 'itemid', 'start_time', 'valuenum']].rename(columns={'valuenum': 'value'})])\n",
    "\n",
<<<<<<< HEAD
    "    return combined_aki"
>>>>>>> 0259719662cf49b02db6acf09e08eca21701f638
=======
    "    # Step 4: filter charts\n",
    "    itemids_all = [\"226627\", \"226631\", \"227488\", \"227489\", \"224639\", \"226512\", \"226531\"] \n",
    "    print(\"Unique ids within chart data: \", combined_aki['itemid'].unique())\n",
    "    \n",
    "    return combined_aki"
>>>>>>> origin/main
   ]
  },
  {
   "cell_type": "code",
<<<<<<< HEAD
<<<<<<< HEAD
   "execution_count": 44,
   "id": "69ce65db-9e92-4131-8609-922e4de8ba22",
=======
   "execution_count": 207,
   "id": "40fc6c76",
   "metadata": {},
   "outputs": [],
   "source": [
    "combined_aki = extract_aki(dataset['out'], dataset['chart'])"
   ]
  },
  {
   "cell_type": "code",
   "execution_count": 208,
   "id": "a98f1a58",
   "metadata": {},
   "outputs": [
    {
     "data": {
      "text/html": [
       "<div>\n",
       "<style scoped>\n",
       "    .dataframe tbody tr th:only-of-type {\n",
       "        vertical-align: middle;\n",
       "    }\n",
       "\n",
       "    .dataframe tbody tr th {\n",
       "        vertical-align: top;\n",
       "    }\n",
       "\n",
       "    .dataframe thead th {\n",
       "        text-align: right;\n",
       "    }\n",
       "</style>\n",
       "<table border=\"1\" class=\"dataframe\">\n",
       "  <thead>\n",
       "    <tr style=\"text-align: right;\">\n",
       "      <th></th>\n",
       "      <th>stay_id</th>\n",
       "      <th>itemid</th>\n",
       "      <th>start_time</th>\n",
       "      <th>value</th>\n",
       "    </tr>\n",
       "  </thead>\n",
       "  <tbody>\n",
       "    <tr>\n",
       "      <th>2861</th>\n",
       "      <td>32884462</td>\n",
       "      <td>226627</td>\n",
       "      <td>4</td>\n",
       "      <td>1100.0</td>\n",
       "    </tr>\n",
       "    <tr>\n",
       "      <th>2940</th>\n",
       "      <td>37839379</td>\n",
       "      <td>227488</td>\n",
       "      <td>14</td>\n",
       "      <td>3000.0</td>\n",
       "    </tr>\n",
       "    <tr>\n",
       "      <th>2941</th>\n",
       "      <td>37839379</td>\n",
       "      <td>227489</td>\n",
       "      <td>14</td>\n",
       "      <td>2150.0</td>\n",
       "    </tr>\n",
       "    <tr>\n",
       "      <th>2942</th>\n",
       "      <td>37839379</td>\n",
       "      <td>227488</td>\n",
       "      <td>17</td>\n",
       "      <td>3000.0</td>\n",
       "    </tr>\n",
       "    <tr>\n",
       "      <th>2943</th>\n",
       "      <td>37839379</td>\n",
       "      <td>227489</td>\n",
       "      <td>17</td>\n",
       "      <td>2800.0</td>\n",
       "    </tr>\n",
       "    <tr>\n",
       "      <th>...</th>\n",
       "      <td>...</td>\n",
       "      <td>...</td>\n",
       "      <td>...</td>\n",
       "      <td>...</td>\n",
       "    </tr>\n",
       "    <tr>\n",
       "      <th>1098120</th>\n",
       "      <td>30259797</td>\n",
       "      <td>224639</td>\n",
       "      <td>-159</td>\n",
       "      <td>100.8</td>\n",
       "    </tr>\n",
       "    <tr>\n",
       "      <th>1099341</th>\n",
       "      <td>30259797</td>\n",
       "      <td>224639</td>\n",
       "      <td>-208</td>\n",
       "      <td>96.8</td>\n",
       "    </tr>\n",
       "    <tr>\n",
       "      <th>1101295</th>\n",
       "      <td>30259797</td>\n",
       "      <td>224639</td>\n",
       "      <td>-231</td>\n",
       "      <td>96.0</td>\n",
       "    </tr>\n",
       "    <tr>\n",
       "      <th>1101418</th>\n",
       "      <td>30259797</td>\n",
       "      <td>224639</td>\n",
       "      <td>-186</td>\n",
       "      <td>98.0</td>\n",
       "    </tr>\n",
       "    <tr>\n",
       "      <th>1101745</th>\n",
       "      <td>30259797</td>\n",
       "      <td>226531</td>\n",
       "      <td>-250</td>\n",
       "      <td>211.6</td>\n",
       "    </tr>\n",
       "  </tbody>\n",
       "</table>\n",
       "<p>4011 rows × 4 columns</p>\n",
       "</div>"
      ],
      "text/plain": [
       "          stay_id  itemid  start_time   value\n",
       "2861     32884462  226627           4  1100.0\n",
       "2940     37839379  227488          14  3000.0\n",
       "2941     37839379  227489          14  2150.0\n",
       "2942     37839379  227488          17  3000.0\n",
       "2943     37839379  227489          17  2800.0\n",
       "...           ...     ...         ...     ...\n",
       "1098120  30259797  224639        -159   100.8\n",
       "1099341  30259797  224639        -208    96.8\n",
       "1101295  30259797  224639        -231    96.0\n",
       "1101418  30259797  224639        -186    98.0\n",
       "1101745  30259797  226531        -250   211.6\n",
       "\n",
       "[4011 rows x 4 columns]"
      ]
     },
     "execution_count": 208,
     "metadata": {},
     "output_type": "execute_result"
    }
   ],
   "source": [
    "combined_aki"
   ]
  },
  {
   "cell_type": "code",
   "execution_count": 221,
   "id": "81b3f17f",
   "metadata": {},
   "outputs": [],
   "source": [
    "import pandas as pd\n",
    "\n",
    "# path =\n",
    "# stay_id_value =\n",
    "# time_value =\n",
    "\n",
    "def extract_aki_info(combined_aki):\n",
    "    df = combined_aki\n",
    "    # df = pd.read_csv(path)\n",
    "    stay_ids = df['stay_id']\n",
    "    for stay_id_value in stay_ids:\n",
    "        \n",
    "        df_stay = df[df['stay_id'] == stay_id_value]\n",
    "        \n",
    "        itemid_urine  = '226627' # '226631'\n",
    "        itemid_weight = '226512'\n",
    "\n",
    "        df_calculation = df_stay[df_stay['itemid'] == itemid_urine][['start_time', 'value']]\n",
    "        df_calculation['interval'] = df_calculation['start_time'].diff()\n",
    "        df_calculation['urine_per_hour'] = df_calculation['value']/df_calculation['interval']\n",
    "        import pdb\n",
    "        pdb.set_trace()\n",
    "        df_calculation['urine_per_hour_per_kg'] = df_calculation['urine_per_hour']/df_stay[df_stay['itemid'] == itemid_weight]\n",
    "\n",
    "        df_calculation[\"AKI_volume\"] = df['urine_per_hour_per_kg'].apply(lambda x: 1 if x < 0.5 else 0)\n",
    "        df_calculation[\"AKI_time\"] = df['interval'].apply(lambda x: 1 if x >= 12 else 0)\n",
    "        df_calculation[\"AKI_preliminary\"] = df_calculation[\"AKI_volume\"] + df_calculation[\"AKI_time\"]\n",
    "        df_calculation['AKI'] = df_calculation['AKI_preliminary'].apply(lambda x: 1 if x == 2 else 0)\n",
    "        \n",
    "    return df_calculation "
   ]
  },
  {
   "cell_type": "code",
   "execution_count": 222,
   "id": "d8f493bf",
   "metadata": {},
   "outputs": [
    {
     "data": {
      "text/html": [
       "<div>\n",
       "<style scoped>\n",
       "    .dataframe tbody tr th:only-of-type {\n",
       "        vertical-align: middle;\n",
       "    }\n",
       "\n",
       "    .dataframe tbody tr th {\n",
       "        vertical-align: top;\n",
       "    }\n",
       "\n",
       "    .dataframe thead th {\n",
       "        text-align: right;\n",
       "    }\n",
       "</style>\n",
       "<table border=\"1\" class=\"dataframe\">\n",
       "  <thead>\n",
       "    <tr style=\"text-align: right;\">\n",
       "      <th></th>\n",
       "      <th>stay_id</th>\n",
       "      <th>itemid</th>\n",
       "      <th>start_time</th>\n",
       "      <th>value</th>\n",
       "    </tr>\n",
       "  </thead>\n",
       "  <tbody>\n",
       "    <tr>\n",
       "      <th>2861</th>\n",
       "      <td>32884462</td>\n",
       "      <td>226627</td>\n",
       "      <td>4</td>\n",
       "      <td>1100.0</td>\n",
       "    </tr>\n",
       "    <tr>\n",
       "      <th>2940</th>\n",
       "      <td>37839379</td>\n",
       "      <td>227488</td>\n",
       "      <td>14</td>\n",
       "      <td>3000.0</td>\n",
       "    </tr>\n",
       "    <tr>\n",
       "      <th>2941</th>\n",
       "      <td>37839379</td>\n",
       "      <td>227489</td>\n",
       "      <td>14</td>\n",
       "      <td>2150.0</td>\n",
       "    </tr>\n",
       "    <tr>\n",
       "      <th>2942</th>\n",
       "      <td>37839379</td>\n",
       "      <td>227488</td>\n",
       "      <td>17</td>\n",
       "      <td>3000.0</td>\n",
       "    </tr>\n",
       "    <tr>\n",
       "      <th>2943</th>\n",
       "      <td>37839379</td>\n",
       "      <td>227489</td>\n",
       "      <td>17</td>\n",
       "      <td>2800.0</td>\n",
       "    </tr>\n",
       "    <tr>\n",
       "      <th>...</th>\n",
       "      <td>...</td>\n",
       "      <td>...</td>\n",
       "      <td>...</td>\n",
       "      <td>...</td>\n",
       "    </tr>\n",
       "    <tr>\n",
       "      <th>1098120</th>\n",
       "      <td>30259797</td>\n",
       "      <td>224639</td>\n",
       "      <td>-159</td>\n",
       "      <td>100.8</td>\n",
       "    </tr>\n",
       "    <tr>\n",
       "      <th>1099341</th>\n",
       "      <td>30259797</td>\n",
       "      <td>224639</td>\n",
       "      <td>-208</td>\n",
       "      <td>96.8</td>\n",
       "    </tr>\n",
       "    <tr>\n",
       "      <th>1101295</th>\n",
       "      <td>30259797</td>\n",
       "      <td>224639</td>\n",
       "      <td>-231</td>\n",
       "      <td>96.0</td>\n",
       "    </tr>\n",
       "    <tr>\n",
       "      <th>1101418</th>\n",
       "      <td>30259797</td>\n",
       "      <td>224639</td>\n",
       "      <td>-186</td>\n",
       "      <td>98.0</td>\n",
       "    </tr>\n",
       "    <tr>\n",
       "      <th>1101745</th>\n",
       "      <td>30259797</td>\n",
       "      <td>226531</td>\n",
       "      <td>-250</td>\n",
       "      <td>211.6</td>\n",
       "    </tr>\n",
       "  </tbody>\n",
       "</table>\n",
       "<p>4011 rows × 4 columns</p>\n",
       "</div>"
      ],
      "text/plain": [
       "          stay_id  itemid  start_time   value\n",
       "2861     32884462  226627           4  1100.0\n",
       "2940     37839379  227488          14  3000.0\n",
       "2941     37839379  227489          14  2150.0\n",
       "2942     37839379  227488          17  3000.0\n",
       "2943     37839379  227489          17  2800.0\n",
       "...           ...     ...         ...     ...\n",
       "1098120  30259797  224639        -159   100.8\n",
       "1099341  30259797  224639        -208    96.8\n",
       "1101295  30259797  224639        -231    96.0\n",
       "1101418  30259797  224639        -186    98.0\n",
       "1101745  30259797  226531        -250   211.6\n",
       "\n",
       "[4011 rows x 4 columns]"
      ]
     },
     "execution_count": 222,
     "metadata": {},
     "output_type": "execute_result"
    }
   ],
   "source": [
    "combined_aki"
   ]
  },
  {
   "cell_type": "code",
   "execution_count": 223,
   "id": "4c2c8712",
   "metadata": {},
=======
   "execution_count": 44,
   "id": "40fc6c76",
   "metadata": {},
>>>>>>> origin/main
   "outputs": [
    {
     "name": "stdout",
     "output_type": "stream",
     "text": [
<<<<<<< HEAD
      "> \u001b[0;32m/tmp/ipykernel_27249/897184872.py\u001b[0m(23)\u001b[0;36mextract_aki_info\u001b[0;34m()\u001b[0m\n",
      "\u001b[0;32m     21 \u001b[0;31m        \u001b[0;32mimport\u001b[0m \u001b[0mpdb\u001b[0m\u001b[0;34m\u001b[0m\u001b[0;34m\u001b[0m\u001b[0m\n",
      "\u001b[0m\u001b[0;32m     22 \u001b[0;31m        \u001b[0mpdb\u001b[0m\u001b[0;34m.\u001b[0m\u001b[0mset_trace\u001b[0m\u001b[0;34m(\u001b[0m\u001b[0;34m)\u001b[0m\u001b[0;34m\u001b[0m\u001b[0;34m\u001b[0m\u001b[0m\n",
      "\u001b[0m\u001b[0;32m---> 23 \u001b[0;31m        \u001b[0mdf_calculation\u001b[0m\u001b[0;34m[\u001b[0m\u001b[0;34m'urine_per_hour_per_kg'\u001b[0m\u001b[0;34m]\u001b[0m \u001b[0;34m=\u001b[0m \u001b[0mdf_calculation\u001b[0m\u001b[0;34m[\u001b[0m\u001b[0;34m'urine_per_hour'\u001b[0m\u001b[0;34m]\u001b[0m\u001b[0;34m/\u001b[0m\u001b[0mdf_stay\u001b[0m\u001b[0;34m[\u001b[0m\u001b[0mdf_stay\u001b[0m\u001b[0;34m[\u001b[0m\u001b[0;34m'itemid'\u001b[0m\u001b[0;34m]\u001b[0m \u001b[0;34m==\u001b[0m \u001b[0mitemid_weight\u001b[0m\u001b[0;34m]\u001b[0m\u001b[0;34m\u001b[0m\u001b[0;34m\u001b[0m\u001b[0m\n",
      "\u001b[0m\u001b[0;32m     24 \u001b[0;31m\u001b[0;34m\u001b[0m\u001b[0m\n",
      "\u001b[0m\u001b[0;32m     25 \u001b[0;31m        \u001b[0mdf_calculation\u001b[0m\u001b[0;34m[\u001b[0m\u001b[0;34m\"AKI_volume\"\u001b[0m\u001b[0;34m]\u001b[0m \u001b[0;34m=\u001b[0m \u001b[0mdf\u001b[0m\u001b[0;34m[\u001b[0m\u001b[0;34m'urine_per_hour_per_kg'\u001b[0m\u001b[0;34m]\u001b[0m\u001b[0;34m.\u001b[0m\u001b[0mapply\u001b[0m\u001b[0;34m(\u001b[0m\u001b[0;32mlambda\u001b[0m \u001b[0mx\u001b[0m\u001b[0;34m:\u001b[0m \u001b[0;36m1\u001b[0m \u001b[0;32mif\u001b[0m \u001b[0mx\u001b[0m \u001b[0;34m<\u001b[0m \u001b[0;36m0.5\u001b[0m \u001b[0;32melse\u001b[0m \u001b[0;36m0\u001b[0m\u001b[0;34m)\u001b[0m\u001b[0;34m\u001b[0m\u001b[0;34m\u001b[0m\u001b[0m\n",
      "\u001b[0m\n",
      "ipdb> df_calculation['urine_per_hour']\n",
      "Series([], Name: urine_per_hour, dtype: float64)\n",
      "ipdb> df_stay[df_stay['itemid'] == itemid_weight]\n",
      "Empty DataFrame\n",
      "Columns: [stay_id, itemid, start_time, value]\n",
      "Index: []\n",
      "ipdb> df_calculation['urine_per_hour']/df_stay[df_stay['itemid'] == itemid_weight]\n",
      "Empty DataFrame\n",
      "Columns: [stay_id, itemid, start_time, value]\n",
      "Index: []\n",
      "ipdb> df_calculation['urine_per_hour_per_kg'] = df_calculation['urine_per_hour']/df_stay[df_stay['itemid'] == itemid_weight]\n",
      "*** ValueError: Wrong number of items passed 4, placement implies 1\n",
      "ipdb> df_calculation['urine_per_hour_per_kg']\n",
      "*** KeyError: 'urine_per_hour_per_kg'\n",
      "ipdb> c\n"
     ]
    },
    {
     "ename": "ValueError",
     "evalue": "Wrong number of items passed 4, placement implies 1",
     "output_type": "error",
     "traceback": [
      "\u001b[0;31m---------------------------------------------------------------------------\u001b[0m",
      "\u001b[0;31mKeyError\u001b[0m                                  Traceback (most recent call last)",
      "\u001b[0;32m~/miniconda3/envs/mimic_prep_env/lib/python3.7/site-packages/pandas/core/indexes/base.py\u001b[0m in \u001b[0;36mget_loc\u001b[0;34m(self, key, method, tolerance)\u001b[0m\n\u001b[1;32m   2645\u001b[0m             \u001b[0;32mtry\u001b[0m\u001b[0;34m:\u001b[0m\u001b[0;34m\u001b[0m\u001b[0;34m\u001b[0m\u001b[0m\n\u001b[0;32m-> 2646\u001b[0;31m                 \u001b[0;32mreturn\u001b[0m \u001b[0mself\u001b[0m\u001b[0;34m.\u001b[0m\u001b[0m_engine\u001b[0m\u001b[0;34m.\u001b[0m\u001b[0mget_loc\u001b[0m\u001b[0;34m(\u001b[0m\u001b[0mkey\u001b[0m\u001b[0;34m)\u001b[0m\u001b[0;34m\u001b[0m\u001b[0;34m\u001b[0m\u001b[0m\n\u001b[0m\u001b[1;32m   2647\u001b[0m             \u001b[0;32mexcept\u001b[0m \u001b[0mKeyError\u001b[0m\u001b[0;34m:\u001b[0m\u001b[0;34m\u001b[0m\u001b[0;34m\u001b[0m\u001b[0m\n",
      "\u001b[0;32mpandas/_libs/index.pyx\u001b[0m in \u001b[0;36mpandas._libs.index.IndexEngine.get_loc\u001b[0;34m()\u001b[0m\n",
      "\u001b[0;32mpandas/_libs/index.pyx\u001b[0m in \u001b[0;36mpandas._libs.index.IndexEngine.get_loc\u001b[0;34m()\u001b[0m\n",
      "\u001b[0;32mpandas/_libs/hashtable_class_helper.pxi\u001b[0m in \u001b[0;36mpandas._libs.hashtable.PyObjectHashTable.get_item\u001b[0;34m()\u001b[0m\n",
      "\u001b[0;32mpandas/_libs/hashtable_class_helper.pxi\u001b[0m in \u001b[0;36mpandas._libs.hashtable.PyObjectHashTable.get_item\u001b[0;34m()\u001b[0m\n",
      "\u001b[0;31mKeyError\u001b[0m: 'urine_per_hour_per_kg'",
      "\nDuring handling of the above exception, another exception occurred:\n",
      "\u001b[0;31mKeyError\u001b[0m                                  Traceback (most recent call last)",
      "\u001b[0;32m~/miniconda3/envs/mimic_prep_env/lib/python3.7/site-packages/pandas/core/internals/managers.py\u001b[0m in \u001b[0;36mset\u001b[0;34m(self, item, value)\u001b[0m\n\u001b[1;32m   1070\u001b[0m         \u001b[0;32mtry\u001b[0m\u001b[0;34m:\u001b[0m\u001b[0;34m\u001b[0m\u001b[0;34m\u001b[0m\u001b[0m\n\u001b[0;32m-> 1071\u001b[0;31m             \u001b[0mloc\u001b[0m \u001b[0;34m=\u001b[0m \u001b[0mself\u001b[0m\u001b[0;34m.\u001b[0m\u001b[0mitems\u001b[0m\u001b[0;34m.\u001b[0m\u001b[0mget_loc\u001b[0m\u001b[0;34m(\u001b[0m\u001b[0mitem\u001b[0m\u001b[0;34m)\u001b[0m\u001b[0;34m\u001b[0m\u001b[0;34m\u001b[0m\u001b[0m\n\u001b[0m\u001b[1;32m   1072\u001b[0m         \u001b[0;32mexcept\u001b[0m \u001b[0mKeyError\u001b[0m\u001b[0;34m:\u001b[0m\u001b[0;34m\u001b[0m\u001b[0;34m\u001b[0m\u001b[0m\n",
      "\u001b[0;32m~/miniconda3/envs/mimic_prep_env/lib/python3.7/site-packages/pandas/core/indexes/base.py\u001b[0m in \u001b[0;36mget_loc\u001b[0;34m(self, key, method, tolerance)\u001b[0m\n\u001b[1;32m   2647\u001b[0m             \u001b[0;32mexcept\u001b[0m \u001b[0mKeyError\u001b[0m\u001b[0;34m:\u001b[0m\u001b[0;34m\u001b[0m\u001b[0;34m\u001b[0m\u001b[0m\n\u001b[0;32m-> 2648\u001b[0;31m                 \u001b[0;32mreturn\u001b[0m \u001b[0mself\u001b[0m\u001b[0;34m.\u001b[0m\u001b[0m_engine\u001b[0m\u001b[0;34m.\u001b[0m\u001b[0mget_loc\u001b[0m\u001b[0;34m(\u001b[0m\u001b[0mself\u001b[0m\u001b[0;34m.\u001b[0m\u001b[0m_maybe_cast_indexer\u001b[0m\u001b[0;34m(\u001b[0m\u001b[0mkey\u001b[0m\u001b[0;34m)\u001b[0m\u001b[0;34m)\u001b[0m\u001b[0;34m\u001b[0m\u001b[0;34m\u001b[0m\u001b[0m\n\u001b[0m\u001b[1;32m   2649\u001b[0m         \u001b[0mindexer\u001b[0m \u001b[0;34m=\u001b[0m \u001b[0mself\u001b[0m\u001b[0;34m.\u001b[0m\u001b[0mget_indexer\u001b[0m\u001b[0;34m(\u001b[0m\u001b[0;34m[\u001b[0m\u001b[0mkey\u001b[0m\u001b[0;34m]\u001b[0m\u001b[0;34m,\u001b[0m \u001b[0mmethod\u001b[0m\u001b[0;34m=\u001b[0m\u001b[0mmethod\u001b[0m\u001b[0;34m,\u001b[0m \u001b[0mtolerance\u001b[0m\u001b[0;34m=\u001b[0m\u001b[0mtolerance\u001b[0m\u001b[0;34m)\u001b[0m\u001b[0;34m\u001b[0m\u001b[0;34m\u001b[0m\u001b[0m\n",
      "\u001b[0;32mpandas/_libs/index.pyx\u001b[0m in \u001b[0;36mpandas._libs.index.IndexEngine.get_loc\u001b[0;34m()\u001b[0m\n",
      "\u001b[0;32mpandas/_libs/index.pyx\u001b[0m in \u001b[0;36mpandas._libs.index.IndexEngine.get_loc\u001b[0;34m()\u001b[0m\n",
      "\u001b[0;32mpandas/_libs/hashtable_class_helper.pxi\u001b[0m in \u001b[0;36mpandas._libs.hashtable.PyObjectHashTable.get_item\u001b[0;34m()\u001b[0m\n",
      "\u001b[0;32mpandas/_libs/hashtable_class_helper.pxi\u001b[0m in \u001b[0;36mpandas._libs.hashtable.PyObjectHashTable.get_item\u001b[0;34m()\u001b[0m\n",
      "\u001b[0;31mKeyError\u001b[0m: 'urine_per_hour_per_kg'",
      "\nDuring handling of the above exception, another exception occurred:\n",
      "\u001b[0;31mValueError\u001b[0m                                Traceback (most recent call last)",
      "\u001b[0;32m/tmp/ipykernel_27249/3073416776.py\u001b[0m in \u001b[0;36m<module>\u001b[0;34m\u001b[0m\n\u001b[0;32m----> 1\u001b[0;31m \u001b[0maki\u001b[0m   \u001b[0;34m=\u001b[0m  \u001b[0mextract_aki_info\u001b[0m\u001b[0;34m(\u001b[0m\u001b[0mcombined_aki\u001b[0m\u001b[0;34m)\u001b[0m\u001b[0;34m\u001b[0m\u001b[0;34m\u001b[0m\u001b[0m\n\u001b[0m",
      "\u001b[0;32m/tmp/ipykernel_27249/897184872.py\u001b[0m in \u001b[0;36mextract_aki_info\u001b[0;34m(combined_aki)\u001b[0m\n\u001b[1;32m     21\u001b[0m         \u001b[0;32mimport\u001b[0m \u001b[0mpdb\u001b[0m\u001b[0;34m\u001b[0m\u001b[0;34m\u001b[0m\u001b[0m\n\u001b[1;32m     22\u001b[0m         \u001b[0mpdb\u001b[0m\u001b[0;34m.\u001b[0m\u001b[0mset_trace\u001b[0m\u001b[0;34m(\u001b[0m\u001b[0;34m)\u001b[0m\u001b[0;34m\u001b[0m\u001b[0;34m\u001b[0m\u001b[0m\n\u001b[0;32m---> 23\u001b[0;31m         \u001b[0mdf_calculation\u001b[0m\u001b[0;34m[\u001b[0m\u001b[0;34m'urine_per_hour_per_kg'\u001b[0m\u001b[0;34m]\u001b[0m \u001b[0;34m=\u001b[0m \u001b[0mdf_calculation\u001b[0m\u001b[0;34m[\u001b[0m\u001b[0;34m'urine_per_hour'\u001b[0m\u001b[0;34m]\u001b[0m\u001b[0;34m/\u001b[0m\u001b[0mdf_stay\u001b[0m\u001b[0;34m[\u001b[0m\u001b[0mdf_stay\u001b[0m\u001b[0;34m[\u001b[0m\u001b[0;34m'itemid'\u001b[0m\u001b[0;34m]\u001b[0m \u001b[0;34m==\u001b[0m \u001b[0mitemid_weight\u001b[0m\u001b[0;34m]\u001b[0m\u001b[0;34m\u001b[0m\u001b[0;34m\u001b[0m\u001b[0m\n\u001b[0m\u001b[1;32m     24\u001b[0m \u001b[0;34m\u001b[0m\u001b[0m\n\u001b[1;32m     25\u001b[0m         \u001b[0mdf_calculation\u001b[0m\u001b[0;34m[\u001b[0m\u001b[0;34m\"AKI_volume\"\u001b[0m\u001b[0;34m]\u001b[0m \u001b[0;34m=\u001b[0m \u001b[0mdf\u001b[0m\u001b[0;34m[\u001b[0m\u001b[0;34m'urine_per_hour_per_kg'\u001b[0m\u001b[0;34m]\u001b[0m\u001b[0;34m.\u001b[0m\u001b[0mapply\u001b[0m\u001b[0;34m(\u001b[0m\u001b[0;32mlambda\u001b[0m \u001b[0mx\u001b[0m\u001b[0;34m:\u001b[0m \u001b[0;36m1\u001b[0m \u001b[0;32mif\u001b[0m \u001b[0mx\u001b[0m \u001b[0;34m<\u001b[0m \u001b[0;36m0.5\u001b[0m \u001b[0;32melse\u001b[0m \u001b[0;36m0\u001b[0m\u001b[0;34m)\u001b[0m\u001b[0;34m\u001b[0m\u001b[0;34m\u001b[0m\u001b[0m\n",
      "\u001b[0;32m~/miniconda3/envs/mimic_prep_env/lib/python3.7/site-packages/pandas/core/frame.py\u001b[0m in \u001b[0;36m__setitem__\u001b[0;34m(self, key, value)\u001b[0m\n\u001b[1;32m   2936\u001b[0m         \u001b[0;32melse\u001b[0m\u001b[0;34m:\u001b[0m\u001b[0;34m\u001b[0m\u001b[0;34m\u001b[0m\u001b[0m\n\u001b[1;32m   2937\u001b[0m             \u001b[0;31m# set column\u001b[0m\u001b[0;34m\u001b[0m\u001b[0;34m\u001b[0m\u001b[0;34m\u001b[0m\u001b[0m\n\u001b[0;32m-> 2938\u001b[0;31m             \u001b[0mself\u001b[0m\u001b[0;34m.\u001b[0m\u001b[0m_set_item\u001b[0m\u001b[0;34m(\u001b[0m\u001b[0mkey\u001b[0m\u001b[0;34m,\u001b[0m \u001b[0mvalue\u001b[0m\u001b[0;34m)\u001b[0m\u001b[0;34m\u001b[0m\u001b[0;34m\u001b[0m\u001b[0m\n\u001b[0m\u001b[1;32m   2939\u001b[0m \u001b[0;34m\u001b[0m\u001b[0m\n\u001b[1;32m   2940\u001b[0m     \u001b[0;32mdef\u001b[0m \u001b[0m_setitem_slice\u001b[0m\u001b[0;34m(\u001b[0m\u001b[0mself\u001b[0m\u001b[0;34m,\u001b[0m \u001b[0mkey\u001b[0m\u001b[0;34m,\u001b[0m \u001b[0mvalue\u001b[0m\u001b[0;34m)\u001b[0m\u001b[0;34m:\u001b[0m\u001b[0;34m\u001b[0m\u001b[0;34m\u001b[0m\u001b[0m\n",
      "\u001b[0;32m~/miniconda3/envs/mimic_prep_env/lib/python3.7/site-packages/pandas/core/frame.py\u001b[0m in \u001b[0;36m_set_item\u001b[0;34m(self, key, value)\u001b[0m\n\u001b[1;32m   2999\u001b[0m         \u001b[0mself\u001b[0m\u001b[0;34m.\u001b[0m\u001b[0m_ensure_valid_index\u001b[0m\u001b[0;34m(\u001b[0m\u001b[0mvalue\u001b[0m\u001b[0;34m)\u001b[0m\u001b[0;34m\u001b[0m\u001b[0;34m\u001b[0m\u001b[0m\n\u001b[1;32m   3000\u001b[0m         \u001b[0mvalue\u001b[0m \u001b[0;34m=\u001b[0m \u001b[0mself\u001b[0m\u001b[0;34m.\u001b[0m\u001b[0m_sanitize_column\u001b[0m\u001b[0;34m(\u001b[0m\u001b[0mkey\u001b[0m\u001b[0;34m,\u001b[0m \u001b[0mvalue\u001b[0m\u001b[0;34m)\u001b[0m\u001b[0;34m\u001b[0m\u001b[0;34m\u001b[0m\u001b[0m\n\u001b[0;32m-> 3001\u001b[0;31m         \u001b[0mNDFrame\u001b[0m\u001b[0;34m.\u001b[0m\u001b[0m_set_item\u001b[0m\u001b[0;34m(\u001b[0m\u001b[0mself\u001b[0m\u001b[0;34m,\u001b[0m \u001b[0mkey\u001b[0m\u001b[0;34m,\u001b[0m \u001b[0mvalue\u001b[0m\u001b[0;34m)\u001b[0m\u001b[0;34m\u001b[0m\u001b[0;34m\u001b[0m\u001b[0m\n\u001b[0m\u001b[1;32m   3002\u001b[0m \u001b[0;34m\u001b[0m\u001b[0m\n\u001b[1;32m   3003\u001b[0m         \u001b[0;31m# check if we are modifying a copy\u001b[0m\u001b[0;34m\u001b[0m\u001b[0;34m\u001b[0m\u001b[0;34m\u001b[0m\u001b[0m\n",
      "\u001b[0;32m~/miniconda3/envs/mimic_prep_env/lib/python3.7/site-packages/pandas/core/generic.py\u001b[0m in \u001b[0;36m_set_item\u001b[0;34m(self, key, value)\u001b[0m\n\u001b[1;32m   3622\u001b[0m \u001b[0;34m\u001b[0m\u001b[0m\n\u001b[1;32m   3623\u001b[0m     \u001b[0;32mdef\u001b[0m \u001b[0m_set_item\u001b[0m\u001b[0;34m(\u001b[0m\u001b[0mself\u001b[0m\u001b[0;34m,\u001b[0m \u001b[0mkey\u001b[0m\u001b[0;34m,\u001b[0m \u001b[0mvalue\u001b[0m\u001b[0;34m)\u001b[0m \u001b[0;34m->\u001b[0m \u001b[0;32mNone\u001b[0m\u001b[0;34m:\u001b[0m\u001b[0;34m\u001b[0m\u001b[0;34m\u001b[0m\u001b[0m\n\u001b[0;32m-> 3624\u001b[0;31m         \u001b[0mself\u001b[0m\u001b[0;34m.\u001b[0m\u001b[0m_data\u001b[0m\u001b[0;34m.\u001b[0m\u001b[0mset\u001b[0m\u001b[0;34m(\u001b[0m\u001b[0mkey\u001b[0m\u001b[0;34m,\u001b[0m \u001b[0mvalue\u001b[0m\u001b[0;34m)\u001b[0m\u001b[0;34m\u001b[0m\u001b[0;34m\u001b[0m\u001b[0m\n\u001b[0m\u001b[1;32m   3625\u001b[0m         \u001b[0mself\u001b[0m\u001b[0;34m.\u001b[0m\u001b[0m_clear_item_cache\u001b[0m\u001b[0;34m(\u001b[0m\u001b[0;34m)\u001b[0m\u001b[0;34m\u001b[0m\u001b[0;34m\u001b[0m\u001b[0m\n\u001b[1;32m   3626\u001b[0m \u001b[0;34m\u001b[0m\u001b[0m\n",
      "\u001b[0;32m~/miniconda3/envs/mimic_prep_env/lib/python3.7/site-packages/pandas/core/internals/managers.py\u001b[0m in \u001b[0;36mset\u001b[0;34m(self, item, value)\u001b[0m\n\u001b[1;32m   1072\u001b[0m         \u001b[0;32mexcept\u001b[0m \u001b[0mKeyError\u001b[0m\u001b[0;34m:\u001b[0m\u001b[0;34m\u001b[0m\u001b[0;34m\u001b[0m\u001b[0m\n\u001b[1;32m   1073\u001b[0m             \u001b[0;31m# This item wasn't present, just insert at end\u001b[0m\u001b[0;34m\u001b[0m\u001b[0;34m\u001b[0m\u001b[0;34m\u001b[0m\u001b[0m\n\u001b[0;32m-> 1074\u001b[0;31m             \u001b[0mself\u001b[0m\u001b[0;34m.\u001b[0m\u001b[0minsert\u001b[0m\u001b[0;34m(\u001b[0m\u001b[0mlen\u001b[0m\u001b[0;34m(\u001b[0m\u001b[0mself\u001b[0m\u001b[0;34m.\u001b[0m\u001b[0mitems\u001b[0m\u001b[0;34m)\u001b[0m\u001b[0;34m,\u001b[0m \u001b[0mitem\u001b[0m\u001b[0;34m,\u001b[0m \u001b[0mvalue\u001b[0m\u001b[0;34m)\u001b[0m\u001b[0;34m\u001b[0m\u001b[0;34m\u001b[0m\u001b[0m\n\u001b[0m\u001b[1;32m   1075\u001b[0m             \u001b[0;32mreturn\u001b[0m\u001b[0;34m\u001b[0m\u001b[0;34m\u001b[0m\u001b[0m\n\u001b[1;32m   1076\u001b[0m \u001b[0;34m\u001b[0m\u001b[0m\n",
      "\u001b[0;32m~/miniconda3/envs/mimic_prep_env/lib/python3.7/site-packages/pandas/core/internals/managers.py\u001b[0m in \u001b[0;36minsert\u001b[0;34m(self, loc, item, value, allow_duplicates)\u001b[0m\n\u001b[1;32m   1179\u001b[0m         \u001b[0mnew_axis\u001b[0m \u001b[0;34m=\u001b[0m \u001b[0mself\u001b[0m\u001b[0;34m.\u001b[0m\u001b[0mitems\u001b[0m\u001b[0;34m.\u001b[0m\u001b[0minsert\u001b[0m\u001b[0;34m(\u001b[0m\u001b[0mloc\u001b[0m\u001b[0;34m,\u001b[0m \u001b[0mitem\u001b[0m\u001b[0;34m)\u001b[0m\u001b[0;34m\u001b[0m\u001b[0;34m\u001b[0m\u001b[0m\n\u001b[1;32m   1180\u001b[0m \u001b[0;34m\u001b[0m\u001b[0m\n\u001b[0;32m-> 1181\u001b[0;31m         \u001b[0mblock\u001b[0m \u001b[0;34m=\u001b[0m \u001b[0mmake_block\u001b[0m\u001b[0;34m(\u001b[0m\u001b[0mvalues\u001b[0m\u001b[0;34m=\u001b[0m\u001b[0mvalue\u001b[0m\u001b[0;34m,\u001b[0m \u001b[0mndim\u001b[0m\u001b[0;34m=\u001b[0m\u001b[0mself\u001b[0m\u001b[0;34m.\u001b[0m\u001b[0mndim\u001b[0m\u001b[0;34m,\u001b[0m \u001b[0mplacement\u001b[0m\u001b[0;34m=\u001b[0m\u001b[0mslice\u001b[0m\u001b[0;34m(\u001b[0m\u001b[0mloc\u001b[0m\u001b[0;34m,\u001b[0m \u001b[0mloc\u001b[0m \u001b[0;34m+\u001b[0m \u001b[0;36m1\u001b[0m\u001b[0;34m)\u001b[0m\u001b[0;34m)\u001b[0m\u001b[0;34m\u001b[0m\u001b[0;34m\u001b[0m\u001b[0m\n\u001b[0m\u001b[1;32m   1182\u001b[0m \u001b[0;34m\u001b[0m\u001b[0m\n\u001b[1;32m   1183\u001b[0m         \u001b[0;32mfor\u001b[0m \u001b[0mblkno\u001b[0m\u001b[0;34m,\u001b[0m \u001b[0mcount\u001b[0m \u001b[0;32min\u001b[0m \u001b[0m_fast_count_smallints\u001b[0m\u001b[0;34m(\u001b[0m\u001b[0mself\u001b[0m\u001b[0;34m.\u001b[0m\u001b[0m_blknos\u001b[0m\u001b[0;34m[\u001b[0m\u001b[0mloc\u001b[0m\u001b[0;34m:\u001b[0m\u001b[0;34m]\u001b[0m\u001b[0;34m)\u001b[0m\u001b[0;34m:\u001b[0m\u001b[0;34m\u001b[0m\u001b[0;34m\u001b[0m\u001b[0m\n",
      "\u001b[0;32m~/miniconda3/envs/mimic_prep_env/lib/python3.7/site-packages/pandas/core/internals/blocks.py\u001b[0m in \u001b[0;36mmake_block\u001b[0;34m(values, placement, klass, ndim, dtype)\u001b[0m\n\u001b[1;32m   3051\u001b[0m         \u001b[0mvalues\u001b[0m \u001b[0;34m=\u001b[0m \u001b[0mDatetimeArray\u001b[0m\u001b[0;34m.\u001b[0m\u001b[0m_simple_new\u001b[0m\u001b[0;34m(\u001b[0m\u001b[0mvalues\u001b[0m\u001b[0;34m,\u001b[0m \u001b[0mdtype\u001b[0m\u001b[0;34m=\u001b[0m\u001b[0mdtype\u001b[0m\u001b[0;34m)\u001b[0m\u001b[0;34m\u001b[0m\u001b[0;34m\u001b[0m\u001b[0m\n\u001b[1;32m   3052\u001b[0m \u001b[0;34m\u001b[0m\u001b[0m\n\u001b[0;32m-> 3053\u001b[0;31m     \u001b[0;32mreturn\u001b[0m \u001b[0mklass\u001b[0m\u001b[0;34m(\u001b[0m\u001b[0mvalues\u001b[0m\u001b[0;34m,\u001b[0m \u001b[0mndim\u001b[0m\u001b[0;34m=\u001b[0m\u001b[0mndim\u001b[0m\u001b[0;34m,\u001b[0m \u001b[0mplacement\u001b[0m\u001b[0;34m=\u001b[0m\u001b[0mplacement\u001b[0m\u001b[0;34m)\u001b[0m\u001b[0;34m\u001b[0m\u001b[0;34m\u001b[0m\u001b[0m\n\u001b[0m\u001b[1;32m   3054\u001b[0m \u001b[0;34m\u001b[0m\u001b[0m\n\u001b[1;32m   3055\u001b[0m \u001b[0;34m\u001b[0m\u001b[0m\n",
      "\u001b[0;32m~/miniconda3/envs/mimic_prep_env/lib/python3.7/site-packages/pandas/core/internals/blocks.py\u001b[0m in \u001b[0;36m__init__\u001b[0;34m(self, values, placement, ndim)\u001b[0m\n\u001b[1;32m    123\u001b[0m         \u001b[0;32mif\u001b[0m \u001b[0mself\u001b[0m\u001b[0;34m.\u001b[0m\u001b[0m_validate_ndim\u001b[0m \u001b[0;32mand\u001b[0m \u001b[0mself\u001b[0m\u001b[0;34m.\u001b[0m\u001b[0mndim\u001b[0m \u001b[0;32mand\u001b[0m \u001b[0mlen\u001b[0m\u001b[0;34m(\u001b[0m\u001b[0mself\u001b[0m\u001b[0;34m.\u001b[0m\u001b[0mmgr_locs\u001b[0m\u001b[0;34m)\u001b[0m \u001b[0;34m!=\u001b[0m \u001b[0mlen\u001b[0m\u001b[0;34m(\u001b[0m\u001b[0mself\u001b[0m\u001b[0;34m.\u001b[0m\u001b[0mvalues\u001b[0m\u001b[0;34m)\u001b[0m\u001b[0;34m:\u001b[0m\u001b[0;34m\u001b[0m\u001b[0;34m\u001b[0m\u001b[0m\n\u001b[1;32m    124\u001b[0m             raise ValueError(\n\u001b[0;32m--> 125\u001b[0;31m                 \u001b[0;34mf\"Wrong number of items passed {len(self.values)}, \"\u001b[0m\u001b[0;34m\u001b[0m\u001b[0;34m\u001b[0m\u001b[0m\n\u001b[0m\u001b[1;32m    126\u001b[0m                 \u001b[0;34mf\"placement implies {len(self.mgr_locs)}\"\u001b[0m\u001b[0;34m\u001b[0m\u001b[0;34m\u001b[0m\u001b[0m\n\u001b[1;32m    127\u001b[0m             )\n",
      "\u001b[0;31mValueError\u001b[0m: Wrong number of items passed 4, placement implies 1"
=======
      "Unique ids within output data:  [226627 227488 227489 226631]\n",
      "Unique ids within chart data:  [226531 224639 226512]\n",
      "Unique ids within chart data:  [226627 227488 227489 226631 226531 224639 226512]\n"
>>>>>>> origin/main
     ]
    }
   ],
   "source": [
<<<<<<< HEAD
    "aki   =  extract_aki_info(combined_aki)"
=======
    "combined_aki = extract_aki(dataset['out'], dataset['chart'])"
>>>>>>> origin/main
   ]
  },
  {
   "cell_type": "code",
<<<<<<< HEAD
   "execution_count": 175,
   "id": "7e715fcd",
   "metadata": {},
   "outputs": [
    {
     "data": {
      "text/plain": [
       "array([226531, 224639, 226512])"
      ]
     },
     "execution_count": 175,
     "metadata": {},
     "output_type": "execute_result"
    }
   ],
   "source": [
    "charts_aki['itemid'].unique()\n",
    "# should be 226512,  226531 , 224639"
   ]
  },
  {
   "cell_type": "code",
   "execution_count": 176,
   "id": "4f7a15d3",
   "metadata": {},
   "outputs": [
    {
     "data": {
      "text/plain": [
       "array([226627, 227488, 227489, 226631])"
      ]
     },
     "execution_count": 176,
     "metadata": {},
     "output_type": "execute_result"
    }
   ],
   "source": [
    "out_aki['itemid'].unique()"
   ]
  },
  {
   "cell_type": "code",
   "execution_count": 75,
   "id": "76ea5975",
>>>>>>> 0259719662cf49b02db6acf09e08eca21701f638
=======
   "execution_count": 34,
   "id": "a98f1a58",
>>>>>>> origin/main
   "metadata": {},
   "outputs": [
    {
     "data": {
      "text/html": [
       "<div>\n",
       "<style scoped>\n",
       "    .dataframe tbody tr th:only-of-type {\n",
       "        vertical-align: middle;\n",
       "    }\n",
       "\n",
       "    .dataframe tbody tr th {\n",
       "        vertical-align: top;\n",
       "    }\n",
       "\n",
       "    .dataframe thead th {\n",
       "        text-align: right;\n",
       "    }\n",
       "</style>\n",
       "<table border=\"1\" class=\"dataframe\">\n",
       "  <thead>\n",
       "    <tr style=\"text-align: right;\">\n",
       "      <th></th>\n",
       "      <th>stay_id</th>\n",
       "      <th>itemid</th>\n",
<<<<<<< HEAD
       "      <th>charttime</th>\n",
<<<<<<< HEAD
       "      <th>storetime</th>\n",
       "      <th>valuenum</th>\n",
       "      <th>valueuom</th>\n",
       "      <th>ref_range_lower</th>\n",
       "      <th>ref_range_upper</th>\n",
=======
       "      <th>intime</th>\n",
       "      <th>event_time_from_admit</th>\n",
       "      <th>value</th>\n",
       "      <th>start_time</th>\n",
       "      <th>los</th>\n",
       "      <th>select_time</th>\n",
>>>>>>> 0259719662cf49b02db6acf09e08eca21701f638
=======
       "      <th>start_time</th>\n",
       "      <th>value</th>\n",
>>>>>>> origin/main
       "    </tr>\n",
       "  </thead>\n",
       "  <tbody>\n",
       "    <tr>\n",
<<<<<<< HEAD
<<<<<<< HEAD
       "      <th>0</th>\n",
       "      <td>10000980</td>\n",
       "      <td>26913865.0</td>\n",
       "      <td>39765666.0</td>\n",
       "      <td>50910</td>\n",
       "      <td>2189-06-27 12:58:00</td>\n",
       "      <td>2189-06-27 14:18:00</td>\n",
       "      <td>263.00</td>\n",
       "      <td>IU/L</td>\n",
       "      <td>29.0</td>\n",
       "      <td>201.00</td>\n",
       "    </tr>\n",
       "    <tr>\n",
       "      <th>1</th>\n",
       "      <td>10000980</td>\n",
       "      <td>26913865.0</td>\n",
       "      <td>39765666.0</td>\n",
       "      <td>50911</td>\n",
       "      <td>2189-06-27 12:58:00</td>\n",
       "      <td>2189-06-27 14:18:00</td>\n",
       "      <td>9.00</td>\n",
       "      <td>ng/mL</td>\n",
       "      <td>0.0</td>\n",
       "      <td>10.00</td>\n",
       "    </tr>\n",
       "    <tr>\n",
       "      <th>2</th>\n",
       "      <td>10000980</td>\n",
       "      <td>26913865.0</td>\n",
       "      <td>39765666.0</td>\n",
       "      <td>51003</td>\n",
       "      <td>2189-06-27 12:58:00</td>\n",
       "      <td>2189-06-27 14:18:00</td>\n",
       "      <td>0.11</td>\n",
       "      <td>ng/mL</td>\n",
       "      <td>0.0</td>\n",
       "      <td>0.01</td>\n",
       "    </tr>\n",
       "    <tr>\n",
       "      <th>3</th>\n",
       "      <td>10000980</td>\n",
       "      <td>26913865.0</td>\n",
       "      <td>39765666.0</td>\n",
       "      <td>50911</td>\n",
       "      <td>2189-06-27 20:01:00</td>\n",
       "      <td>2189-06-27 21:24:00</td>\n",
       "      <td>9.00</td>\n",
       "      <td>ng/mL</td>\n",
       "      <td>0.0</td>\n",
       "      <td>10.00</td>\n",
       "    </tr>\n",
       "    <tr>\n",
       "      <th>4</th>\n",
       "      <td>10000980</td>\n",
       "      <td>26913865.0</td>\n",
       "      <td>39765666.0</td>\n",
       "      <td>51003</td>\n",
       "      <td>2189-06-27 20:01:00</td>\n",
       "      <td>2189-06-27 21:24:00</td>\n",
       "      <td>0.15</td>\n",
       "      <td>ng/mL</td>\n",
       "      <td>0.0</td>\n",
       "      <td>0.01</td>\n",
       "    </tr>\n",
       "  </tbody>\n",
       "</table>\n",
       "</div>"
      ],
      "text/plain": [
       "   subject_id     hadm_id     stay_id  itemid            charttime  \\\n",
       "0    10000980  26913865.0  39765666.0   50910  2189-06-27 12:58:00   \n",
       "1    10000980  26913865.0  39765666.0   50911  2189-06-27 12:58:00   \n",
       "2    10000980  26913865.0  39765666.0   51003  2189-06-27 12:58:00   \n",
       "3    10000980  26913865.0  39765666.0   50911  2189-06-27 20:01:00   \n",
       "4    10000980  26913865.0  39765666.0   51003  2189-06-27 20:01:00   \n",
       "\n",
       "             storetime  valuenum valueuom  ref_range_lower  ref_range_upper  \n",
       "0  2189-06-27 14:18:00    263.00     IU/L             29.0           201.00  \n",
       "1  2189-06-27 14:18:00      9.00    ng/mL              0.0            10.00  \n",
       "2  2189-06-27 14:18:00      0.11    ng/mL              0.0             0.01  \n",
       "3  2189-06-27 21:24:00      9.00    ng/mL              0.0            10.00  \n",
       "4  2189-06-27 21:24:00      0.15    ng/mL              0.0             0.01  "
      ]
     },
     "execution_count": 44,
=======
       "      <th>2861</th>\n",
       "      <td>32884462</td>\n",
       "      <td>226627</td>\n",
       "      <td>4</td>\n",
       "      <td>1100.0</td>\n",
       "    </tr>\n",
       "    <tr>\n",
       "      <th>2940</th>\n",
       "      <td>37839379</td>\n",
       "      <td>227488</td>\n",
       "      <td>14</td>\n",
       "      <td>3000.0</td>\n",
       "    </tr>\n",
       "    <tr>\n",
       "      <th>2941</th>\n",
       "      <td>37839379</td>\n",
       "      <td>227489</td>\n",
       "      <td>14</td>\n",
       "      <td>2150.0</td>\n",
       "    </tr>\n",
       "    <tr>\n",
       "      <th>2942</th>\n",
       "      <td>37839379</td>\n",
       "      <td>227488</td>\n",
       "      <td>17</td>\n",
       "      <td>3000.0</td>\n",
       "    </tr>\n",
       "    <tr>\n",
       "      <th>2943</th>\n",
       "      <td>37839379</td>\n",
       "      <td>227489</td>\n",
       "      <td>17</td>\n",
       "      <td>2800.0</td>\n",
       "    </tr>\n",
       "    <tr>\n",
       "      <th>...</th>\n",
       "      <td>...</td>\n",
       "      <td>...</td>\n",
       "      <td>...</td>\n",
       "      <td>...</td>\n",
       "    </tr>\n",
       "    <tr>\n",
       "      <th>1098120</th>\n",
       "      <td>30259797</td>\n",
       "      <td>224639</td>\n",
       "      <td>-159</td>\n",
       "      <td>100.8</td>\n",
       "    </tr>\n",
       "    <tr>\n",
       "      <th>1099341</th>\n",
       "      <td>30259797</td>\n",
       "      <td>224639</td>\n",
       "      <td>-208</td>\n",
       "      <td>96.8</td>\n",
       "    </tr>\n",
       "    <tr>\n",
       "      <th>1101295</th>\n",
       "      <td>30259797</td>\n",
       "      <td>224639</td>\n",
       "      <td>-231</td>\n",
       "      <td>96.0</td>\n",
       "    </tr>\n",
       "    <tr>\n",
       "      <th>1101418</th>\n",
       "      <td>30259797</td>\n",
       "      <td>224639</td>\n",
       "      <td>-186</td>\n",
       "      <td>98.0</td>\n",
       "    </tr>\n",
       "    <tr>\n",
       "      <th>1101745</th>\n",
       "      <td>30259797</td>\n",
       "      <td>226531</td>\n",
       "      <td>-250</td>\n",
       "      <td>211.6</td>\n",
       "    </tr>\n",
       "  </tbody>\n",
       "</table>\n",
       "<p>4011 rows × 4 columns</p>\n",
       "</div>"
      ],
      "text/plain": [
       "          stay_id  itemid  start_time   value\n",
       "2861     32884462  226627           4  1100.0\n",
       "2940     37839379  227488          14  3000.0\n",
       "2941     37839379  227489          14  2150.0\n",
       "2942     37839379  227488          17  3000.0\n",
       "2943     37839379  227489          17  2800.0\n",
       "...           ...     ...         ...     ...\n",
       "1098120  30259797  224639        -159   100.8\n",
       "1099341  30259797  224639        -208    96.8\n",
       "1101295  30259797  224639        -231    96.0\n",
       "1101418  30259797  224639        -186    98.0\n",
       "1101745  30259797  226531        -250   211.6\n",
       "\n",
       "[4011 rows x 4 columns]"
      ]
     },
     "execution_count": 34,
>>>>>>> origin/main
     "metadata": {},
     "output_type": "execute_result"
    }
   ],
   "source": [
<<<<<<< HEAD
    "test_df.head()"
=======
    "combined_aki"
   ]
  },
  {
   "cell_type": "code",
   "execution_count": 65,
   "id": "f8f092f2",
   "metadata": {},
   "outputs": [],
   "source": [
    "import pandas as pd\n",
    "\n",
    "def extract_aki_info(combined_aki):\n",
    "    \"\"\"\n",
    "    Extracts Acute Kidney Injury (AKI) information from a combined DataFrame of medical measurements.\n",
    "\n",
    "    Parameters:\n",
    "    combined_aki (pd.DataFrame): A DataFrame that contains medical data with 'stay_id', 'itemid', 'start_time', \n",
    "                                 and 'value' columns. 'itemid' identifies different measurements, such as urine \n",
    "                                 output and patient weight.\n",
    "\n",
    "    The function calculates AKI based on the following conditions:\n",
    "    - Urine output per hour per kilogram of body weight < 0.5 for at least 12 hours indicates potential AKI.\n",
    "    \n",
    "    It calculates for all `stay_id`s at once:\n",
    "    - Urine output per hour.\n",
    "    - Urine output per hour per kilogram.\n",
    "    - Flags whether the AKI volume condition is met (urine_per_hour_per_kg < 0.5).\n",
    "    - Flags whether the AKI time condition is met (interval >= 12 hours).\n",
    "    - Combines the volume and time criteria to flag AKI.\n",
    "\n",
    "    Returns:\n",
    "    pd.DataFrame: A DataFrame with the AKI-related calculations for each stay.\n",
    "    \"\"\"\n",
    "\n",
    "    df = combined_aki\n",
    "    \n",
    "    itemid_urine  = 226627 # '226631'\n",
    "    itemid_weight = 226512\n",
    "\n",
    "    # Filter for urine output and weight records\n",
    "    urine_output_df = df[df['itemid'] == itemid_urine][['stay_id', 'start_time', 'value']]\n",
    "    weight_df = df[df['itemid'] == itemid_weight][['stay_id', 'value']].drop_duplicates(subset=['stay_id'])\n",
    "\n",
    "    import pdb\n",
    "    pdb.set_trace() \n",
    "    \n",
    "    # Merge urine output with patient weight data\n",
    "    df_merged = pd.merge(urine_output_df, weight_df, on='stay_id', how='outer', suffixes=('_urine', '_weight'))\n",
    "    # df_merged = pd.merge(urine_output_df, weight_df, on='stay_id', suffixes=('_urine', '_weight'))\n",
    "\n",
    "    # Calculate time intervals (in hours) for each stay_id\n",
    "    df_merged['interval'] = df_merged.groupby('stay_id')['start_time'].diff()\n",
    "\n",
    "    # Calculate urine output per hour\n",
    "    df_merged['urine_per_hour'] = df_merged['value_urine'] / df_merged['interval']\n",
    "\n",
    "    # Calculate urine output per hour per kilogram of body weight\n",
    "    df_merged['urine_per_hour_per_kg'] = df_merged['urine_per_hour'] / df_merged['value_weight']\n",
    "\n",
    "    # AKI volume criteria: urine output < 0.5 mL/kg/h\n",
    "    df_merged[\"AKI_volume\"] = df_merged['urine_per_hour_per_kg'].apply(lambda x: 1 if x < 0.5 else 0)\n",
    "\n",
    "    # AKI time criteria: interval >= 12 hours\n",
    "    df_merged[\"AKI_time\"] = df_merged['interval'].apply(lambda x: 1 if x >= 12 else 0)\n",
    "\n",
    "    # Preliminary AKI: both conditions must be met\n",
    "    df_merged[\"AKI_preliminary\"] = df_merged[\"AKI_volume\"] + df_merged[\"AKI_time\"]\n",
    "\n",
    "    # Final AKI flag: both conditions must be satisfied (AKI_preliminary == 2)\n",
    "    df_merged['AKI'] = df_merged['AKI_preliminary'].apply(lambda x: 1 if x == 2 else 0)\n",
    "\n",
    "    # Return the AKI-related calculations\n",
    "    return df_merged\n"
   ]
  },
  {
   "cell_type": "code",
   "execution_count": 66,
   "id": "015ef244",
   "metadata": {},
   "outputs": [
    {
     "name": "stdout",
     "output_type": "stream",
     "text": [
      "> \u001b[0;32m/tmp/ipykernel_610/2668328278.py\u001b[0m(39)\u001b[0;36mextract_aki_info\u001b[0;34m()\u001b[0m\n",
      "\u001b[0;32m     37 \u001b[0;31m\u001b[0;34m\u001b[0m\u001b[0m\n",
      "\u001b[0m\u001b[0;32m     38 \u001b[0;31m    \u001b[0;31m# Merge urine output with patient weight data\u001b[0m\u001b[0;34m\u001b[0m\u001b[0;34m\u001b[0m\u001b[0;34m\u001b[0m\u001b[0m\n",
      "\u001b[0m\u001b[0;32m---> 39 \u001b[0;31m    \u001b[0mdf_merged\u001b[0m \u001b[0;34m=\u001b[0m \u001b[0mpd\u001b[0m\u001b[0;34m.\u001b[0m\u001b[0mmerge\u001b[0m\u001b[0;34m(\u001b[0m\u001b[0murine_output_df\u001b[0m\u001b[0;34m,\u001b[0m \u001b[0mweight_df\u001b[0m\u001b[0;34m,\u001b[0m \u001b[0mon\u001b[0m\u001b[0;34m=\u001b[0m\u001b[0;34m'stay_id'\u001b[0m\u001b[0;34m,\u001b[0m \u001b[0mhow\u001b[0m\u001b[0;34m=\u001b[0m\u001b[0;34m'outer'\u001b[0m\u001b[0;34m,\u001b[0m \u001b[0msuffixes\u001b[0m\u001b[0;34m=\u001b[0m\u001b[0;34m(\u001b[0m\u001b[0;34m'_urine'\u001b[0m\u001b[0;34m,\u001b[0m \u001b[0;34m'_weight'\u001b[0m\u001b[0;34m)\u001b[0m\u001b[0;34m)\u001b[0m\u001b[0;34m\u001b[0m\u001b[0;34m\u001b[0m\u001b[0m\n",
      "\u001b[0m\u001b[0;32m     40 \u001b[0;31m    \u001b[0;31m# df_merged = pd.merge(urine_output_df, weight_df, on='stay_id', suffixes=('_urine', '_weight'))\u001b[0m\u001b[0;34m\u001b[0m\u001b[0;34m\u001b[0m\u001b[0;34m\u001b[0m\u001b[0m\n",
      "\u001b[0m\u001b[0;32m     41 \u001b[0;31m\u001b[0;34m\u001b[0m\u001b[0m\n",
      "\u001b[0m\n",
      "ipdb> n\n",
      "> \u001b[0;32m/tmp/ipykernel_610/2668328278.py\u001b[0m(43)\u001b[0;36mextract_aki_info\u001b[0;34m()\u001b[0m\n",
      "\u001b[0;32m     41 \u001b[0;31m\u001b[0;34m\u001b[0m\u001b[0m\n",
      "\u001b[0m\u001b[0;32m     42 \u001b[0;31m    \u001b[0;31m# Calculate time intervals (in hours) for each stay_id\u001b[0m\u001b[0;34m\u001b[0m\u001b[0;34m\u001b[0m\u001b[0;34m\u001b[0m\u001b[0m\n",
      "\u001b[0m\u001b[0;32m---> 43 \u001b[0;31m    \u001b[0mdf_merged\u001b[0m\u001b[0;34m[\u001b[0m\u001b[0;34m'interval'\u001b[0m\u001b[0;34m]\u001b[0m \u001b[0;34m=\u001b[0m \u001b[0mdf_merged\u001b[0m\u001b[0;34m.\u001b[0m\u001b[0mgroupby\u001b[0m\u001b[0;34m(\u001b[0m\u001b[0;34m'stay_id'\u001b[0m\u001b[0;34m)\u001b[0m\u001b[0;34m[\u001b[0m\u001b[0;34m'start_time'\u001b[0m\u001b[0;34m]\u001b[0m\u001b[0;34m.\u001b[0m\u001b[0mdiff\u001b[0m\u001b[0;34m(\u001b[0m\u001b[0;34m)\u001b[0m\u001b[0;34m\u001b[0m\u001b[0;34m\u001b[0m\u001b[0m\n",
      "\u001b[0m\u001b[0;32m     44 \u001b[0;31m\u001b[0;34m\u001b[0m\u001b[0m\n",
      "\u001b[0m\u001b[0;32m     45 \u001b[0;31m    \u001b[0;31m# Calculate urine output per hour\u001b[0m\u001b[0;34m\u001b[0m\u001b[0;34m\u001b[0m\u001b[0;34m\u001b[0m\u001b[0m\n",
      "\u001b[0m\n",
      "ipdb> df_merged\n",
      "     stay_id  start_time  value_urine  value_weight\n",
      "0   32884462         4.0       1100.0           NaN\n",
      "1   36982036         2.0         60.0           NaN\n",
      "2   39190238         5.0          0.0           NaN\n",
      "3   37550329         2.0        120.0           NaN\n",
      "4   30944277         5.0        400.0           NaN\n",
      "5   35343378        49.0        120.0           NaN\n",
      "6   36487701         0.0        500.0           NaN\n",
      "7   36487701         1.0          0.0           NaN\n",
      "8   35840735        25.0        325.0           NaN\n",
      "9   37086676         NaN          NaN          88.3\n",
      "10  33684656         NaN          NaN          82.0\n",
      "11  31251751         NaN          NaN          68.0\n",
      "12  34137939         NaN          NaN         124.3\n",
      "13  37160254         NaN          NaN          63.4\n",
      "14  32447844         NaN          NaN          52.4\n",
      "15  36823127         NaN          NaN          84.0\n",
      "16  36100062         NaN          NaN          70.0\n",
      "17  31945149         NaN          NaN          59.0\n",
      "18  32682124         NaN          NaN         103.9\n",
      "ipdb> exit\n"
     ]
    },
    {
     "ename": "BdbQuit",
     "evalue": "",
     "output_type": "error",
     "traceback": [
      "\u001b[0;31m---------------------------------------------------------------------------\u001b[0m",
      "\u001b[0;31mBdbQuit\u001b[0m                                   Traceback (most recent call last)",
      "\u001b[0;32m/tmp/ipykernel_610/3073416776.py\u001b[0m in \u001b[0;36m<module>\u001b[0;34m\u001b[0m\n\u001b[0;32m----> 1\u001b[0;31m \u001b[0maki\u001b[0m   \u001b[0;34m=\u001b[0m  \u001b[0mextract_aki_info\u001b[0m\u001b[0;34m(\u001b[0m\u001b[0mcombined_aki\u001b[0m\u001b[0;34m)\u001b[0m\u001b[0;34m\u001b[0m\u001b[0;34m\u001b[0m\u001b[0m\n\u001b[0m",
      "\u001b[0;32m/tmp/ipykernel_610/2668328278.py\u001b[0m in \u001b[0;36mextract_aki_info\u001b[0;34m(combined_aki)\u001b[0m\n\u001b[1;32m     41\u001b[0m \u001b[0;34m\u001b[0m\u001b[0m\n\u001b[1;32m     42\u001b[0m     \u001b[0;31m# Calculate time intervals (in hours) for each stay_id\u001b[0m\u001b[0;34m\u001b[0m\u001b[0;34m\u001b[0m\u001b[0;34m\u001b[0m\u001b[0m\n\u001b[0;32m---> 43\u001b[0;31m     \u001b[0mdf_merged\u001b[0m\u001b[0;34m[\u001b[0m\u001b[0;34m'interval'\u001b[0m\u001b[0;34m]\u001b[0m \u001b[0;34m=\u001b[0m \u001b[0mdf_merged\u001b[0m\u001b[0;34m.\u001b[0m\u001b[0mgroupby\u001b[0m\u001b[0;34m(\u001b[0m\u001b[0;34m'stay_id'\u001b[0m\u001b[0;34m)\u001b[0m\u001b[0;34m[\u001b[0m\u001b[0;34m'start_time'\u001b[0m\u001b[0;34m]\u001b[0m\u001b[0;34m.\u001b[0m\u001b[0mdiff\u001b[0m\u001b[0;34m(\u001b[0m\u001b[0;34m)\u001b[0m\u001b[0;34m\u001b[0m\u001b[0;34m\u001b[0m\u001b[0m\n\u001b[0m\u001b[1;32m     44\u001b[0m \u001b[0;34m\u001b[0m\u001b[0m\n\u001b[1;32m     45\u001b[0m     \u001b[0;31m# Calculate urine output per hour\u001b[0m\u001b[0;34m\u001b[0m\u001b[0;34m\u001b[0m\u001b[0;34m\u001b[0m\u001b[0m\n",
      "\u001b[0;32m/tmp/ipykernel_610/2668328278.py\u001b[0m in \u001b[0;36mextract_aki_info\u001b[0;34m(combined_aki)\u001b[0m\n\u001b[1;32m     41\u001b[0m \u001b[0;34m\u001b[0m\u001b[0m\n\u001b[1;32m     42\u001b[0m     \u001b[0;31m# Calculate time intervals (in hours) for each stay_id\u001b[0m\u001b[0;34m\u001b[0m\u001b[0;34m\u001b[0m\u001b[0;34m\u001b[0m\u001b[0m\n\u001b[0;32m---> 43\u001b[0;31m     \u001b[0mdf_merged\u001b[0m\u001b[0;34m[\u001b[0m\u001b[0;34m'interval'\u001b[0m\u001b[0;34m]\u001b[0m \u001b[0;34m=\u001b[0m \u001b[0mdf_merged\u001b[0m\u001b[0;34m.\u001b[0m\u001b[0mgroupby\u001b[0m\u001b[0;34m(\u001b[0m\u001b[0;34m'stay_id'\u001b[0m\u001b[0;34m)\u001b[0m\u001b[0;34m[\u001b[0m\u001b[0;34m'start_time'\u001b[0m\u001b[0;34m]\u001b[0m\u001b[0;34m.\u001b[0m\u001b[0mdiff\u001b[0m\u001b[0;34m(\u001b[0m\u001b[0;34m)\u001b[0m\u001b[0;34m\u001b[0m\u001b[0;34m\u001b[0m\u001b[0m\n\u001b[0m\u001b[1;32m     44\u001b[0m \u001b[0;34m\u001b[0m\u001b[0m\n\u001b[1;32m     45\u001b[0m     \u001b[0;31m# Calculate urine output per hour\u001b[0m\u001b[0;34m\u001b[0m\u001b[0;34m\u001b[0m\u001b[0;34m\u001b[0m\u001b[0m\n",
      "\u001b[0;32m~/miniconda3/envs/mimic_prep_env/lib/python3.7/bdb.py\u001b[0m in \u001b[0;36mtrace_dispatch\u001b[0;34m(self, frame, event, arg)\u001b[0m\n\u001b[1;32m     86\u001b[0m             \u001b[0;32mreturn\u001b[0m \u001b[0;31m# None\u001b[0m\u001b[0;34m\u001b[0m\u001b[0;34m\u001b[0m\u001b[0m\n\u001b[1;32m     87\u001b[0m         \u001b[0;32mif\u001b[0m \u001b[0mevent\u001b[0m \u001b[0;34m==\u001b[0m \u001b[0;34m'line'\u001b[0m\u001b[0;34m:\u001b[0m\u001b[0;34m\u001b[0m\u001b[0;34m\u001b[0m\u001b[0m\n\u001b[0;32m---> 88\u001b[0;31m             \u001b[0;32mreturn\u001b[0m \u001b[0mself\u001b[0m\u001b[0;34m.\u001b[0m\u001b[0mdispatch_line\u001b[0m\u001b[0;34m(\u001b[0m\u001b[0mframe\u001b[0m\u001b[0;34m)\u001b[0m\u001b[0;34m\u001b[0m\u001b[0;34m\u001b[0m\u001b[0m\n\u001b[0m\u001b[1;32m     89\u001b[0m         \u001b[0;32mif\u001b[0m \u001b[0mevent\u001b[0m \u001b[0;34m==\u001b[0m \u001b[0;34m'call'\u001b[0m\u001b[0;34m:\u001b[0m\u001b[0;34m\u001b[0m\u001b[0;34m\u001b[0m\u001b[0m\n\u001b[1;32m     90\u001b[0m             \u001b[0;32mreturn\u001b[0m \u001b[0mself\u001b[0m\u001b[0;34m.\u001b[0m\u001b[0mdispatch_call\u001b[0m\u001b[0;34m(\u001b[0m\u001b[0mframe\u001b[0m\u001b[0;34m,\u001b[0m \u001b[0marg\u001b[0m\u001b[0;34m)\u001b[0m\u001b[0;34m\u001b[0m\u001b[0;34m\u001b[0m\u001b[0m\n",
      "\u001b[0;32m~/miniconda3/envs/mimic_prep_env/lib/python3.7/bdb.py\u001b[0m in \u001b[0;36mdispatch_line\u001b[0;34m(self, frame)\u001b[0m\n\u001b[1;32m    111\u001b[0m         \u001b[0;32mif\u001b[0m \u001b[0mself\u001b[0m\u001b[0;34m.\u001b[0m\u001b[0mstop_here\u001b[0m\u001b[0;34m(\u001b[0m\u001b[0mframe\u001b[0m\u001b[0;34m)\u001b[0m \u001b[0;32mor\u001b[0m \u001b[0mself\u001b[0m\u001b[0;34m.\u001b[0m\u001b[0mbreak_here\u001b[0m\u001b[0;34m(\u001b[0m\u001b[0mframe\u001b[0m\u001b[0;34m)\u001b[0m\u001b[0;34m:\u001b[0m\u001b[0;34m\u001b[0m\u001b[0;34m\u001b[0m\u001b[0m\n\u001b[1;32m    112\u001b[0m             \u001b[0mself\u001b[0m\u001b[0;34m.\u001b[0m\u001b[0muser_line\u001b[0m\u001b[0;34m(\u001b[0m\u001b[0mframe\u001b[0m\u001b[0;34m)\u001b[0m\u001b[0;34m\u001b[0m\u001b[0;34m\u001b[0m\u001b[0m\n\u001b[0;32m--> 113\u001b[0;31m             \u001b[0;32mif\u001b[0m \u001b[0mself\u001b[0m\u001b[0;34m.\u001b[0m\u001b[0mquitting\u001b[0m\u001b[0;34m:\u001b[0m \u001b[0;32mraise\u001b[0m \u001b[0mBdbQuit\u001b[0m\u001b[0;34m\u001b[0m\u001b[0;34m\u001b[0m\u001b[0m\n\u001b[0m\u001b[1;32m    114\u001b[0m         \u001b[0;32mreturn\u001b[0m \u001b[0mself\u001b[0m\u001b[0;34m.\u001b[0m\u001b[0mtrace_dispatch\u001b[0m\u001b[0;34m\u001b[0m\u001b[0;34m\u001b[0m\u001b[0m\n\u001b[1;32m    115\u001b[0m \u001b[0;34m\u001b[0m\u001b[0m\n",
      "\u001b[0;31mBdbQuit\u001b[0m: "
     ]
    }
   ],
   "source": [
    "aki   =  extract_aki_info(combined_aki)"
   ]
  },
  {
   "cell_type": "markdown",
   "id": "82504018",
   "metadata": {},
   "source": [
    "## Visualize the dynamic data\n",
    "Now, since we processed the data into a temporal format, we can now visualize the resulting tables"
>>>>>>> origin/main
   ]
  },
  {
   "cell_type": "code",
<<<<<<< HEAD
   "execution_count": 65,
   "id": "76ea5975",
   "metadata": {},
   "outputs": [
    {
     "name": "stderr",
     "output_type": "stream",
     "text": [
      "[autoreload of data_generation_icu failed: Traceback (most recent call last):\n",
      "  File \"/ictstr01/home/icb/benjamin.weinert/micromamba/envs/mimic_prep/lib/python3.10/site-packages/IPython/extensions/autoreload.py\", line 276, in check\n",
      "    superreload(m, reload, self.old_objects)\n",
      "  File \"/ictstr01/home/icb/benjamin.weinert/micromamba/envs/mimic_prep/lib/python3.10/site-packages/IPython/extensions/autoreload.py\", line 475, in superreload\n",
      "    module = reload(module)\n",
      "  File \"/ictstr01/home/icb/benjamin.weinert/micromamba/envs/mimic_prep/lib/python3.10/importlib/__init__.py\", line 169, in reload\n",
      "    _bootstrap._exec(spec, module)\n",
      "  File \"<frozen importlib._bootstrap>\", line 619, in _exec\n",
      "  File \"<frozen importlib._bootstrap_external>\", line 879, in exec_module\n",
      "  File \"<frozen importlib._bootstrap_external>\", line 1017, in get_code\n",
      "  File \"<frozen importlib._bootstrap_external>\", line 947, in source_to_code\n",
      "  File \"<frozen importlib._bootstrap>\", line 241, in _call_with_frames_removed\n",
      "  File \"/ictstr01/groups/itg/shared/notebooks/benjamin.weinert/git_repos/MIMIC-IV-Data-Pipeline/model/data_generation_icu.py\", line 442\n",
      "    if(self.feat_lab):\n",
      "                      ^\n",
      "IndentationError: unindent does not match any outer indentation level\n",
      "]\n"
     ]
    },
    {
     "data": {
      "text/html": [
       "<div>\n",
       "<style scoped>\n",
       "    .dataframe tbody tr th:only-of-type {\n",
       "        vertical-align: middle;\n",
       "    }\n",
       "\n",
       "    .dataframe tbody tr th {\n",
       "        vertical-align: top;\n",
       "    }\n",
       "\n",
       "    .dataframe thead th {\n",
       "        text-align: right;\n",
       "    }\n",
       "</style>\n",
       "<table border=\"1\" class=\"dataframe\">\n",
       "  <thead>\n",
       "    <tr style=\"text-align: right;\">\n",
       "      <th></th>\n",
       "      <th>subject_id</th>\n",
       "      <th>hadm_id</th>\n",
       "      <th>stay_id</th>\n",
       "      <th>chartdate</th>\n",
       "      <th>charttime</th>\n",
       "      <th>spec_itemid</th>\n",
       "      <th>storedate</th>\n",
       "      <th>storetime</th>\n",
       "      <th>test_itemid</th>\n",
       "      <th>start_hours_from_admit</th>\n",
       "      <th>stop_hours_from_admit</th>\n",
       "      <th>start_time</th>\n",
       "      <th>stop_time</th>\n",
       "    </tr>\n",
       "  </thead>\n",
       "  <tbody>\n",
       "    <tr>\n",
       "      <th>0</th>\n",
       "      <td>10000980</td>\n",
       "      <td>26913865.0</td>\n",
       "      <td>39765666.0</td>\n",
       "      <td>2189-06-27 00:00:00</td>\n",
       "      <td>2189-06-27 10:52:00</td>\n",
       "      <td>70091</td>\n",
       "      <td>2189-06-29 00:00:00</td>\n",
       "      <td>2189-06-29 10:45:00</td>\n",
       "      <td>90189</td>\n",
       "      <td>0 days 02:10:00</td>\n",
       "      <td>2 days 02:03:00</td>\n",
       "      <td>2</td>\n",
       "      <td>11.0</td>\n",
       "    </tr>\n",
       "    <tr>\n",
       "      <th>1</th>\n",
       "      <td>10002155</td>\n",
       "      <td>23822395.0</td>\n",
       "      <td>33685454.0</td>\n",
       "      <td>2129-08-04 00:00:00</td>\n",
       "      <td>2129-08-04 17:04:00</td>\n",
       "      <td>70091</td>\n",
       "      <td>2129-08-07 00:00:00</td>\n",
       "      <td>2129-08-07 09:21:00</td>\n",
       "      <td>90189</td>\n",
       "      <td>0 days 04:19:00</td>\n",
       "      <td>2 days 20:36:00</td>\n",
       "      <td>4</td>\n",
       "      <td>68.0</td>\n",
       "    </tr>\n",
       "    <tr>\n",
       "      <th>2</th>\n",
       "      <td>10002155</td>\n",
       "      <td>23822395.0</td>\n",
       "      <td>33685454.0</td>\n",
       "      <td>2129-08-05 00:00:00</td>\n",
       "      <td>2129-08-05 15:54:00</td>\n",
       "      <td>70081</td>\n",
       "      <td>2129-08-06 00:00:00</td>\n",
       "      <td>2129-08-06 04:23:00</td>\n",
       "      <td>90128</td>\n",
       "      <td>1 days 03:09:00</td>\n",
       "      <td>1 days 15:38:00</td>\n",
       "      <td>27</td>\n",
       "      <td>39.0</td>\n",
       "    </tr>\n",
       "    <tr>\n",
       "      <th>3</th>\n",
       "      <td>10002155</td>\n",
       "      <td>23822395.0</td>\n",
       "      <td>33685454.0</td>\n",
       "      <td>2129-08-05 00:00:00</td>\n",
       "      <td>2129-08-05 18:43:00</td>\n",
       "      <td>70062</td>\n",
       "      <td>2129-08-06 00:00:00</td>\n",
       "      <td>2129-08-06 13:28:00</td>\n",
       "      <td>90270</td>\n",
       "      <td>1 days 05:58:00</td>\n",
       "      <td>2 days 00:43:00</td>\n",
       "      <td>29</td>\n",
       "      <td>48.0</td>\n",
       "    </tr>\n",
       "    <tr>\n",
       "      <th>4</th>\n",
       "      <td>10002155</td>\n",
       "      <td>23822395.0</td>\n",
       "      <td>33685454.0</td>\n",
       "      <td>2129-08-05 00:00:00</td>\n",
       "      <td>2129-08-05 18:43:00</td>\n",
       "      <td>70062</td>\n",
       "      <td>2129-08-06 00:00:00</td>\n",
       "      <td>2129-08-06 13:28:00</td>\n",
       "      <td>90055</td>\n",
       "      <td>1 days 05:58:00</td>\n",
       "      <td>2 days 00:43:00</td>\n",
       "      <td>29</td>\n",
       "      <td>48.0</td>\n",
=======
       "      <th>2940</th>\n",
       "      <td>10386562</td>\n",
       "      <td>22701838</td>\n",
       "      <td>37839379</td>\n",
       "      <td>227488</td>\n",
       "      <td>2169-06-12 07:00:00</td>\n",
       "      <td>2169-06-11 03:21:49</td>\n",
       "      <td>1 days 03:38:11.000000000</td>\n",
       "      <td>3000.0</td>\n",
       "      <td>14</td>\n",
       "      <td>85</td>\n",
       "      <td>13</td>\n",
       "    </tr>\n",
       "    <tr>\n",
       "      <th>2941</th>\n",
       "      <td>10386562</td>\n",
       "      <td>22701838</td>\n",
       "      <td>37839379</td>\n",
       "      <td>227489</td>\n",
       "      <td>2169-06-12 07:00:00</td>\n",
       "      <td>2169-06-11 03:21:49</td>\n",
       "      <td>1 days 03:38:11.000000000</td>\n",
       "      <td>2150.0</td>\n",
       "      <td>14</td>\n",
       "      <td>85</td>\n",
       "      <td>13</td>\n",
       "    </tr>\n",
       "    <tr>\n",
       "      <th>2942</th>\n",
       "      <td>10386562</td>\n",
       "      <td>22701838</td>\n",
       "      <td>37839379</td>\n",
       "      <td>227488</td>\n",
       "      <td>2169-06-12 10:00:00</td>\n",
       "      <td>2169-06-11 03:21:49</td>\n",
       "      <td>1 days 06:38:11.000000000</td>\n",
       "      <td>3000.0</td>\n",
       "      <td>17</td>\n",
       "      <td>85</td>\n",
       "      <td>13</td>\n",
       "    </tr>\n",
       "    <tr>\n",
       "      <th>2943</th>\n",
       "      <td>10386562</td>\n",
       "      <td>22701838</td>\n",
       "      <td>37839379</td>\n",
       "      <td>227489</td>\n",
       "      <td>2169-06-12 10:00:00</td>\n",
       "      <td>2169-06-11 03:21:49</td>\n",
       "      <td>1 days 06:38:11.000000000</td>\n",
       "      <td>2800.0</td>\n",
       "      <td>17</td>\n",
       "      <td>85</td>\n",
       "      <td>13</td>\n",
       "    </tr>\n",
       "    <tr>\n",
       "      <th>2944</th>\n",
       "      <td>10386562</td>\n",
       "      <td>22701838</td>\n",
       "      <td>37839379</td>\n",
       "      <td>227489</td>\n",
       "      <td>2169-06-12 11:00:00</td>\n",
       "      <td>2169-06-11 03:21:49</td>\n",
       "      <td>1 days 07:38:11.000000000</td>\n",
       "      <td>2800.0</td>\n",
       "      <td>18</td>\n",
       "      <td>85</td>\n",
       "      <td>13</td>\n",
>>>>>>> 0259719662cf49b02db6acf09e08eca21701f638
       "    </tr>\n",
       "    <tr>\n",
       "      <th>...</th>\n",
       "      <td>...</td>\n",
       "      <td>...</td>\n",
       "      <td>...</td>\n",
       "      <td>...</td>\n",
       "      <td>...</td>\n",
       "      <td>...</td>\n",
       "      <td>...</td>\n",
       "      <td>...</td>\n",
       "      <td>...</td>\n",
       "      <td>...</td>\n",
       "      <td>...</td>\n",
<<<<<<< HEAD
       "      <td>...</td>\n",
       "      <td>...</td>\n",
       "    </tr>\n",
       "    <tr>\n",
       "      <th>249964</th>\n",
       "      <td>19999625</td>\n",
       "      <td>25304202.0</td>\n",
       "      <td>31070865.0</td>\n",
       "      <td>2139-10-10 00:00:00</td>\n",
       "      <td>2139-10-10 23:25:00</td>\n",
       "      <td>70091</td>\n",
       "      <td>2139-10-12 00:00:00</td>\n",
       "      <td>2139-10-12 12:11:00</td>\n",
       "      <td>90189</td>\n",
       "      <td>0 days 04:07:00</td>\n",
       "      <td>1 days 16:53:00</td>\n",
       "      <td>4</td>\n",
       "      <td>23.0</td>\n",
       "    </tr>\n",
       "    <tr>\n",
       "      <th>249965</th>\n",
       "      <td>19999625</td>\n",
       "      <td>25304202.0</td>\n",
       "      <td>31070865.0</td>\n",
       "      <td>2139-10-11 00:00:00</td>\n",
       "      <td>2139-10-11 07:29:00</td>\n",
       "      <td>70042</td>\n",
       "      <td>2139-10-11 00:00:00</td>\n",
       "      <td>2139-10-11 11:59:00</td>\n",
       "      <td>90156</td>\n",
       "      <td>0 days 12:11:00</td>\n",
       "      <td>0 days 16:41:00</td>\n",
       "      <td>12</td>\n",
       "      <td>16.0</td>\n",
       "    </tr>\n",
       "    <tr>\n",
       "      <th>249966</th>\n",
       "      <td>19999625</td>\n",
       "      <td>25304202.0</td>\n",
       "      <td>31070865.0</td>\n",
       "      <td>2139-10-11 00:00:00</td>\n",
       "      <td>2139-10-11 07:29:00</td>\n",
       "      <td>70042</td>\n",
       "      <td>2139-10-11 00:00:00</td>\n",
       "      <td>2139-10-11 11:59:00</td>\n",
       "      <td>90168</td>\n",
       "      <td>0 days 12:11:00</td>\n",
       "      <td>0 days 16:41:00</td>\n",
       "      <td>12</td>\n",
       "      <td>16.0</td>\n",
       "    </tr>\n",
       "    <tr>\n",
       "      <th>249967</th>\n",
       "      <td>19999625</td>\n",
       "      <td>25304202.0</td>\n",
       "      <td>31070865.0</td>\n",
       "      <td>2139-10-11 00:00:00</td>\n",
       "      <td>2139-10-11 07:50:00</td>\n",
       "      <td>70062</td>\n",
       "      <td>2139-10-13 00:00:00</td>\n",
       "      <td>2139-10-13 10:59:00</td>\n",
       "      <td>90055</td>\n",
       "      <td>0 days 12:32:00</td>\n",
       "      <td>2 days 15:41:00</td>\n",
       "      <td>12</td>\n",
       "      <td>23.0</td>\n",
       "    </tr>\n",
       "    <tr>\n",
       "      <th>249968</th>\n",
       "      <td>19999625</td>\n",
       "      <td>25304202.0</td>\n",
       "      <td>31070865.0</td>\n",
       "      <td>2139-10-11 00:00:00</td>\n",
       "      <td>2139-10-11 07:50:00</td>\n",
       "      <td>70062</td>\n",
       "      <td>2139-10-11 00:00:00</td>\n",
       "      <td>2139-10-11 10:29:00</td>\n",
       "      <td>90270</td>\n",
       "      <td>0 days 12:32:00</td>\n",
       "      <td>0 days 15:11:00</td>\n",
       "      <td>12</td>\n",
       "      <td>15.0</td>\n",
       "    </tr>\n",
       "  </tbody>\n",
       "</table>\n",
       "<p>163553 rows × 13 columns</p>\n",
       "</div>"
      ],
      "text/plain": [
       "        subject_id     hadm_id     stay_id            chartdate  \\\n",
       "0         10000980  26913865.0  39765666.0  2189-06-27 00:00:00   \n",
       "1         10002155  23822395.0  33685454.0  2129-08-04 00:00:00   \n",
       "2         10002155  23822395.0  33685454.0  2129-08-05 00:00:00   \n",
       "3         10002155  23822395.0  33685454.0  2129-08-05 00:00:00   \n",
       "4         10002155  23822395.0  33685454.0  2129-08-05 00:00:00   \n",
       "...            ...         ...         ...                  ...   \n",
       "249964    19999625  25304202.0  31070865.0  2139-10-10 00:00:00   \n",
       "249965    19999625  25304202.0  31070865.0  2139-10-11 00:00:00   \n",
       "249966    19999625  25304202.0  31070865.0  2139-10-11 00:00:00   \n",
       "249967    19999625  25304202.0  31070865.0  2139-10-11 00:00:00   \n",
       "249968    19999625  25304202.0  31070865.0  2139-10-11 00:00:00   \n",
       "\n",
       "                  charttime  spec_itemid            storedate  \\\n",
       "0       2189-06-27 10:52:00        70091  2189-06-29 00:00:00   \n",
       "1       2129-08-04 17:04:00        70091  2129-08-07 00:00:00   \n",
       "2       2129-08-05 15:54:00        70081  2129-08-06 00:00:00   \n",
       "3       2129-08-05 18:43:00        70062  2129-08-06 00:00:00   \n",
       "4       2129-08-05 18:43:00        70062  2129-08-06 00:00:00   \n",
       "...                     ...          ...                  ...   \n",
       "249964  2139-10-10 23:25:00        70091  2139-10-12 00:00:00   \n",
       "249965  2139-10-11 07:29:00        70042  2139-10-11 00:00:00   \n",
       "249966  2139-10-11 07:29:00        70042  2139-10-11 00:00:00   \n",
       "249967  2139-10-11 07:50:00        70062  2139-10-13 00:00:00   \n",
       "249968  2139-10-11 07:50:00        70062  2139-10-11 00:00:00   \n",
       "\n",
       "                  storetime  test_itemid start_hours_from_admit  \\\n",
       "0       2189-06-29 10:45:00        90189        0 days 02:10:00   \n",
       "1       2129-08-07 09:21:00        90189        0 days 04:19:00   \n",
       "2       2129-08-06 04:23:00        90128        1 days 03:09:00   \n",
       "3       2129-08-06 13:28:00        90270        1 days 05:58:00   \n",
       "4       2129-08-06 13:28:00        90055        1 days 05:58:00   \n",
       "...                     ...          ...                    ...   \n",
       "249964  2139-10-12 12:11:00        90189        0 days 04:07:00   \n",
       "249965  2139-10-11 11:59:00        90156        0 days 12:11:00   \n",
       "249966  2139-10-11 11:59:00        90168        0 days 12:11:00   \n",
       "249967  2139-10-13 10:59:00        90055        0 days 12:32:00   \n",
       "249968  2139-10-11 10:29:00        90270        0 days 12:32:00   \n",
       "\n",
       "       stop_hours_from_admit  start_time  stop_time  \n",
       "0            2 days 02:03:00           2       11.0  \n",
       "1            2 days 20:36:00           4       68.0  \n",
       "2            1 days 15:38:00          27       39.0  \n",
       "3            2 days 00:43:00          29       48.0  \n",
       "4            2 days 00:43:00          29       48.0  \n",
       "...                      ...         ...        ...  \n",
       "249964       1 days 16:53:00           4       23.0  \n",
       "249965       0 days 16:41:00          12       16.0  \n",
       "249966       0 days 16:41:00          12       16.0  \n",
       "249967       2 days 15:41:00          12       23.0  \n",
       "249968       0 days 15:11:00          12       15.0  \n",
       "\n",
       "[163553 rows x 13 columns]"
      ]
     },
     "execution_count": 65,
=======
       "    </tr>\n",
       "    <tr>\n",
       "      <th>14384</th>\n",
       "      <td>14726210</td>\n",
       "      <td>26394092</td>\n",
       "      <td>37161074</td>\n",
       "      <td>227489</td>\n",
       "      <td>2166-09-13 06:00:00</td>\n",
       "      <td>2166-08-26 18:21:00</td>\n",
       "      <td>17 days 11:39:00.000000000</td>\n",
       "      <td>150.0</td>\n",
       "      <td>58</td>\n",
       "      <td>433</td>\n",
       "      <td>361</td>\n",
       "    </tr>\n",
       "    <tr>\n",
       "      <th>14401</th>\n",
       "      <td>14726210</td>\n",
       "      <td>26394092</td>\n",
       "      <td>37161074</td>\n",
       "      <td>227488</td>\n",
       "      <td>2166-09-12 05:25:00</td>\n",
       "      <td>2166-08-26 18:21:00</td>\n",
       "      <td>16 days 11:04:00.000000000</td>\n",
       "      <td>600.0</td>\n",
       "      <td>34</td>\n",
       "      <td>433</td>\n",
       "      <td>361</td>\n",
       "    </tr>\n",
       "    <tr>\n",
       "      <th>14402</th>\n",
       "      <td>14726210</td>\n",
       "      <td>26394092</td>\n",
       "      <td>37161074</td>\n",
       "      <td>227489</td>\n",
       "      <td>2166-09-12 05:25:00</td>\n",
       "      <td>2166-08-26 18:21:00</td>\n",
       "      <td>16 days 11:04:00.000000000</td>\n",
       "      <td>420.0</td>\n",
       "      <td>34</td>\n",
       "      <td>433</td>\n",
       "      <td>361</td>\n",
       "    </tr>\n",
       "    <tr>\n",
       "      <th>14403</th>\n",
       "      <td>14726210</td>\n",
       "      <td>26394092</td>\n",
       "      <td>37161074</td>\n",
       "      <td>227488</td>\n",
       "      <td>2166-09-12 06:39:00</td>\n",
       "      <td>2166-08-26 18:21:00</td>\n",
       "      <td>16 days 12:18:00.000000000</td>\n",
       "      <td>300.0</td>\n",
       "      <td>35</td>\n",
       "      <td>433</td>\n",
       "      <td>361</td>\n",
       "    </tr>\n",
       "    <tr>\n",
       "      <th>14404</th>\n",
       "      <td>14726210</td>\n",
       "      <td>26394092</td>\n",
       "      <td>37161074</td>\n",
       "      <td>227489</td>\n",
       "      <td>2166-09-12 06:39:00</td>\n",
       "      <td>2166-08-26 18:21:00</td>\n",
       "      <td>16 days 12:18:00.000000000</td>\n",
       "      <td>400.0</td>\n",
       "      <td>35</td>\n",
       "      <td>433</td>\n",
       "      <td>361</td>\n",
       "    </tr>\n",
       "  </tbody>\n",
       "</table>\n",
       "<p>85 rows × 11 columns</p>\n",
       "</div>"
      ],
      "text/plain": [
       "       subject_id   hadm_id   stay_id  itemid            charttime  \\\n",
       "2940     10386562  22701838  37839379  227488  2169-06-12 07:00:00   \n",
       "2941     10386562  22701838  37839379  227489  2169-06-12 07:00:00   \n",
       "2942     10386562  22701838  37839379  227488  2169-06-12 10:00:00   \n",
       "2943     10386562  22701838  37839379  227489  2169-06-12 10:00:00   \n",
       "2944     10386562  22701838  37839379  227489  2169-06-12 11:00:00   \n",
       "...           ...       ...       ...     ...                  ...   \n",
       "14384    14726210  26394092  37161074  227489  2166-09-13 06:00:00   \n",
       "14401    14726210  26394092  37161074  227488  2166-09-12 05:25:00   \n",
       "14402    14726210  26394092  37161074  227489  2166-09-12 05:25:00   \n",
       "14403    14726210  26394092  37161074  227488  2166-09-12 06:39:00   \n",
       "14404    14726210  26394092  37161074  227489  2166-09-12 06:39:00   \n",
       "\n",
       "                    intime       event_time_from_admit   value  start_time  \\\n",
       "2940   2169-06-11 03:21:49   1 days 03:38:11.000000000  3000.0          14   \n",
       "2941   2169-06-11 03:21:49   1 days 03:38:11.000000000  2150.0          14   \n",
       "2942   2169-06-11 03:21:49   1 days 06:38:11.000000000  3000.0          17   \n",
       "2943   2169-06-11 03:21:49   1 days 06:38:11.000000000  2800.0          17   \n",
       "2944   2169-06-11 03:21:49   1 days 07:38:11.000000000  2800.0          18   \n",
       "...                    ...                         ...     ...         ...   \n",
       "14384  2166-08-26 18:21:00  17 days 11:39:00.000000000   150.0          58   \n",
       "14401  2166-08-26 18:21:00  16 days 11:04:00.000000000   600.0          34   \n",
       "14402  2166-08-26 18:21:00  16 days 11:04:00.000000000   420.0          34   \n",
       "14403  2166-08-26 18:21:00  16 days 12:18:00.000000000   300.0          35   \n",
       "14404  2166-08-26 18:21:00  16 days 12:18:00.000000000   400.0          35   \n",
       "\n",
       "       los  select_time  \n",
       "2940    85           13  \n",
       "2941    85           13  \n",
       "2942    85           13  \n",
       "2943    85           13  \n",
       "2944    85           13  \n",
       "...    ...          ...  \n",
       "14384  433          361  \n",
       "14401  433          361  \n",
       "14402  433          361  \n",
       "14403  433          361  \n",
       "14404  433          361  \n",
       "\n",
       "[85 rows x 11 columns]"
      ]
     },
     "execution_count": 75,
>>>>>>> 0259719662cf49b02db6acf09e08eca21701f638
     "metadata": {},
     "output_type": "execute_result"
    }
   ],
   "source": [
<<<<<<< HEAD
    "# now we can look at individual tables\n",
    "dataset['micro']"
=======
    "out_aki"
>>>>>>> 0259719662cf49b02db6acf09e08eca21701f638
   ]
  },
  {
   "cell_type": "markdown",
   "id": "82504018",
   "metadata": {},
   "source": [
    "## Visualize the dynamic data\n",
    "Now, since we processed the data into a temporal format, we can now visualize the resulting tables"
   ]
  },
  {
   "cell_type": "code",
   "execution_count": 192,
   "id": "486e78a8",
   "metadata": {},
   "outputs": [
    {
     "name": "stdout",
     "output_type": "stream",
     "text": [
      "X_df shape: (21312, 795)\n",
      "y_df shape: (296, 1)\n",
      "static_demo_df shape: (296, 529)\n"
     ]
    }
   ],
   "source": [
    "from data_loading.load_preprocessed_dynamic_data import DynamicDataLoader\n",
    "\n",
    "\n",
    "# Load data for a specific number of patients (e.g., 10 patients) with custom paths\n",
    "data_loader_limited = DynamicDataLoader(\n",
    "     data_icu=True, \n",
    "     labels_path='./data/csv/labels.csv',\n",
    "     data_dir='./data/csv/') #, \n",
    "     # num_patients=10)\n",
    "temporal_X_df, y_df, static_X_df = data_loader_limited.load_data()"
   ]
  },
  {
   "cell_type": "code",
   "execution_count": 195,
   "id": "ce0e1452",
   "metadata": {},
   "outputs": [
    {
     "name": "stdout",
     "output_type": "stream",
     "text": [
      "('MEDS', '220949')\n",
      "('MEDS', '221653')\n",
      "('MEDS', '225158')\n",
      "('MEDS', '228340')\n",
      "('MEDS', '225828')\n",
      "('MEDS', '225152')\n",
      "('MEDS', '221668')\n",
      "('MEDS', '221906')\n",
      "('MEDS', '225942')\n",
      "('MEDS', '225943')\n",
      "('MEDS', '229420')\n",
      "('MEDS', '229009')\n",
      "('MEDS', '220864')\n",
      "('MEDS', '229295')\n",
      "('MEDS', '222168')\n",
      "('MEDS', '229011')\n",
      "('MEDS', '220950')\n",
      "('MEDS', '225823')\n",
      "('MEDS', '227522')\n",
      "('MEDS', '225168')\n",
      "('MEDS', '225910')\n",
      "('MEDS', '221833')\n",
      "('MEDS', '225917')\n",
      "('MEDS', '228315')\n",
      "('MEDS', '229624')\n",
      "('MEDS', '229297')\n",
      "('MEDS', '221662')\n",
      "('MEDS', '228339')\n",
      "('MEDS', '221429')\n",
      "('MEDS', '225944')\n",
      "('MEDS', '229234')\n",
      "('MEDS', '221794')\n",
      "('MEDS', '225931')\n",
      "('MEDS', '221749')\n",
      "('MEDS', '227525')\n",
      "('MEDS', '227529')\n",
      "('MEDS', '227536')\n",
      "('MEDS', '229630')\n",
      "('MEDS', '225159')\n",
      "('MEDS', '229014')\n",
      "('MEDS', '222056')\n",
      "('MEDS', '221347')\n",
      "('MEDS', '221468')\n",
      "('MEDS', '221744')\n",
      "('MEDS', '228367')\n",
      "('MEDS', '225827')\n",
      "('MEDS', '229296')\n",
      "('MEDS', '223258')\n",
      "('MEDS', '225153')\n",
      "('MEDS', '229654')\n",
      "('MEDS', '229013')\n",
      "('MEDS', '225170')\n",
      "('MEDS', '220970')\n",
      "('MEDS', '221289')\n",
      "('MEDS', '221986')\n",
      "('MEDS', '225945')\n",
      "('MEDS', '227975')\n",
      "('MEDS', '230044')\n",
      "('MEDS', '228351')\n",
      "('MEDS', '222315')\n",
      "('MEDS', '227523')\n",
      "('MEDS', '229010')\n",
      "('MEDS', '222037')\n",
      "('MEDS', '226089')\n",
      "('MEDS', '225825')\n",
      "('MEDS', '225916')\n",
      "('MEDS', '229639')\n",
      "('MEDS', '225936')\n",
      "('MEDS', '221712')\n",
      "('MEDS', '225147')\n",
      "('MEDS', '228135')\n",
      "('MEDS', '227695')\n",
      "('MEDS', '229640')\n",
      "('MEDS', '220862')\n",
      "('MEDS', '228363')\n",
      "('MEDS', '225171')\n",
      "('MEDS', '222042')\n",
      "('MEDS', '225173')\n",
      "('MEDS', '225150')\n",
      "('MEDS', '228316')\n",
      "('MEDS', '228359')\n",
      "('MEDS', '229012')\n",
      "('MEDS', '227531')\n",
      "('MEDS', '225148')\n",
      "('MEDS', '226880')\n",
      "('PROC', '225441')\n",
      "('PROC', '228126')\n",
      "('PROC', '225402')\n",
      "('PROC', '224275')\n",
      "('PROC', '224277')\n",
      "('PROC', '228129')\n",
      "('PROC', '224270')\n",
      "('PROC', '225752')\n",
      "('PROC', '225459')\n",
      "('PROC', '229526')\n",
      "('PROC', '225469')\n",
      "('PROC', '229581')\n",
      "('PROC', '225802')\n",
      "('PROC', '224560')\n",
      "('PROC', '229580')\n",
      "('PROC', '224263')\n",
      "('PROC', '221214')\n",
      "('PROC', '224274')\n",
      "('PROC', '224267')\n",
      "('PROC', '224264')\n",
      "('PROC', '229614')\n",
      "('PROC', '221217')\n",
      "('PROC', '225432')\n",
      "('PROC', '221216')\n",
      "('PROC', '223253')\n",
      "('PROC', '225470')\n",
      "('PROC', '227194')\n",
      "('PROC', '225792')\n",
      "('PROC', '225451')\n",
      "('PROC', '228128')\n",
      "('PROC', '227719')\n",
      "('PROC', '229351')\n",
      "('PROC', '225401')\n",
      "('PROC', '224268')\n",
      "('PROC', '225205')\n",
      "('PROC', '225462')\n",
      "('PROC', '225439')\n",
      "('PROC', '225461')\n",
      "('PROC', '225444')\n",
      "('PROC', '225443')\n",
      "('PROC', '225794')\n",
      "('PROC', '221223')\n",
      "('PROC', '224385')\n",
      "('PROC', '225400')\n",
      "('PROC', '225474')\n",
      "('PROC', '225454')\n",
      "('PROC', '227712')\n",
      "('PROC', '225966')\n",
      "('PROC', '221255')\n",
      "('PROC', '226236')\n",
      "('PROC', '225457')\n",
      "('PROC', '228127')\n",
      "('PROC', '225821')\n",
      "('PROC', '225399')\n",
      "('PROC', '229298')\n",
      "('PROC', '225427')\n",
      "('PROC', '229516')\n",
      "('PROC', '225479')\n",
      "('PROC', '225433')\n",
      "('PROC', '225440')\n",
      "('PROC', '225805')\n",
      "('PROC', '225816')\n",
      "('PROC', '225468')\n",
      "('PROC', '225814')\n",
      "('PROC', '225464')\n",
      "('PROC', '228125')\n",
      "('PROC', '225445')\n",
      "('PROC', '225315')\n",
      "('PROC', '229575')\n",
      "('PROC', '229578')\n",
      "('PROC', '225434')\n",
      "('PROC', '229380')\n",
      "('PROC', '228130')\n",
      "('PROC', '225204')\n",
      "('PROC', '225406')\n",
      "('PROC', '228136')\n",
      "('OUT', '226559')\n",
      "('OUT', '226588')\n",
      "('OUT', '226606')\n",
      "('OUT', '227510')\n",
      "('OUT', '226589')\n",
      "('OUT', '226580')\n",
      "('OUT', '226560')\n",
      "('OUT', '226592')\n",
      "('OUT', '226599')\n",
      "('OUT', '226600')\n",
      "('OUT', '226601')\n",
      "('OUT', '226613')\n",
      "('OUT', '226590')\n",
      "('OUT', '226561')\n",
      "('OUT', '226575')\n",
      "('OUT', '226627')\n",
      "('OUT', '226583')\n",
      "('OUT', '226619')\n",
      "('OUT', '226620')\n",
      "('OUT', '226607')\n",
      "('OUT', '226573')\n",
      "('OUT', '226612')\n",
      "('OUT', '226563')\n",
      "('OUT', '226582')\n",
      "('OUT', '226597')\n",
      "('OUT', '226598')\n",
      "('OUT', '226576')\n",
      "('OUT', '226632')\n",
      "('OUT', '226604')\n",
      "('OUT', '226626')\n",
      "('OUT', '226564')\n",
      "('OUT', '226565')\n",
      "('OUT', '226567')\n",
      "('OUT', '227489')\n",
      "('OUT', '229413')\n",
      "('OUT', '226579')\n",
      "('OUT', '226603')\n",
      "('OUT', '227488')\n",
      "('OUT', '226571')\n",
      "('OUT', '226617')\n",
      "('OUT', '226618')\n",
      "('OUT', '227701')\n",
      "('OUT', '227511')\n",
      "('OUT', '226625')\n",
      "('OUT', '226629')\n",
      "('OUT', '226631')\n",
      "('CHART', '220045')\n",
      "('CHART', '220050')\n",
      "('CHART', '220051')\n",
      "('CHART', '220052')\n",
      "('CHART', '220074')\n",
      "('CHART', '220210')\n",
      "('CHART', '220277')\n",
      "('CHART', '220739')\n",
      "('CHART', '223791')\n",
      "('CHART', '223900')\n",
      "('CHART', '223901')\n",
      "('CHART', '228394')\n",
      "('CHART', '228395')\n",
      "('CHART', '228396')\n",
      "('CHART', '228409')\n",
      "('CHART', '228410')\n",
      "('CHART', '228411')\n",
      "('CHART', '228412')\n",
      "('CHART', '223761')\n",
      "('CHART', '223834')\n",
      "('CHART', '224054')\n",
      "('CHART', '224055')\n",
      "('CHART', '224056')\n",
      "('CHART', '224057')\n",
      "('CHART', '224058')\n",
      "('CHART', '224059')\n",
      "('CHART', '224168')\n",
      "('CHART', '224641')\n",
      "('CHART', '228096')\n",
      "('CHART', '228299')\n",
      "('CHART', '228337')\n",
      "('CHART', '220179')\n",
      "('CHART', '220180')\n",
      "('CHART', '220181')\n",
      "('CHART', '220602')\n",
      "('CHART', '220615')\n",
      "('CHART', '220621')\n",
      "('CHART', '220635')\n",
      "('CHART', '220645')\n",
      "('CHART', '225624')\n",
      "('CHART', '225625')\n",
      "('CHART', '225677')\n",
      "('CHART', '227073')\n",
      "('CHART', '227442')\n",
      "('CHART', '227443')\n",
      "('CHART', '227466')\n",
      "('CHART', '229321')\n",
      "('CHART', '220046')\n",
      "('CHART', '220047')\n",
      "('CHART', '220059')\n",
      "('CHART', '220060')\n",
      "('CHART', '220061')\n",
      "('CHART', '220063')\n",
      "('CHART', '220066')\n",
      "('CHART', '220072')\n",
      "('CHART', '220073')\n",
      "('CHART', '220224')\n",
      "('CHART', '220235')\n",
      "('CHART', '223751')\n",
      "('CHART', '223752')\n",
      "('CHART', '223762')\n",
      "('CHART', '223769')\n",
      "('CHART', '223770')\n",
      "('CHART', '223830')\n",
      "('CHART', '224828')\n",
      "('CHART', '225664')\n",
      "('CHART', '225668')\n",
      "('CHART', '225698')\n",
      "('CHART', '226253')\n",
      "('CHART', '220056')\n",
      "('CHART', '220058')\n",
      "('CHART', '220245')\n",
      "('CHART', '220292')\n",
      "('CHART', '220293')\n",
      "('CHART', '220339')\n",
      "('CHART', '223835')\n",
      "('CHART', '223872')\n",
      "('CHART', '223873')\n",
      "('CHART', '223874')\n",
      "('CHART', '223875')\n",
      "('CHART', '223876')\n",
      "('CHART', '224161')\n",
      "('CHART', '224162')\n",
      "('CHART', '224169')\n",
      "('CHART', '224685')\n",
      "('CHART', '224686')\n",
      "('CHART', '224687')\n",
      "('CHART', '224689')\n",
      "('CHART', '224690')\n",
      "('CHART', '224691')\n",
      "('CHART', '224695')\n",
      "('CHART', '224697')\n",
      "('CHART', '224701')\n",
      "('CHART', '226107')\n",
      "('CHART', '226115')\n",
      "('CHART', '226169')\n",
      "('CHART', '227341')\n",
      "('CHART', '227342')\n",
      "('CHART', '227343')\n",
      "('CHART', '227344')\n",
      "('CHART', '227345')\n",
      "('CHART', '227346')\n",
      "('CHART', '227565')\n",
      "('CHART', '227566')\n",
      "('CHART', '228305')\n",
      "('CHART', '228334')\n",
      "('CHART', '228640')\n",
      "('CHART', '229314')\n",
      "('CHART', '229325')\n",
      "('CHART', '229326')\n",
      "('CHART', '229476')\n",
      "('CHART', '226112')\n",
      "('CHART', '226113')\n",
      "('CHART', '228621')\n",
      "('CHART', '228724')\n",
      "('CHART', '229323')\n",
      "('CHART', '229882')\n",
      "('CHART', '229894')\n",
      "('CHART', '223849')\n",
      "('CHART', '224418')\n",
      "('CHART', '220765')\n",
      "('CHART', '224564')\n",
      "('CHART', '228610')\n",
      "('CHART', '228620')\n",
      "('CHART', '228723')\n",
      "('CHART', '229381')\n",
      "('CHART', '229538')\n",
      "('CHART', '223848')\n",
      "('CHART', '224417')\n",
      "('CHART', '224684')\n",
      "('CHART', '224688')\n",
      "('CHART', '224696')\n",
      "('CHART', '224700')\n",
      "('CHART', '224738')\n",
      "('CHART', '226871')\n",
      "('CHART', '226873')\n",
      "('CHART', '227809')\n",
      "('CHART', '225185')\n",
      "('CHART', '225187')\n",
      "('CHART', '220228')\n",
      "('CHART', '220545')\n",
      "('CHART', '220546')\n",
      "('CHART', '227457')\n",
      "('CHART', '224404')\n",
      "('CHART', '224406')\n",
      "('CHART', '226118')\n",
      "('CHART', '227465')\n",
      "('CHART', '227467')\n",
      "('CHART', '229881')\n",
      "('CHART', '224924')\n",
      "('CHART', '226109')\n",
      "('CHART', '226136')\n",
      "('CHART', '226138')\n",
      "('CHART', '227292')\n",
      "('CHART', '227350')\n",
      "('CHART', '227366')\n",
      "('CHART', '227368')\n",
      "('CHART', '228098')\n",
      "('CHART', '228100')\n",
      "('CHART', '229369')\n",
      "('CHART', '229370')\n",
      "('CHART', '229300')\n",
      "('CHART', '224562')\n",
      "('CHART', '224563')\n",
      "('CHART', '224631')\n",
      "('CHART', '224846')\n",
      "('CHART', '225210')\n",
      "('CHART', '226137')\n",
      "('CHART', '227293')\n",
      "('CHART', '227367')\n",
      "('CHART', '228099')\n",
      "('CHART', '225189')\n",
      "('CHART', '226139')\n",
      "('CHART', '227369')\n",
      "('CHART', '228101')\n",
      "('CHART', '225309')\n",
      "('CHART', '225310')\n",
      "('CHART', '225312')\n",
      "('CHART', '226457')\n",
      "('CHART', '225667')\n",
      "('CHART', '224144')\n",
      "('CHART', '224145')\n",
      "('CHART', '224149')\n",
      "('CHART', '224150')\n",
      "('CHART', '224151')\n",
      "('CHART', '224152')\n",
      "('CHART', '224153')\n",
      "('CHART', '224154')\n",
      "('CHART', '224191')\n",
      "('CHART', '224639')\n",
      "('CHART', '224925')\n",
      "('CHART', '225183')\n",
      "('CHART', '228004')\n",
      "('CHART', '228005')\n",
      "('CHART', '228006')\n",
      "('CHART', '229247')\n",
      "('CHART', '229248')\n",
      "('CHART', '225070')\n",
      "('CHART', '225087')\n",
      "('CHART', '225091')\n",
      "('CHART', '225103')\n",
      "('CHART', '225105')\n",
      "('CHART', '225113')\n",
      "('CHART', '225117')\n",
      "('CHART', '225133')\n",
      "('CHART', '227464')\n",
      "('CHART', '228236')\n",
      "('CHART', '228648')\n",
      "('CHART', '228649')\n",
      "('CHART', '229685')\n",
      "('CHART', '220587')\n",
      "('CHART', '220632')\n",
      "('CHART', '220644')\n",
      "('CHART', '225612')\n",
      "('CHART', '225690')\n",
      "('CHART', '227455')\n",
      "('CHART', '227549')\n",
      "('CHART', '225092')\n",
      "('CHART', '225094')\n",
      "('CHART', '225118')\n",
      "('CHART', '225126')\n",
      "('CHART', '225813')\n",
      "('CHART', '226499')\n",
      "('CHART', '223753')\n",
      "('CHART', '225628')\n",
      "('CHART', '225634')\n",
      "('CHART', '225672')\n",
      "('CHART', '227429')\n",
      "('CHART', '227445')\n",
      "('CHART', '224409')\n",
      "('CHART', '229691')\n",
      "('CHART', '229695')\n",
      "('CHART', '229696')\n",
      "('CHART', '229698')\n",
      "('CHART', '220088')\n",
      "('CHART', '220227')\n",
      "('CHART', '223958')\n",
      "('CHART', '223960')\n",
      "('CHART', '223962')\n",
      "('CHART', '223963')\n",
      "('CHART', '224751')\n",
      "('CHART', '224752')\n",
      "('CHART', '224754')\n",
      "('CHART', '224837')\n",
      "('CHART', '224838')\n",
      "('CHART', '224839')\n",
      "('CHART', '225358')\n",
      "('CHART', '226114')\n",
      "('CHART', '227351')\n",
      "('CHART', '229865')\n",
      "('CHART', '225188')\n",
      "('CHART', '227349')\n",
      "('CHART', '223772')\n",
      "('CHART', '224842')\n",
      "('CHART', '229823')\n",
      "('CHART', '229824')\n",
      "('CHART', '229827')\n",
      "('CHART', '229828')\n",
      "('CHART', '229829')\n",
      "('CHART', '229859')\n",
      "('CHART', '229895')\n",
      "('CHART', '225067')\n",
      "('CHART', '225175')\n",
      "('CHART', '225674')\n",
      "('CHART', '226537')\n",
      "('CHART', '227468')\n",
      "('CHART', '227801')\n",
      "('CHART', '223773')\n",
      "('CHART', '226329')\n",
      "('CHART', '226534')\n",
      "('CHART', '226536')\n",
      "('CHART', '226540')\n",
      "('CHART', '227357')\n",
      "('CHART', '227066')\n",
      "('CHART', '229317')\n",
      "('CHART', '229375')\n",
      "('CHART', '225206')\n",
      "('CHART', '227810')\n",
      "('CHART', '229660')\n",
      "('CHART', '229661')\n",
      "('CHART', '229662')\n",
      "('CHART', '229663')\n",
      "('CHART', '229664')\n",
      "('CHART', '229665')\n",
      "('CHART', '228368')\n",
      "('CHART', '228369')\n",
      "('CHART', '228374')\n",
      "('CHART', '228375')\n",
      "('CHART', '228376')\n",
      "('CHART', '225184')\n",
      "('CHART', '225313')\n",
      "('CHART', '224753')\n",
      "('CHART', '224755')\n",
      "('CHART', '224916')\n",
      "('CHART', '224923')\n",
      "('CHART', '224951')\n",
      "('CHART', '226531')\n",
      "('CHART', '226108')\n",
      "('CHART', '227352')\n",
      "('CHART', '229681')\n",
      "('CHART', '227516')\n",
      "('CHART', '220274')\n",
      "('CHART', '223679')\n",
      "('CHART', '225074')\n",
      "('CHART', '225076')\n",
      "('CHART', '225078')\n",
      "('CHART', '225106')\n",
      "('CHART', '225122')\n",
      "('CHART', '225124')\n",
      "('CHART', '226062')\n",
      "('CHART', '226063')\n",
      "('CHART', '226180')\n",
      "('CHART', '229692')\n",
      "('CHART', '229694')\n",
      "('CHART', '229697')\n",
      "('CHART', '229699')\n",
      "('CHART', '229324')\n",
      "('CHART', '229319')\n",
      "('CHART', '230045')\n",
      "('CHART', '230033')\n",
      "('CHART', '225086')\n",
      "('CHART', '225112')\n",
      "('CHART', '225129')\n",
      "('CHART', '224917')\n",
      "('CHART', '224952')\n",
      "('CHART', '227537')\n",
      "('CHART', '227538')\n",
      "('CHART', '220507')\n",
      "('CHART', '224918')\n",
      "('CHART', '224919')\n",
      "('CHART', '224953')\n",
      "('CHART', '224954')\n",
      "('CHART', '227358')\n",
      "('CHART', '224309')\n",
      "('CHART', '224310')\n",
      "('CHART', '224311')\n",
      "('CHART', '224322')\n",
      "('CHART', '224652')\n",
      "('CHART', '224654')\n",
      "('CHART', '228866')\n",
      "('CHART', '223805')\n",
      "('CHART', '223806')\n",
      "('CHART', '223810')\n",
      "('CHART', '223811')\n",
      "('CHART', '223814')\n",
      "('CHART', '223817')\n",
      "('CHART', '223818')\n",
      "('CHART', '223819')\n",
      "('CHART', '223820')\n",
      "('CHART', '223821')\n",
      "('CHART', '228229')\n",
      "('CHART', '228230')\n",
      "('CHART', '228231')\n",
      "('CHART', '228232')\n",
      "('CHART', '228234')\n",
      "('CHART', '224966')\n",
      "('CHART', '227446')\n",
      "('CHART', '220734')\n",
      "('CHART', '227471')\n",
      "('CHART', '229880')\n",
      "('CHART', '220650')\n",
      "('CHART', '227456')\n",
      "('CHART', '226122')\n",
      "('CHART', '225280')\n",
      "('CHART', '230115')\n",
      "('CHART', '230125')\n",
      "('CHART', '228137')\n",
      "('CHART', '229371')\n",
      "('CHART', '228378')\n",
      "('CHART', '228380')\n",
      "('CHART', '225082')\n",
      "('CHART', '226129')\n",
      "('CHART', '226134')\n",
      "('CHART', '227363')\n",
      "('CHART', '225639')\n",
      "('CHART', '225640')\n",
      "('CHART', '225641')\n",
      "('CHART', '225642')\n",
      "('CHART', '225643')\n",
      "('CHART', '227686')\n",
      "('CHART', '229356')\n",
      "('CHART', '229357')\n",
      "('CHART', '229358')\n",
      "('CHART', '229359')\n",
      "('CHART', '229360')\n",
      "('CHART', '229361')\n",
      "('CHART', '227454')\n",
      "('CHART', '224896')\n",
      "('CHART', '224920')\n",
      "('CHART', '224926')\n",
      "('CHART', '224927')\n",
      "('CHART', '224928')\n",
      "('CHART', '224955')\n",
      "('CHART', '227463')\n",
      "('CHART', '227287')\n",
      "('CHART', '225110')\n",
      "('CHART', '225342')\n",
      "('CHART', '225980')\n",
      "('CHART', '225981')\n",
      "('CHART', '226110')\n",
      "('CHART', '225725')\n",
      "('CHART', '225732')\n",
      "('CHART', '224172')\n",
      "('CHART', '224328')\n",
      "('CHART', '224329')\n",
      "('CHART', '224330')\n",
      "('CHART', '224331')\n",
      "('CHART', '224332')\n",
      "('CHART', '224663')\n",
      "('CHART', '224665')\n",
      "('CHART', '225637')\n",
      "('CHART', '225638')\n",
      "('CHART', '224845')\n",
      "('CHART', '226541')\n",
      "('CHART', '227543')\n",
      "('CHART', '227547')\n",
      "('CHART', '224421')\n",
      "('CHART', '224422')\n",
      "('CHART', '224710')\n",
      "('CHART', '229659')\n",
      "('CHART', '226135')\n",
      "('CHART', '227365')\n",
      "('CHART', '228097')\n",
      "('CHART', '229505')\n",
      "('CHART', '227418')\n",
      "('CHART', '229765')\n",
      "('CHART', '229766')\n",
      "('CHART', '229767')\n",
      "('CHART', '229768')\n",
      "('CHART', '229769')\n",
      "('CHART', '229770')\n",
      "('CHART', '229771')\n",
      "('CHART', '229772')\n",
      "('CHART', '229773')\n",
      "('CHART', '229774')\n",
      "('CHART', '229775')\n",
      "('CHART', '228622')\n",
      "('CHART', '228623')\n",
      "('CHART', '228725')\n",
      "('CHART', '228726')\n",
      "('CHART', '228774')\n",
      "('CHART', '230091')\n",
      "('CHART', '228773')\n",
      "('CHART', '229301')\n",
      "('CHART', '226116')\n",
      "('CHART', '223771')\n",
      "('CHART', '228611')\n",
      "('CHART', '225807')\n",
      "('CHART', '226119')\n",
      "('CHART', '227353')\n",
      "('CHART', '224705')\n",
      "('CHART', '224706')\n",
      "('CHART', '224707')\n",
      "('CHART', '224709')\n",
      "('CHART', '227444')\n",
      "('CHART', '224746')\n",
      "('CHART', '224747')\n",
      "('CHART', '228336')\n",
      "('CHART', '227360')\n",
      "('CHART', '227439')\n",
      "('CHART', '224895')\n",
      "('CHART', '228233')\n",
      "('CHART', '227579')\n",
      "('CHART', '227580')\n",
      "('CHART', '227582')\n",
      "('CHART', '227723')\n",
      "('CHART', '227727')\n",
      "('CHART', '226185')\n",
      "('CHART', '226473')\n",
      "('CHART', '227462')\n",
      "('CHART', '226140')\n",
      "('CHART', '227364')\n",
      "('CHART', '225228')\n",
      "('CHART', '220581')\n",
      "('CHART', '225651')\n",
      "('CHART', '226117')\n",
      "('CHART', '227356')\n",
      "('CHART', '227359')\n",
      "('CHART', '229994')\n",
      "('CHART', '223763')\n",
      "('CHART', '225695')\n",
      "('CHART', '224921')\n",
      "('CHART', '224929')\n",
      "('CHART', '224956')\n",
      "('CHART', '224970')\n",
      "('CHART', '224971')\n",
      "('CHART', '227604')\n",
      "('CHART', '227619')\n",
      "('CHART', '227130')\n",
      "('CHART', '225085')\n",
      "('CHART', '224898')\n",
      "('CHART', '224965')\n",
      "('CHART', '228343')\n",
      "('CHART', '228344')\n",
      "('CHART', '228345')\n",
      "('CHART', '228346')\n",
      "('CHART', '224969')\n",
      "('CHART', '224661')\n",
      "('CHART', '224662')\n",
      "('CHART', '225684')\n",
      "('CHART', '224359')\n",
      "('CHART', '228775')\n",
      "('CHART', '224967')\n",
      "('CHART', '228776')\n",
      "('CHART', '229742')\n",
      "('CHART', '223767')\n",
      "('CHART', '223768')\n",
      "('CHART', '227716')\n",
      "('CHART', '227717')\n",
      "('CHART', '228335')\n",
      "('CHART', '227440')\n",
      "('CHART', '225989')\n",
      "('CHART', '225990')\n",
      "('CHART', '228102')\n",
      "('CHART', '224702')\n",
      "('CHART', '220580')\n",
      "('CHART', '225636')\n",
      "('CHART', '226504')\n",
      "('CHART', '227461')\n",
      "('CHART', '220603')\n",
      "('CHART', '220624')\n",
      "('CHART', '225671')\n",
      "('CHART', '225693')\n",
      "('CHART', '229633')\n",
      "('CHART', '230046')\n",
      "('CHART', '225729')\n",
      "('CHART', '227802')\n",
      "('CHART', '227419')\n",
      "('CHART', '225192')\n",
      "('CHART', '229634')\n",
      "('CHART', '227731')\n",
      "('CHART', '225389')\n",
      "('CHART', '224447')\n",
      "('CHART', '227470')\n",
      "('CHART', '226846')\n",
      "('CHART', '224897')\n",
      "('CHART', '225806')\n",
      "('CHART', '227581')\n",
      "('CHART', '225722')\n",
      "('CHART', '227807')\n",
      "('CHART', '225724')\n",
      "('CHART', '229872')\n",
      "('CHART', '225730')\n",
      "('CHART', '229761')\n",
      "('CHART', '224175')\n",
      "('CHART', '228613')\n",
      "('CHART', '225810')\n",
      "('CHART', '229379')\n",
      "('CHART', '230127')\n",
      "('CHART', '228719')\n",
      "('CHART', '229079')\n",
      "('CHART', '229374')\n",
      "('CHART', '226889')\n",
      "('CHART', '229355')\n",
      "('CHART', '228710')\n",
      "('CHART', '226121')\n",
      "('CHART', '223764')\n",
      "('CHART', '223765')\n",
      "('CHART', '223766')\n",
      "('CHART', '224645')\n",
      "('CHART', '224646')\n",
      "('CHART', '224647')\n",
      "('CHART', '226092')\n",
      "('CHART', '226094')\n",
      "('CHART', '226096')\n",
      "('CHART', '224167')\n",
      "('CHART', '224643')\n",
      "('CHART', '224419')\n",
      "('CHART', '227449')\n",
      "('CHART', '224676')\n",
      "('CHART', '224178')\n",
      "('CHART', '226131')\n",
      "('CHART', '225768')\n",
      "('CHART', '225771')\n",
      "('CHART', '227451')\n",
      "('CHART', '224166')\n",
      "('CHART', '227858')\n",
      "('CHART', '227860')\n",
      "('CHART', '227861')\n",
      "('CHART', '227864')\n",
      "('CHART', '227867')\n",
      "('CHART', '227870')\n",
      "('CHART', '227873')\n",
      "('CHART', '227905')\n",
      "('CHART', '229302')\n",
      "('CHART', '224899')\n",
      "('id', '')\n",
      "('time', '')\n"
     ]
    }
   ],
   "source": [
=======
   "execution_count": 35,
   "id": "486e78a8",
   "metadata": {},
   "outputs": [
    {
     "name": "stdout",
     "output_type": "stream",
     "text": [
      "X_df shape: (21312, 795)\n",
      "y_df shape: (296, 1)\n",
      "static_demo_df shape: (296, 529)\n"
     ]
    }
   ],
   "source": [
    "from data_loading.load_preprocessed_dynamic_data import DynamicDataLoader\n",
    "\n",
    "\n",
    "# Load data for a specific number of patients (e.g., 10 patients) with custom paths\n",
    "data_loader_limited = DynamicDataLoader(\n",
    "     data_icu=True, \n",
    "     labels_path='./data/csv/labels.csv',\n",
    "     data_dir='./data/csv/') #, \n",
    "     # num_patients=10)\n",
    "temporal_X_df, y_df, static_X_df = data_loader_limited.load_data()"
   ]
  },
  {
   "cell_type": "code",
   "execution_count": null,
   "id": "ce0e1452",
   "metadata": {},
   "outputs": [],
   "source": [
>>>>>>> origin/main
    "for col in temporal_X_df.columns:\n",
    "    print(col)"
   ]
  },
  {
   "cell_type": "code",
<<<<<<< HEAD
   "execution_count": 198,
   "id": "6c20ad87",
   "metadata": {},
   "outputs": [
    {
     "data": {
      "text/plain": [
       "0.0004222972972972973"
      ]
     },
     "execution_count": 198,
     "metadata": {},
     "output_type": "execute_result"
    }
   ],
=======
   "execution_count": null,
   "id": "6c20ad87",
   "metadata": {},
   "outputs": [],
>>>>>>> origin/main
   "source": [
    "temporal_X_df[('OUT', '226617')].mean()"
   ]
  },
  {
   "cell_type": "code",
   "execution_count": null,
   "id": "4d10ac2b",
   "metadata": {},
   "outputs": [],
   "source": [
    "# change table columns to make them more readable: \n",
    "from utils.change_colnames_util import rename_cols_of_the_table"
   ]
  },
  {
   "cell_type": "code",
   "execution_count": null,
   "id": "0bb4987c",
   "metadata": {},
   "outputs": [],
   "source": [
    "# change table columns to make them more readable: \n",
    "from utils.change_colnames_util import rename_cols_of_the_table\n",
    "temporal_X_df = rename_cols_of_the_table(original_table = temporal_X_df , \n",
    "                         data_root = root_dir + \"/mimiciv/3.0/icu/\", \n",
    "                         item_dictionary_name ='d_items.csv.gz')"
   ]
  },
  {
   "cell_type": "code",
   "execution_count": null,
   "id": "693af53e",
   "metadata": {},
   "outputs": [],
   "source": [
    "### Store the file for AFA processing\n",
    "stored_afa_file_ts     = root_dir + '/miiv_aki_test_raw_ts_wide.parquet'\n",
    "stored_afa_file_static = root_dir + '/miiv_aki_test_raw_static.parquet'\n",
    "# os.makedirs(stored_afa_file, exist_ok=True)\n",
    "\n",
    "#simplify colnames\n",
    "def flatten_columns(df):\n",
    "    # Check if the DataFrame has MultiIndex columns\n",
    "    df.columns = ['_'.join(col).strip() for col in df.columns.values]\n",
    "    \n",
    "    # Remove trailing underscores if present\n",
    "    df.columns = [col[:-1] if col.endswith('_') else col for col in df.columns]\n",
    "    \n",
    "    return df\n",
    "\n",
    "\n",
    "# Flatten columns for both DataFrames\n",
    "temporal_X_df = flatten_columns(temporal_X_df)\n",
    "static_X_df = flatten_columns(static_X_df)\n",
    "\n",
    "# add a random column (FOR NOW ONLY AS LABEL)\n",
    "temporal_X_df['random_label'] = np.random.randint(0, 2, size=len(temporal_X_df))\n",
    "\n",
    "# store data\n",
    "temporal_X_df.to_parquet(stored_afa_file_ts, index=False)\n",
    "static_X_df.to_parquet(stored_afa_file_static, index=False)\n"
   ]
  },
  {
   "cell_type": "code",
   "execution_count": null,
   "id": "1c3bb864",
   "metadata": {},
   "outputs": [],
   "source": [
    "stored_afa_file_ts"
   ]
  },
  {
   "cell_type": "code",
   "execution_count": null,
   "id": "decc007a",
   "metadata": {},
   "outputs": [],
   "source": [
    "temporal_X_df.describe()"
   ]
  },
  {
   "cell_type": "markdown",
   "id": "lined-reset",
   "metadata": {},
   "source": [
    "## 8. Machine Learning Models\n",
    "\n",
    "Below we provide options to select -\n",
    "- Type of machine learning model\n",
    "- Wheteher to concatenate or aggregate time-series features.\n",
    "    For example, if the EHR data has collected value for Blood Pressure for one year over 4 time windows of 3 months each then,\n",
    "    - **Conactenate** will concatenate all four values resulting in 4 different features for blood pressure,\n",
    "    - **Aggregate** will aggreagte(mean) over four tiem windows resulting in one feature for blood pressure."
   ]
  },
  {
   "cell_type": "code",
   "execution_count": null,
   "id": "consolidated-former",
   "metadata": {},
   "outputs": [],
   "source": [
    "print(\"=======Machine :earning Models=======\")\n",
    "radio_input5 = widgets.RadioButtons(options=['Logistic Regression','Random Forest','Gradient Bossting','Xgboost'],value='Gradient Bossting')\n",
    "display(radio_input5)\n",
    "print(\"Do you wnat to conactenate the time-series feature\")\n",
    "radio_input6 = widgets.RadioButtons(options=['Conactenate','Aggregate'],value='Conactenate')\n",
    "display(radio_input6)\n",
    "print(\"Please select below option for cross-validation\")\n",
    "radio_input7 = widgets.RadioButtons(options=['No CV','5-fold CV','10-fold CV'],value='5-fold CV')\n",
    "display(radio_input7)\n",
    "print(\"Do you want to do oversampling for minority calss ?\")\n",
    "radio_input8 = widgets.RadioButtons(options=['True','False'],value='True')\n",
    "display(radio_input8)"
   ]
  },
  {
   "cell_type": "code",
   "execution_count": null,
   "id": "promising-miller",
   "metadata": {
    "scrolled": true
   },
   "outputs": [],
   "source": [
    "if radio_input7.value=='No CV':\n",
    "    cv=0\n",
    "elif radio_input7.value=='5-fold CV':\n",
    "    cv=int(5)\n",
    "elif radio_input7.value=='10-fold CV':\n",
    "    cv=int(10)\n",
    "ml=ml_models.ML_models(data_icu,cv,radio_input5.value,concat=radio_input6.value=='Conactenate',oversampling=radio_input8.value=='True')"
   ]
  },
  {
   "cell_type": "markdown",
   "id": "ordinary-chancellor",
   "metadata": {},
   "source": [
    "## 9. Deep Learning Models\n",
    "- Time-series LSTM and Time-series CNN which will only use time-series events like medications, charts, labs, output events to train model.\n",
    "\n",
    "- Hybrid LSTM and Hybrid CNN will use static data - diagnosis, demographic data aong with other time-series data to train model.\n",
    "\n",
    "- LSTM with Attention model will use attention layer to rank the important features and learn to predict output. It will use both static and time-series data.\n",
    "\n",
    "**Go to ./model/parameter.py and define all variables needed for model building and training**\n",
    "\n",
    "**Please run below cell to select which model to use**"
   ]
  },
  {
   "cell_type": "code",
   "execution_count": null,
   "id": "operational-pride",
   "metadata": {},
   "outputs": [],
   "source": [
    "radio_input6=widgets.RadioButtons(options=['Time-series LSTM','Time-series CNN','Hybrid LSTM','Hybrid CNN'],value='Time-series LSTM')\n",
    "display(radio_input6)\n",
    "print(\"Please select below option for cross-validation\")\n",
    "radio_input7 = widgets.RadioButtons(options=['No CV','5-fold CV','10-fold CV'],value='5-fold CV')\n",
    "display(radio_input7)\n",
    "print(\"Do you want to do oversampling for minority calss ?\")\n",
    "radio_input8 = widgets.RadioButtons(options=['True','False'],value='True')\n",
    "display(radio_input8)"
   ]
  },
  {
   "cell_type": "code",
   "execution_count": null,
   "id": "golden-stewart",
   "metadata": {
    "scrolled": true
   },
   "outputs": [],
   "source": [
    "if radio_input7.value=='No CV':\n",
    "    cv=0\n",
    "elif radio_input7.value=='5-fold CV':\n",
    "    cv=int(5)\n",
    "elif radio_input7.value=='10-fold CV':\n",
    "    cv=int(10)\n",
    "    \n",
    "if data_icu:\n",
    "    model=dl_train.DL_models(data_icu,diag_flag,proc_flag,out_flag,chart_flag,med_flag,False,radio_input6.value,cv,oversampling=radio_input8.value=='True',model_name='attn_icu_read',train=True)\n",
    "else:\n",
    "    model=dl_train.DL_models(data_icu,diag_flag,proc_flag,False,False,med_flag,lab_flag,radio_input6.value,cv,oversampling=radio_input8.value=='True',model_name='attn_icu_read',train=True)"
   ]
  },
  {
   "cell_type": "markdown",
   "id": "driven-factor",
   "metadata": {},
   "source": [
    "## 10. Running BEHRT\n",
    "Below we integrate the implementation of BEHRT in our pipeline.\n",
    "We perform pre-procesing needed to run BEHRT model. https://github.com/deepmedicine/BEHRT\n",
    "\n",
    "Few things to note before running BEHRT -\n",
    "- The numerical values are binned into quantiles.\n",
    "- BEHRT has recommended maximum number of events per sample to be 512. \n",
    "    So feature selection is important so that number of events per sample does not exceed 512.\n",
    "- The model is quite computationally heavy so it requires a GPU.\n",
    "\n",
    "The output files for BEHRT will be saved in ./data/behrt/ folder\n",
    "\n",
    "**Please run below cell to to pre-process and run BEHRT on the selected cohort**"
   ]
  },
  {
   "cell_type": "code",
   "execution_count": null,
   "id": "aggressive-break",
   "metadata": {},
   "outputs": [],
   "source": [
    "if data_icu:\n",
    "    token=tokenization.BEHRT_models(data_icu,diag_flag,proc_flag,out_flag,chart_flag,med_flag,False)\n",
    "    tokenized_src, tokenized_age, tokenized_gender, tokenized_ethni, tokenized_ins, tokenized_labels=token.tokenize()\n",
    "else:\n",
    "    token=tokenization.BEHRT_models(data_icu,diag_flag,proc_flag,False,False,med_flag,lab_flag)\n",
    "    tokenized_src, tokenized_age, tokenized_gender, tokenized_ethni, tokenized_ins, tokenized_labels=token.tokenize()\n",
    "    \n",
    "behrt_train.train_behrt(tokenized_src, tokenized_age, tokenized_gender, tokenized_ethni, tokenized_ins, tokenized_labels)"
   ]
  },
  {
   "cell_type": "markdown",
   "id": "reserved-objective",
   "metadata": {},
   "source": [
    "### EVALUATION AS STANDALONE MODULE\n",
    "Below cell shows an exaple of how evaluation module can be used as a standalone module.\n",
    "\n",
    "evaluation.Loss class can be instantiated and model output and ground truth can be passed to it to obtain results.\n",
    "\n",
    "In the example below we captured model output and ground truth in a file and used that file to read the data.\n",
    "\n",
    "In function definition ***loss(prob,truth,logits,False)***\n",
    "\n",
    "prob -> List of Output predicted probabilities of case being positive\n",
    "\n",
    "truth -> List of ground truth labels\n",
    "\n",
    "logits -> List of logits obtained from last fully connected layer before applying softmax.sigmoid function in the model."
   ]
  },
  {
   "cell_type": "code",
   "execution_count": null,
   "id": "streaming-integration",
   "metadata": {},
   "outputs": [],
   "source": [
    "if torch.cuda.is_available():\n",
    "    device='cuda:0'\n",
    "#device='cpu'\n",
    "loss=evaluation.Loss(device,acc=True,ppv=True,sensi=True,tnr=True,npv=True,auroc=True,aurocPlot=True,auprc=True,auprcPlot=True,callb=True,callbPlot=True)\n",
    "with open(\"./data/output/outputDict\", 'rb') as fp:\n",
    "    outputDict=pickle.load(fp)\n",
    "prob=list(outputDict['Prob'])\n",
    "truth=list(outputDict['Labels'])\n",
    "logits=list(outputDict['Logits'])\n",
    "#print(torch.tensor(prob))\n",
    "print(\"======= TESTING ========\")\n",
    "loss(prob,truth,logits,train=False,standalone=True)\n"
   ]
  },
  {
   "cell_type": "markdown",
   "id": "designing-works",
   "metadata": {},
   "source": [
    "### 11. FAIRNESS EVALUATION\n",
    "In train and testing step we save output files in **./data/output/** folder.\n",
    "\n",
    "This file conatins list of demographic variables included in training and testing of the model.\n",
    "\n",
    "It also contains the ground truth labels and predicted probability for each sample.\n",
    "\n",
    "We use the above saved data to perform fairness evaluation of the results obtained from model testing.\n",
    "\n",
    "This module can be used as stand-alone module also.\n",
    "\n",
    "Please create a file that contains predicted probabilites form the last sigmoid layer in column named **Prob** and\n",
    "ground truth labels for each sample in column named **Labels**."
   ]
  },
  {
   "cell_type": "code",
   "execution_count": null,
   "id": "civilian-direction",
   "metadata": {},
   "outputs": [],
   "source": [
    "fairness.fairness_evaluation(inputFile='outputDict',outputFile='fairnessReport')"
   ]
  },
  {
   "cell_type": "markdown",
   "id": "efficient-distinction",
   "metadata": {},
   "source": [
    "### 12. MODEL CALLIBRATION\n",
    "\n",
    "Please run below cell if you want to callibrate predicted probabilites of the model on test data.\n",
    "It will use the output saved during the testing of the model.\n",
    "\n",
    "The file is saved in **./data/output/**.\n",
    "\n",
    "This module can be used as stand-alone module also.\n",
    "\n",
    "Please create a file that contain predicted logits form the last fully connected layer in column named **Logits** and <br>ground truth labels for each sample in a column named **Labels**."
   ]
  },
  {
   "cell_type": "code",
   "execution_count": null,
   "id": "secure-flavor",
   "metadata": {},
   "outputs": [],
   "source": [
    "callibrate_output.callibrate(inputFile='outputDict',outputFile='callibratedResults')"
   ]
  },
  {
   "cell_type": "code",
   "execution_count": null,
   "id": "fleet-canyon",
   "metadata": {},
   "outputs": [],
   "source": []
  }
 ],
 "metadata": {
  "hide_input": false,
  "kernelspec": {
   "display_name": "mimic_prep",
   "language": "python",
   "name": "mimic_prep"
  },
  "language_info": {
   "codemirror_mode": {
    "name": "ipython",
    "version": 3
   },
   "file_extension": ".py",
   "mimetype": "text/x-python",
   "name": "python",
   "nbconvert_exporter": "python",
   "pygments_lexer": "ipython3",
<<<<<<< HEAD
<<<<<<< HEAD
   "version": "3.10.14"
=======
   "version": "3.7.7"
>>>>>>> 0259719662cf49b02db6acf09e08eca21701f638
=======
   "version": "3.7.7"
>>>>>>> origin/main
  }
 },
 "nbformat": 4,
 "nbformat_minor": 5
}
