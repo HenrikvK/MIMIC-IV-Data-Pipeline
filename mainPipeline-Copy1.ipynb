{
 "cells": [
  {
   "cell_type": "markdown",
   "id": "98387576",
   "metadata": {},
   "source": [
    "# Extract and encode MIMIC data\n",
    "We extract the mimic information and encode it as time-series data. \n",
    "We use the following tables: \n",
    "- labevents: \n",
    "    - contains blood tests, etc. \n",
    "- microbiology events: \n",
    "\n",
    "- output events: \n",
    "    - contains \n",
    "    \n",
    "- chartevents\n",
    "    - contains vital signs\n",
    "   \n",
    "\n"
   ]
  },
  {
   "cell_type": "code",
   "execution_count": 1,
   "id": "3961be11",
   "metadata": {},
   "outputs": [],
   "source": [
    "%load_ext autoreload\n",
    "%autoreload 2\n",
    "\n",
    "import os "
   ]
  },
  {
   "cell_type": "markdown",
   "id": "94becd9b",
   "metadata": {},
   "source": [
    "Define the relative or absolute data path. The mimic data must be in the folders: \n",
    "- data_root + '/mimiciv/3.0/hosp/' \n",
    "- data_root + '/mimiciv/3.0/icu/' "
   ]
  },
  {
   "cell_type": "code",
   "execution_count": 2,
   "id": "94e8d99d",
   "metadata": {},
   "outputs": [],
   "source": [
    "# define a relative or absolute path to the mimic folder. \n",
    "# data_path = '/../data/real_world_data/physionet.org_small/files'\n",
    "# data_path = '/../data/real_world_data/physionet.org/files'\n",
    "data_path = '/../data/real_world_data/physionet.org/files'\n",
    "# data_path = \"/lustre/groups/labs/marr/qscd01/datasets/vonKleist/physionet.org/files\"\n",
    "root_dir = os.path.dirname(os.path.abspath('UserInterface.ipynb')) + data_path\n",
    "\n",
    "# define path for processed files\n",
    "target_path = './data/features/'"
   ]
  },
  {
   "cell_type": "code",
   "execution_count": 3,
   "id": "e1d0c16c",
   "metadata": {},
   "outputs": [],
   "source": [
    "import ipywidgets as widgets\n",
    "import sys\n",
    "from pathlib import Path\n",
    "import importlib\n",
    "import pandas as pd\n",
    "\n",
    "\n",
    "module_path='preprocessing/day_intervals_preproc'\n",
    "if module_path not in sys.path:\n",
    "    sys.path.append(module_path)\n",
    "\n",
    "module_path='utils'\n",
    "if module_path not in sys.path:\n",
    "    sys.path.append(module_path)\n",
    "    \n",
    "module_path='preprocessing/hosp_module_preproc'\n",
    "if module_path not in sys.path:\n",
    "    sys.path.append(module_path)\n",
    "    \n",
    "module_path='model'\n",
    "if module_path not in sys.path:\n",
    "    sys.path.append(module_path)\n",
    "#print(sys.path)\n",
    "# define the path to the data from current repository \n",
    "# (from here data is in mimiciv/3.0/hosp )\n",
    "root_dir = os.path.dirname(os.path.abspath('UserInterface.ipynb')) + data_path\n",
    "\n",
    "# root_dir = data_path\n",
    "\n",
    "import day_intervals_cohort\n",
    "from day_intervals_cohort import *\n",
    "\n",
    "import day_intervals_cohort_v2\n",
    "from day_intervals_cohort_v2 import *\n",
    "\n",
    "import day_intervals_cohort_v3\n",
    "from day_intervals_cohort_v3 import *\n",
    "\n",
    "import data_generation_icu\n",
    "\n",
    "import data_generation\n",
    "import evaluation\n",
    "\n",
    "import feature_selection_hosp\n",
    "from feature_selection_hosp import *"
   ]
  },
  {
   "cell_type": "code",
   "execution_count": 4,
   "id": "available-albany",
   "metadata": {},
   "outputs": [],
   "source": [
    "# this is only for training\n",
    "import ml_models\n",
    "from ml_models import *\n",
    "\n",
    "import dl_train\n",
    "from dl_train import *\n",
    "\n",
    "import tokenization\n",
    "from tokenization import *\n",
    "\n",
    "import behrt_train\n",
    "from behrt_train import *\n",
    "\n",
    "import feature_selection_icu\n",
    "from feature_selection_icu import *\n",
    "import fairness\n",
    "import callibrate_output"
   ]
  },
  {
   "cell_type": "code",
   "execution_count": 5,
   "id": "nutritional-chicago",
   "metadata": {},
   "outputs": [],
   "source": [
    "importlib.reload(day_intervals_cohort)\n",
    "import day_intervals_cohort\n",
    "from day_intervals_cohort import *\n",
    "\n",
    "importlib.reload(day_intervals_cohort_v2)\n",
    "import day_intervals_cohort_v2\n",
    "from day_intervals_cohort_v2 import *\n",
    "\n",
    "importlib.reload(day_intervals_cohort_v3)\n",
    "import day_intervals_cohort_v3\n",
    "from day_intervals_cohort_v3 import *\n",
    "\n",
    "\n",
    "importlib.reload(data_generation_icu)\n",
    "import data_generation_icu\n",
    "importlib.reload(data_generation)\n",
    "import data_generation\n",
    "\n",
    "importlib.reload(feature_selection_hosp)\n",
    "import feature_selection_hosp\n",
    "from feature_selection_hosp import *\n",
    "\n",
    "importlib.reload(feature_selection_icu)\n",
    "import feature_selection_icu\n",
    "from feature_selection_icu import *\n",
    "\n",
    "importlib.reload(tokenization)\n",
    "import tokenization\n",
    "from tokenization import *\n",
    "\n",
    "importlib.reload(ml_models)\n",
    "import ml_models\n",
    "from ml_models import *\n",
    "\n",
    "importlib.reload(dl_train)\n",
    "import dl_train\n",
    "from dl_train import *\n",
    "\n",
    "importlib.reload(behrt_train)\n",
    "import behrt_train\n",
    "from behrt_train import *\n",
    "\n",
    "importlib.reload(fairness)\n",
    "import fairness\n",
    "\n",
    "importlib.reload(callibrate_output)\n",
    "import callibrate_output\n",
    "\n",
    "importlib.reload(evaluation)\n",
    "import evaluation"
   ]
  },
  {
   "cell_type": "markdown",
   "id": "eligible-demand",
   "metadata": {},
   "source": [
    "# Welcome to your MIMIC-IV Project"
   ]
  },
  {
   "cell_type": "markdown",
   "id": "jewish-crown",
   "metadata": {},
   "source": [
    "This repository explains the steps to download and clean MIMIC-IV dataset for analysis.\n",
    "The repository is compatible with MIMIC-IV v1.0 and MIMIC-IV v2.0\n",
    "\n",
    "Please go to:\n",
    "- https://physionet.org/content/mimiciv/1.0/ for v1.0\n",
    "- https://physionet.org/content/mimiciv/2.0/ for v2.0\n",
    "- https://physionet.org/content/mimiciv/3.0/ for v3.0\n",
    "\n",
    "Follow instructions to get access to MIMIC-IV dataset.\n",
    "\n",
    "Download the files using your terminal: \n",
    "- wget -r -N -c -np --user mehakg --ask-password https://physionet.org/files/mimiciv/1.0/ or\n",
    "- wget -r -N -c -np --user mehakg --ask-password https://physionet.org/files/mimiciv/2.0/ or\n",
    "- wget -r -N -c -np --user mehakg --ask-password https://physionet.org/files/mimiciv/3.0/        \n",
    "\n",
    "Save downloaded files in the parent directory of this github repo. \n",
    "\n",
    "The structure should look like below for v1.0-\n",
    "- mimiciv/1.0/core\n",
    "- mimiciv/1.0/hosp\n",
    "- mimiciv/1.0/icu\n",
    "\n",
    "The structure should look like below for v2.0-\n",
    "- mimiciv/2.0/hosp\n",
    "- mimiciv/2.0/icu\n",
    "\n",
    "The structure should look like below for v3.0-\n",
    "- mimiciv/3.0/hosp\n",
    "- mimiciv/3.0/icu"
   ]
  },
  {
   "cell_type": "markdown",
   "id": "happy-tissue",
   "metadata": {},
   "source": [
    "## 1. DATA EXTRACTION\n",
    "Please run below cell to select option for cohort selection.\n",
    "The cohort will be svaed in **./data/cohort/**"
   ]
  },
  {
   "cell_type": "code",
   "execution_count": 6,
   "id": "structured-dimension",
   "metadata": {
    "tags": [
     "{",
     "\"tags\":",
     "[",
     "\"hide-input\"",
     "]",
     "}"
    ]
   },
   "outputs": [
    {
     "name": "stdout",
     "output_type": "stream",
     "text": [
      "Please select the approriate version of MIMIC-IV for which you have downloaded data ?\n"
     ]
    },
    {
     "data": {
      "application/vnd.jupyter.widget-view+json": {
       "model_id": "43f5ec124654478c86a55d845112aefd",
       "version_major": 2,
       "version_minor": 0
      },
      "text/plain": [
       "RadioButtons(index=2, options=('Version 1', 'Version 2', 'Version 3'), value='Version 3')"
      ]
     },
     "metadata": {},
     "output_type": "display_data"
    },
    {
     "name": "stdout",
     "output_type": "stream",
     "text": [
      "Please select what prediction task you want to perform ?\n"
     ]
    },
    {
     "data": {
      "application/vnd.jupyter.widget-view+json": {
       "model_id": "aeffd88b8f734dfcb3441eeb224e3e4a",
       "version_major": 2,
       "version_minor": 0
      },
      "text/plain": [
       "RadioButtons(index=3, options=('Mortality', 'Length of Stay', 'Readmission', 'Phenotype'), value='Phenotype')"
      ]
     },
     "metadata": {},
     "output_type": "display_data"
    }
   ],
   "source": [
    "print(\"Please select the approriate version of MIMIC-IV for which you have downloaded data ?\")\n",
    "version = widgets.RadioButtons(options=['Version 1','Version 2','Version 3'],value='Version 3')\n",
    "display(version)\n",
    "\n",
    "print(\"Please select what prediction task you want to perform ?\")\n",
    "radio_input4 = widgets.RadioButtons(options=['Mortality','Length of Stay','Readmission','Phenotype'],value='Phenotype')\n",
    "display(radio_input4)\n"
   ]
  },
  {
   "cell_type": "markdown",
   "id": "written-syndicate",
   "metadata": {},
   "source": [
    "### Refining Cohort and Prediction Task Definition\n",
    "\n",
    "Based on your current selection following block will provide option to further refine prediction task and cohort associated with it:\n",
    "\n",
    "- First you will refine the prediction task choosing from following options -\n",
    "    - **Length of Stay** - You can select from two predefined options or enter custom number of days to predict length os stay greater than number of days.\n",
    "\n",
    "    - **Readmission** - You can select from two predefined options or enter custom number of days to predict readmission after \"number of days\" after previous admission.\n",
    "\n",
    "    - **Phenotype Prediction** - You can select from four major chronic diseases to predict its future outcome\n",
    "\n",
    "        - Heart failure\n",
    "        - CAD (Coronary Artery Disease)\n",
    "        - CKD (Chronic Kidney Disease)\n",
    "        - COPD (Chronic obstructive pulmonary disease)\n",
    "\n",
    "- Second, you will choode whether to perfom above task using ICU or non-ICU admissions data\n",
    "\n",
    "- Third, you can refine the refine the cohort selection for any of the above choosen prediction tasks by including the admission samples admitted with particular chronic disease - \n",
    "    - Heart failure\n",
    "    - CAD (Coronary Artery Disease)\n",
    "    - CKD (Chronic Kidney Disease)\n",
    "    - COPD (Chronic obstructive pulmonary disease)\n",
    "    \n",
    "print(\"**Please run below cell to extract the cohort for selected options**\")"
   ]
  },
  {
   "cell_type": "code",
   "execution_count": 7,
   "id": "broke-spirituality",
   "metadata": {},
   "outputs": [
    {
     "name": "stdout",
     "output_type": "stream",
     "text": [
      "Please specify which prediction task to perform:\n"
     ]
    },
    {
     "data": {
      "application/vnd.jupyter.widget-view+json": {
       "model_id": "5b2dee93c143494c949bfcb8f47d3ea2",
       "version_major": 2,
       "version_minor": 0
      },
      "text/plain": [
       "RadioButtons(options=('No specific prediction', 'Heart Failure in 30 days', 'CAD in 30 days', 'CKD in 30 days'…"
      ]
     },
     "metadata": {},
     "output_type": "display_data"
    },
    {
     "name": "stdout",
     "output_type": "stream",
     "text": [
      "Extract Data\n",
      "Please select below if you want to work with ICU or Non-ICU data ?\n"
     ]
    },
    {
     "data": {
      "application/vnd.jupyter.widget-view+json": {
       "model_id": "01c2a851db144c8ea7b1f9d28a22cb49",
       "version_major": 2,
       "version_minor": 0
      },
      "text/plain": [
       "RadioButtons(options=('ICU', 'Non-ICU'), value='ICU')"
      ]
     },
     "metadata": {},
     "output_type": "display_data"
    },
    {
     "name": "stdout",
     "output_type": "stream",
     "text": [
      "Please select if you want to perform choosen prediction task for a specific disease.\n"
     ]
    },
    {
     "data": {
      "application/vnd.jupyter.widget-view+json": {
       "model_id": "f854929122bd49998cf377301132408e",
       "version_major": 2,
       "version_minor": 0
      },
      "text/plain": [
       "RadioButtons(options=('No Disease Filter', 'Heart Failure', 'CKD', 'CAD', 'COPD'), value='No Disease Filter')"
      ]
     },
     "metadata": {},
     "output_type": "display_data"
    }
   ],
   "source": [
    "# define what data to load \n",
    "print(\"Please specify which prediction task to perform:\")\n",
    "if radio_input4.value=='Length of Stay':\n",
    "    options=['Length of Stay ge 3','Length of Stay ge 7','Custom']\n",
    "    value='Length of Stay ge 3'\n",
    "    radio_input2 = widgets.RadioButtons(options = option, value=  value)\n",
    "    display(radio_input2)\n",
    "    text1=widgets.IntSlider(\n",
    "    value=3,\n",
    "    min=1,\n",
    "    max=10,\n",
    "    step=1,\n",
    "    disabled=False,\n",
    "    continuous_update=False,\n",
    "    orientation='horizontal',\n",
    "    readout=True,\n",
    "    readout_format='d'\n",
    ")\n",
    "    display(widgets.HBox([widgets.Label('Length of stay ge (in days)',layout={'width': '180px'}), text1]))\n",
    "elif radio_input4.value=='Readmission':\n",
    "    options=['30 Day Readmission','60 Day Readmission','90 Day Readmission',\n",
    "             '120 Day Readmission','Custom']\n",
    "    value= '30 Day Readmission'\n",
    "    radio_input2 = widgets.RadioButtons(options = options,value = value)\n",
    "    display(radio_input2)\n",
    "    text1=widgets.IntSlider(\n",
    "    value=30,\n",
    "    min=10,\n",
    "    max=150,\n",
    "    step=10,\n",
    "    disabled=False\n",
    "    )\n",
    "    display(widgets.HBox([widgets.Label('Readmission after (in days)',layout={'width': '180px'}), text1]))\n",
    "elif radio_input4.value=='Phenotype':\n",
    "    options = ['No specific prediction', 'Heart Failure in 30 days','CAD in 30 days','CKD in 30 days','COPD in 30 days']\n",
    "    value ='No specific prediction'\n",
    "    radio_input2 = widgets.RadioButtons(options=options, value = value)\n",
    "    display(radio_input2)\n",
    "elif radio_input4.value=='Mortality':\n",
    "    options=['Mortality']\n",
    "    value='Mortality'\n",
    "    radio_input2 = widgets.RadioButtons(options=options,value=value)\n",
    "    #display(radio_input2)\n",
    "\n",
    "print(\"Extract Data\")\n",
    "print(\"Please select below if you want to work with ICU or Non-ICU data ?\")\n",
    "radio_input1 = widgets.RadioButtons(options=['ICU', 'Non-ICU'],value='ICU')\n",
    "display(radio_input1)\n",
    "\n",
    "print(\"Please select if you want to perform choosen prediction task for a specific disease.\")\n",
    "radio_input3 = widgets.RadioButtons(options=['No Disease Filter','Heart Failure','CKD','CAD','COPD'],value='No Disease Filter')\n",
    "display(radio_input3)"
   ]
  },
  {
   "cell_type": "code",
   "execution_count": 8,
   "id": "republican-freight",
   "metadata": {},
   "outputs": [
    {
     "name": "stdout",
     "output_type": "stream",
     "text": [
      "===========MIMIC-IV v3.0============\n",
      "EXTRACTING FOR: | ICU |  DUE TO NO_LABEL | 100000 | \n",
      "[ COHORT SUCCESSFULLY SAVED ]\n",
      "[ SUMMARY SUCCESSFULLY SAVED ]\n",
      "ICU DATA\n",
      "# Admission Records: 94458\n",
      "# Patients: 65366\n"
     ]
    }
   ],
   "source": [
    "disease_label=\"\"\n",
    "time=0\n",
    "label=radio_input4.value\n",
    "\n",
    "if label=='Readmission':\n",
    "    if radio_input2.value=='Custom':\n",
    "        time=text1.value\n",
    "    else:\n",
    "        time=int(radio_input2.value.split()[0])\n",
    "elif label=='Length of Stay':\n",
    "    if radio_input2.value=='Custom':\n",
    "        time=text1.value\n",
    "    else:\n",
    "        time=int(radio_input2.value.split()[4])\n",
    "\n",
    "if label=='Phenotype':    \n",
    "    if radio_input2.value=='Heart Failure in 30 days':\n",
    "        label='Readmission'\n",
    "        time=30\n",
    "        disease_label='I50'\n",
    "    elif radio_input2.value=='CAD in 30 days':\n",
    "        label='Readmission'\n",
    "        time=30\n",
    "        disease_label='I25'\n",
    "    elif radio_input2.value=='CKD in 30 days':\n",
    "        label='Readmission'\n",
    "        time=30\n",
    "        disease_label='N18'\n",
    "    elif radio_input2.value=='COPD in 30 days':\n",
    "        label='Readmission'\n",
    "        time=30\n",
    "        disease_label='J44'\n",
    "    elif radio_input2.value=='No specific prediction':\n",
    "        label=''\n",
    "        time=100000\n",
    "        disease_label='no_label'\n",
    "    \n",
    "data_icu=radio_input1.value==\"ICU\"\n",
    "data_mort=label==\"Mortality\"\n",
    "data_admn=label=='Readmission'\n",
    "data_los=label=='Length of Stay'\n",
    "        \n",
    "\n",
    "if (radio_input3.value==\"Heart Failure\"):\n",
    "    icd_code='I50'\n",
    "elif (radio_input3.value==\"CKD\"):\n",
    "    icd_code='N18'\n",
    "elif (radio_input3.value==\"COPD\"):\n",
    "    icd_code='J44'\n",
    "elif (radio_input3.value==\"CAD\"):\n",
    "    icd_code='I25'\n",
    "else:\n",
    "    icd_code='No Disease Filter'\n",
    "\n",
    "if version.value=='Version 1':\n",
    "    version_path= \"mimiciv/1.0\"\n",
    "    cohort_output = day_intervals_cohort.extract_data(radio_input1.value,label,time,icd_code, root_dir,disease_label)\n",
    "elif version.value=='Version 2':\n",
    "    version_path= \"mimiciv/2.0\"\n",
    "    cohort_output = day_intervals_cohort_v2.extract_data(radio_input1.value,label,time,icd_code, root_dir,disease_label)\n",
    "elif version.value=='Version 3':\n",
    "    version_path= \"mimiciv/3.0\"\n",
    "    cohort_output = day_intervals_cohort_v3.extract_data(radio_input1.value,label,time,icd_code, root_dir,disease_label)"
   ]
  },
  {
   "cell_type": "markdown",
   "id": "interstate-stadium",
   "metadata": {},
   "source": [
    "## 2. FEATURE SELECTION\n",
    "Features available for ICU data -\n",
    "- Diagnosis (https://mimic.mit.edu/docs/iv/modules/hosp/diagnoses_icd/)\n",
    "- Procedures (https://mimic.mit.edu/docs/iv/modules/icu/procedureevents/)\n",
    "- Medications (https://mimic.mit.edu/docs/iv/modules/icu/inputevents/)\n",
    "- Output Events (https://mimic.mit.edu/docs/iv/modules/icu/outputevents/)\n",
    "- Chart Events (https://mimic.mit.edu/docs/iv/modules/icu/chartevents/)\n",
    "- Lab Events (https://mimic.mit.edu/docs/iv/modules/hosp/labevents/)\n",
    "- Microbiology Events (https://mimic.mit.edu/docs/iv/modules/hosp/microbiologyevents/)\n",
    "\n",
    "All features will be saved in the defined **target_path**\n",
    "\n",
    "**Please run below cell to select features**"
   ]
  },
  {
   "cell_type": "code",
   "execution_count": 9,
   "id": "raised-olympus",
   "metadata": {},
   "outputs": [
    {
     "name": "stdout",
     "output_type": "stream",
     "text": [
      "Feature Selection\n",
      "Which Features you want to include for cohort?\n"
     ]
    },
    {
     "data": {
      "application/vnd.jupyter.widget-view+json": {
       "model_id": "fee6632c70734b7ab270d3eb63e204e5",
       "version_major": 2,
       "version_minor": 0
      },
      "text/plain": [
       "Checkbox(value=True, description='Diagnosis')"
      ]
     },
     "metadata": {},
     "output_type": "display_data"
    },
    {
     "data": {
      "application/vnd.jupyter.widget-view+json": {
       "model_id": "dc1de9b333ea46929e7fc6ffd8b21cb8",
       "version_major": 2,
       "version_minor": 0
      },
      "text/plain": [
       "Checkbox(value=True, description='Output Events')"
      ]
     },
     "metadata": {},
     "output_type": "display_data"
    },
    {
     "data": {
      "application/vnd.jupyter.widget-view+json": {
       "model_id": "e33540d9e7f6437d9e0fad8911bf1a3e",
       "version_major": 2,
       "version_minor": 0
      },
      "text/plain": [
       "Checkbox(value=True, description='Chart Events')"
      ]
     },
     "metadata": {},
     "output_type": "display_data"
    },
    {
     "data": {
      "application/vnd.jupyter.widget-view+json": {
       "model_id": "c495e63eb675424693a1cb87e9bbbd3a",
       "version_major": 2,
       "version_minor": 0
      },
      "text/plain": [
       "Checkbox(value=True, description='Procedures')"
      ]
     },
     "metadata": {},
     "output_type": "display_data"
    },
    {
     "data": {
      "application/vnd.jupyter.widget-view+json": {
       "model_id": "d6a384d199e34246a5e94c0c5696e644",
       "version_major": 2,
       "version_minor": 0
      },
      "text/plain": [
       "Checkbox(value=True, description='Medications')"
      ]
     },
     "metadata": {},
     "output_type": "display_data"
    },
    {
     "data": {
      "application/vnd.jupyter.widget-view+json": {
       "model_id": "68ef7d55defa475a8bd575f3b40b0fc3",
       "version_major": 2,
       "version_minor": 0
      },
      "text/plain": [
       "Checkbox(value=True, description='Lab Events')"
      ]
     },
     "metadata": {},
     "output_type": "display_data"
    },
    {
     "data": {
      "application/vnd.jupyter.widget-view+json": {
       "model_id": "bb22e19de5514ec7b509cb255466bd85",
       "version_major": 2,
       "version_minor": 0
      },
      "text/plain": [
       "Checkbox(value=False, description='Microbiology Events')"
      ]
     },
     "metadata": {},
     "output_type": "display_data"
    },
    {
     "name": "stdout",
     "output_type": "stream",
     "text": [
      "icu\n",
      "**Please run below cell to extract selected features**\n"
     ]
    }
   ],
   "source": [
    "print(\"Feature Selection\")\n",
    "if data_icu:\n",
    "    print(\"Which Features you want to include for cohort?\")\n",
    "    check_input1 = widgets.Checkbox(description='Diagnosis', value=True)\n",
    "    display(check_input1)\n",
    "    check_input2 = widgets.Checkbox(description='Output Events', value=True)\n",
    "    display(check_input2)\n",
    "    check_input3 = widgets.Checkbox(description='Chart Events', value=True)\n",
    "    display(check_input3)\n",
    "    check_input4 = widgets.Checkbox(description='Procedures', value=True)\n",
    "    display(check_input4)\n",
    "    check_input5 = widgets.Checkbox(description='Medications', value=True)\n",
    "    display(check_input5)\n",
    "    check_input100 = widgets.Checkbox(description='Lab Events', value=True)\n",
    "    display(check_input100)\n",
    "    check_input101 = widgets.Checkbox(description='Microbiology Events', value=False)\n",
    "    display(check_input101)\n",
    "\n",
    "    print(\"icu\")\n",
    "else:\n",
    "    print(\"Which Features you want to include for cohort?\")\n",
    "    check_input1 = widgets.Checkbox(description='Diagnosis', value=True)\n",
    "    display(check_input1)\n",
    "    check_input2 = widgets.Checkbox(description='Labs', value=True)\n",
    "    display(check_input2)\n",
    "    check_input3 = widgets.Checkbox(description='Procedures', value=True)\n",
    "    display(check_input3)\n",
    "    check_input4 = widgets.Checkbox(description='Medications', value=True )\n",
    "    display(check_input4)\n",
    "print(\"**Please run below cell to extract selected features**\")"
   ]
  },
  {
   "cell_type": "code",
   "execution_count": 10,
   "id": "420826ee-6187-4bba-8638-c58e4efc0743",
   "metadata": {},
   "outputs": [],
   "source": [
    "diag_flag=check_input1.value\n",
    "out_flag=check_input2.value\n",
    "chart_flag=check_input3.value\n",
    "proc_flag=check_input4.value\n",
    "med_flag=check_input5.value\n",
    "lab_flag=check_input100.value\n",
    "micro_flag=check_input101.value"
   ]
  },
  {
   "cell_type": "code",
   "execution_count": null,
   "id": "05836bcb",
   "metadata": {
    "scrolled": true
   },
   "outputs": [
    {
     "name": "stdout",
     "output_type": "stream",
     "text": [
      "[EXTRACTING DIAGNOSIS DATA]\n",
      "[RESULTS] Admissions with diagnoses not in cohort: 460281\n",
      "[RESULTS] Admissions in cohort without diagnosis: 24\n",
      "[RESULTS] Patients with diagnoses not in cohort: 157940\n",
      "[RESULTS] Patients in cohort without diagnosis: 13\n",
      "# unique ICD-9 codes 6683\n",
      "# unique ICD-10 codes 11899\n",
      "# unique ICD-10 codes (After converting ICD-9 to ICD-10) 12154\n",
      "# unique ICD-10 codes (After clinical gruping ICD-10 codes) 1570\n",
      "# Admissions:   94434\n",
      "Total rows 1759242\n",
      "Columns kept for diagnosis: ['subject_id', 'hadm_id', 'stay_id', 'icd_code', 'root_icd10_convert', 'root']\n",
      "[SUCCESSFULLY SAVED DIAGNOSIS DATA]\n",
      "[EXTRACTING OUTPUT EVENTS DATA]\n",
      "[RESULTS] Stays with output info not in cohort: 0\n",
      "[RESULTS] Stays in cohort without output info: 0\n",
      "# Unique Events:   71\n",
      "# Admissions:   91510\n",
      "Total rows 5359395\n",
      "Columns kept for output events: ['subject_id', 'hadm_id', 'stay_id', 'itemid', 'charttime', 'intime', 'event_time_from_admit', 'value']\n",
      "[SUCCESSFULLY SAVED OUTPUT EVENTS DATA]\n",
      "[EXTRACTING CHART EVENTS DATA]\n"
     ]
    },
    {
     "name": "stderr",
     "output_type": "stream",
     "text": [
      "20it [07:28, 25.49s/it]"
     ]
    }
   ],
   "source": [
    "# load and preprocess the data (by dropping some columns)\n",
    "if data_icu:\n",
    "    diag_flag=check_input1.value\n",
    "    out_flag=check_input2.value\n",
    "    chart_flag=check_input3.value\n",
    "    proc_flag=check_input4.value\n",
    "    med_flag=check_input5.value\n",
    "\n",
    "    lab_flag=check_input100.value\n",
    "    micro_flag=check_input101.value\n",
    "\n",
    "    \n",
    "    #feature_icu(cohort_output, root_dir, root_dir + '/'+ version_path,diag_flag,out_flag,chart_flag,proc_flag,med_flag)\n",
    "    data = feature_icu( cohort_output = cohort_output, \n",
    "                        root_dir = root_dir, \n",
    "                        version_path = root_dir + '/'+ version_path,\n",
    "                        save_path = target_path, \n",
    "                        diag_flag = diag_flag,\n",
    "                        out_flag = out_flag,\n",
    "                        chart_flag = chart_flag,\n",
    "                        proc_flag = proc_flag,\n",
    "                        med_flag  = med_flag,\n",
    "                        lab_flag = lab_flag,\n",
    "                        micro_flag = micro_flag)\n",
    "else:\n",
    "    # not adapted yet\n",
    "    print(\"Warning: this code hasn't been checked!\")\n",
    "    diag_flag=check_input1.value\n",
    "    lab_flag=check_input2.value\n",
    "    proc_flag=check_input3.value\n",
    "    med_flag=check_input4.value\n",
    "    feature_nonicu(cohort_outputroot_dir, root_dir+ '/'+ version_path , version_path,diag_flag,lab_flag,proc_flag,med_flag)"
   ]
  },
  {
   "cell_type": "code",
   "execution_count": null,
   "id": "bbdfb2ae",
   "metadata": {},
   "outputs": [],
   "source": [
    "# look at the data \n",
    "data['lab']"
   ]
  },
  {
   "cell_type": "markdown",
   "id": "aboriginal-upset",
   "metadata": {},
   "source": [
    "## 3. CLINICAL GROUPING\n",
    "Below you will have option to clinically group diagnosis and medications.\n",
    "Grouping medical codes will reduce dimensional space of features.\n",
    "\n",
    "Default options selected below will group medical codes to reduce feature dimension space.\n",
    "\n",
    "**Please run below cell to select preprocessing for diferent features**"
   ]
  },
  {
   "cell_type": "code",
   "execution_count": null,
   "id": "partial-manhattan",
   "metadata": {},
   "outputs": [],
   "source": [
    "if data_icu:\n",
    "    if diag_flag:\n",
    "        print(\"Do you want to group ICD 10 DIAG codes ?\")\n",
    "        radio_input4 = widgets.RadioButtons(options=['Keep both ICD-9 and ICD-10 codes','Convert ICD-9 to ICD-10 codes','Convert ICD-9 to ICD-10 and group ICD-10 codes'],value='Convert ICD-9 to ICD-10 and group ICD-10 codes',layout={'width': '100%'})\n",
    "        display(radio_input4)   \n",
    "    \n",
    "else:\n",
    "    if diag_flag:\n",
    "        print(\"Do you want to group ICD 10 DIAG codes ?\")\n",
    "        radio_input4 = widgets.RadioButtons(options=['Keep both ICD-9 and ICD-10 codes','Convert ICD-9 to ICD-10 codes','Convert ICD-9 to ICD-10 and group ICD-10 codes'],value='Convert ICD-9 to ICD-10 and group ICD-10 codes',layout={'width': '100%'})\n",
    "        display(radio_input4)     \n",
    "    if med_flag:\n",
    "        print(\"Do you want to group Medication codes to use Non propietary names?\")\n",
    "        radio_input5 = widgets.RadioButtons(options=['Yes','No'],value='Yes',layout={'width': '100%'})\n",
    "        display(radio_input5)\n",
    "    if proc_flag:\n",
    "        print(\"Which ICD codes for Procedures you want to keep in data?\")\n",
    "        radio_input6 = widgets.RadioButtons(options=['ICD-9 and ICD-10','ICD-10'],value='ICD-10',layout={'width': '100%'})\n",
    "        display(radio_input6)\n",
    "print(\"**Please run below cell to perform feature preprocessing**\")"
   ]
  },
  {
   "cell_type": "code",
   "execution_count": null,
   "id": "descending-symphony",
   "metadata": {},
   "outputs": [],
   "source": [
    "group_diag=False\n",
    "group_med=False\n",
    "group_proc=False\n",
    "if data_icu:\n",
    "    if diag_flag:\n",
    "        group_diag=radio_input4.value\n",
    "    preprocess_features_icu(cohort_output = cohort_output, \n",
    "                            save_path = target_path, \n",
    "                            diag_flag = diag_flag, \n",
    "                            group_diag = group_diag,\n",
    "                            chart_flag = False, \n",
    "                            clean_chart = False, \n",
    "                            impute_outlier_chart = False,  \n",
    "                            thresh = 0, \n",
    "                            left_thresh= 0)\n",
    "else:\n",
    "    # not adapted yet\n",
    "    print(\"Warning: this code hasn't been checked!\")\n",
    "    if diag_flag:\n",
    "        group_diag=radio_input4.value\n",
    "    if med_flag:\n",
    "        group_med=radio_input5.value\n",
    "    if proc_flag:\n",
    "        group_proc=radio_input6.value\n",
    "    preprocess_features_hosp(cohort_output, diag_flag,proc_flag,med_flag,False,group_diag,group_med,group_proc,False,False,0,0)"
   ]
  },
  {
   "cell_type": "markdown",
   "id": "immediate-captain",
   "metadata": {},
   "source": [
    "### 4. SUMMARY OF FEATURES\n",
    "\n",
    "This step will generate summary of all features extracted so far.<br>\n",
    "It will save summary files in **./data/summary/**<br>\n",
    "- These files provide summary about **mean frequency** of medical codes per admission.<br>\n",
    "- It also provides **total occurrence count** of each medical code.<br>\n",
    "- For labs and chart events it will also provide <br>**missing %** which tells how many rows for a certain medical code has missing value.\n",
    "\n",
    "Please use this information to further refine your cohort by selecting <br>which medical codes in each feature you want to keep and <br>which codes you would like to remove for downstream analysis tasks.\n",
    "\n",
    "**Please run below cell to generate summary files**"
   ]
  },
  {
   "cell_type": "code",
   "execution_count": null,
   "id": "thick-residence",
   "metadata": {},
   "outputs": [],
   "source": [
    "if data_icu:\n",
    "    #generate_summary_icu(diag_flag,proc_flag,med_flag,out_flag,chart_flag)\n",
    "    generate_summary_icu(diag_flag,proc_flag,med_flag,out_flag,chart_flag, lab_flag, micro_flag)\n",
    "else:\n",
    "    generate_summary_hosp(diag_flag,proc_flag,med_flag,lab_flag)"
   ]
  },
  {
   "cell_type": "markdown",
   "id": "northern-architecture",
   "metadata": {},
   "source": [
    "## 5. Feature Selection\n",
    "\n",
    "based on the files generated in previous step and other infromation gathered by you,<br>\n",
    "Please select which medical codes you want to include in this study.\n",
    "\n",
    "Please run below cell to to select options for which features you want to perform feature selection.\n",
    "\n",
    "- Select **Yes** if you want to select a subset of medical codes for that feature and<br> **edit** the corresponding feature file for it.\n",
    "- Select **No** if you want to keep all the codes in a feature."
   ]
  },
  {
   "cell_type": "code",
   "execution_count": null,
   "id": "immediate-seafood",
   "metadata": {},
   "outputs": [],
   "source": [
    "if data_icu:\n",
    "    if diag_flag:\n",
    "        print(\"Do you want to do Feature Selection for Diagnosis \\n (If yes, please edit list of codes in ./data/summary/diag_features.csv)\")\n",
    "        radio_input4 = widgets.RadioButtons(options=['Yes','No'],value='No')\n",
    "        display(radio_input4)       \n",
    "    if med_flag:\n",
    "        print(\"Do you want to do Feature Selection for Medication \\n (If yes, please edit list of codes in ./data/summary/med_features.csv)\")\n",
    "        radio_input5 = widgets.RadioButtons(options=['Yes','No'],value='No')\n",
    "        display(radio_input5)   \n",
    "    if proc_flag:\n",
    "        print(\"Do you want to do Feature Selection for Procedures \\n (If yes, please edit list of codes in ./data/summary/proc_features.csv)\")\n",
    "        radio_input6 = widgets.RadioButtons(options=['Yes','No'],value='No')\n",
    "        display(radio_input6)   \n",
    "    if out_flag:\n",
    "        print(\"Do you want to do Feature Selection for Output event \\n (If yes, please edit list of codes in ./data/summary/out_features.csv)\")\n",
    "        radio_input7 = widgets.RadioButtons(options=['Yes','No'],value='No')\n",
    "        display(radio_input7)  \n",
    "    if chart_flag:\n",
    "        print(\"Do you want to do Feature Selection for Chart events \\n (If yes, please edit list of codes in ./data/summary/chart_features.csv)\")\n",
    "        radio_input8 = widgets.RadioButtons(options=['Yes','No'],value='No')\n",
    "        display(radio_input8)  \n",
    "else:\n",
    "    if diag_flag:\n",
    "        print(\"Do you want to do Feature Selection for Diagnosis \\n (If yes, please edit list of codes in ./data/summary/diag_features.csv)\")\n",
    "        radio_input4 = widgets.RadioButtons(options=['Yes','No'],value='No')\n",
    "        display(radio_input4)         \n",
    "    if med_flag:\n",
    "        print(\"Do you want to do Feature Selection for Medication \\n (If yes, please edit list of codes in ./data/summary/med_features.csv)\")\n",
    "        radio_input5 = widgets.RadioButtons(options=['Yes','No'],value='No')\n",
    "        display(radio_input5)   \n",
    "    if proc_flag:\n",
    "        print(\"Do you want to do Feature Selection for Procedures \\n (If yes, please edit list of codes in ./data/summary/proc_features.csv)\")\n",
    "        radio_input6 = widgets.RadioButtons(options=['Yes','No'],value='No')\n",
    "        display(radio_input6)   \n",
    "    if lab_flag:\n",
    "        print(\"Do you want to do Feature Selection for Labs \\n (If yes, please edit list of codes in ./data/summary/lab_features.csv)\")\n",
    "        radio_input7 = widgets.RadioButtons(options=['Yes','No'],value='No')\n",
    "        display(radio_input7)   \n",
    "print(\"**Please run below cell to perform feature selection**\")"
   ]
  },
  {
   "cell_type": "code",
   "execution_count": null,
   "id": "perceived-python",
   "metadata": {},
   "outputs": [],
   "source": [
    "select_diag=False\n",
    "select_med=False\n",
    "select_proc=False\n",
    "select_lab=False\n",
    "select_out=False\n",
    "select_chart=False\n",
    "\n",
    "if data_icu:\n",
    "    if diag_flag:\n",
    "        select_diag=radio_input4.value == 'Yes'\n",
    "    if med_flag:\n",
    "        select_med=radio_input5.value == 'Yes'\n",
    "    if proc_flag:\n",
    "        select_proc=radio_input6.value == 'Yes'\n",
    "    if out_flag:\n",
    "        select_out=radio_input7.value == 'Yes'\n",
    "    if chart_flag:\n",
    "        select_chart=radio_input8.value == 'Yes'\n",
    "    features_selection_icu(cohort_output, diag_flag,proc_flag,med_flag,out_flag, chart_flag,select_diag,select_med,select_proc,select_out,select_chart)\n",
    "else:\n",
    "    if diag_flag:\n",
    "        select_diag=radio_input4.value == 'Yes'\n",
    "    if med_flag:\n",
    "        select_med=radio_input5.value == 'Yes'\n",
    "    if proc_flag:\n",
    "        select_proc=radio_input6.value == 'Yes'\n",
    "    if lab_flag:\n",
    "        select_lab=radio_input7.value == 'Yes'\n",
    "    features_selection_hosp(cohort_output, diag_flag,proc_flag,med_flag,lab_flag,select_diag,select_med,select_proc,select_lab)"
   ]
  },
  {
   "cell_type": "markdown",
   "id": "comfortable-director",
   "metadata": {},
   "source": [
    "## 6. CLEANING OF FEATURES\n",
    "Below you will have option to to clean lab and chart events by performing outlier removal and unit conversion.\n",
    "\n",
    "Outlier removal is performed to remove values higher than selected **right threshold** percentile and lower than selected **left threshold** percentile among all values for each itemid. \n",
    "\n",
    "**Please run below cell to select preprocessing for diferent features**"
   ]
  },
  {
   "cell_type": "code",
   "execution_count": null,
   "id": "moderate-forum",
   "metadata": {},
   "outputs": [],
   "source": [
    "if data_icu:\n",
    "    if chart_flag:\n",
    "        print(\"Outlier removal in values of chart events ?\")\n",
    "        layout = widgets.Layout(width='100%', height='40px') #set width and height\n",
    "\n",
    "        radio_input5 = widgets.RadioButtons(options=['No outlier detection','Impute Outlier (default:98)','Remove outliers (default:98)'],value='No outlier detection',layout=layout)\n",
    "        display(radio_input5)\n",
    "        outlier=widgets.IntSlider(\n",
    "        value=98,\n",
    "        min=90,\n",
    "        max=99,\n",
    "        step=1,\n",
    "        disabled=False,layout={'width': '100%'}\n",
    "        )\n",
    "        left_outlier=widgets.IntSlider(\n",
    "        value=0,\n",
    "        min=0,\n",
    "        max=10,\n",
    "        step=1,\n",
    "        disabled=False,layout={'width': '100%'}\n",
    "        )\n",
    "        #display(oulier)\n",
    "        display(widgets.HBox([widgets.Label('Right Outlier Threshold',layout={'width': '150px'}), outlier]))\n",
    "        display(widgets.HBox([widgets.Label('Left Outlier Threshold',layout={'width': '150px'}), left_outlier]))\n",
    "    \n",
    "else:      \n",
    "    if lab_flag:\n",
    "        print(\"Outlier removal in values of lab events ?\")\n",
    "        layout = widgets.Layout(width='100%', height='40px') #set width and height\n",
    "\n",
    "        radio_input7 = widgets.RadioButtons(options=['No outlier detection','Impute Outlier (default:98)','Remove outliers (default:98)'],value='No outlier detection',layout=layout)\n",
    "        display(radio_input7)\n",
    "        outlier=widgets.IntSlider(\n",
    "        value=98,\n",
    "        min=90,\n",
    "        max=99,\n",
    "        step=1,\n",
    "        disabled=False,layout={'width': '100%'}\n",
    "        )\n",
    "        left_outlier=widgets.IntSlider(\n",
    "        value=0,\n",
    "        min=0,\n",
    "        max=10,\n",
    "        step=1,\n",
    "        disabled=False,layout={'width': '100%'}\n",
    "        )\n",
    "        #display(oulier)\n",
    "        display(widgets.HBox([widgets.Label('Right Outlier Threshold',layout={'width': '150px'}), outlier]))\n",
    "        display(widgets.HBox([widgets.Label('Left Outlier Threshold',layout={'width': '150px'}), left_outlier]))\n",
    "print(\"**Please run below cell to perform feature preprocessing**\")"
   ]
  },
  {
   "cell_type": "code",
   "execution_count": null,
   "id": "impossible-mailman",
   "metadata": {},
   "outputs": [],
   "source": [
    "thresh=0\n",
    "if data_icu:\n",
    "    if chart_flag:\n",
    "        clean_chart=radio_input5.value!='No outlier detection'\n",
    "        impute_outlier_chart=radio_input5.value=='Impute Outlier (default:98)'\n",
    "        thresh=outlier.value\n",
    "        left_thresh=left_outlier.value\n",
    "    preprocess_features_icu(cohort_output = cohort_output, \n",
    "                            save_path = target_path, \n",
    "                            diag_flag = False, \n",
    "                            group_diag = False,\n",
    "                            chart_flag = chart_flag,\n",
    "                            clean_chart = clean_chart,\n",
    "                            impute_outlier_chart = impute_outlier_chart,\n",
    "                            thresh = thresh,\n",
    "                            left_thresh = left_thresh)\n",
    "else:\n",
    "    # not adapted yet\n",
    "    print(\"Warning: this code hasn't been checked!\")\n",
    "    if lab_flag:\n",
    "        clean_lab=radio_input7.value!='No outlier detection'\n",
    "        impute_outlier=radio_input7.value=='Impute Outlier (default:98)'\n",
    "        thresh=outlier.value\n",
    "        left_thresh=left_outlier.value\n",
    "    preprocess_features_hosp(cohort_output, False,False,False,lab_flag,False,False,False,clean_lab,impute_outlier,thresh,left_thresh)"
   ]
  },
  {
   "cell_type": "markdown",
   "id": "8c0c4c60",
   "metadata": {},
   "source": [
    "## Visualize the data\n",
    "Before encoding the data into time-series format, we can first load and visualize it to understand it better"
   ]
  },
  {
   "cell_type": "code",
   "execution_count": null,
   "id": "8ba669f1",
   "metadata": {},
   "outputs": [],
   "source": [
    "from data_loading.load_preprocessed_data import DataLoader\n",
    "\n",
    "#data_loader = DataLoader(root_dir, cohort_output,data_mort,data_admn,data_los,diag_flag,proc_flag,out_flag,chart_flag,med_flag, lab_flag, micro_flag,impute, include,bucket,predW)\n",
    "data_loader = DataLoader(root_dir = root_dir, \n",
    "                         cohort_output = cohort_output,\n",
    "                         if_mort = data_mort,\n",
    "                         if_admn = data_admn,\n",
    "                         if_los = data_los,\n",
    "                         feat_cond = diag_flag,\n",
    "                         feat_proc = proc_flag,\n",
    "                         feat_out = out_flag,\n",
    "                         feat_chart = chart_flag,\n",
    "                         feat_med = med_flag, \n",
    "                         feat_lab = lab_flag, \n",
    "                         feat_micro = micro_flag,\n",
    "                         impute  = 0)"
   ]
  },
  {
   "cell_type": "code",
   "execution_count": null,
   "id": "392d9364",
   "metadata": {},
   "outputs": [],
   "source": [
    "# load each table in a dictionary \n",
    "dataset = data_loader.load()\n",
    "print(\"Loaded the data for: \", dataset.keys())"
   ]
  },
  {
   "cell_type": "code",
   "execution_count": null,
   "id": "a85bc436",
   "metadata": {},
   "outputs": [],
   "source": [
    "# now we can look at individual tables\n",
    "dataset['data']['stay_id'].unique().shape"
   ]
  },
  {
   "cell_type": "markdown",
   "id": "independent-academy",
   "metadata": {},
   "source": [
    "## 7. Time-Series Representation\n",
    "In this section, please choose how you want to process and represent time-series data.\n",
    "\n",
    "- First option is to select the length of time-series data you want to include for this study. (Default is 72 hours)\n",
    "\n",
    "- Second option is to select bucket size which tells in what size time windows you want to divide your time-series.<br>\n",
    "For example, if you select **2** bucket size, it wil aggregate data for every 2 hours and <br>a time-series of length 24 hours will be represented as time-series with 12 time-windows <br>where data for every 2 hours is agggregated from original raw time-series.\n",
    "\n",
    "During this step, we will also save the time-series data in data dictionaries in the format that can be directly used for following deep learning analysis.\n",
    "\n",
    "### Imputation\n",
    "You can also choose if you want to impute lab/chart values. The imputation will be done by froward fill and mean or median imputation.<br>\n",
    "Values will be forward fill first and if no value exists for that admission we will use mean or median value for the patient.\n",
    "\n",
    "The data dictionaries will be saved in **./data/dict/**\n",
    "\n",
    "Please refer the readme to know the structure of data dictionaries.\n",
    "\n",
    "**Please run below cell to select time-series representation**"
   ]
  },
  {
   "cell_type": "code",
   "execution_count": null,
   "id": "mechanical-three",
   "metadata": {},
   "outputs": [],
   "source": [
    "print(\"=======Time-series Data Represenation=======\")\n",
    "\n",
    "print(\"Length of data to be included for time-series prediction ?\")\n",
    "if(data_mort):\n",
    "    radio_input8 = widgets.RadioButtons(options=['First 72 hours','First 48 hours','First 24 hours','Custom'],value='First 72 hours')\n",
    "    display(radio_input8)\n",
    "    text2=widgets.IntSlider(\n",
    "    value=72,\n",
    "    min=24,\n",
    "    max=72,\n",
    "    step=1,\n",
    "    description='Fisrt',\n",
    "    disabled=False\n",
    "    )\n",
    "    display(widgets.HBox([widgets.Label('Fisrt (in hours):',layout={'width': '150px'}), text2]))\n",
    "elif(data_admn):\n",
    "    radio_input8 = widgets.RadioButtons(options=['Last 72 hours','Last 48 hours','Last 24 hours','Custom'],value='Last 72 hours')\n",
    "    display(radio_input8)\n",
    "    text2=widgets.IntSlider(\n",
    "    value=72,\n",
    "    min=24,\n",
    "    max=72,\n",
    "    step=1,\n",
    "    description='Last',\n",
    "    disabled=False\n",
    "    )\n",
    "    display(widgets.HBox([widgets.Label('Last (in hours):',layout={'width': '150px'}), text2]))\n",
    "elif(data_los):\n",
    "    radio_input8 = widgets.RadioButtons(options=['First 12 hours','First 24 hours','Custom'],value='First 24 hours')\n",
    "    display(radio_input8)\n",
    "    text2=widgets.IntSlider(\n",
    "    value=72,\n",
    "    min=12,\n",
    "    max=72,\n",
    "    step=1,\n",
    "    description='First',\n",
    "    disabled=False\n",
    "    )\n",
    "    display(widgets.HBox([widgets.Label('Fisrt (in hours):',layout={'width': '150px'}), text2]))\n",
    "else:\n",
    "    radio_input8 = widgets.RadioButtons(options=['First 72 hours','First 48 hours','First 24 hours','Custom'],value='First 72 hours')\n",
    "    display(radio_input8)\n",
    "    text2=widgets.IntSlider(\n",
    "    value=72,\n",
    "    min=24,\n",
    "    max=72,\n",
    "    step=1,\n",
    "    description='Fisrt',\n",
    "    disabled=False\n",
    "    )\n",
    "    display(widgets.HBox([widgets.Label('Fisrt (in hours):',layout={'width': '150px'}), text2]))\n",
    "    \n",
    "print(\"What time bucket size you want to choose ?\")\n",
    "radio_input7 = widgets.RadioButtons(options=['1 hour','2 hour','3 hour','4 hour','5 hour','Custom'],value='1 hour')\n",
    "display(radio_input7)\n",
    "text1=widgets.IntSlider(\n",
    "    value=1,\n",
    "    min=1,\n",
    "    max=6,\n",
    "    step=1,\n",
    "    disabled=False\n",
    "    )\n",
    "#display(text1)\n",
    "display(widgets.HBox([widgets.Label('Bucket Size (in hours):',layout={'width': '150px'}), text1]))\n",
    "print(\"Do you want to forward fill and mean or median impute lab/chart values to form continuous data signal?\")\n",
    "radio_impute = widgets.RadioButtons(options=['No Imputation', 'forward fill and mean','forward fill and median'],value='No Imputation')\n",
    "display(radio_impute)   \n",
    "\n",
    "radio_input6 = widgets.RadioButtons(options=['0 hours','2 hours','4 hours','6 hours'],value='0 hours')\n",
    "if(data_mort):\n",
    "    print(\"If you have choosen mortality prediction task, then what prediction window length you want to keep?\")\n",
    "    radio_input6 = widgets.RadioButtons(options=['2 hours','4 hours','6 hours','8 hours','Custom'],value='2 hours')\n",
    "    display(radio_input6)\n",
    "    text3=widgets.IntSlider(\n",
    "    value=2,\n",
    "    min=2,\n",
    "    max=8,\n",
    "    step=1,\n",
    "    disabled=False\n",
    "    )\n",
    "    display(widgets.HBox([widgets.Label('Prediction window (in hours)',layout={'width': '180px'}), text3]))\n",
    "print(\"**Please run below cell to perform time-series represenation and save in data dictionaries**\")"
   ]
  },
  {
   "cell_type": "code",
   "execution_count": null,
   "id": "indie-appendix",
   "metadata": {},
   "outputs": [],
   "source": [
    "if (radio_input6.value=='Custom'):\n",
    "    predW=int(text3.value)\n",
    "else:\n",
    "    predW=int(radio_input6.value[0].strip())\n",
    "if (radio_input7.value=='Custom'):\n",
    "    bucket=int(text1.value)\n",
    "else:\n",
    "    bucket=int(radio_input7.value[0].strip())\n",
    "if (radio_input8.value=='Custom'):\n",
    "    include=int(text2.value)\n",
    "else:\n",
    "    include=int(radio_input8.value.split()[1])\n",
    "if (radio_impute.value=='forward fill and mean'):\n",
    "    impute='Mean'\n",
    "elif (radio_impute.value=='forward fill and median'):\n",
    "    impute='Median'\n",
    "else:\n",
    "    impute=False\n",
    "\n",
    "if data_icu:\n",
    "    gen=data_generation_icu.Generator(\n",
    "        root_dir  = root_dir, \n",
    "        cohort_output = cohort_output,\n",
    "        if_mort = data_mort,\n",
    "        if_admn = data_admn,\n",
    "        # if_los = data_los,\n",
    "        if_los = True,\n",
    "        feat_cond = diag_flag,\n",
    "        feat_proc  = proc_flag,\n",
    "        feat_out = out_flag,\n",
    "        # feat_chart = chart_flag,\n",
    "        feat_chart = False,\n",
    "        # feat_med = med_flag,\n",
    "        feat_med = False,\n",
    "        feat_lab = lab_flag,\n",
    "        feat_micro =  micro_flag,\n",
    "        impute = impute,\n",
    "        include_time=include,\n",
    "        bucket=bucket,\n",
    "        predW=predW)\n",
    "else:\n",
    "    gen=data_generation.Generator(root_dir, cohort_output,data_mort,data_admn,data_los,diag_flag,lab_flag,proc_flag,med_flag,impute,include,bucket,predW)"
   ]
  },
  {
   "cell_type": "markdown",
   "id": "f7c3221f",
   "metadata": {},
   "source": [
    "## Extract acute kidney injury information"
   ]
  },
  {
   "cell_type": "code",
   "execution_count": null,
   "id": "dea42f6f",
   "metadata": {},
   "outputs": [],
   "source": [
    "# Step 1: extract weight"
   ]
  },
  {
   "cell_type": "code",
   "execution_count": null,
   "id": "6da5a244",
   "metadata": {},
   "outputs": [],
   "source": [
    "import pandas as pd\n",
    "\n",
    "def extract_patient_weights(chart_df):\n",
    "    \"\"\"\n",
    "    Extract and compute average patient weights from the chart events DataFrame.\n",
    "\n",
    "    This function filters the input chart data for relevant weight item IDs, converts \n",
    "    measurements from pounds to kilograms where necessary, and calculates the average \n",
    "    weight for each patient (identified by `stay_id`). It also checks for large \n",
    "    discrepancies between different weight measurements and raises warnings if any \n",
    "    differences exceed 15 units.\n",
    "\n",
    "    Parameters:\n",
    "    - chart_df: DataFrame containing chart events. The DataFrame should have at least the following columns:\n",
    "        - stay_id: The unique identifier for the patient's ICU stay.\n",
    "        - itemid: The identifier for the type of measurement.\n",
    "        - value: The measurement value (e.g., weight).\n",
    "    \n",
    "    Returns:\n",
    "    - averages_df: DataFrame with the following columns:\n",
    "        - stay_id: The unique identifier for each patient's ICU stay.\n",
    "        - weight: The average weight for each patient, in kilograms.\n",
    "    \n",
    "    Notes:\n",
    "    - Converts weight values recorded in pounds (itemid 226531) to kilograms.\n",
    "    - Raises a warning if the difference between two weight measurements exceeds 15 kg.\n",
    "    \"\"\"\n",
    "    \n",
    "    # Define the itemid_map for weight\n",
    "    itemid_map_weight = {\n",
    "        224639: {'name': 'Daily Weight', 'uom': 'kg'},\n",
    "        226512: {'name': 'Admission Weight (Kg)', 'uom': 'kg'},\n",
    "        226531: {'name': 'Admission Weight (lbs.)', 'uom': 'lbs'},\n",
    "    }\n",
    "    \n",
    "    # Define the itemids for weight\n",
    "    weight_itemids = list(itemid_map_weight.keys())\n",
    "    \n",
    "    # Filter the DataFrame for the relevant itemids\n",
    "    weights_df = chart_df[chart_df['itemid'].isin(weight_itemids)]\n",
    "    \n",
    "    # Convert the weight from pounds to kilograms for the last itemid\n",
    "    pound_to_kg_factor = 0.453592\n",
    "    weights_df.loc[weights_df['itemid'] == 226531, 'valuenum'] = (\n",
    "        weights_df.loc[weights_df['itemid'] == 226531, 'valuenum'] * pound_to_kg_factor )\n",
    "    \n",
    "    # Calculate the average weights for each stay_id\n",
    "    averages_df = weights_df.groupby('stay_id').agg({\n",
    "        'valuenum': 'mean'\n",
    "    }).reset_index()\n",
    "    \n",
    "\n",
    "    # Rename the 'value' column to indicate it's the average weight\n",
    "    averages_df.rename(columns={'valuenum': 'weight'}, inplace=True)\n",
    "    \n",
    "    # Check the differences between the weight columns\n",
    "    weight_means = weights_df.groupby('itemid')['valuenum'].mean()\n",
    "    \n",
    "    if len(weight_means) > 1:  # Ensure there are at least two itemid groups to compare\n",
    "        for i in range(len(weight_itemids) - 1):  # Loop through itemids\n",
    "            item1 = weight_itemids[i]\n",
    "            item2 = weight_itemids[i + 1]\n",
    "            if item1 in weight_means and item2 in weight_means:\n",
    "                diff = abs(weight_means[item1] - weight_means[item2])\n",
    "                if diff > 15:\n",
    "                    print(f\"Warning: Differences greater than 15 kg found between itemids {item1} and {item2}\")\n",
    "    \n",
    "    # Return only the average weight DataFrame\n",
    "    return averages_df\n"
   ]
  },
  {
   "cell_type": "code",
   "execution_count": null,
   "id": "f97b17bc",
   "metadata": {},
   "outputs": [],
   "source": [
    "weight_df = extract_patient_weights(dataset['chart'])"
   ]
  },
  {
   "cell_type": "code",
   "execution_count": null,
   "id": "8fe5446b",
   "metadata": {},
   "outputs": [],
   "source": [
    "weight_df['stay_id'].unique().shape"
   ]
  },
  {
   "cell_type": "code",
   "execution_count": null,
   "id": "7faca8b0",
   "metadata": {},
   "outputs": [],
   "source": [
    "weight_df"
   ]
  },
  {
   "cell_type": "code",
   "execution_count": null,
   "id": "09ca1e70",
   "metadata": {},
   "outputs": [],
   "source": [
    "# Step 2: extract urine output information\n"
   ]
  },
  {
   "cell_type": "code",
   "execution_count": null,
   "id": "6f3b6fc8",
   "metadata": {},
   "outputs": [],
   "source": [
    "def combine_urine_output(out_df):\n",
    "    \"\"\"\n",
    "    Combine different versions of urine output into one version, summing measurements if there are conflicts\n",
    "    (i.e., multiple measurements at the same start_time) and generating warnings when combining measurements.\n",
    "\n",
    "    Parameters:\n",
    "    - out_df: DataFrame containing output events, including urine output.\n",
    "\n",
    "    Returns:\n",
    "    - DataFrame with stay_id, urine_volume (summed), and start_time.\n",
    "    \"\"\"\n",
    "    \n",
    "    # Define the itemid_map for urine output\n",
    "    itemid_map_urine = {\n",
    "        \"226627\": {'name': 'OR Urine', 'uom': 'mL'},\n",
    "        \"226631\": {'name': 'PACU Urine', 'uom': 'mL'},\n",
    "        # \"227488\": {'name': 'GU Irrigant Volume In', 'uom': 'mL'},\n",
    "        # \"227489\": {'name': 'GU Irrigant/Urine Volume Out', 'uom': 'mL'},\n",
    "        # \"227519\": {'name': 'Urine output_ApacheIV', 'uom': None},\n",
    "        # \"226566\": {'name': 'Urine and GU Irrigant Out', 'uom': 'mL'},\n",
    "        \"226559\": {'name': 'Foley', 'uom': 'mL'},\n",
    "        \"226561\": {'name': 'Condom Cath', 'uom': 'mL'},\n",
    "    }\n",
    "\n",
    "    # Filter out_df to only include the specified urine output itemids\n",
    "    itemids_urine = list(itemid_map_urine.keys())\n",
    "    filtered_df = out_df[out_df['itemid'].isin(map(int, itemids_urine))]\n",
    "\n",
    "    # Group by stay_id and start_time, then sum the 'value' if there are multiple entries\n",
    "    combined_df = filtered_df.groupby(['stay_id', 'start_time']).agg(\n",
    "        urine_volume=('value', 'sum')).reset_index()\n",
    "\n",
    "    # Check for conflicts (multiple rows combined)\n",
    "    conflicting_entries = filtered_df.groupby(['stay_id', 'start_time']).size()\n",
    "    conflicts = conflicting_entries[conflicting_entries > 1]\n",
    "    \n",
    "    if not conflicts.empty:\n",
    "        for index, num_measurements in conflicts.items():\n",
    "            stay_id, start_time = index\n",
    "            conflicting_values = filtered_df[(filtered_df['stay_id'] == stay_id) &\n",
    "                                             (filtered_df['start_time'] == start_time)]\n",
    "            conflicting_itemids = conflicting_values['itemid'].unique()\n",
    "            item_names = [itemid_map_urine[str(itemid)]['name'] for itemid in conflicting_itemids]\n",
    "\n",
    "            # print(f\"Warning: Combining {num_measurements} measurements at stay_id {stay_id}, start_time {start_time}.\")\n",
    "            # print(f\"Itemids combined: {conflicting_itemids}, names: {item_names}\")\n",
    "            # print(f\"Urine volumes combined: {conflicting_values['value'].tolist()}\")\n",
    "    \n",
    "    return combined_df\n",
    "\n"
   ]
  },
  {
   "cell_type": "code",
   "execution_count": null,
   "id": "8b4b430c",
   "metadata": {},
   "outputs": [],
   "source": [
    "urine_df  = combine_urine_output(out_df = dataset['out'])"
   ]
  },
  {
   "cell_type": "code",
   "execution_count": null,
   "id": "1cdb36b8",
   "metadata": {},
   "outputs": [],
   "source": [
    "urine_df"
   ]
  },
  {
   "cell_type": "code",
   "execution_count": null,
   "id": "4e043215",
   "metadata": {},
   "outputs": [],
   "source": [
    "# normalize urine output by weight"
   ]
  },
  {
   "cell_type": "code",
   "execution_count": null,
   "id": "dba3f697",
   "metadata": {},
   "outputs": [],
   "source": [
    "import pandas as pd\n",
    "\n",
    "def normalize_urine_output(urine_df: pd.DataFrame, weight_df: pd.DataFrame) -> pd.DataFrame:\n",
    "    \"\"\"\n",
    "    Normalizes urine output to urine volume per kilogram of weight. Imputes missing weights with the mean and provides a warning about the imputation.\n",
    "\n",
    "    Parameters:\n",
    "    - urine_df (pd.DataFrame): Dataframe containing urine output data with columns ['stay_id', 'start_time', 'urine_volume'].\n",
    "    - weight_df (pd.DataFrame): Dataframe containing weight data with columns ['stay_id', 'weight'].\n",
    "\n",
    "    Returns:\n",
    "    - pd.DataFrame: A dataframe containing ['stay_id', 'start_time', 'urine_volume_per_kg'] after normalization.\n",
    "    \n",
    "    Note:\n",
    "    - If a weight is missing for a stay_id, the function imputes the missing weight using the mean of the weights from the `weight_df`.\n",
    "    - A warning is displayed with the percentage of weights that were imputed.\n",
    "    \"\"\"\n",
    "    # Merge urine_df with weight_df on 'stay_id'\n",
    "    merged_df = pd.merge(urine_df, weight_df, on='stay_id', how='left')\n",
    "    \n",
    "    # Calculate mean weight for imputation\n",
    "    mean_weight = merged_df['weight'].mean()\n",
    "\n",
    "    # Count missing weights\n",
    "    missing_weights_count = merged_df['weight'].isna().sum()\n",
    "\n",
    "    # Impute missing weights with the mean weight\n",
    "    merged_df['weight'].fillna(mean_weight, inplace=True)\n",
    "\n",
    "    # Issue a warning about the percentage of missing weights imputed\n",
    "    if missing_weights_count > 0:\n",
    "        imputed_percentage = (missing_weights_count / len(merged_df)) * 100\n",
    "        print(f\"Warning: {imputed_percentage:.2f}% of the weights were imputed using the mean value.\")\n",
    "\n",
    "    # Normalize urine volume per kg\n",
    "    merged_df['urine_volume_per_kg'] = merged_df['urine_volume'] / merged_df['weight']\n",
    "\n",
    "    # Return the new dataframe with the required columns\n",
    "    return merged_df[['stay_id', 'start_time', 'urine_volume_per_kg']]\n"
   ]
  },
  {
   "cell_type": "code",
   "execution_count": null,
   "id": "acd4d5cc",
   "metadata": {},
   "outputs": [],
   "source": [
    "urine_norm_df = normalize_urine_output(urine_df = urine_df, weight_df = weight_df)"
   ]
  },
  {
   "cell_type": "markdown",
   "id": "82504018",
   "metadata": {},
   "source": [
    "## Visualize the dynamic data\n",
    "Now, since we processed the data into a temporal format, we can now visualize the resulting tables"
   ]
  },
  {
   "cell_type": "code",
   "execution_count": null,
   "id": "486e78a8",
   "metadata": {},
   "outputs": [],
   "source": [
    "from data_loading.load_preprocessed_dynamic_data import DynamicDataLoader\n",
    "\n",
    "# Load data with default paths\n",
    "data_loader = DynamicDataLoader( data_icu=True, \n",
    "                                 labels_path='./data/csv/labels.csv',\n",
    "                                 data_dir='./data/csv/', \n",
    "                                 num_patients=10\n",
    "                               )\n",
    "X_df, y_df, static_demo_df = data_loader.load_data()\n"
   ]
  },
  {
   "cell_type": "code",
   "execution_count": null,
   "id": "2eadcc55",
   "metadata": {},
   "outputs": [],
   "source": [
    "X_df"
   ]
  },
  {
   "cell_type": "code",
   "execution_count": null,
   "id": "e2b834ce",
   "metadata": {},
   "outputs": [],
   "source": [
    "import pandas as pd\n",
    "\n",
    "# read items\n",
    "df_items = pd.read_csv(root_dir + '/mimiciv/3.0/icu/d_items.csv.gz')\n",
    "\n",
    "def rename_columns_with_descriptions(df_items, df_data):\n",
    "    # Create a dictionary to map item_id to description\n",
    "    id_to_description = df_items.set_index('itemid')['label'].to_dict()\n",
    "\n",
    "    # Create a new list of column names\n",
    "    new_columns = []\n",
    "    for col in df_data.columns:\n",
    "        if isinstance(col, tuple):\n",
    "            # It's a multi-level column\n",
    "            # col[0] is the first level, col[1] is the second level\n",
    "            import pdb\n",
    "            pdb.set_trace()\n",
    "            label = id_to_description.get(col[1], col[1])  # Get description or default to item_id\n",
    "            new_col_name = f\"{col[0]}_{label}\"\n",
    "        else:\n",
    "            # It's a single-level column, keep it as is\n",
    "            new_col_name = col\n",
    "        \n",
    "        new_columns.append(new_col_name)\n",
    "    \n",
    "    # Rename the columns with the new names\n",
    "    df_data.columns = new_columns\n",
    "    \n",
    "    return df_data\n"
   ]
  },
  {
   "cell_type": "code",
   "execution_count": null,
   "id": "fba26816",
   "metadata": {},
   "outputs": [],
   "source": [
    "df_items"
   ]
  },
  {
   "cell_type": "code",
   "execution_count": null,
   "id": "dafb6910",
   "metadata": {},
   "outputs": [],
   "source": [
    "df_data = rename_columns_with_descriptions(df_items = df_items, df_data = X_df)"
   ]
  },
  {
   "cell_type": "code",
   "execution_count": null,
   "id": "ae525217",
   "metadata": {},
   "outputs": [],
   "source": [
    "df_data "
   ]
  },
  {
   "cell_type": "code",
   "execution_count": null,
   "id": "adfd7610",
   "metadata": {},
   "outputs": [],
   "source": []
  },
  {
   "cell_type": "code",
   "execution_count": null,
   "id": "6aa91777",
   "metadata": {},
   "outputs": [],
   "source": []
  },
  {
   "cell_type": "markdown",
   "id": "caf15a2b",
   "metadata": {},
   "source": [
    "## Add AKI label"
   ]
  },
  {
   "cell_type": "code",
   "execution_count": null,
   "id": "2eeee58b",
   "metadata": {},
   "outputs": [],
   "source": [
    "def add_urine_output_and_aki_label(urine_df, df_temporal):\n",
    "    # Merge urine output per hour from df1 into df2 based on stay_id and start_time\n",
    "    df_temporal = df_temporal.merge(urine_df[['stay_id', 'start_time', 'urine_volume_per_kg']], \n",
    "                    left_on=['id', 'time'], \n",
    "                    right_on=['stay_id', 'start_time'], \n",
    "                    how='left')\n",
    "    \n",
    "    # Fill missing urine output values with 0\n",
    "    df_temporal['urine_volume_per_kg'] = df_temporal['urine_volume_per_kg'].fillna(0)\n",
    "    \n",
    "    import pdb\n",
    "    pdb.set_trace()\n",
    "    # Calculate 12-hour rolling sum and average urine output over the last 12 hours\n",
    "    df_temporal['urine_volume_per_kg_12hr_avg'] = df_temporal.groupby('id')['urine_volume_per_kg']\\\n",
    "                                        .transform(lambda x: x.rolling(window=12, min_periods=1).sum() / 12)\n",
    "    \n",
    "    # Add AKI label based on the condition\n",
    "    df_temporal['aki_label'] = (df_temporal['urine_volume_per_kg_12hr_avg'] < 0.5).astype(int)\n",
    "    \n",
    "    return df_temporal"
   ]
  },
  {
   "cell_type": "code",
   "execution_count": null,
   "id": "57e24c7f",
   "metadata": {},
   "outputs": [],
   "source": [
    "df_temporal = add_urine_output_and_aki_label(urine_df = urine_norm_df, df_temporal = X_df)"
   ]
  },
  {
   "cell_type": "code",
   "execution_count": null,
   "id": "765541eb",
   "metadata": {},
   "outputs": [],
   "source": [
    "X_df['id']"
   ]
  },
  {
   "cell_type": "code",
   "execution_count": null,
   "id": "1739b003",
   "metadata": {},
   "outputs": [],
   "source": [
    "urine_norm_df"
   ]
  },
  {
   "cell_type": "markdown",
   "id": "c7e6afc6",
   "metadata": {},
   "source": [
    "## Visualize the dynamic data\n",
    "Now, since we processed the data into a temporal format, we can now visualize the resulting tables"
   ]
  },
  {
   "cell_type": "code",
   "execution_count": null,
   "id": "consolidated-former",
   "metadata": {},
   "outputs": [],
   "source": [
    "print(\"=======Machine :earning Models=======\")\n",
    "radio_input5 = widgets.RadioButtons(options=['Logistic Regression','Random Forest','Gradient Bossting','Xgboost'],value='Gradient Bossting')\n",
    "display(radio_input5)\n",
    "print(\"Do you wnat to conactenate the time-series feature\")\n",
    "radio_input6 = widgets.RadioButtons(options=['Conactenate','Aggregate'],value='Conactenate')\n",
    "display(radio_input6)\n",
    "print(\"Please select below option for cross-validation\")\n",
    "radio_input7 = widgets.RadioButtons(options=['No CV','5-fold CV','10-fold CV'],value='5-fold CV')\n",
    "display(radio_input7)\n",
    "print(\"Do you want to do oversampling for minority calss ?\")\n",
    "radio_input8 = widgets.RadioButtons(options=['True','False'],value='True')\n",
    "display(radio_input8)"
   ]
  },
  {
   "cell_type": "code",
   "execution_count": null,
   "id": "promising-miller",
   "metadata": {
    "scrolled": true
   },
   "outputs": [],
   "source": [
    "if radio_input7.value=='No CV':\n",
    "    cv=0\n",
    "elif radio_input7.value=='5-fold CV':\n",
    "    cv=int(5)\n",
    "elif radio_input7.value=='10-fold CV':\n",
    "    cv=int(10)\n",
    "ml=ml_models.ML_models(data_icu,cv,radio_input5.value,concat=radio_input6.value=='Conactenate',oversampling=radio_input8.value=='True')"
   ]
  },
  {
   "cell_type": "markdown",
   "id": "ordinary-chancellor",
   "metadata": {},
   "source": [
    "## 9. Deep Learning Models\n",
    "- Time-series LSTM and Time-series CNN which will only use time-series events like medications, charts, labs, output events to train model.\n",
    "\n",
    "- Hybrid LSTM and Hybrid CNN will use static data - diagnosis, demographic data aong with other time-series data to train model.\n",
    "\n",
    "- LSTM with Attention model will use attention layer to rank the important features and learn to predict output. It will use both static and time-series data.\n",
    "\n",
    "**Go to ./model/parameter.py and define all variables needed for model building and training**\n",
    "\n",
    "**Please run below cell to select which model to use**"
   ]
  },
  {
   "cell_type": "code",
   "execution_count": null,
   "id": "operational-pride",
   "metadata": {},
   "outputs": [],
   "source": [
    "radio_input6=widgets.RadioButtons(options=['Time-series LSTM','Time-series CNN','Hybrid LSTM','Hybrid CNN'],value='Time-series LSTM')\n",
    "display(radio_input6)\n",
    "print(\"Please select below option for cross-validation\")\n",
    "radio_input7 = widgets.RadioButtons(options=['No CV','5-fold CV','10-fold CV'],value='5-fold CV')\n",
    "display(radio_input7)\n",
    "print(\"Do you want to do oversampling for minority calss ?\")\n",
    "radio_input8 = widgets.RadioButtons(options=['True','False'],value='True')\n",
    "display(radio_input8)"
   ]
  },
  {
   "cell_type": "code",
   "execution_count": null,
   "id": "golden-stewart",
   "metadata": {
    "scrolled": true
   },
   "outputs": [],
   "source": [
    "if radio_input7.value=='No CV':\n",
    "    cv=0\n",
    "elif radio_input7.value=='5-fold CV':\n",
    "    cv=int(5)\n",
    "elif radio_input7.value=='10-fold CV':\n",
    "    cv=int(10)\n",
    "    \n",
    "if data_icu:\n",
    "    model=dl_train.DL_models(data_icu,diag_flag,proc_flag,out_flag,chart_flag,med_flag,False,radio_input6.value,cv,oversampling=radio_input8.value=='True',model_name='attn_icu_read',train=True)\n",
    "else:\n",
    "    model=dl_train.DL_models(data_icu,diag_flag,proc_flag,False,False,med_flag,lab_flag,radio_input6.value,cv,oversampling=radio_input8.value=='True',model_name='attn_icu_read',train=True)"
   ]
  },
  {
   "cell_type": "markdown",
   "id": "driven-factor",
   "metadata": {},
   "source": [
    "## 10. Running BEHRT\n",
    "Below we integrate the implementation of BEHRT in our pipeline.\n",
    "We perform pre-procesing needed to run BEHRT model. https://github.com/deepmedicine/BEHRT\n",
    "\n",
    "Few things to note before running BEHRT -\n",
    "- The numerical values are binned into quantiles.\n",
    "- BEHRT has recommended maximum number of events per sample to be 512. \n",
    "    So feature selection is important so that number of events per sample does not exceed 512.\n",
    "- The model is quite computationally heavy so it requires a GPU.\n",
    "\n",
    "The output files for BEHRT will be saved in ./data/behrt/ folder\n",
    "\n",
    "**Please run below cell to to pre-process and run BEHRT on the selected cohort**"
   ]
  },
  {
   "cell_type": "code",
   "execution_count": null,
   "id": "aggressive-break",
   "metadata": {},
   "outputs": [],
   "source": [
    "if data_icu:\n",
    "    token=tokenization.BEHRT_models(data_icu,diag_flag,proc_flag,out_flag,chart_flag,med_flag,False)\n",
    "    tokenized_src, tokenized_age, tokenized_gender, tokenized_ethni, tokenized_ins, tokenized_labels=token.tokenize()\n",
    "else:\n",
    "    token=tokenization.BEHRT_models(data_icu,diag_flag,proc_flag,False,False,med_flag,lab_flag)\n",
    "    tokenized_src, tokenized_age, tokenized_gender, tokenized_ethni, tokenized_ins, tokenized_labels=token.tokenize()\n",
    "    \n",
    "behrt_train.train_behrt(tokenized_src, tokenized_age, tokenized_gender, tokenized_ethni, tokenized_ins, tokenized_labels)"
   ]
  },
  {
   "cell_type": "markdown",
   "id": "reserved-objective",
   "metadata": {},
   "source": [
    "### EVALUATION AS STANDALONE MODULE\n",
    "Below cell shows an exaple of how evaluation module can be used as a standalone module.\n",
    "\n",
    "evaluation.Loss class can be instantiated and model output and ground truth can be passed to it to obtain results.\n",
    "\n",
    "In the example below we captured model output and ground truth in a file and used that file to read the data.\n",
    "\n",
    "In function definition ***loss(prob,truth,logits,False)***\n",
    "\n",
    "prob -> List of Output predicted probabilities of case being positive\n",
    "\n",
    "truth -> List of ground truth labels\n",
    "\n",
    "logits -> List of logits obtained from last fully connected layer before applying softmax.sigmoid function in the model."
   ]
  },
  {
   "cell_type": "code",
   "execution_count": null,
   "id": "streaming-integration",
   "metadata": {},
   "outputs": [],
   "source": [
    "if torch.cuda.is_available():\n",
    "    device='cuda:0'\n",
    "#device='cpu'\n",
    "loss=evaluation.Loss(device,acc=True,ppv=True,sensi=True,tnr=True,npv=True,auroc=True,aurocPlot=True,auprc=True,auprcPlot=True,callb=True,callbPlot=True)\n",
    "with open(\"./data/output/outputDict\", 'rb') as fp:\n",
    "    outputDict=pickle.load(fp)\n",
    "prob=list(outputDict['Prob'])\n",
    "truth=list(outputDict['Labels'])\n",
    "logits=list(outputDict['Logits'])\n",
    "#print(torch.tensor(prob))\n",
    "print(\"======= TESTING ========\")\n",
    "loss(prob,truth,logits,train=False,standalone=True)\n"
   ]
  },
  {
   "cell_type": "markdown",
   "id": "designing-works",
   "metadata": {},
   "source": [
    "### 11. FAIRNESS EVALUATION\n",
    "In train and testing step we save output files in **./data/output/** folder.\n",
    "\n",
    "This file conatins list of demographic variables included in training and testing of the model.\n",
    "\n",
    "It also contains the ground truth labels and predicted probability for each sample.\n",
    "\n",
    "We use the above saved data to perform fairness evaluation of the results obtained from model testing.\n",
    "\n",
    "This module can be used as stand-alone module also.\n",
    "\n",
    "Please create a file that contains predicted probabilites form the last sigmoid layer in column named **Prob** and\n",
    "ground truth labels for each sample in column named **Labels**."
   ]
  },
  {
   "cell_type": "code",
   "execution_count": null,
   "id": "civilian-direction",
   "metadata": {},
   "outputs": [],
   "source": [
    "fairness.fairness_evaluation(inputFile='outputDict',outputFile='fairnessReport')"
   ]
  },
  {
   "cell_type": "markdown",
   "id": "efficient-distinction",
   "metadata": {},
   "source": [
    "### 12. MODEL CALLIBRATION\n",
    "\n",
    "Please run below cell if you want to callibrate predicted probabilites of the model on test data.\n",
    "It will use the output saved during the testing of the model.\n",
    "\n",
    "The file is saved in **./data/output/**.\n",
    "\n",
    "This module can be used as stand-alone module also.\n",
    "\n",
    "Please create a file that contain predicted logits form the last fully connected layer in column named **Logits** and <br>ground truth labels for each sample in a column named **Labels**."
   ]
  },
  {
   "cell_type": "code",
   "execution_count": null,
   "id": "secure-flavor",
   "metadata": {},
   "outputs": [],
   "source": [
    "callibrate_output.callibrate(inputFile='outputDict',outputFile='callibratedResults')"
   ]
  },
  {
   "cell_type": "code",
   "execution_count": null,
   "id": "fleet-canyon",
   "metadata": {},
   "outputs": [],
   "source": []
  }
 ],
 "metadata": {
  "hide_input": false,
  "kernelspec": {
   "display_name": "Python 3 (mimic_prep_env)",
   "language": "python",
   "name": "mimic_prep_env"
  },
  "language_info": {
   "codemirror_mode": {
    "name": "ipython",
    "version": 3
   },
   "file_extension": ".py",
   "mimetype": "text/x-python",
   "name": "python",
   "nbconvert_exporter": "python",
   "pygments_lexer": "ipython3",
   "version": "3.7.7"
  }
 },
 "nbformat": 4,
 "nbformat_minor": 5
}
